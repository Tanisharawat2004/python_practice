{
 "cells": [
  {
   "cell_type": "code",
   "execution_count": null,
   "id": "31cd7646",
   "metadata": {},
   "outputs": [],
   "source": [
    "# Write a Python program to calculate the sum of all even numbers in the list using a for loop.\n"
   ]
  },
  {
   "cell_type": "code",
   "execution_count": 2,
   "id": "00b5658d",
   "metadata": {},
   "outputs": [
    {
     "name": "stdout",
     "output_type": "stream",
     "text": [
      "enter the no :1,2,2\n",
      "4\n"
     ]
    }
   ],
   "source": [
    "n=map(int,input(\"enter the no :\").split(\",\"))\n",
    "sum=0\n",
    "for i in n:\n",
    "    if i%2==0:\n",
    "        sum+=i\n",
    "print(sum)\n",
    "    "
   ]
  },
  {
   "cell_type": "code",
   "execution_count": null,
   "id": "8d145414",
   "metadata": {},
   "outputs": [],
   "source": [
    "# You have given a Python list. Write a program to find value 20 in the list, and if it is present, replace it with 200. Only update the first occurrence of an item.\n",
    " list1 = [5, 10, 15, 20, 25, 50, 20]\n"
   ]
  },
  {
   "cell_type": "code",
   "execution_count": null,
   "id": "4a0b880b",
   "metadata": {},
   "outputs": [],
   "source": [
    "list1=[5,10,15,20,25,50,20]\n",
    "if 20 in list1:\n",
    "    print(\"present in the list\")\n",
    "    list1[-1]=200\n",
    "print(list1)"
   ]
  },
  {
   "cell_type": "code",
   "execution_count": null,
   "id": "c8bd7ead",
   "metadata": {},
   "outputs": [],
   "source": [
    "# Write a Python program to create a new set containing the first letter of each color using a for loop. Given set: color_set = {\"Red\", \"Green\", \"Blue\", \"Yellow\"}\n"
   ]
  },
  {
   "cell_type": "code",
   "execution_count": 64,
   "id": "b5ef9a96",
   "metadata": {},
   "outputs": [],
   "source": [
    "l = [\"Red\", \"Green\", \"Blue\", \"Yellow\"]\n",
    "s=[]"
   ]
  },
  {
   "cell_type": "code",
   "execution_count": 65,
   "id": "90ca1cb3",
   "metadata": {},
   "outputs": [
    {
     "name": "stdout",
     "output_type": "stream",
     "text": [
      "['R', 'G', 'B', 'Y']\n"
     ]
    }
   ],
   "source": [
    "for i in range(len(l)):\n",
    "    s.append(l[i][0][0])\n",
    "print(s)"
   ]
  },
  {
   "cell_type": "code",
   "execution_count": 66,
   "id": "df82643d",
   "metadata": {},
   "outputs": [],
   "source": []
  },
  {
   "cell_type": "code",
   "execution_count": 88,
   "id": "c4d449fa",
   "metadata": {},
   "outputs": [
    {
     "data": {
      "text/plain": [
       "'Expected output: \\n10 400\\n20 300\\n30 200\\n40 100\\n'"
      ]
     },
     "execution_count": 88,
     "metadata": {},
     "output_type": "execute_result"
    }
   ],
   "source": [
    "''' Iterate both lists simultaneously\n",
    "Given:'''\n",
    "list1 = [10, 20, 30, 40]\n",
    "list2 = [100, 200, 300, 400]\n",
    "'''Expected output: \n",
    "10 400\n",
    "20 300\n",
    "30 200\n",
    "40 100\n",
    "'''"
   ]
  },
  {
   "cell_type": "code",
   "execution_count": 89,
   "id": "d5171646",
   "metadata": {},
   "outputs": [
    {
     "name": "stdout",
     "output_type": "stream",
     "text": [
      "10 400\n",
      "20 300\n",
      "30 200\n",
      "40 100\n"
     ]
    }
   ],
   "source": [
    "for i in range(len(list1)):\n",
    "    print(list1[i], list2[-i-1])\n",
    "    "
   ]
  },
  {
   "cell_type": "code",
   "execution_count": null,
   "id": "bce99621",
   "metadata": {},
   "outputs": [],
   "source": [
    "''' Concatenate two lists index-wise\n",
    "Given:\n",
    "list1 = [\"M\", \"na\", \"i\", \"Ke\"]\n",
    "list2 = [\"y\", \"me\", \"s\", \"lly\"]\n",
    "Expected output: ['My', 'name', 'is', 'Kelly']'''"
   ]
  },
  {
   "cell_type": "code",
   "execution_count": 97,
   "id": "5976b449",
   "metadata": {},
   "outputs": [],
   "source": [
    "lst1=[\"m\",\"na\",\"i\",\"ke\"]\n",
    "lst2=[\"y\",\"me\",\"s\",\"lly\"]\n",
    "lst3= []"
   ]
  },
  {
   "cell_type": "code",
   "execution_count": 98,
   "id": "0f709493",
   "metadata": {},
   "outputs": [
    {
     "name": "stdout",
     "output_type": "stream",
     "text": [
      "['my', 'name', 'is', 'kelly']\n"
     ]
    }
   ],
   "source": [
    "for i in range(len(lst1)):\n",
    "    lst3.append(lst1[i]+lst2[i])\n",
    "print(lst3)"
   ]
  },
  {
   "cell_type": "code",
   "execution_count": 101,
   "id": "aef7bd45",
   "metadata": {},
   "outputs": [],
   "source": [
    "# Given a Python list, write a program to remove all occurrences of item 20.\n",
    "list1 = [5, 20, 15, 20, 25, 50, 20]\n"
   ]
  },
  {
   "cell_type": "code",
   "execution_count": 102,
   "id": "78f88848",
   "metadata": {},
   "outputs": [
    {
     "name": "stdout",
     "output_type": "stream",
     "text": [
      "5\n",
      "15\n",
      "25\n",
      "50\n"
     ]
    }
   ],
   "source": [
    "list1=[5,20,15,20,25,50,20]\n",
    "for i in list1:\n",
    "    if i!=20:\n",
    "        print(i)\n"
   ]
  },
  {
   "cell_type": "code",
   "execution_count": null,
   "id": "58ac10d4",
   "metadata": {},
   "outputs": [],
   "source": [
    "# Write a Python program to find the length of the longest name in the tuple using a for loop.\n"
   ]
  },
  {
   "cell_type": "code",
   "execution_count": 2,
   "id": "19ffdec3",
   "metadata": {},
   "outputs": [
    {
     "name": "stdout",
     "output_type": "stream",
     "text": [
      "8\n"
     ]
    }
   ],
   "source": [
    "\n",
    "l = (\"Jennifer\", \"Aurora\", \"Timothy\", \"Isabella\")\n",
    "max=0\n",
    "for i in range(len(l)):\n",
    "    if len(l[i])>max:\n",
    "        max=len(l[i])\n",
    "print(max)"
   ]
  },
  {
   "cell_type": "code",
   "execution_count": 12,
   "id": "5dc72b98",
   "metadata": {},
   "outputs": [
    {
     "ename": "TypeError",
     "evalue": "'int' object is not subscriptable",
     "output_type": "error",
     "traceback": [
      "\u001b[1;31m---------------------------------------------------------------------------\u001b[0m",
      "\u001b[1;31mTypeError\u001b[0m                                 Traceback (most recent call last)",
      "Cell \u001b[1;32mIn[12], line 5\u001b[0m\n\u001b[0;32m      3\u001b[0m \u001b[38;5;28mmax\u001b[39m\u001b[38;5;241m=\u001b[39m\u001b[38;5;241m0\u001b[39m\n\u001b[0;32m      4\u001b[0m \u001b[38;5;28;01mfor\u001b[39;00m i \u001b[38;5;129;01min\u001b[39;00m \u001b[38;5;28mrange\u001b[39m(\u001b[38;5;28mlen\u001b[39m(l)):\n\u001b[1;32m----> 5\u001b[0m     \u001b[38;5;28;01mif\u001b[39;00m l[i]\u001b[38;5;241m>\u001b[39m\u001b[38;5;28mmax\u001b[39m[i]:\n\u001b[0;32m      6\u001b[0m         a\u001b[38;5;241m.\u001b[39mappend(i)\n\u001b[0;32m      7\u001b[0m \u001b[38;5;28mprint\u001b[39m(\u001b[38;5;28mmax\u001b[39m)\n",
      "\u001b[1;31mTypeError\u001b[0m: 'int' object is not subscriptable"
     ]
    }
   ],
   "source": [
    "l = (\"Jennifer\", \"Aurora\", \"Timothy\", \"Isabella\")\n",
    "a=[]\n",
    "m\n",
    "        \n",
    "        \n",
    "        "
   ]
  },
  {
   "cell_type": "code",
   "execution_count": null,
   "id": "9a2ee247",
   "metadata": {},
   "outputs": [],
   "source": [
    "# Sort a list of integers without using any built-in sort functions"
   ]
  },
  {
   "cell_type": "code",
   "execution_count": 14,
   "id": "1c5bb236",
   "metadata": {},
   "outputs": [
    {
     "name": "stdout",
     "output_type": "stream",
     "text": [
      "[40, 30, 20, 10]\n"
     ]
    }
   ],
   "source": [
    "l=[10,20,30,40]\n",
    "for i in range(len(l)):\n",
    "    for j in range(len(l)-i-1):\n",
    "        if l[j]<l[j+1]:\n",
    "            l[j],l[j+1]=l[j+1],l[j]\n",
    "print(l)\n",
    "    "
   ]
  },
  {
   "cell_type": "code",
   "execution_count": null,
   "id": "63b289e7",
   "metadata": {},
   "outputs": [],
   "source": []
  },
  {
   "cell_type": "code",
   "execution_count": null,
   "id": "5ca6ec59",
   "metadata": {},
   "outputs": [],
   "source": []
  },
  {
   "cell_type": "code",
   "execution_count": null,
   "id": "15251d29",
   "metadata": {},
   "outputs": [],
   "source": []
  },
  {
   "cell_type": "code",
   "execution_count": null,
   "id": "0c0b4d49",
   "metadata": {},
   "outputs": [],
   "source": []
  }
 ],
 "metadata": {
  "kernelspec": {
   "display_name": "Python 3 (ipykernel)",
   "language": "python",
   "name": "python3"
  },
  "language_info": {
   "codemirror_mode": {
    "name": "ipython",
    "version": 3
   },
   "file_extension": ".py",
   "mimetype": "text/x-python",
   "name": "python",
   "nbconvert_exporter": "python",
   "pygments_lexer": "ipython3",
   "version": "3.11.5"
  }
 },
 "nbformat": 4,
 "nbformat_minor": 5
}
