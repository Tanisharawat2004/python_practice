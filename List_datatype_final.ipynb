{
 "cells": [
  {
   "cell_type": "markdown",
   "id": "d196de51",
   "metadata": {},
   "source": [
    "# List\n",
    "- ordered/sequence collection of elements\n",
    "- indexable/slicable\n",
    "- mutable/Changable\n",
    "- List allow duplicate values.\n",
    "- can store heterogenous elements\n",
    "- it is represented by []"
   ]
  },
  {
   "cell_type": "code",
   "execution_count": 1,
   "id": "028eb843",
   "metadata": {},
   "outputs": [],
   "source": [
    "a=2"
   ]
  },
  {
   "cell_type": "code",
   "execution_count": 2,
   "id": "84756c33",
   "metadata": {},
   "outputs": [
    {
     "data": {
      "text/plain": [
       "int"
      ]
     },
     "execution_count": 2,
     "metadata": {},
     "output_type": "execute_result"
    }
   ],
   "source": [
    "type(a)"
   ]
  },
  {
   "cell_type": "code",
   "execution_count": 3,
   "id": "49411bf7",
   "metadata": {},
   "outputs": [],
   "source": [
    "b = int()"
   ]
  },
  {
   "cell_type": "code",
   "execution_count": 7,
   "id": "e0e3eebe",
   "metadata": {},
   "outputs": [
    {
     "data": {
      "text/plain": [
       "0"
      ]
     },
     "execution_count": 7,
     "metadata": {},
     "output_type": "execute_result"
    }
   ],
   "source": [
    "b"
   ]
  },
  {
   "cell_type": "code",
   "execution_count": 4,
   "id": "ea1a36ae",
   "metadata": {},
   "outputs": [
    {
     "data": {
      "text/plain": [
       "int"
      ]
     },
     "execution_count": 4,
     "metadata": {},
     "output_type": "execute_result"
    }
   ],
   "source": [
    "type(b)"
   ]
  },
  {
   "cell_type": "code",
   "execution_count": 5,
   "id": "a9b83660",
   "metadata": {},
   "outputs": [],
   "source": [
    "l=list()"
   ]
  },
  {
   "cell_type": "code",
   "execution_count": 6,
   "id": "c39bc7d6",
   "metadata": {},
   "outputs": [
    {
     "data": {
      "text/plain": [
       "list"
      ]
     },
     "execution_count": 6,
     "metadata": {},
     "output_type": "execute_result"
    }
   ],
   "source": [
    "type(l)"
   ]
  },
  {
   "cell_type": "code",
   "execution_count": 8,
   "id": "6d7a8349",
   "metadata": {},
   "outputs": [
    {
     "data": {
      "text/plain": [
       "[]"
      ]
     },
     "execution_count": 8,
     "metadata": {},
     "output_type": "execute_result"
    }
   ],
   "source": [
    "l"
   ]
  },
  {
   "cell_type": "code",
   "execution_count": 11,
   "id": "e7dad57d",
   "metadata": {},
   "outputs": [],
   "source": [
    "lst=[]"
   ]
  },
  {
   "cell_type": "code",
   "execution_count": 12,
   "id": "86d789c5",
   "metadata": {},
   "outputs": [
    {
     "data": {
      "text/plain": [
       "list"
      ]
     },
     "execution_count": 12,
     "metadata": {},
     "output_type": "execute_result"
    }
   ],
   "source": [
    "type(lst)"
   ]
  },
  {
   "cell_type": "code",
   "execution_count": 13,
   "id": "50c66c2f",
   "metadata": {},
   "outputs": [
    {
     "data": {
      "text/plain": [
       "[]"
      ]
     },
     "execution_count": 13,
     "metadata": {},
     "output_type": "execute_result"
    }
   ],
   "source": [
    "lst"
   ]
  },
  {
   "cell_type": "code",
   "execution_count": 14,
   "id": "75199774",
   "metadata": {},
   "outputs": [],
   "source": [
    "lst=[1,2,3,4,5]"
   ]
  },
  {
   "cell_type": "code",
   "execution_count": 15,
   "id": "c1e16b76",
   "metadata": {},
   "outputs": [
    {
     "data": {
      "text/plain": [
       "[1, 2, 3, 4, 5]"
      ]
     },
     "execution_count": 15,
     "metadata": {},
     "output_type": "execute_result"
    }
   ],
   "source": [
    "lst"
   ]
  },
  {
   "cell_type": "code",
   "execution_count": 16,
   "id": "a4970923",
   "metadata": {},
   "outputs": [],
   "source": [
    "#List allow duplicate values.\n",
    "\n",
    "l=[10,2,1,2,10]"
   ]
  },
  {
   "cell_type": "code",
   "execution_count": 17,
   "id": "67e0a297",
   "metadata": {},
   "outputs": [
    {
     "data": {
      "text/plain": [
       "[10, 2, 1, 2, 10]"
      ]
     },
     "execution_count": 17,
     "metadata": {},
     "output_type": "execute_result"
    }
   ],
   "source": [
    "l"
   ]
  },
  {
   "cell_type": "code",
   "execution_count": 18,
   "id": "c4650b6f",
   "metadata": {},
   "outputs": [],
   "source": [
    "#can store heterogenous elements\n",
    "\n",
    "lst=[2,23.45,True,'Pooja',[3,4,3]]"
   ]
  },
  {
   "cell_type": "code",
   "execution_count": 19,
   "id": "bafa6ea5",
   "metadata": {},
   "outputs": [
    {
     "data": {
      "text/plain": [
       "[2, 23.45, True, 'Pooja', [3, 4, 3]]"
      ]
     },
     "execution_count": 19,
     "metadata": {},
     "output_type": "execute_result"
    }
   ],
   "source": [
    "lst"
   ]
  },
  {
   "cell_type": "markdown",
   "id": "51a685ca",
   "metadata": {},
   "source": [
    "# Indexing/Slicing of List works same way as Strings\n"
   ]
  },
  {
   "cell_type": "code",
   "execution_count": 21,
   "id": "944c96f3",
   "metadata": {},
   "outputs": [
    {
     "data": {
      "text/plain": [
       "2"
      ]
     },
     "execution_count": 21,
     "metadata": {},
     "output_type": "execute_result"
    }
   ],
   "source": [
    "# access of first item\n",
    "lst[0]"
   ]
  },
  {
   "cell_type": "code",
   "execution_count": 28,
   "id": "41826253",
   "metadata": {},
   "outputs": [
    {
     "data": {
      "text/plain": [
       "[3, 4, 3]"
      ]
     },
     "execution_count": 28,
     "metadata": {},
     "output_type": "execute_result"
    }
   ],
   "source": [
    "# access of last item\n",
    "lst[-1]"
   ]
  },
  {
   "cell_type": "code",
   "execution_count": 31,
   "id": "2bb21611",
   "metadata": {},
   "outputs": [
    {
     "data": {
      "text/plain": [
       "'Pooja'"
      ]
     },
     "execution_count": 31,
     "metadata": {},
     "output_type": "execute_result"
    }
   ],
   "source": [
    "lst[lst.index('Pooja')]"
   ]
  },
  {
   "cell_type": "code",
   "execution_count": 32,
   "id": "7ead8e42",
   "metadata": {},
   "outputs": [
    {
     "data": {
      "text/plain": [
       "[2, 23.45, True, 'Pooja', [3, 4, 3]]"
      ]
     },
     "execution_count": 32,
     "metadata": {},
     "output_type": "execute_result"
    }
   ],
   "source": [
    "lst"
   ]
  },
  {
   "cell_type": "code",
   "execution_count": 33,
   "id": "afa025af",
   "metadata": {},
   "outputs": [
    {
     "data": {
      "text/plain": [
       "[True, 'Pooja']"
      ]
     },
     "execution_count": 33,
     "metadata": {},
     "output_type": "execute_result"
    }
   ],
   "source": [
    "lst[2:4]"
   ]
  },
  {
   "cell_type": "code",
   "execution_count": 36,
   "id": "dd87f649",
   "metadata": {},
   "outputs": [
    {
     "data": {
      "text/plain": [
       "[[3, 4, 3], 'Pooja', True, 23.45, 2]"
      ]
     },
     "execution_count": 36,
     "metadata": {},
     "output_type": "execute_result"
    }
   ],
   "source": [
    "lst[::-1]"
   ]
  },
  {
   "cell_type": "raw",
   "id": "ddce0e24",
   "metadata": {},
   "source": [
    "lst[start(included):end(excluded):step(default=1,for moving from back to start =-1)]"
   ]
  },
  {
   "cell_type": "code",
   "execution_count": 37,
   "id": "375239f4",
   "metadata": {},
   "outputs": [
    {
     "name": "stdout",
     "output_type": "stream",
     "text": [
      "Enter the items of list10,2,3,4,20,23\n"
     ]
    }
   ],
   "source": [
    "l=list(map(int,input(\"Enter the items of list\").split(\",\")))"
   ]
  },
  {
   "cell_type": "code",
   "execution_count": 38,
   "id": "f9c36bf6",
   "metadata": {},
   "outputs": [
    {
     "data": {
      "text/plain": [
       "[10, 2, 3, 4, 20, 23]"
      ]
     },
     "execution_count": 38,
     "metadata": {},
     "output_type": "execute_result"
    }
   ],
   "source": [
    "l"
   ]
  },
  {
   "cell_type": "code",
   "execution_count": 39,
   "id": "7cd2bedb",
   "metadata": {},
   "outputs": [
    {
     "name": "stdout",
     "output_type": "stream",
     "text": [
      "Enter the names of student: pooja,manvi,tanisha,paakhi,meghna,nancy,anshika\n"
     ]
    }
   ],
   "source": [
    "names=list(input(\"Enter the names of student: \").split(\",\"))"
   ]
  },
  {
   "cell_type": "code",
   "execution_count": 40,
   "id": "19abf404",
   "metadata": {},
   "outputs": [
    {
     "data": {
      "text/plain": [
       "['pooja', 'manvi', 'tanisha', 'paakhi', 'meghna', 'nancy', 'anshika']"
      ]
     },
     "execution_count": 40,
     "metadata": {},
     "output_type": "execute_result"
    }
   ],
   "source": [
    "names"
   ]
  },
  {
   "cell_type": "markdown",
   "id": "06f7c8c2",
   "metadata": {},
   "source": [
    "# Length of list : len()"
   ]
  },
  {
   "cell_type": "code",
   "execution_count": 42,
   "id": "ccc70466",
   "metadata": {},
   "outputs": [
    {
     "data": {
      "text/plain": [
       "5"
      ]
     },
     "execution_count": 42,
     "metadata": {},
     "output_type": "execute_result"
    }
   ],
   "source": [
    "len(lst)"
   ]
  },
  {
   "cell_type": "code",
   "execution_count": 43,
   "id": "611f4ded",
   "metadata": {},
   "outputs": [
    {
     "data": {
      "text/plain": [
       "7"
      ]
     },
     "execution_count": 43,
     "metadata": {},
     "output_type": "execute_result"
    }
   ],
   "source": [
    "len(names)"
   ]
  },
  {
   "cell_type": "markdown",
   "id": "e62a9ace",
   "metadata": {},
   "source": [
    "# list is mutable¶"
   ]
  },
  {
   "cell_type": "code",
   "execution_count": 1,
   "id": "6c4513e9",
   "metadata": {},
   "outputs": [],
   "source": [
    "lst= [2,10.34,'tanisha',True,[2,3,2],'pooja']"
   ]
  },
  {
   "cell_type": "code",
   "execution_count": 3,
   "id": "06ce2f44",
   "metadata": {},
   "outputs": [],
   "source": [
    "lst[-3]=False"
   ]
  },
  {
   "cell_type": "code",
   "execution_count": 4,
   "id": "90d8da53",
   "metadata": {},
   "outputs": [
    {
     "data": {
      "text/plain": [
       "[2, 10.34, 'tanisha', False, [2, 3, 2], 'pooja']"
      ]
     },
     "execution_count": 4,
     "metadata": {},
     "output_type": "execute_result"
    }
   ],
   "source": [
    "lst"
   ]
  },
  {
   "cell_type": "code",
   "execution_count": 5,
   "id": "a8816d86",
   "metadata": {},
   "outputs": [],
   "source": [
    "lst[0]=20"
   ]
  },
  {
   "cell_type": "code",
   "execution_count": 6,
   "id": "f69eebdc",
   "metadata": {},
   "outputs": [
    {
     "data": {
      "text/plain": [
       "[20, 10.34, 'tanisha', False, [2, 3, 2], 'pooja']"
      ]
     },
     "execution_count": 6,
     "metadata": {},
     "output_type": "execute_result"
    }
   ],
   "source": [
    "lst"
   ]
  },
  {
   "cell_type": "markdown",
   "id": "19bc4379",
   "metadata": {},
   "source": [
    "# append method"
   ]
  },
  {
   "cell_type": "code",
   "execution_count": 7,
   "id": "53fce360",
   "metadata": {},
   "outputs": [],
   "source": [
    "lst.append('manvi')"
   ]
  },
  {
   "cell_type": "code",
   "execution_count": 8,
   "id": "eeb5a4c9",
   "metadata": {},
   "outputs": [
    {
     "data": {
      "text/plain": [
       "[20, 10.34, 'tanisha', False, [2, 3, 2], 'pooja', 'manvi']"
      ]
     },
     "execution_count": 8,
     "metadata": {},
     "output_type": "execute_result"
    }
   ],
   "source": [
    "lst"
   ]
  },
  {
   "cell_type": "code",
   "execution_count": 9,
   "id": "edb89e4f",
   "metadata": {},
   "outputs": [],
   "source": [
    "lst.append(30)"
   ]
  },
  {
   "cell_type": "code",
   "execution_count": 10,
   "id": "a080b1b7",
   "metadata": {},
   "outputs": [
    {
     "data": {
      "text/plain": [
       "[20, 10.34, 'tanisha', False, [2, 3, 2], 'pooja', 'manvi', 30]"
      ]
     },
     "execution_count": 10,
     "metadata": {},
     "output_type": "execute_result"
    }
   ],
   "source": [
    "lst"
   ]
  },
  {
   "cell_type": "code",
   "execution_count": 11,
   "id": "54dac9bc",
   "metadata": {},
   "outputs": [],
   "source": [
    "lst.append([1,2,3])"
   ]
  },
  {
   "cell_type": "code",
   "execution_count": 12,
   "id": "1f57b0e7",
   "metadata": {},
   "outputs": [
    {
     "data": {
      "text/plain": [
       "[20, 10.34, 'tanisha', False, [2, 3, 2], 'pooja', 'manvi', 30, [1, 2, 3]]"
      ]
     },
     "execution_count": 12,
     "metadata": {},
     "output_type": "execute_result"
    }
   ],
   "source": [
    "lst"
   ]
  },
  {
   "cell_type": "markdown",
   "id": "09803e87",
   "metadata": {},
   "source": [
    "# extend method: \n",
    "- parameters should be iterators(list,tuple,string,set)"
   ]
  },
  {
   "cell_type": "code",
   "execution_count": 13,
   "id": "93e01f1e",
   "metadata": {},
   "outputs": [
    {
     "ename": "TypeError",
     "evalue": "'int' object is not iterable",
     "output_type": "error",
     "traceback": [
      "\u001b[1;31m---------------------------------------------------------------------------\u001b[0m",
      "\u001b[1;31mTypeError\u001b[0m                                 Traceback (most recent call last)",
      "Cell \u001b[1;32mIn[13], line 1\u001b[0m\n\u001b[1;32m----> 1\u001b[0m lst\u001b[38;5;241m.\u001b[39mextend(\u001b[38;5;241m100\u001b[39m)\n",
      "\u001b[1;31mTypeError\u001b[0m: 'int' object is not iterable"
     ]
    }
   ],
   "source": [
    "lst.extend(100)"
   ]
  },
  {
   "cell_type": "code",
   "execution_count": 14,
   "id": "22afb489",
   "metadata": {},
   "outputs": [
    {
     "ename": "TypeError",
     "evalue": "'bool' object is not iterable",
     "output_type": "error",
     "traceback": [
      "\u001b[1;31m---------------------------------------------------------------------------\u001b[0m",
      "\u001b[1;31mTypeError\u001b[0m                                 Traceback (most recent call last)",
      "Cell \u001b[1;32mIn[14], line 1\u001b[0m\n\u001b[1;32m----> 1\u001b[0m lst\u001b[38;5;241m.\u001b[39mextend(\u001b[38;5;28;01mTrue\u001b[39;00m)\n",
      "\u001b[1;31mTypeError\u001b[0m: 'bool' object is not iterable"
     ]
    }
   ],
   "source": [
    "lst.extend(True)"
   ]
  },
  {
   "cell_type": "code",
   "execution_count": 15,
   "id": "2e6ddff2",
   "metadata": {},
   "outputs": [],
   "source": [
    "lst.extend('pooja')"
   ]
  },
  {
   "cell_type": "code",
   "execution_count": 16,
   "id": "c839f12c",
   "metadata": {},
   "outputs": [
    {
     "data": {
      "text/plain": [
       "[20,\n",
       " 10.34,\n",
       " 'tanisha',\n",
       " False,\n",
       " [2, 3, 2],\n",
       " 'pooja',\n",
       " 'manvi',\n",
       " 30,\n",
       " [1, 2, 3],\n",
       " 'p',\n",
       " 'o',\n",
       " 'o',\n",
       " 'j',\n",
       " 'a']"
      ]
     },
     "execution_count": 16,
     "metadata": {},
     "output_type": "execute_result"
    }
   ],
   "source": [
    "lst"
   ]
  },
  {
   "cell_type": "code",
   "execution_count": 17,
   "id": "878cd36d",
   "metadata": {},
   "outputs": [],
   "source": [
    "lst.extend([2,True,'poorvi'])"
   ]
  },
  {
   "cell_type": "code",
   "execution_count": 18,
   "id": "a46cb844",
   "metadata": {},
   "outputs": [
    {
     "data": {
      "text/plain": [
       "[20,\n",
       " 10.34,\n",
       " 'tanisha',\n",
       " False,\n",
       " [2, 3, 2],\n",
       " 'pooja',\n",
       " 'manvi',\n",
       " 30,\n",
       " [1, 2, 3],\n",
       " 'p',\n",
       " 'o',\n",
       " 'o',\n",
       " 'j',\n",
       " 'a',\n",
       " 2,\n",
       " True,\n",
       " 'poorvi']"
      ]
     },
     "execution_count": 18,
     "metadata": {},
     "output_type": "execute_result"
    }
   ],
   "source": [
    "lst"
   ]
  },
  {
   "cell_type": "markdown",
   "id": "a8f3e866",
   "metadata": {},
   "source": [
    "# insert method"
   ]
  },
  {
   "cell_type": "code",
   "execution_count": 20,
   "id": "b53bb7e7",
   "metadata": {},
   "outputs": [],
   "source": [
    "l=['pooja',20,'tanisha',False]"
   ]
  },
  {
   "cell_type": "code",
   "execution_count": 21,
   "id": "a2ee6ece",
   "metadata": {},
   "outputs": [],
   "source": [
    "l.insert(-2,'Manvi')"
   ]
  },
  {
   "cell_type": "code",
   "execution_count": 22,
   "id": "c8be2508",
   "metadata": {},
   "outputs": [
    {
     "data": {
      "text/plain": [
       "['pooja', 20, 'Manvi', 'tanisha', False]"
      ]
     },
     "execution_count": 22,
     "metadata": {},
     "output_type": "execute_result"
    }
   ],
   "source": [
    "l"
   ]
  },
  {
   "cell_type": "code",
   "execution_count": 23,
   "id": "25e648d3",
   "metadata": {},
   "outputs": [],
   "source": [
    "l.insert(-1,'twinkle')"
   ]
  },
  {
   "cell_type": "code",
   "execution_count": 24,
   "id": "515a3faa",
   "metadata": {},
   "outputs": [
    {
     "data": {
      "text/plain": [
       "['pooja', 20, 'Manvi', 'tanisha', 'twinkle', False]"
      ]
     },
     "execution_count": 24,
     "metadata": {},
     "output_type": "execute_result"
    }
   ],
   "source": [
    "l"
   ]
  },
  {
   "cell_type": "markdown",
   "id": "e924bc08",
   "metadata": {},
   "source": [
    "# Some Important Methods for lists\n",
    "- copy\n",
    "- count\n",
    "- reverse\n",
    "- sort\n"
   ]
  },
  {
   "cell_type": "code",
   "execution_count": 25,
   "id": "bb5a02f1",
   "metadata": {},
   "outputs": [
    {
     "data": {
      "text/plain": [
       "[20,\n",
       " 10.34,\n",
       " 'tanisha',\n",
       " False,\n",
       " [2, 3, 2],\n",
       " 'pooja',\n",
       " 'manvi',\n",
       " 30,\n",
       " [1, 2, 3],\n",
       " 'p',\n",
       " 'o',\n",
       " 'o',\n",
       " 'j',\n",
       " 'a',\n",
       " 2,\n",
       " True,\n",
       " 'poorvi']"
      ]
     },
     "execution_count": 25,
     "metadata": {},
     "output_type": "execute_result"
    }
   ],
   "source": [
    "lst"
   ]
  },
  {
   "cell_type": "code",
   "execution_count": 26,
   "id": "cfd02686",
   "metadata": {},
   "outputs": [
    {
     "data": {
      "text/plain": [
       "2"
      ]
     },
     "execution_count": 26,
     "metadata": {},
     "output_type": "execute_result"
    }
   ],
   "source": [
    "lst.count('o')"
   ]
  },
  {
   "cell_type": "code",
   "execution_count": 27,
   "id": "45a6d353",
   "metadata": {},
   "outputs": [
    {
     "data": {
      "text/plain": [
       "['pooja', 20, 'Manvi', 'tanisha', 'twinkle', False]"
      ]
     },
     "execution_count": 27,
     "metadata": {},
     "output_type": "execute_result"
    }
   ],
   "source": [
    "l"
   ]
  },
  {
   "cell_type": "code",
   "execution_count": 28,
   "id": "654668a6",
   "metadata": {},
   "outputs": [
    {
     "data": {
      "text/plain": [
       "[False, 'twinkle', 'tanisha', 'Manvi', 20, 'pooja']"
      ]
     },
     "execution_count": 28,
     "metadata": {},
     "output_type": "execute_result"
    }
   ],
   "source": [
    "l[::-1]"
   ]
  },
  {
   "cell_type": "code",
   "execution_count": 29,
   "id": "4e059b42",
   "metadata": {},
   "outputs": [
    {
     "data": {
      "text/plain": [
       "['pooja', 20, 'Manvi', 'tanisha', 'twinkle', False]"
      ]
     },
     "execution_count": 29,
     "metadata": {},
     "output_type": "execute_result"
    }
   ],
   "source": [
    "l"
   ]
  },
  {
   "cell_type": "code",
   "execution_count": 30,
   "id": "4f0202be",
   "metadata": {},
   "outputs": [],
   "source": [
    "l.reverse()"
   ]
  },
  {
   "cell_type": "code",
   "execution_count": 31,
   "id": "6773542a",
   "metadata": {},
   "outputs": [
    {
     "data": {
      "text/plain": [
       "[False, 'twinkle', 'tanisha', 'Manvi', 20, 'pooja']"
      ]
     },
     "execution_count": 31,
     "metadata": {},
     "output_type": "execute_result"
    }
   ],
   "source": [
    "l"
   ]
  },
  {
   "cell_type": "code",
   "execution_count": 32,
   "id": "8bcc4089",
   "metadata": {},
   "outputs": [
    {
     "ename": "TypeError",
     "evalue": "'<' not supported between instances of 'str' and 'bool'",
     "output_type": "error",
     "traceback": [
      "\u001b[1;31m---------------------------------------------------------------------------\u001b[0m",
      "\u001b[1;31mTypeError\u001b[0m                                 Traceback (most recent call last)",
      "Cell \u001b[1;32mIn[32], line 1\u001b[0m\n\u001b[1;32m----> 1\u001b[0m l\u001b[38;5;241m.\u001b[39msort()\n",
      "\u001b[1;31mTypeError\u001b[0m: '<' not supported between instances of 'str' and 'bool'"
     ]
    }
   ],
   "source": [
    "l.sort()"
   ]
  },
  {
   "cell_type": "code",
   "execution_count": 33,
   "id": "55cf2f2b",
   "metadata": {},
   "outputs": [
    {
     "name": "stdout",
     "output_type": "stream",
     "text": [
      "Enter the names of student: pooja,manvi,tanisha,twinkle,paakhi,meghna,nancy\n"
     ]
    }
   ],
   "source": [
    "names=list(input(\"Enter the names of student: \").split(\",\"))"
   ]
  },
  {
   "cell_type": "code",
   "execution_count": 34,
   "id": "3c19e4a7",
   "metadata": {},
   "outputs": [
    {
     "data": {
      "text/plain": [
       "['pooja', 'manvi', 'tanisha', 'twinkle', 'paakhi', 'meghna', 'nancy']"
      ]
     },
     "execution_count": 34,
     "metadata": {},
     "output_type": "execute_result"
    }
   ],
   "source": [
    "names"
   ]
  },
  {
   "cell_type": "code",
   "execution_count": 35,
   "id": "30825317",
   "metadata": {},
   "outputs": [],
   "source": [
    "names.sort()"
   ]
  },
  {
   "cell_type": "code",
   "execution_count": 36,
   "id": "c51ead6c",
   "metadata": {},
   "outputs": [
    {
     "data": {
      "text/plain": [
       "['manvi', 'meghna', 'nancy', 'paakhi', 'pooja', 'tanisha', 'twinkle']"
      ]
     },
     "execution_count": 36,
     "metadata": {},
     "output_type": "execute_result"
    }
   ],
   "source": [
    "names"
   ]
  },
  {
   "cell_type": "code",
   "execution_count": 37,
   "id": "b493fc66",
   "metadata": {},
   "outputs": [],
   "source": [
    "names.sort(reverse=True)"
   ]
  },
  {
   "cell_type": "code",
   "execution_count": 38,
   "id": "3d980d42",
   "metadata": {},
   "outputs": [
    {
     "data": {
      "text/plain": [
       "['twinkle', 'tanisha', 'pooja', 'paakhi', 'nancy', 'meghna', 'manvi']"
      ]
     },
     "execution_count": 38,
     "metadata": {},
     "output_type": "execute_result"
    }
   ],
   "source": [
    "names"
   ]
  },
  {
   "cell_type": "code",
   "execution_count": 39,
   "id": "9e8a585c",
   "metadata": {},
   "outputs": [
    {
     "data": {
      "text/plain": [
       "[False, 'twinkle', 'tanisha', 'Manvi', 20, 'pooja']"
      ]
     },
     "execution_count": 39,
     "metadata": {},
     "output_type": "execute_result"
    }
   ],
   "source": [
    "l"
   ]
  },
  {
   "cell_type": "code",
   "execution_count": 40,
   "id": "9ed8bae0",
   "metadata": {},
   "outputs": [],
   "source": [
    "l1=l"
   ]
  },
  {
   "cell_type": "code",
   "execution_count": 41,
   "id": "882f8146",
   "metadata": {},
   "outputs": [
    {
     "data": {
      "text/plain": [
       "[False, 'twinkle', 'tanisha', 'Manvi', 20, 'pooja']"
      ]
     },
     "execution_count": 41,
     "metadata": {},
     "output_type": "execute_result"
    }
   ],
   "source": [
    "l1"
   ]
  },
  {
   "cell_type": "code",
   "execution_count": 42,
   "id": "f78bf34e",
   "metadata": {},
   "outputs": [
    {
     "data": {
      "text/plain": [
       "True"
      ]
     },
     "execution_count": 42,
     "metadata": {},
     "output_type": "execute_result"
    }
   ],
   "source": [
    "l1 is l"
   ]
  },
  {
   "cell_type": "code",
   "execution_count": 43,
   "id": "f8864a5a",
   "metadata": {},
   "outputs": [],
   "source": [
    "l[0]=True"
   ]
  },
  {
   "cell_type": "code",
   "execution_count": 44,
   "id": "192bc659",
   "metadata": {},
   "outputs": [
    {
     "data": {
      "text/plain": [
       "[True, 'twinkle', 'tanisha', 'Manvi', 20, 'pooja']"
      ]
     },
     "execution_count": 44,
     "metadata": {},
     "output_type": "execute_result"
    }
   ],
   "source": [
    "l"
   ]
  },
  {
   "cell_type": "code",
   "execution_count": 45,
   "id": "6a600645",
   "metadata": {},
   "outputs": [
    {
     "data": {
      "text/plain": [
       "[True, 'twinkle', 'tanisha', 'Manvi', 20, 'pooja']"
      ]
     },
     "execution_count": 45,
     "metadata": {},
     "output_type": "execute_result"
    }
   ],
   "source": [
    "l1"
   ]
  },
  {
   "cell_type": "code",
   "execution_count": 46,
   "id": "a3c9eede",
   "metadata": {},
   "outputs": [],
   "source": [
    "l_copy = l.copy()"
   ]
  },
  {
   "cell_type": "code",
   "execution_count": 47,
   "id": "855c33c8",
   "metadata": {},
   "outputs": [
    {
     "data": {
      "text/plain": [
       "[True, 'twinkle', 'tanisha', 'Manvi', 20, 'pooja']"
      ]
     },
     "execution_count": 47,
     "metadata": {},
     "output_type": "execute_result"
    }
   ],
   "source": [
    "l_copy"
   ]
  },
  {
   "cell_type": "markdown",
   "id": "d8753a61",
   "metadata": {},
   "source": [
    "# Deleting the items in list\n",
    "- pop\n",
    "- remove\n",
    "- clear\n",
    "- del keyword"
   ]
  },
  {
   "cell_type": "code",
   "execution_count": 48,
   "id": "46ee471d",
   "metadata": {},
   "outputs": [
    {
     "data": {
      "text/plain": [
       "[True, 'twinkle', 'tanisha', 'Manvi', 20, 'pooja']"
      ]
     },
     "execution_count": 48,
     "metadata": {},
     "output_type": "execute_result"
    }
   ],
   "source": [
    "l"
   ]
  },
  {
   "cell_type": "code",
   "execution_count": 49,
   "id": "daa27a00",
   "metadata": {},
   "outputs": [
    {
     "data": {
      "text/plain": [
       "'pooja'"
      ]
     },
     "execution_count": 49,
     "metadata": {},
     "output_type": "execute_result"
    }
   ],
   "source": [
    "l.pop()"
   ]
  },
  {
   "cell_type": "code",
   "execution_count": 50,
   "id": "a8816a91",
   "metadata": {},
   "outputs": [
    {
     "data": {
      "text/plain": [
       "[True, 'twinkle', 'tanisha', 'Manvi', 20]"
      ]
     },
     "execution_count": 50,
     "metadata": {},
     "output_type": "execute_result"
    }
   ],
   "source": [
    "l"
   ]
  },
  {
   "cell_type": "code",
   "execution_count": 51,
   "id": "602e8b34",
   "metadata": {},
   "outputs": [
    {
     "data": {
      "text/plain": [
       "[True, 'twinkle', 'tanisha', 'Manvi', 20]"
      ]
     },
     "execution_count": 51,
     "metadata": {},
     "output_type": "execute_result"
    }
   ],
   "source": [
    "l1"
   ]
  },
  {
   "cell_type": "code",
   "execution_count": 52,
   "id": "b4e0a38e",
   "metadata": {},
   "outputs": [
    {
     "data": {
      "text/plain": [
       "[True, 'twinkle', 'tanisha', 'Manvi', 20, 'pooja']"
      ]
     },
     "execution_count": 52,
     "metadata": {},
     "output_type": "execute_result"
    }
   ],
   "source": [
    "l_copy"
   ]
  },
  {
   "cell_type": "code",
   "execution_count": 53,
   "id": "d45cdd89",
   "metadata": {},
   "outputs": [
    {
     "data": {
      "text/plain": [
       "True"
      ]
     },
     "execution_count": 53,
     "metadata": {},
     "output_type": "execute_result"
    }
   ],
   "source": [
    "l.pop(0)"
   ]
  },
  {
   "cell_type": "code",
   "execution_count": 54,
   "id": "4e648267",
   "metadata": {},
   "outputs": [
    {
     "data": {
      "text/plain": [
       "['twinkle', 'tanisha', 'Manvi', 20]"
      ]
     },
     "execution_count": 54,
     "metadata": {},
     "output_type": "execute_result"
    }
   ],
   "source": [
    "l"
   ]
  },
  {
   "cell_type": "code",
   "execution_count": 55,
   "id": "e0bc4e90",
   "metadata": {},
   "outputs": [],
   "source": [
    "l.remove('Manvi')"
   ]
  },
  {
   "cell_type": "code",
   "execution_count": 56,
   "id": "66e5c762",
   "metadata": {},
   "outputs": [
    {
     "data": {
      "text/plain": [
       "['twinkle', 'tanisha', 20]"
      ]
     },
     "execution_count": 56,
     "metadata": {},
     "output_type": "execute_result"
    }
   ],
   "source": [
    "l"
   ]
  },
  {
   "cell_type": "code",
   "execution_count": 57,
   "id": "fdc3107a",
   "metadata": {},
   "outputs": [
    {
     "ename": "ValueError",
     "evalue": "list.remove(x): x not in list",
     "output_type": "error",
     "traceback": [
      "\u001b[1;31m---------------------------------------------------------------------------\u001b[0m",
      "\u001b[1;31mValueError\u001b[0m                                Traceback (most recent call last)",
      "Cell \u001b[1;32mIn[57], line 1\u001b[0m\n\u001b[1;32m----> 1\u001b[0m l\u001b[38;5;241m.\u001b[39mremove(\u001b[38;5;124m'\u001b[39m\u001b[38;5;124mpoorvi\u001b[39m\u001b[38;5;124m'\u001b[39m)\n",
      "\u001b[1;31mValueError\u001b[0m: list.remove(x): x not in list"
     ]
    }
   ],
   "source": [
    "l.remove('poorvi')"
   ]
  },
  {
   "cell_type": "code",
   "execution_count": 58,
   "id": "47a4144d",
   "metadata": {},
   "outputs": [
    {
     "data": {
      "text/plain": [
       "['twinkle', 'tanisha', 20]"
      ]
     },
     "execution_count": 58,
     "metadata": {},
     "output_type": "execute_result"
    }
   ],
   "source": [
    "l"
   ]
  },
  {
   "cell_type": "code",
   "execution_count": 59,
   "id": "609625ea",
   "metadata": {},
   "outputs": [],
   "source": [
    "l.clear()"
   ]
  },
  {
   "cell_type": "code",
   "execution_count": 60,
   "id": "35c81e68",
   "metadata": {},
   "outputs": [
    {
     "data": {
      "text/plain": [
       "[]"
      ]
     },
     "execution_count": 60,
     "metadata": {},
     "output_type": "execute_result"
    }
   ],
   "source": [
    "l"
   ]
  },
  {
   "cell_type": "code",
   "execution_count": 61,
   "id": "4983131f",
   "metadata": {},
   "outputs": [
    {
     "data": {
      "text/plain": [
       "[]"
      ]
     },
     "execution_count": 61,
     "metadata": {},
     "output_type": "execute_result"
    }
   ],
   "source": [
    "l1"
   ]
  },
  {
   "cell_type": "code",
   "execution_count": 62,
   "id": "a29911ce",
   "metadata": {},
   "outputs": [],
   "source": [
    "del l"
   ]
  },
  {
   "cell_type": "code",
   "execution_count": 63,
   "id": "1d1ea5d8",
   "metadata": {},
   "outputs": [
    {
     "ename": "NameError",
     "evalue": "name 'l' is not defined",
     "output_type": "error",
     "traceback": [
      "\u001b[1;31m---------------------------------------------------------------------------\u001b[0m",
      "\u001b[1;31mNameError\u001b[0m                                 Traceback (most recent call last)",
      "Cell \u001b[1;32mIn[63], line 1\u001b[0m\n\u001b[1;32m----> 1\u001b[0m l\n",
      "\u001b[1;31mNameError\u001b[0m: name 'l' is not defined"
     ]
    }
   ],
   "source": [
    "l"
   ]
  },
  {
   "cell_type": "markdown",
   "id": "84a7f501",
   "metadata": {},
   "source": [
    "# operations on list"
   ]
  },
  {
   "cell_type": "code",
   "execution_count": 65,
   "id": "34be8d77",
   "metadata": {},
   "outputs": [],
   "source": [
    "l1=[\"A\",\"B\",'C']\n",
    "l2=[1,2,3]"
   ]
  },
  {
   "cell_type": "code",
   "execution_count": 66,
   "id": "67bbc272",
   "metadata": {},
   "outputs": [
    {
     "data": {
      "text/plain": [
       "['A', 'B', 'C', 1, 2, 3]"
      ]
     },
     "execution_count": 66,
     "metadata": {},
     "output_type": "execute_result"
    }
   ],
   "source": [
    "l1+l2"
   ]
  },
  {
   "cell_type": "code",
   "execution_count": 67,
   "id": "6423b30b",
   "metadata": {},
   "outputs": [],
   "source": [
    "l1.extend(l2)"
   ]
  },
  {
   "cell_type": "code",
   "execution_count": 68,
   "id": "63866250",
   "metadata": {},
   "outputs": [
    {
     "data": {
      "text/plain": [
       "['A', 'B', 'C', 1, 2, 3]"
      ]
     },
     "execution_count": 68,
     "metadata": {},
     "output_type": "execute_result"
    }
   ],
   "source": [
    "l1"
   ]
  },
  {
   "cell_type": "code",
   "execution_count": 69,
   "id": "ae21c019",
   "metadata": {},
   "outputs": [
    {
     "data": {
      "text/plain": [
       "[1, 2, 3, 1, 2, 3]"
      ]
     },
     "execution_count": 69,
     "metadata": {},
     "output_type": "execute_result"
    }
   ],
   "source": [
    "l2*2"
   ]
  },
  {
   "cell_type": "markdown",
   "id": "4feb1858",
   "metadata": {},
   "source": [
    "- list=str.split()\n",
    "- \"separator\".join(list)"
   ]
  },
  {
   "cell_type": "code",
   "execution_count": 70,
   "id": "a730a10e",
   "metadata": {},
   "outputs": [],
   "source": [
    "s=\"Hello world\""
   ]
  },
  {
   "cell_type": "code",
   "execution_count": 72,
   "id": "71bc45cd",
   "metadata": {},
   "outputs": [],
   "source": [
    "l=s.split(\" \")"
   ]
  },
  {
   "cell_type": "code",
   "execution_count": 73,
   "id": "42b29006",
   "metadata": {},
   "outputs": [
    {
     "data": {
      "text/plain": [
       "['Hello', 'world']"
      ]
     },
     "execution_count": 73,
     "metadata": {},
     "output_type": "execute_result"
    }
   ],
   "source": [
    "l"
   ]
  },
  {
   "cell_type": "code",
   "execution_count": 74,
   "id": "1b18f0b8",
   "metadata": {},
   "outputs": [
    {
     "data": {
      "text/plain": [
       "'Hello,world'"
      ]
     },
     "execution_count": 74,
     "metadata": {},
     "output_type": "execute_result"
    }
   ],
   "source": [
    "\",\".join(l)"
   ]
  },
  {
   "cell_type": "markdown",
   "id": "6a90d6b2",
   "metadata": {},
   "source": [
    "# MultiDimensional Lists"
   ]
  },
  {
   "cell_type": "code",
   "execution_count": 75,
   "id": "fe52818f",
   "metadata": {},
   "outputs": [],
   "source": [
    "lst=[[10,20,30],['A','B'],[True,False]]"
   ]
  },
  {
   "cell_type": "code",
   "execution_count": 76,
   "id": "423a7da6",
   "metadata": {},
   "outputs": [
    {
     "data": {
      "text/plain": [
       "[10, 20, 30]"
      ]
     },
     "execution_count": 76,
     "metadata": {},
     "output_type": "execute_result"
    }
   ],
   "source": [
    "lst[0]"
   ]
  },
  {
   "cell_type": "code",
   "execution_count": 77,
   "id": "828416de",
   "metadata": {},
   "outputs": [
    {
     "data": {
      "text/plain": [
       "20"
      ]
     },
     "execution_count": 77,
     "metadata": {},
     "output_type": "execute_result"
    }
   ],
   "source": [
    "lst[0][1]"
   ]
  },
  {
   "cell_type": "code",
   "execution_count": 78,
   "id": "3f4a78e5",
   "metadata": {},
   "outputs": [
    {
     "data": {
      "text/plain": [
       "'A'"
      ]
     },
     "execution_count": 78,
     "metadata": {},
     "output_type": "execute_result"
    }
   ],
   "source": [
    "lst[1][0]"
   ]
  },
  {
   "cell_type": "code",
   "execution_count": 79,
   "id": "0e5ea8d7",
   "metadata": {},
   "outputs": [],
   "source": [
    "lst = [[1,2,3],[4,[5,9],6],[7,8,9]]"
   ]
  },
  {
   "cell_type": "code",
   "execution_count": 80,
   "id": "2109eb95",
   "metadata": {},
   "outputs": [
    {
     "data": {
      "text/plain": [
       "[4, [5, 9], 6]"
      ]
     },
     "execution_count": 80,
     "metadata": {},
     "output_type": "execute_result"
    }
   ],
   "source": [
    "lst[1]"
   ]
  },
  {
   "cell_type": "code",
   "execution_count": 81,
   "id": "fd947370",
   "metadata": {},
   "outputs": [
    {
     "data": {
      "text/plain": [
       "[5, 9]"
      ]
     },
     "execution_count": 81,
     "metadata": {},
     "output_type": "execute_result"
    }
   ],
   "source": [
    "lst[1][1]"
   ]
  },
  {
   "cell_type": "code",
   "execution_count": 84,
   "id": "d51dfbb8",
   "metadata": {},
   "outputs": [
    {
     "data": {
      "text/plain": [
       "9"
      ]
     },
     "execution_count": 84,
     "metadata": {},
     "output_type": "execute_result"
    }
   ],
   "source": [
    "lst[1][1][1]"
   ]
  },
  {
   "cell_type": "code",
   "execution_count": null,
   "id": "3b7bf852",
   "metadata": {},
   "outputs": [],
   "source": []
  }
 ],
 "metadata": {
  "kernelspec": {
   "display_name": "Python 3 (ipykernel)",
   "language": "python",
   "name": "python3"
  },
  "language_info": {
   "codemirror_mode": {
    "name": "ipython",
    "version": 3
   },
   "file_extension": ".py",
   "mimetype": "text/x-python",
   "name": "python",
   "nbconvert_exporter": "python",
   "pygments_lexer": "ipython3",
   "version": "3.11.5"
  }
 },
 "nbformat": 4,
 "nbformat_minor": 5
}
