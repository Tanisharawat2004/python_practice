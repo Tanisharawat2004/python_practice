{
 "cells": [
  {
   "cell_type": "code",
   "execution_count": null,
   "id": "cde19093",
   "metadata": {},
   "outputs": [],
   "source": [
    "# set"
   ]
  },
  {
   "cell_type": "code",
   "execution_count": null,
   "id": "0a72e761",
   "metadata": {},
   "outputs": [],
   "source": [
    "#by default {} blank =dictionary datatype"
   ]
  },
  {
   "cell_type": "code",
   "execution_count": 4,
   "id": "34c58ca4",
   "metadata": {},
   "outputs": [],
   "source": [
    "s={}"
   ]
  },
  {
   "cell_type": "code",
   "execution_count": 5,
   "id": "d677e397",
   "metadata": {},
   "outputs": [
    {
     "data": {
      "text/plain": [
       "dict"
      ]
     },
     "execution_count": 5,
     "metadata": {},
     "output_type": "execute_result"
    }
   ],
   "source": [
    "type(s)"
   ]
  },
  {
   "cell_type": "code",
   "execution_count": 6,
   "id": "755e9ab5",
   "metadata": {},
   "outputs": [],
   "source": [
    "s={1:100,2:200,3:\"tanu\"}"
   ]
  },
  {
   "cell_type": "code",
   "execution_count": 7,
   "id": "ab189794",
   "metadata": {},
   "outputs": [
    {
     "data": {
      "text/plain": [
       "dict"
      ]
     },
     "execution_count": 7,
     "metadata": {},
     "output_type": "execute_result"
    }
   ],
   "source": [
    "type(s)"
   ]
  },
  {
   "cell_type": "code",
   "execution_count": 8,
   "id": "13947374",
   "metadata": {},
   "outputs": [],
   "source": [
    "s= set()"
   ]
  },
  {
   "cell_type": "code",
   "execution_count": 9,
   "id": "7c724f60",
   "metadata": {},
   "outputs": [
    {
     "data": {
      "text/plain": [
       "set"
      ]
     },
     "execution_count": 9,
     "metadata": {},
     "output_type": "execute_result"
    }
   ],
   "source": [
    "type(s)"
   ]
  },
  {
   "cell_type": "code",
   "execution_count": 2,
   "id": "efcedc03",
   "metadata": {},
   "outputs": [],
   "source": [
    "s={2,4,5,6,7,}"
   ]
  },
  {
   "cell_type": "code",
   "execution_count": 3,
   "id": "623344b9",
   "metadata": {},
   "outputs": [
    {
     "data": {
      "text/plain": [
       "set"
      ]
     },
     "execution_count": 3,
     "metadata": {},
     "output_type": "execute_result"
    }
   ],
   "source": [
    "type(s)"
   ]
  },
  {
   "cell_type": "code",
   "execution_count": null,
   "id": "69659d43",
   "metadata": {},
   "outputs": [],
   "source": [
    "# set is non indexing ,non slicing,unordered"
   ]
  },
  {
   "cell_type": "code",
   "execution_count": 8,
   "id": "6d5b5d4a",
   "metadata": {},
   "outputs": [],
   "source": [
    "a={1,1,8,7,5,4,6,5}"
   ]
  },
  {
   "cell_type": "code",
   "execution_count": 9,
   "id": "ba660467",
   "metadata": {},
   "outputs": [
    {
     "data": {
      "text/plain": [
       "{1, 4, 5, 6, 7, 8}"
      ]
     },
     "execution_count": 9,
     "metadata": {},
     "output_type": "execute_result"
    }
   ],
   "source": [
    "a"
   ]
  },
  {
   "cell_type": "code",
   "execution_count": 10,
   "id": "a868c017",
   "metadata": {},
   "outputs": [
    {
     "ename": "TypeError",
     "evalue": "'set' object is not subscriptable",
     "output_type": "error",
     "traceback": [
      "\u001b[1;31m---------------------------------------------------------------------------\u001b[0m",
      "\u001b[1;31mTypeError\u001b[0m                                 Traceback (most recent call last)",
      "Cell \u001b[1;32mIn[10], line 1\u001b[0m\n\u001b[1;32m----> 1\u001b[0m a[\u001b[38;5;241m0\u001b[39m]\n",
      "\u001b[1;31mTypeError\u001b[0m: 'set' object is not subscriptable"
     ]
    }
   ],
   "source": [
    "a[0]"
   ]
  },
  {
   "cell_type": "code",
   "execution_count": 11,
   "id": "f39fd7bd",
   "metadata": {},
   "outputs": [
    {
     "ename": "TypeError",
     "evalue": "unhashable type: 'slice'",
     "output_type": "error",
     "traceback": [
      "\u001b[1;31m---------------------------------------------------------------------------\u001b[0m",
      "\u001b[1;31mTypeError\u001b[0m                                 Traceback (most recent call last)",
      "Cell \u001b[1;32mIn[11], line 1\u001b[0m\n\u001b[1;32m----> 1\u001b[0m s[:]\n",
      "\u001b[1;31mTypeError\u001b[0m: unhashable type: 'slice'"
     ]
    }
   ],
   "source": [
    "s[:]"
   ]
  },
  {
   "cell_type": "code",
   "execution_count": 13,
   "id": "3e416b54",
   "metadata": {},
   "outputs": [],
   "source": [
    "b={1,True,8,\"tanisha\",\"hello\",23.7}"
   ]
  },
  {
   "cell_type": "code",
   "execution_count": 14,
   "id": "41ea444d",
   "metadata": {},
   "outputs": [
    {
     "data": {
      "text/plain": [
       "{1, 23.7, 8, 'hello', 'tanisha'}"
      ]
     },
     "execution_count": 14,
     "metadata": {},
     "output_type": "execute_result"
    }
   ],
   "source": [
    "b"
   ]
  },
  {
   "cell_type": "code",
   "execution_count": 16,
   "id": "86c4dbb9",
   "metadata": {},
   "outputs": [],
   "source": [
    "b={False,0,8,\"tanisha\",\"hello\",23.7}"
   ]
  },
  {
   "cell_type": "code",
   "execution_count": 17,
   "id": "7c4ddbd0",
   "metadata": {},
   "outputs": [
    {
     "data": {
      "text/plain": [
       "{23.7, 8, False, 'hello', 'tanisha'}"
      ]
     },
     "execution_count": 17,
     "metadata": {},
     "output_type": "execute_result"
    }
   ],
   "source": [
    "b"
   ]
  },
  {
   "cell_type": "code",
   "execution_count": null,
   "id": "c1668c98",
   "metadata": {},
   "outputs": [],
   "source": [
    "#allows heterogenous and tuple but not allow list , set and dict"
   ]
  },
  {
   "cell_type": "code",
   "execution_count": 18,
   "id": "576f84b7",
   "metadata": {},
   "outputs": [
    {
     "ename": "TypeError",
     "evalue": "unhashable type: 'list'",
     "output_type": "error",
     "traceback": [
      "\u001b[1;31m---------------------------------------------------------------------------\u001b[0m",
      "\u001b[1;31mTypeError\u001b[0m                                 Traceback (most recent call last)",
      "Cell \u001b[1;32mIn[18], line 1\u001b[0m\n\u001b[1;32m----> 1\u001b[0m b\u001b[38;5;241m=\u001b[39m{[\u001b[38;5;241m2\u001b[39m,\u001b[38;5;241m3\u001b[39m,\u001b[38;5;241m4\u001b[39m],\u001b[38;5;241m8\u001b[39m,\u001b[38;5;241m9\u001b[39m}\n",
      "\u001b[1;31mTypeError\u001b[0m: unhashable type: 'list'"
     ]
    }
   ],
   "source": [
    "b={[2,3,4],8,9}"
   ]
  },
  {
   "cell_type": "code",
   "execution_count": 20,
   "id": "67e1f701",
   "metadata": {},
   "outputs": [
    {
     "ename": "TypeError",
     "evalue": "unhashable type: 'set'",
     "output_type": "error",
     "traceback": [
      "\u001b[1;31m---------------------------------------------------------------------------\u001b[0m",
      "\u001b[1;31mTypeError\u001b[0m                                 Traceback (most recent call last)",
      "Cell \u001b[1;32mIn[20], line 1\u001b[0m\n\u001b[1;32m----> 1\u001b[0m b\u001b[38;5;241m=\u001b[39m{{\u001b[38;5;241m2\u001b[39m,\u001b[38;5;241m3\u001b[39m},\u001b[38;5;241m6\u001b[39m,\u001b[38;5;241m7\u001b[39m,\u001b[38;5;241m8\u001b[39m,{\u001b[38;5;241m4\u001b[39m,\u001b[38;5;241m5\u001b[39m}}\n",
      "\u001b[1;31mTypeError\u001b[0m: unhashable type: 'set'"
     ]
    }
   ],
   "source": [
    "b={{2,3},6,7,8,{4,5}}"
   ]
  },
  {
   "cell_type": "code",
   "execution_count": 22,
   "id": "34f583f8",
   "metadata": {},
   "outputs": [],
   "source": [
    "b={(2,4),5,6,7}"
   ]
  },
  {
   "cell_type": "code",
   "execution_count": 23,
   "id": "0866c614",
   "metadata": {},
   "outputs": [
    {
     "data": {
      "text/plain": [
       "{(2, 4), 5, 6, 7}"
      ]
     },
     "execution_count": 23,
     "metadata": {},
     "output_type": "execute_result"
    }
   ],
   "source": [
    "b"
   ]
  },
  {
   "cell_type": "code",
   "execution_count": 24,
   "id": "3ae62188",
   "metadata": {},
   "outputs": [
    {
     "ename": "TypeError",
     "evalue": "unhashable type: 'dict'",
     "output_type": "error",
     "traceback": [
      "\u001b[1;31m---------------------------------------------------------------------------\u001b[0m",
      "\u001b[1;31mTypeError\u001b[0m                                 Traceback (most recent call last)",
      "Cell \u001b[1;32mIn[24], line 1\u001b[0m\n\u001b[1;32m----> 1\u001b[0m b\u001b[38;5;241m=\u001b[39m{{\u001b[38;5;241m1\u001b[39m:\u001b[38;5;124m\"\u001b[39m\u001b[38;5;124mtanu\u001b[39m\u001b[38;5;124m\"\u001b[39m}}\n",
      "\u001b[1;31mTypeError\u001b[0m: unhashable type: 'dict'"
     ]
    }
   ],
   "source": [
    "b={{1:\"tanu\"}}"
   ]
  },
  {
   "cell_type": "code",
   "execution_count": null,
   "id": "00a241db",
   "metadata": {},
   "outputs": [],
   "source": [
    "# membership operator in and not in"
   ]
  },
  {
   "cell_type": "code",
   "execution_count": 28,
   "id": "f5d194af",
   "metadata": {},
   "outputs": [],
   "source": [
    "b={2,3,\"tanisha\",4}"
   ]
  },
  {
   "cell_type": "code",
   "execution_count": 29,
   "id": "fe2b42d3",
   "metadata": {},
   "outputs": [
    {
     "data": {
      "text/plain": [
       "True"
      ]
     },
     "execution_count": 29,
     "metadata": {},
     "output_type": "execute_result"
    }
   ],
   "source": [
    "3 in b"
   ]
  },
  {
   "cell_type": "code",
   "execution_count": 30,
   "id": "90002234",
   "metadata": {},
   "outputs": [
    {
     "data": {
      "text/plain": [
       "False"
      ]
     },
     "execution_count": 30,
     "metadata": {},
     "output_type": "execute_result"
    }
   ],
   "source": [
    "3 not in b"
   ]
  },
  {
   "cell_type": "code",
   "execution_count": null,
   "id": "6787fc10",
   "metadata": {},
   "outputs": [],
   "source": [
    "# len() in set"
   ]
  },
  {
   "cell_type": "code",
   "execution_count": null,
   "id": "e27ad857",
   "metadata": {},
   "outputs": [],
   "source": [
    "b={2,3,\"tanisha\",4}"
   ]
  },
  {
   "cell_type": "code",
   "execution_count": 31,
   "id": "9bec10cc",
   "metadata": {},
   "outputs": [
    {
     "data": {
      "text/plain": [
       "4"
      ]
     },
     "execution_count": 31,
     "metadata": {},
     "output_type": "execute_result"
    }
   ],
   "source": [
    "len(b)"
   ]
  },
  {
   "cell_type": "code",
   "execution_count": null,
   "id": "5af90f8c",
   "metadata": {},
   "outputs": [],
   "source": [
    "# copy()"
   ]
  },
  {
   "cell_type": "code",
   "execution_count": 33,
   "id": "cf99d82f",
   "metadata": {},
   "outputs": [],
   "source": [
    "c=b.copy()"
   ]
  },
  {
   "cell_type": "code",
   "execution_count": 34,
   "id": "5a7e9d8d",
   "metadata": {},
   "outputs": [
    {
     "data": {
      "text/plain": [
       "{2, 3, 4, 'tanisha'}"
      ]
     },
     "execution_count": 34,
     "metadata": {},
     "output_type": "execute_result"
    }
   ],
   "source": [
    "c"
   ]
  },
  {
   "cell_type": "code",
   "execution_count": null,
   "id": "b7a17f13",
   "metadata": {},
   "outputs": [],
   "source": [
    "#  allow adding element to set"
   ]
  },
  {
   "cell_type": "code",
   "execution_count": 40,
   "id": "02d06292",
   "metadata": {},
   "outputs": [
    {
     "data": {
      "text/plain": [
       "{2, 3, 4, 'hello', 'tanisha'}"
      ]
     },
     "execution_count": 40,
     "metadata": {},
     "output_type": "execute_result"
    }
   ],
   "source": [
    "b"
   ]
  },
  {
   "cell_type": "code",
   "execution_count": 41,
   "id": "0ecc6f3f",
   "metadata": {},
   "outputs": [],
   "source": [
    "b.add(\"hello\")"
   ]
  },
  {
   "cell_type": "code",
   "execution_count": 43,
   "id": "b56ff21f",
   "metadata": {},
   "outputs": [
    {
     "data": {
      "text/plain": [
       "{2, 3, 4, 'hello', 'tanisha'}"
      ]
     },
     "execution_count": 43,
     "metadata": {},
     "output_type": "execute_result"
    }
   ],
   "source": [
    "b"
   ]
  },
  {
   "cell_type": "code",
   "execution_count": 44,
   "id": "07b9c8f2",
   "metadata": {},
   "outputs": [],
   "source": [
    "b.add(True)"
   ]
  },
  {
   "cell_type": "code",
   "execution_count": 45,
   "id": "a5809049",
   "metadata": {},
   "outputs": [
    {
     "data": {
      "text/plain": [
       "{2, 3, 4, True, 'hello', 'tanisha'}"
      ]
     },
     "execution_count": 45,
     "metadata": {},
     "output_type": "execute_result"
    }
   ],
   "source": [
    "b"
   ]
  },
  {
   "cell_type": "code",
   "execution_count": 47,
   "id": "52b6fc21",
   "metadata": {},
   "outputs": [],
   "source": [
    "b.add(40)"
   ]
  },
  {
   "cell_type": "code",
   "execution_count": 48,
   "id": "d76d7858",
   "metadata": {},
   "outputs": [
    {
     "data": {
      "text/plain": [
       "{2, 3, 4, 40, True, 'hello', 'tanisha'}"
      ]
     },
     "execution_count": 48,
     "metadata": {},
     "output_type": "execute_result"
    }
   ],
   "source": [
    "b"
   ]
  },
  {
   "cell_type": "code",
   "execution_count": 49,
   "id": "aa2dcffe",
   "metadata": {},
   "outputs": [
    {
     "ename": "TypeError",
     "evalue": "unhashable type: 'list'",
     "output_type": "error",
     "traceback": [
      "\u001b[1;31m---------------------------------------------------------------------------\u001b[0m",
      "\u001b[1;31mTypeError\u001b[0m                                 Traceback (most recent call last)",
      "Cell \u001b[1;32mIn[49], line 1\u001b[0m\n\u001b[1;32m----> 1\u001b[0m b\u001b[38;5;241m.\u001b[39madd([\u001b[38;5;241m2\u001b[39m,\u001b[38;5;241m4\u001b[39m])\n",
      "\u001b[1;31mTypeError\u001b[0m: unhashable type: 'list'"
     ]
    }
   ],
   "source": [
    "b.add([2,4])"
   ]
  },
  {
   "cell_type": "code",
   "execution_count": 50,
   "id": "fb506187",
   "metadata": {},
   "outputs": [
    {
     "ename": "TypeError",
     "evalue": "unhashable type: 'set'",
     "output_type": "error",
     "traceback": [
      "\u001b[1;31m---------------------------------------------------------------------------\u001b[0m",
      "\u001b[1;31mTypeError\u001b[0m                                 Traceback (most recent call last)",
      "Cell \u001b[1;32mIn[50], line 1\u001b[0m\n\u001b[1;32m----> 1\u001b[0m b\u001b[38;5;241m.\u001b[39madd({\u001b[38;5;241m3\u001b[39m,\u001b[38;5;241m4\u001b[39m})\n",
      "\u001b[1;31mTypeError\u001b[0m: unhashable type: 'set'"
     ]
    }
   ],
   "source": [
    "b.add({3,4})"
   ]
  },
  {
   "cell_type": "code",
   "execution_count": 51,
   "id": "c34800c5",
   "metadata": {},
   "outputs": [],
   "source": [
    "b.add((2,4))"
   ]
  },
  {
   "cell_type": "code",
   "execution_count": 52,
   "id": "b6018980",
   "metadata": {},
   "outputs": [
    {
     "data": {
      "text/plain": [
       "{(2, 4), 2, 3, 4, 40, True, 'hello', 'tanisha'}"
      ]
     },
     "execution_count": 52,
     "metadata": {},
     "output_type": "execute_result"
    }
   ],
   "source": [
    "b"
   ]
  },
  {
   "cell_type": "code",
   "execution_count": null,
   "id": "43bae33d",
   "metadata": {},
   "outputs": [],
   "source": [
    "# update allow in set"
   ]
  },
  {
   "cell_type": "code",
   "execution_count": 53,
   "id": "b03c16a5",
   "metadata": {},
   "outputs": [
    {
     "data": {
      "text/plain": [
       "{(2, 4), 2, 3, 4, 40, True, 'hello', 'tanisha'}"
      ]
     },
     "execution_count": 53,
     "metadata": {},
     "output_type": "execute_result"
    }
   ],
   "source": [
    "b"
   ]
  },
  {
   "cell_type": "code",
   "execution_count": 54,
   "id": "46005e33",
   "metadata": {},
   "outputs": [],
   "source": [
    "b.update(\"manvi\")"
   ]
  },
  {
   "cell_type": "code",
   "execution_count": 55,
   "id": "f14b893b",
   "metadata": {},
   "outputs": [
    {
     "data": {
      "text/plain": [
       "{(2, 4), 2, 3, 4, 40, True, 'a', 'hello', 'i', 'm', 'n', 'tanisha', 'v'}"
      ]
     },
     "execution_count": 55,
     "metadata": {},
     "output_type": "execute_result"
    }
   ],
   "source": [
    "b"
   ]
  },
  {
   "cell_type": "code",
   "execution_count": 58,
   "id": "151ce70d",
   "metadata": {},
   "outputs": [],
   "source": [
    "b.update({10,20})"
   ]
  },
  {
   "cell_type": "code",
   "execution_count": 59,
   "id": "5451b3ac",
   "metadata": {},
   "outputs": [
    {
     "data": {
      "text/plain": [
       "{(2, 4),\n",
       " 10,\n",
       " 2,\n",
       " 20,\n",
       " 3,\n",
       " 4,\n",
       " 40,\n",
       " True,\n",
       " 'a',\n",
       " 'hello',\n",
       " 'i',\n",
       " 'm',\n",
       " 'n',\n",
       " 'tanisha',\n",
       " 'v'}"
      ]
     },
     "execution_count": 59,
     "metadata": {},
     "output_type": "execute_result"
    }
   ],
   "source": [
    "b"
   ]
  },
  {
   "cell_type": "code",
   "execution_count": 60,
   "id": "2ee0b17b",
   "metadata": {},
   "outputs": [],
   "source": [
    "b.update([100,200])"
   ]
  },
  {
   "cell_type": "code",
   "execution_count": 61,
   "id": "9cf08cc9",
   "metadata": {},
   "outputs": [
    {
     "data": {
      "text/plain": [
       "{(2, 4),\n",
       " 10,\n",
       " 100,\n",
       " 2,\n",
       " 20,\n",
       " 200,\n",
       " 3,\n",
       " 4,\n",
       " 40,\n",
       " True,\n",
       " 'a',\n",
       " 'hello',\n",
       " 'i',\n",
       " 'm',\n",
       " 'n',\n",
       " 'tanisha',\n",
       " 'v'}"
      ]
     },
     "execution_count": 61,
     "metadata": {},
     "output_type": "execute_result"
    }
   ],
   "source": [
    "b"
   ]
  },
  {
   "cell_type": "code",
   "execution_count": 67,
   "id": "b71cf55a",
   "metadata": {},
   "outputs": [
    {
     "ename": "TypeError",
     "evalue": "'int' object is not iterable",
     "output_type": "error",
     "traceback": [
      "\u001b[1;31m---------------------------------------------------------------------------\u001b[0m",
      "\u001b[1;31mTypeError\u001b[0m                                 Traceback (most recent call last)",
      "Cell \u001b[1;32mIn[67], line 1\u001b[0m\n\u001b[1;32m----> 1\u001b[0m b\u001b[38;5;241m.\u001b[39mupdate(\u001b[38;5;241m67\u001b[39m)\n",
      "\u001b[1;31mTypeError\u001b[0m: 'int' object is not iterable"
     ]
    }
   ],
   "source": [
    "b.update(67)"
   ]
  },
  {
   "cell_type": "code",
   "execution_count": 66,
   "id": "35339630",
   "metadata": {},
   "outputs": [
    {
     "data": {
      "text/plain": [
       "{(2, 4),\n",
       " 10,\n",
       " 100,\n",
       " 2,\n",
       " 20,\n",
       " 200,\n",
       " 3,\n",
       " 4,\n",
       " 40,\n",
       " True,\n",
       " 'a',\n",
       " 'hello',\n",
       " 'i',\n",
       " 'm',\n",
       " 'n',\n",
       " 'tanisha',\n",
       " 'v'}"
      ]
     },
     "execution_count": 66,
     "metadata": {},
     "output_type": "execute_result"
    }
   ],
   "source": [
    "b"
   ]
  },
  {
   "cell_type": "code",
   "execution_count": null,
   "id": "478debf4",
   "metadata": {},
   "outputs": [],
   "source": [
    "# remove and discard in set"
   ]
  },
  {
   "cell_type": "code",
   "execution_count": 68,
   "id": "649a85ce",
   "metadata": {},
   "outputs": [
    {
     "data": {
      "text/plain": [
       "{(2, 4),\n",
       " 10,\n",
       " 100,\n",
       " 2,\n",
       " 20,\n",
       " 200,\n",
       " 3,\n",
       " 4,\n",
       " 40,\n",
       " True,\n",
       " 'a',\n",
       " 'hello',\n",
       " 'i',\n",
       " 'm',\n",
       " 'n',\n",
       " 'tanisha',\n",
       " 'v'}"
      ]
     },
     "execution_count": 68,
     "metadata": {},
     "output_type": "execute_result"
    }
   ],
   "source": [
    "b"
   ]
  },
  {
   "cell_type": "code",
   "execution_count": 72,
   "id": "56f77543",
   "metadata": {},
   "outputs": [],
   "source": [
    "b.remove(True)"
   ]
  },
  {
   "cell_type": "code",
   "execution_count": 77,
   "id": "90a6fa1d",
   "metadata": {},
   "outputs": [
    {
     "data": {
      "text/plain": [
       "{(2, 4), 10, 100, 2, 20, 200, 3, 4, 40, 'a', 'hello', 'i', 'm', 'n', 'v'}"
      ]
     },
     "execution_count": 77,
     "metadata": {},
     "output_type": "execute_result"
    }
   ],
   "source": [
    "b"
   ]
  },
  {
   "cell_type": "code",
   "execution_count": 78,
   "id": "ee1606c0",
   "metadata": {},
   "outputs": [],
   "source": [
    "b.add('tanisha')"
   ]
  },
  {
   "cell_type": "code",
   "execution_count": 79,
   "id": "56c94c86",
   "metadata": {},
   "outputs": [
    {
     "data": {
      "text/plain": [
       "{(2, 4),\n",
       " 10,\n",
       " 100,\n",
       " 2,\n",
       " 20,\n",
       " 200,\n",
       " 3,\n",
       " 4,\n",
       " 40,\n",
       " 'a',\n",
       " 'hello',\n",
       " 'i',\n",
       " 'm',\n",
       " 'n',\n",
       " 'tanisha',\n",
       " 'v'}"
      ]
     },
     "execution_count": 79,
     "metadata": {},
     "output_type": "execute_result"
    }
   ],
   "source": [
    "b"
   ]
  },
  {
   "cell_type": "code",
   "execution_count": 80,
   "id": "c5c1db4e",
   "metadata": {},
   "outputs": [],
   "source": [
    "b.remove(\"tanisha\")"
   ]
  },
  {
   "cell_type": "code",
   "execution_count": 81,
   "id": "8afd34a8",
   "metadata": {},
   "outputs": [
    {
     "data": {
      "text/plain": [
       "{(2, 4), 10, 100, 2, 20, 200, 3, 4, 40, 'a', 'hello', 'i', 'm', 'n', 'v'}"
      ]
     },
     "execution_count": 81,
     "metadata": {},
     "output_type": "execute_result"
    }
   ],
   "source": [
    "b"
   ]
  },
  {
   "cell_type": "code",
   "execution_count": 82,
   "id": "7fe6f23c",
   "metadata": {},
   "outputs": [
    {
     "ename": "KeyError",
     "evalue": "300",
     "output_type": "error",
     "traceback": [
      "\u001b[1;31m---------------------------------------------------------------------------\u001b[0m",
      "\u001b[1;31mKeyError\u001b[0m                                  Traceback (most recent call last)",
      "Cell \u001b[1;32mIn[82], line 1\u001b[0m\n\u001b[1;32m----> 1\u001b[0m b\u001b[38;5;241m.\u001b[39mremove(\u001b[38;5;241m300\u001b[39m)\n",
      "\u001b[1;31mKeyError\u001b[0m: 300"
     ]
    }
   ],
   "source": [
    "b.remove(300)"
   ]
  },
  {
   "cell_type": "code",
   "execution_count": null,
   "id": "dc6612b5",
   "metadata": {},
   "outputs": [],
   "source": [
    "# after using dicard method it does not throgh error"
   ]
  },
  {
   "cell_type": "code",
   "execution_count": 84,
   "id": "4c8f400c",
   "metadata": {},
   "outputs": [],
   "source": [
    "b.discard(300)"
   ]
  },
  {
   "cell_type": "code",
   "execution_count": 85,
   "id": "65891a1b",
   "metadata": {},
   "outputs": [
    {
     "data": {
      "text/plain": [
       "{(2, 4), 10, 100, 2, 20, 200, 3, 4, 40, 'a', 'hello', 'i', 'm', 'n', 'v'}"
      ]
     },
     "execution_count": 85,
     "metadata": {},
     "output_type": "execute_result"
    }
   ],
   "source": [
    "b"
   ]
  },
  {
   "cell_type": "code",
   "execution_count": null,
   "id": "c5414961",
   "metadata": {},
   "outputs": [],
   "source": [
    "# pop method in set"
   ]
  },
  {
   "cell_type": "code",
   "execution_count": 86,
   "id": "6d474f7e",
   "metadata": {},
   "outputs": [
    {
     "data": {
      "text/plain": [
       "{(2, 4), 10, 100, 2, 20, 200, 3, 4, 40, 'a', 'hello', 'i', 'm', 'n', 'v'}"
      ]
     },
     "execution_count": 86,
     "metadata": {},
     "output_type": "execute_result"
    }
   ],
   "source": [
    "b"
   ]
  },
  {
   "cell_type": "code",
   "execution_count": 87,
   "id": "40bf371c",
   "metadata": {},
   "outputs": [
    {
     "data": {
      "text/plain": [
       "2"
      ]
     },
     "execution_count": 87,
     "metadata": {},
     "output_type": "execute_result"
    }
   ],
   "source": [
    "b.pop()"
   ]
  },
  {
   "cell_type": "code",
   "execution_count": 88,
   "id": "68f95672",
   "metadata": {},
   "outputs": [
    {
     "data": {
      "text/plain": [
       "3"
      ]
     },
     "execution_count": 88,
     "metadata": {},
     "output_type": "execute_result"
    }
   ],
   "source": [
    "b.pop()"
   ]
  },
  {
   "cell_type": "code",
   "execution_count": null,
   "id": "0571c1cd",
   "metadata": {},
   "outputs": [],
   "source": [
    "#clear method"
   ]
  },
  {
   "cell_type": "code",
   "execution_count": 89,
   "id": "79726e97",
   "metadata": {},
   "outputs": [
    {
     "data": {
      "text/plain": [
       "{(2, 4), 10, 100, 20, 200, 4, 40, 'a', 'hello', 'i', 'm', 'n', 'v'}"
      ]
     },
     "execution_count": 89,
     "metadata": {},
     "output_type": "execute_result"
    }
   ],
   "source": [
    "b"
   ]
  },
  {
   "cell_type": "code",
   "execution_count": 90,
   "id": "070d872e",
   "metadata": {},
   "outputs": [],
   "source": [
    "b.clear()"
   ]
  },
  {
   "cell_type": "code",
   "execution_count": 91,
   "id": "340364e0",
   "metadata": {},
   "outputs": [
    {
     "data": {
      "text/plain": [
       "set()"
      ]
     },
     "execution_count": 91,
     "metadata": {},
     "output_type": "execute_result"
    }
   ],
   "source": [
    "b"
   ]
  },
  {
   "cell_type": "code",
   "execution_count": null,
   "id": "31feca5e",
   "metadata": {},
   "outputs": [],
   "source": [
    "# del keyword in set"
   ]
  },
  {
   "cell_type": "code",
   "execution_count": 92,
   "id": "5b41d7b1",
   "metadata": {},
   "outputs": [],
   "source": [
    "del b"
   ]
  },
  {
   "cell_type": "code",
   "execution_count": 93,
   "id": "ac949cf3",
   "metadata": {},
   "outputs": [
    {
     "ename": "NameError",
     "evalue": "name 'b' is not defined",
     "output_type": "error",
     "traceback": [
      "\u001b[1;31m---------------------------------------------------------------------------\u001b[0m",
      "\u001b[1;31mNameError\u001b[0m                                 Traceback (most recent call last)",
      "Cell \u001b[1;32mIn[93], line 1\u001b[0m\n\u001b[1;32m----> 1\u001b[0m b\n",
      "\u001b[1;31mNameError\u001b[0m: name 'b' is not defined"
     ]
    }
   ],
   "source": [
    "b"
   ]
  },
  {
   "cell_type": "code",
   "execution_count": 94,
   "id": "d0264440",
   "metadata": {},
   "outputs": [
    {
     "data": {
      "text/plain": [
       "{2, 3, 4, 'tanisha'}"
      ]
     },
     "execution_count": 94,
     "metadata": {},
     "output_type": "execute_result"
    }
   ],
   "source": [
    "c"
   ]
  },
  {
   "cell_type": "code",
   "execution_count": null,
   "id": "6e281329",
   "metadata": {},
   "outputs": [],
   "source": [
    "#union method"
   ]
  },
  {
   "cell_type": "code",
   "execution_count": 4,
   "id": "ea07fb8e",
   "metadata": {},
   "outputs": [
    {
     "data": {
      "text/plain": [
       "{1, 2, 3, 4, 5, 8, 'hello', 'hi', 'tanisha'}"
      ]
     },
     "execution_count": 4,
     "metadata": {},
     "output_type": "execute_result"
    }
   ],
   "source": [
    "s1={1,2,8,4,5,3,\"tanisha\"}\n",
    "s2={2,3,\"tanisha\",\"hello\",\"hi\"}\n",
    "s1.union(s2)"
   ]
  },
  {
   "cell_type": "code",
   "execution_count": 5,
   "id": "c67e25fd",
   "metadata": {},
   "outputs": [],
   "source": [
    "# \"|\" is union operator and return new set"
   ]
  },
  {
   "cell_type": "code",
   "execution_count": 6,
   "id": "56025d17",
   "metadata": {},
   "outputs": [
    {
     "data": {
      "text/plain": [
       "{1, 2, 3, 4, 5, 8, 'hello', 'hi', 'tanisha'}"
      ]
     },
     "execution_count": 6,
     "metadata": {},
     "output_type": "execute_result"
    }
   ],
   "source": [
    "s1|s2"
   ]
  },
  {
   "cell_type": "code",
   "execution_count": null,
   "id": "ca31fecb",
   "metadata": {},
   "outputs": [],
   "source": [
    "# intersection method in set"
   ]
  },
  {
   "cell_type": "code",
   "execution_count": 7,
   "id": "70e170c6",
   "metadata": {},
   "outputs": [
    {
     "data": {
      "text/plain": [
       "{2, 3, 'tanisha'}"
      ]
     },
     "execution_count": 7,
     "metadata": {},
     "output_type": "execute_result"
    }
   ],
   "source": [
    "s1.intersection(s2)"
   ]
  },
  {
   "cell_type": "code",
   "execution_count": null,
   "id": "4a24df00",
   "metadata": {},
   "outputs": [],
   "source": [
    "# \"&\" is for intersection"
   ]
  },
  {
   "cell_type": "code",
   "execution_count": 8,
   "id": "ffb4343c",
   "metadata": {},
   "outputs": [
    {
     "data": {
      "text/plain": [
       "{2, 3, 'tanisha'}"
      ]
     },
     "execution_count": 8,
     "metadata": {},
     "output_type": "execute_result"
    }
   ],
   "source": [
    "s1&s2"
   ]
  },
  {
   "cell_type": "code",
   "execution_count": null,
   "id": "cef14114",
   "metadata": {},
   "outputs": [],
   "source": [
    "# differnce method in set"
   ]
  },
  {
   "cell_type": "code",
   "execution_count": 9,
   "id": "de479d55",
   "metadata": {},
   "outputs": [
    {
     "data": {
      "text/plain": [
       "{1, 4, 5, 8}"
      ]
     },
     "execution_count": 9,
     "metadata": {},
     "output_type": "execute_result"
    }
   ],
   "source": [
    "s1.difference(s2)"
   ]
  },
  {
   "cell_type": "code",
   "execution_count": 13,
   "id": "f5e837ca",
   "metadata": {},
   "outputs": [
    {
     "data": {
      "text/plain": [
       "{'hello', 'hi'}"
      ]
     },
     "execution_count": 13,
     "metadata": {},
     "output_type": "execute_result"
    }
   ],
   "source": [
    "s2.difference(s1)"
   ]
  },
  {
   "cell_type": "code",
   "execution_count": null,
   "id": "e2b945df",
   "metadata": {},
   "outputs": [],
   "source": [
    "\"\"\"-\" is for difference\""
   ]
  },
  {
   "cell_type": "code",
   "execution_count": 14,
   "id": "8d17f2e3",
   "metadata": {},
   "outputs": [
    {
     "data": {
      "text/plain": [
       "{1, 4, 5, 8}"
      ]
     },
     "execution_count": 14,
     "metadata": {},
     "output_type": "execute_result"
    }
   ],
   "source": [
    "s1-s2"
   ]
  },
  {
   "cell_type": "code",
   "execution_count": 15,
   "id": "12d51d72",
   "metadata": {},
   "outputs": [
    {
     "data": {
      "text/plain": [
       "{'hello', 'hi'}"
      ]
     },
     "execution_count": 15,
     "metadata": {},
     "output_type": "execute_result"
    }
   ],
   "source": [
    "s2-s1"
   ]
  },
  {
   "cell_type": "code",
   "execution_count": null,
   "id": "84b06163",
   "metadata": {},
   "outputs": [],
   "source": [
    "#symmetric differnce method in set"
   ]
  },
  {
   "cell_type": "code",
   "execution_count": 16,
   "id": "ebcb0687",
   "metadata": {},
   "outputs": [
    {
     "data": {
      "text/plain": [
       "{1, 4, 5, 8, 'hello', 'hi'}"
      ]
     },
     "execution_count": 16,
     "metadata": {},
     "output_type": "execute_result"
    }
   ],
   "source": [
    "s1.symmetric_difference(s2)"
   ]
  },
  {
   "cell_type": "code",
   "execution_count": 17,
   "id": "c06a5ead",
   "metadata": {},
   "outputs": [
    {
     "data": {
      "text/plain": [
       "{1, 4, 5, 8, 'hello', 'hi'}"
      ]
     },
     "execution_count": 17,
     "metadata": {},
     "output_type": "execute_result"
    }
   ],
   "source": [
    "s2.symmetric_difference(s1)"
   ]
  },
  {
   "cell_type": "code",
   "execution_count": null,
   "id": "7f0a2d97",
   "metadata": {},
   "outputs": [],
   "source": [
    "# differnce update method"
   ]
  },
  {
   "cell_type": "code",
   "execution_count": 23,
   "id": "00d9d10c",
   "metadata": {},
   "outputs": [
    {
     "data": {
      "text/plain": [
       "{1, 2, 3, 4, 5, 8, 'hello', 'hi', 'tanisha'}"
      ]
     },
     "execution_count": 23,
     "metadata": {},
     "output_type": "execute_result"
    }
   ],
   "source": [
    "s1={1,2,8,4,5,3,\"tanisha\"}\n",
    "s2={2,3,\"tanisha\",\"hello\",\"hi\"}\n",
    "s1.union(s2)"
   ]
  },
  {
   "cell_type": "code",
   "execution_count": 24,
   "id": "beedab72",
   "metadata": {},
   "outputs": [],
   "source": [
    "s1.difference_update(s2)"
   ]
  },
  {
   "cell_type": "code",
   "execution_count": 25,
   "id": "5d9fe7ce",
   "metadata": {},
   "outputs": [
    {
     "data": {
      "text/plain": [
       "{1, 4, 5, 8}"
      ]
     },
     "execution_count": 25,
     "metadata": {},
     "output_type": "execute_result"
    }
   ],
   "source": [
    "s1"
   ]
  },
  {
   "cell_type": "code",
   "execution_count": 26,
   "id": "67fe4bac",
   "metadata": {},
   "outputs": [],
   "source": [
    "s1.intersection_update(s2)"
   ]
  },
  {
   "cell_type": "code",
   "execution_count": 27,
   "id": "82b0dd6e",
   "metadata": {},
   "outputs": [
    {
     "data": {
      "text/plain": [
       "set()"
      ]
     },
     "execution_count": 27,
     "metadata": {},
     "output_type": "execute_result"
    }
   ],
   "source": [
    "s1"
   ]
  },
  {
   "cell_type": "code",
   "execution_count": 28,
   "id": "1c14b1f5",
   "metadata": {},
   "outputs": [],
   "source": [
    "#symmetric differnce method"
   ]
  },
  {
   "cell_type": "code",
   "execution_count": 29,
   "id": "c15da752",
   "metadata": {},
   "outputs": [],
   "source": [
    "s1.symmetric_difference_update(s2)"
   ]
  },
  {
   "cell_type": "code",
   "execution_count": 30,
   "id": "1170773c",
   "metadata": {},
   "outputs": [
    {
     "data": {
      "text/plain": [
       "{2, 3, 'hello', 'hi', 'tanisha'}"
      ]
     },
     "execution_count": 30,
     "metadata": {},
     "output_type": "execute_result"
    }
   ],
   "source": [
    "s1"
   ]
  },
  {
   "cell_type": "code",
   "execution_count": null,
   "id": "15e8326d",
   "metadata": {},
   "outputs": [],
   "source": [
    "# is disjoint method in method (if have common data so it is disjoint)"
   ]
  },
  {
   "cell_type": "code",
   "execution_count": 31,
   "id": "b9feb31e",
   "metadata": {},
   "outputs": [
    {
     "data": {
      "text/plain": [
       "False"
      ]
     },
     "execution_count": 31,
     "metadata": {},
     "output_type": "execute_result"
    }
   ],
   "source": [
    "s1.isdisjoint(s2)"
   ]
  },
  {
   "cell_type": "code",
   "execution_count": 52,
   "id": "f5a3ebfc",
   "metadata": {},
   "outputs": [],
   "source": [
    "a={\"apple\",\"mango\",\"banana\",\"kiwi\" }\n",
    "b={ \"strawberry\",\"litchi\",\"kiwi\",\"banana\",\"apple\",\"mango\"}"
   ]
  },
  {
   "cell_type": "code",
   "execution_count": 53,
   "id": "638dee15",
   "metadata": {},
   "outputs": [
    {
     "data": {
      "text/plain": [
       "False"
      ]
     },
     "execution_count": 53,
     "metadata": {},
     "output_type": "execute_result"
    }
   ],
   "source": [
    "a.isdisjoint(b)"
   ]
  },
  {
   "cell_type": "code",
   "execution_count": 54,
   "id": "3c9ac308",
   "metadata": {},
   "outputs": [],
   "source": [
    "# issubset method in set"
   ]
  },
  {
   "cell_type": "code",
   "execution_count": 55,
   "id": "085430b8",
   "metadata": {},
   "outputs": [
    {
     "data": {
      "text/plain": [
       "False"
      ]
     },
     "execution_count": 55,
     "metadata": {},
     "output_type": "execute_result"
    }
   ],
   "source": [
    "a.issubset(s2)"
   ]
  },
  {
   "cell_type": "code",
   "execution_count": 56,
   "id": "fad5c8e8",
   "metadata": {},
   "outputs": [
    {
     "data": {
      "text/plain": [
       "False"
      ]
     },
     "execution_count": 56,
     "metadata": {},
     "output_type": "execute_result"
    }
   ],
   "source": [
    "b.issuperset(s2)"
   ]
  },
  {
   "cell_type": "markdown",
   "id": "05ebdb25",
   "metadata": {},
   "source": [
    "# while loop through set is not possible because it is unordered"
   ]
  },
  {
   "cell_type": "code",
   "execution_count": null,
   "id": "243e9bcb",
   "metadata": {},
   "outputs": [],
   "source": [
    "# for loop in set  "
   ]
  },
  {
   "cell_type": "code",
   "execution_count": 3,
   "id": "263568d3",
   "metadata": {},
   "outputs": [
    {
     "name": "stdout",
     "output_type": "stream",
     "text": [
      "2\n",
      "3.4\n",
      "hello\n",
      "pooja\n"
     ]
    }
   ],
   "source": [
    "s={\"pooja\",2,\"hello\",3.4}\n",
    "for i in s:\n",
    "    print(i)"
   ]
  },
  {
   "cell_type": "code",
   "execution_count": null,
   "id": "6985de48",
   "metadata": {},
   "outputs": [],
   "source": [
    "# find intersection with for loop"
   ]
  },
  {
   "cell_type": "code",
   "execution_count": 11,
   "id": "52a44236",
   "metadata": {},
   "outputs": [],
   "source": [
    "set1={1,2,3}\n",
    "set2={2,3,4}\n",
    "s=set()"
   ]
  },
  {
   "cell_type": "code",
   "execution_count": 12,
   "id": "86f79a52",
   "metadata": {},
   "outputs": [
    {
     "name": "stdout",
     "output_type": "stream",
     "text": [
      "{2, 3}\n"
     ]
    }
   ],
   "source": [
    "for i in set1:\n",
    "    if i in set2:\n",
    "        s.add(i)\n",
    "print(s)"
   ]
  },
  {
   "cell_type": "code",
   "execution_count": null,
   "id": "e2a92d4a",
   "metadata": {},
   "outputs": [],
   "source": [
    "set1={1,2,3}\n",
    "set2={2,3,4}\n",
    "s=set1.copy()"
   ]
  },
  {
   "cell_type": "code",
   "execution_count": 15,
   "id": "881edac1",
   "metadata": {},
   "outputs": [
    {
     "name": "stdout",
     "output_type": "stream",
     "text": [
      "{1, 2, 3, 4}\n"
     ]
    }
   ],
   "source": [
    "for i in set2:\n",
    "    if i not in s:\n",
    "        s.add(i)\n",
    "print(s)"
   ]
  },
  {
   "cell_type": "code",
   "execution_count": null,
   "id": "41a5cdd8",
   "metadata": {},
   "outputs": [],
   "source": [
    "# find subset using for loop"
   ]
  },
  {
   "cell_type": "code",
   "execution_count": 19,
   "id": "cd52d71e",
   "metadata": {},
   "outputs": [
    {
     "name": "stdout",
     "output_type": "stream",
     "text": [
      "enter the no :5,6\n"
     ]
    }
   ],
   "source": [
    "set1=set(map(int,input(\"enter the no :\").split(\",\")))\n",
    "set2={2,3,4,1}\n",
    "flag=True"
   ]
  },
  {
   "cell_type": "code",
   "execution_count": 20,
   "id": "c3beeeb1",
   "metadata": {},
   "outputs": [
    {
     "name": "stdout",
     "output_type": "stream",
     "text": [
      "{5, 6} is not subset of {1, 2, 3, 4}\n"
     ]
    }
   ],
   "source": [
    "for i in set1:\n",
    "    if i not in set2:\n",
    "        flag=False\n",
    "        break\n",
    "if flag:\n",
    "    print(f\"{set1} is subset of {set2}\")\n",
    "else:\n",
    "    print(f\"{set1} is not subset of {set2}\")\n",
    "    "
   ]
  },
  {
   "cell_type": "code",
   "execution_count": null,
   "id": "2e4a03b8",
   "metadata": {},
   "outputs": [],
   "source": [
    "# find dijoint using for loop"
   ]
  },
  {
   "cell_type": "code",
   "execution_count": 22,
   "id": "5c0e8387",
   "metadata": {},
   "outputs": [
    {
     "name": "stdout",
     "output_type": "stream",
     "text": [
      "enter the no :5,6\n"
     ]
    }
   ],
   "source": [
    "set1=set(map(int,input(\"enter the no :\").split(\",\")))\n",
    "set2={2,3,4,1}\n",
    "flag=True"
   ]
  },
  {
   "cell_type": "code",
   "execution_count": 23,
   "id": "796daa68",
   "metadata": {},
   "outputs": [
    {
     "name": "stdout",
     "output_type": "stream",
     "text": [
      "{5, 6} is disjoint {1, 2, 3, 4}\n"
     ]
    }
   ],
   "source": [
    "for i in set1:\n",
    "    if i  in set2:\n",
    "        flag=False\n",
    "        break\n",
    "if flag:\n",
    "    print(f\"{set1} is disjoint {set2}\")\n",
    "else:\n",
    "    print(f\"{set1} is not disjoint {set2}\")"
   ]
  },
  {
   "cell_type": "markdown",
   "id": "d2b40c93",
   "metadata": {},
   "source": [
    "# set comprehension"
   ]
  },
  {
   "cell_type": "code",
   "execution_count": 25,
   "id": "cb344448",
   "metadata": {},
   "outputs": [
    {
     "name": "stdout",
     "output_type": "stream",
     "text": [
      "hello\n",
      "python\n",
      "program\n"
     ]
    }
   ],
   "source": [
    "s={\"hello\",\"python\",\"program\"}\n",
    "for i in s:\n",
    "    print(i)"
   ]
  },
  {
   "cell_type": "code",
   "execution_count": 26,
   "id": "abcd5244",
   "metadata": {},
   "outputs": [
    {
     "data": {
      "text/plain": [
       "{'hello', 'program', 'python'}"
      ]
     },
     "execution_count": 26,
     "metadata": {},
     "output_type": "execute_result"
    }
   ],
   "source": [
    "{i for i in s }"
   ]
  },
  {
   "cell_type": "code",
   "execution_count": 30,
   "id": "a29229a8",
   "metadata": {},
   "outputs": [],
   "source": [
    "set1={1,2,3}\n",
    "set2={2,3,4}"
   ]
  },
  {
   "cell_type": "code",
   "execution_count": 31,
   "id": "16c037a8",
   "metadata": {},
   "outputs": [
    {
     "data": {
      "text/plain": [
       "{2, 3}"
      ]
     },
     "execution_count": 31,
     "metadata": {},
     "output_type": "execute_result"
    }
   ],
   "source": [
    "{i for i in set1 if i in set2}"
   ]
  },
  {
   "cell_type": "code",
   "execution_count": 33,
   "id": "eaa7c99b",
   "metadata": {},
   "outputs": [
    {
     "name": "stdout",
     "output_type": "stream",
     "text": [
      "{'python', 'program'}\n"
     ]
    }
   ],
   "source": [
    "s={\"hello\",\"python\",\"program\"}\n",
    "s1=set()\n",
    "for i in s:\n",
    "    if len(i)>5:\n",
    "        s1.add(i)\n",
    "print(s1)"
   ]
  },
  {
   "cell_type": "code",
   "execution_count": 36,
   "id": "75d0089e",
   "metadata": {},
   "outputs": [
    {
     "name": "stdout",
     "output_type": "stream",
     "text": [
      "{'PYTHON', 'HELLO', 'PROGRAM'}\n"
     ]
    }
   ],
   "source": [
    "s={\"hello\",\"python\",\"program\"}\n",
    "s2=set()\n",
    "for i in s:\n",
    "    if len(i)>5:\n",
    "        s2.add(i.upper())\n",
    "    else:\n",
    "        s2.add(i.swapcase())\n",
    "print(s2)"
   ]
  },
  {
   "cell_type": "code",
   "execution_count": 37,
   "id": "b021732b",
   "metadata": {},
   "outputs": [
    {
     "data": {
      "text/plain": [
       "{'HELLO', 'PROGRAM', 'PYTHON'}"
      ]
     },
     "execution_count": 37,
     "metadata": {},
     "output_type": "execute_result"
    }
   ],
   "source": [
    "{i.upper() if len(i)>5 else i.swapcase() for i in s}"
   ]
  },
  {
   "cell_type": "markdown",
   "id": "89eba21a",
   "metadata": {},
   "source": [
    "# set questions"
   ]
  },
  {
   "cell_type": "code",
   "execution_count": null,
   "id": "f11a9958",
   "metadata": {},
   "outputs": [],
   "source": [
    "'''Assignment questions on set and tuple:\n",
    "1. #Write a program that reverses the given tuple using a while/for loop.\n",
    "2. Write a program that searches for a specific element in a tuple using a while/for loop and prints its index if found.\n",
    "3. Calculate the sum of all numbers in a tuple without using the built-in sum() function.\n",
    "4. Determine the maximum value in a tuple without using the built-in max() function.\n",
    "5. Flatten a nested tuple into a single tuple using a while loop.\n",
    "6. Convert a tuple of characters into a string using a while loop'''."
   ]
  },
  {
   "cell_type": "code",
   "execution_count": 28,
   "id": "dc0a00d9",
   "metadata": {},
   "outputs": [
    {
     "name": "stdout",
     "output_type": "stream",
     "text": [
      "enter the no: 5,6\n",
      "11\n"
     ]
    }
   ],
   "source": [
    "s=set(map(int,input(\"enter the no: \").split(\",\")))\n",
    "sum=0\n",
    "for i in s:\n",
    "    sum+=i\n",
    "print(sum)"
   ]
  },
  {
   "cell_type": "code",
   "execution_count": 4,
   "id": "c28f3eaa",
   "metadata": {},
   "outputs": [
    {
     "name": "stdout",
     "output_type": "stream",
     "text": [
      "enter if you want to searach:10\n",
      "10 is present in {40, 10, 20, 30}\n"
     ]
    }
   ],
   "source": [
    "s_e ={10,20,30,40}\n",
    "search=input(\"enter if you want to searach:\")\n",
    "if search in s_e:\n",
    "    print(f\"{search} is present in {s_e}\")\n",
    "else:\n",
    "    print(f\"{search} is present in {s_e}\")"
   ]
  },
  {
   "cell_type": "code",
   "execution_count": 8,
   "id": "6e10af7d",
   "metadata": {},
   "outputs": [
    {
     "name": "stdout",
     "output_type": "stream",
     "text": [
      "loeh\n"
     ]
    }
   ],
   "source": [
    "s={\"h\",\"e\",\"l\",\"l\",\"o\"}\n",
    "t=\"\".join(s)\n",
    "print(t)"
   ]
  },
  {
   "cell_type": "code",
   "execution_count": 20,
   "id": "d1d02b7d",
   "metadata": {},
   "outputs": [
    {
     "name": "stdout",
     "output_type": "stream",
     "text": [
      "40\n"
     ]
    }
   ],
   "source": [
    "s={10,20,30,40}\n",
    "max=0\n",
    "for i in s:\n",
    "    if i>max:\n",
    "        max=i\n",
    "print(max)"
   ]
  },
  {
   "cell_type": "code",
   "execution_count": null,
   "id": "b97a69f2",
   "metadata": {},
   "outputs": [],
   "source": []
  },
  {
   "cell_type": "code",
   "execution_count": null,
   "id": "056589de",
   "metadata": {},
   "outputs": [],
   "source": []
  },
  {
   "cell_type": "code",
   "execution_count": null,
   "id": "fd67c297",
   "metadata": {},
   "outputs": [],
   "source": []
  }
 ],
 "metadata": {
  "kernelspec": {
   "display_name": "Python 3 (ipykernel)",
   "language": "python",
   "name": "python3"
  },
  "language_info": {
   "codemirror_mode": {
    "name": "ipython",
    "version": 3
   },
   "file_extension": ".py",
   "mimetype": "text/x-python",
   "name": "python",
   "nbconvert_exporter": "python",
   "pygments_lexer": "ipython3",
   "version": "3.11.5"
  }
 },
 "nbformat": 4,
 "nbformat_minor": 5
}
