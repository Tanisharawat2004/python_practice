{
 "cells": [
  {
   "cell_type": "code",
   "execution_count": 1,
   "id": "879b9aa9",
   "metadata": {},
   "outputs": [],
   "source": [
    "#empty dict"
   ]
  },
  {
   "cell_type": "code",
   "execution_count": 1,
   "id": "f18b59f7",
   "metadata": {},
   "outputs": [],
   "source": [
    "a={}"
   ]
  },
  {
   "cell_type": "code",
   "execution_count": 2,
   "id": "3146239f",
   "metadata": {},
   "outputs": [
    {
     "data": {
      "text/plain": [
       "dict"
      ]
     },
     "execution_count": 2,
     "metadata": {},
     "output_type": "execute_result"
    }
   ],
   "source": [
    "type(a)"
   ]
  },
  {
   "cell_type": "code",
   "execution_count": null,
   "id": "ad9d6ea6",
   "metadata": {},
   "outputs": [],
   "source": [
    "a=dict()"
   ]
  },
  {
   "cell_type": "code",
   "execution_count": 12,
   "id": "c8b9659a",
   "metadata": {},
   "outputs": [],
   "source": [
    "menu={\"dishes\":[\"maggie\",\"pasta\",\"pizza\"],\"prices\":[100,200,300]}"
   ]
  },
  {
   "cell_type": "code",
   "execution_count": 13,
   "id": "a84e8659",
   "metadata": {},
   "outputs": [
    {
     "data": {
      "text/plain": [
       "{'dishes': ['maggie', 'pasta', 'pizza'], 'prices': [100, 200, 300]}"
      ]
     },
     "execution_count": 13,
     "metadata": {},
     "output_type": "execute_result"
    }
   ],
   "source": [
    "menu"
   ]
  },
  {
   "cell_type": "code",
   "execution_count": 14,
   "id": "cd040bb5",
   "metadata": {},
   "outputs": [
    {
     "data": {
      "text/plain": [
       "'pasta'"
      ]
     },
     "execution_count": 14,
     "metadata": {},
     "output_type": "execute_result"
    }
   ],
   "source": [
    "menu[\"dishes\"][1]"
   ]
  },
  {
   "cell_type": "code",
   "execution_count": 15,
   "id": "2f09671e",
   "metadata": {},
   "outputs": [
    {
     "data": {
      "text/plain": [
       "'maggie'"
      ]
     },
     "execution_count": 15,
     "metadata": {},
     "output_type": "execute_result"
    }
   ],
   "source": [
    "menu[\"dishes\"][0]"
   ]
  },
  {
   "cell_type": "code",
   "execution_count": 16,
   "id": "0c9176f6",
   "metadata": {},
   "outputs": [],
   "source": [
    "# create dictionary with dict()"
   ]
  },
  {
   "cell_type": "code",
   "execution_count": 17,
   "id": "2ab1e72b",
   "metadata": {},
   "outputs": [],
   "source": [
    "student=dict([(1,\"python\"),(2,\"tanisha\"),(3,\"manvi\"),(4,\"hello\")])"
   ]
  },
  {
   "cell_type": "code",
   "execution_count": 18,
   "id": "d9d152d6",
   "metadata": {},
   "outputs": [
    {
     "data": {
      "text/plain": [
       "{1: 'python', 2: 'tanisha', 3: 'manvi', 4: 'hello'}"
      ]
     },
     "execution_count": 18,
     "metadata": {},
     "output_type": "execute_result"
    }
   ],
   "source": [
    "student"
   ]
  },
  {
   "cell_type": "code",
   "execution_count": 19,
   "id": "8459c019",
   "metadata": {},
   "outputs": [],
   "source": [
    "menu1=dict([(100,\"maggie\"),(200,\"pasta\"),(300,\"pizza\")])"
   ]
  },
  {
   "cell_type": "code",
   "execution_count": 20,
   "id": "d4c40356",
   "metadata": {},
   "outputs": [
    {
     "data": {
      "text/plain": [
       "{'dishes': ['maggie', 'pasta', 'pizza'], 'prices': [100, 200, 300]}"
      ]
     },
     "execution_count": 20,
     "metadata": {},
     "output_type": "execute_result"
    }
   ],
   "source": [
    "menu"
   ]
  },
  {
   "cell_type": "code",
   "execution_count": 21,
   "id": "c973c993",
   "metadata": {},
   "outputs": [],
   "source": [
    "# create a dictionary method third using dict()\n",
    "# key not  written in \" \""
   ]
  },
  {
   "cell_type": "code",
   "execution_count": 22,
   "id": "6b5c6819",
   "metadata": {},
   "outputs": [],
   "source": [
    "computer=dict(keyboard=200,monitor=25000,mouse=1000)"
   ]
  },
  {
   "cell_type": "code",
   "execution_count": 23,
   "id": "f91bbf92",
   "metadata": {},
   "outputs": [
    {
     "data": {
      "text/plain": [
       "{'keyboard': 200, 'monitor': 25000, 'mouse': 1000}"
      ]
     },
     "execution_count": 23,
     "metadata": {},
     "output_type": "execute_result"
    }
   ],
   "source": [
    "computer"
   ]
  },
  {
   "cell_type": "code",
   "execution_count": 24,
   "id": "f2bcc1bc",
   "metadata": {},
   "outputs": [],
   "source": [
    "# method 4 :adding items in empty dictionary"
   ]
  },
  {
   "cell_type": "code",
   "execution_count": 25,
   "id": "b09d30d0",
   "metadata": {},
   "outputs": [],
   "source": [
    "emp={}"
   ]
  },
  {
   "cell_type": "code",
   "execution_count": 26,
   "id": "bf583f29",
   "metadata": {},
   "outputs": [],
   "source": [
    "emp[\"id\"]=101\n",
    "emp[\"name\"]=\"manvi\"\n",
    "emp[\"job\"]=\"student\"\n",
    "emp[\"hobby\"]=[\"writing\",\"reading\"]"
   ]
  },
  {
   "cell_type": "code",
   "execution_count": 27,
   "id": "1855222f",
   "metadata": {},
   "outputs": [
    {
     "data": {
      "text/plain": [
       "{'id': 101, 'name': 'manvi', 'job': 'student', 'hobby': ['writing', 'reading']}"
      ]
     },
     "execution_count": 27,
     "metadata": {},
     "output_type": "execute_result"
    }
   ],
   "source": [
    "emp"
   ]
  },
  {
   "cell_type": "code",
   "execution_count": 28,
   "id": "f9e82ace",
   "metadata": {},
   "outputs": [],
   "source": [
    "# access elements"
   ]
  },
  {
   "cell_type": "code",
   "execution_count": 29,
   "id": "2ec0876a",
   "metadata": {},
   "outputs": [
    {
     "data": {
      "text/plain": [
       "{1: 'python', 2: 'tanisha', 3: 'manvi', 4: 'hello'}"
      ]
     },
     "execution_count": 29,
     "metadata": {},
     "output_type": "execute_result"
    }
   ],
   "source": [
    "student"
   ]
  },
  {
   "cell_type": "code",
   "execution_count": 33,
   "id": "f49dbcc6",
   "metadata": {},
   "outputs": [
    {
     "name": "stdout",
     "output_type": "stream",
     "text": [
      "enter the no: 1\n",
      "name of the student: python\n"
     ]
    }
   ],
   "source": [
    "roll_no=int(input(\"enter the no: \"))\n",
    "if roll_no in student:\n",
    "    print(f\"name of the student: {student[roll_no]}\")\n",
    "else:\n",
    "    print(f\"there is no detail of student with {roll_no}\")"
   ]
  },
  {
   "cell_type": "code",
   "execution_count": null,
   "id": "b8660cf2",
   "metadata": {},
   "outputs": [],
   "source": [
    "emp"
   ]
  },
  {
   "cell_type": "code",
   "execution_count": null,
   "id": "7cd14ed1",
   "metadata": {},
   "outputs": [],
   "source": [
    "emp[\"name\"]"
   ]
  },
  {
   "cell_type": "code",
   "execution_count": null,
   "id": "d261bb38",
   "metadata": {},
   "outputs": [],
   "source": [
    "# some  method of dictionary"
   ]
  },
  {
   "cell_type": "code",
   "execution_count": null,
   "id": "19a98faa",
   "metadata": {},
   "outputs": [],
   "source": [
    "# get()method for accesing the element"
   ]
  },
  {
   "cell_type": "code",
   "execution_count": null,
   "id": "c5786770",
   "metadata": {},
   "outputs": [],
   "source": [
    "emp"
   ]
  },
  {
   "cell_type": "code",
   "execution_count": null,
   "id": "09d439b3",
   "metadata": {},
   "outputs": [],
   "source": [
    "emp.get(\"hobby\")"
   ]
  },
  {
   "cell_type": "code",
   "execution_count": null,
   "id": "4243dcab",
   "metadata": {},
   "outputs": [],
   "source": [
    "menu"
   ]
  },
  {
   "cell_type": "code",
   "execution_count": null,
   "id": "25aabe97",
   "metadata": {},
   "outputs": [],
   "source": []
  },
  {
   "cell_type": "code",
   "execution_count": null,
   "id": "5dee6f1a",
   "metadata": {},
   "outputs": [],
   "source": [
    "# get keys method"
   ]
  },
  {
   "cell_type": "code",
   "execution_count": null,
   "id": "561a8f8e",
   "metadata": {},
   "outputs": [],
   "source": [
    "emp"
   ]
  },
  {
   "cell_type": "code",
   "execution_count": null,
   "id": "55c3d9cb",
   "metadata": {},
   "outputs": [],
   "source": [
    "emp.keys()"
   ]
  },
  {
   "cell_type": "code",
   "execution_count": null,
   "id": "79d0b9eb",
   "metadata": {},
   "outputs": [],
   "source": [
    "# get values"
   ]
  },
  {
   "cell_type": "code",
   "execution_count": null,
   "id": "13a08882",
   "metadata": {},
   "outputs": [],
   "source": [
    "student"
   ]
  },
  {
   "cell_type": "code",
   "execution_count": null,
   "id": "b55bfb4b",
   "metadata": {},
   "outputs": [],
   "source": [
    "student .values()"
   ]
  },
  {
   "cell_type": "code",
   "execution_count": null,
   "id": "7fc9ee03",
   "metadata": {},
   "outputs": [],
   "source": [
    "# dictionary questions"
   ]
  },
  {
   "cell_type": "code",
   "execution_count": null,
   "id": "4293ff30",
   "metadata": {},
   "outputs": [],
   "source": [
    "# write a prog "
   ]
  },
  {
   "cell_type": "code",
   "execution_count": null,
   "id": "ab248eb9",
   "metadata": {},
   "outputs": [],
   "source": [
    "\n",
    "a=int(input(\"enter total no of section in class : \"))\n",
    "st ={}\n",
    "i=0\n",
    "while i<a:\n",
    "    b=input(\"enter the  section: \")\n",
    "    c=input(\"enter the stream name: \")\n",
    "    i+=1\n",
    "    st[b]=c\n",
    "print(st)"
   ]
  },
  {
   "cell_type": "code",
   "execution_count": null,
   "id": "f97e8f05",
   "metadata": {},
   "outputs": [],
   "source": [
    "# get values"
   ]
  },
  {
   "cell_type": "code",
   "execution_count": 31,
   "id": "ed1134a3",
   "metadata": {},
   "outputs": [
    {
     "data": {
      "text/plain": [
       "{'id': 101, 'name': 'manvi', 'job': 'student', 'hobby': ['writing', 'reading']}"
      ]
     },
     "execution_count": 31,
     "metadata": {},
     "output_type": "execute_result"
    }
   ],
   "source": [
    "emp"
   ]
  },
  {
   "cell_type": "code",
   "execution_count": 32,
   "id": "6959bb52",
   "metadata": {},
   "outputs": [
    {
     "data": {
      "text/plain": [
       "dict_values([101, 'manvi', 'student', ['writing', 'reading']])"
      ]
     },
     "execution_count": 32,
     "metadata": {},
     "output_type": "execute_result"
    }
   ],
   "source": [
    "emp.values()"
   ]
  },
  {
   "cell_type": "code",
   "execution_count": null,
   "id": "72f34d8e",
   "metadata": {},
   "outputs": [],
   "source": [
    "# if we want both keys and values use get item "
   ]
  },
  {
   "cell_type": "code",
   "execution_count": 36,
   "id": "47f68aab",
   "metadata": {},
   "outputs": [
    {
     "data": {
      "text/plain": [
       "dict_items([('id', 101), ('name', 'manvi'), ('job', 'student'), ('hobby', ['writing', 'reading'])])"
      ]
     },
     "execution_count": 36,
     "metadata": {},
     "output_type": "execute_result"
    }
   ],
   "source": [
    "emp.items()"
   ]
  },
  {
   "cell_type": "code",
   "execution_count": null,
   "id": "82fe5d37",
   "metadata": {},
   "outputs": [],
   "source": [
    "# changeable "
   ]
  },
  {
   "cell_type": "code",
   "execution_count": null,
   "id": "fdb7defe",
   "metadata": {},
   "outputs": [],
   "source": [
    "# to change existable items"
   ]
  },
  {
   "cell_type": "code",
   "execution_count": 39,
   "id": "634050ef",
   "metadata": {},
   "outputs": [
    {
     "data": {
      "text/plain": [
       "{'id': 101, 'name': 'manvi', 'job': 'student', 'hobby': ['writing', 'reading']}"
      ]
     },
     "execution_count": 39,
     "metadata": {},
     "output_type": "execute_result"
    }
   ],
   "source": [
    "emp"
   ]
  },
  {
   "cell_type": "code",
   "execution_count": 41,
   "id": "bcbafe0a",
   "metadata": {},
   "outputs": [
    {
     "data": {
      "text/plain": [
       "101"
      ]
     },
     "execution_count": 41,
     "metadata": {},
     "output_type": "execute_result"
    }
   ],
   "source": [
    "emp[\"id\"]"
   ]
  },
  {
   "cell_type": "code",
   "execution_count": 42,
   "id": "b5851d24",
   "metadata": {},
   "outputs": [],
   "source": [
    "emp[\"id\"]=103"
   ]
  },
  {
   "cell_type": "code",
   "execution_count": 43,
   "id": "803b912d",
   "metadata": {},
   "outputs": [
    {
     "data": {
      "text/plain": [
       "{'id': 103, 'name': 'manvi', 'job': 'student', 'hobby': ['writing', 'reading']}"
      ]
     },
     "execution_count": 43,
     "metadata": {},
     "output_type": "execute_result"
    }
   ],
   "source": [
    "emp"
   ]
  },
  {
   "cell_type": "code",
   "execution_count": 44,
   "id": "d97041b5",
   "metadata": {},
   "outputs": [
    {
     "data": {
      "text/plain": [
       "'student'"
      ]
     },
     "execution_count": 44,
     "metadata": {},
     "output_type": "execute_result"
    }
   ],
   "source": [
    "emp[\"job\"]"
   ]
  },
  {
   "cell_type": "code",
   "execution_count": 45,
   "id": "a92dacb6",
   "metadata": {},
   "outputs": [],
   "source": [
    "emp[\"job\"]=\"trainer\""
   ]
  },
  {
   "cell_type": "code",
   "execution_count": 46,
   "id": "733f000c",
   "metadata": {},
   "outputs": [
    {
     "data": {
      "text/plain": [
       "{'id': 103, 'name': 'manvi', 'job': 'trainer', 'hobby': ['writing', 'reading']}"
      ]
     },
     "execution_count": 46,
     "metadata": {},
     "output_type": "execute_result"
    }
   ],
   "source": [
    "emp"
   ]
  },
  {
   "cell_type": "code",
   "execution_count": 49,
   "id": "b178b643",
   "metadata": {},
   "outputs": [
    {
     "data": {
      "text/plain": [
       "['writing', 'reading']"
      ]
     },
     "execution_count": 49,
     "metadata": {},
     "output_type": "execute_result"
    }
   ],
   "source": [
    "emp[\"hobby\"]"
   ]
  },
  {
   "cell_type": "code",
   "execution_count": 54,
   "id": "390cc67b",
   "metadata": {},
   "outputs": [],
   "source": [
    "emp[\"hobby\"].append(\"art\")"
   ]
  },
  {
   "cell_type": "code",
   "execution_count": 55,
   "id": "2064369d",
   "metadata": {},
   "outputs": [
    {
     "data": {
      "text/plain": [
       "{'id': 103,\n",
       " 'name': 'manvi',\n",
       " 'job': 'trainer',\n",
       " 'hobby': ['writing', 'reading', 'dancing', 'dancing', 'art'],\n",
       " 'address': 'preet vihaar'}"
      ]
     },
     "execution_count": 55,
     "metadata": {},
     "output_type": "execute_result"
    }
   ],
   "source": [
    "emp"
   ]
  },
  {
   "cell_type": "code",
   "execution_count": 52,
   "id": "0efcfc4f",
   "metadata": {},
   "outputs": [],
   "source": [
    "# to add"
   ]
  },
  {
   "cell_type": "code",
   "execution_count": 47,
   "id": "646b39de",
   "metadata": {},
   "outputs": [],
   "source": [
    "emp[\"address\"]=\"preet vihaar\""
   ]
  },
  {
   "cell_type": "code",
   "execution_count": 48,
   "id": "a0a4b07c",
   "metadata": {},
   "outputs": [
    {
     "data": {
      "text/plain": [
       "{'id': 103,\n",
       " 'name': 'manvi',\n",
       " 'job': 'trainer',\n",
       " 'hobby': ['writing', 'reading'],\n",
       " 'address': 'preet vihaar'}"
      ]
     },
     "execution_count": 48,
     "metadata": {},
     "output_type": "execute_result"
    }
   ],
   "source": [
    "emp"
   ]
  },
  {
   "cell_type": "code",
   "execution_count": null,
   "id": "586316d2",
   "metadata": {},
   "outputs": [],
   "source": [
    "# copy  dictionary"
   ]
  },
  {
   "cell_type": "code",
   "execution_count": 56,
   "id": "45ddf405",
   "metadata": {},
   "outputs": [],
   "source": [
    "emp1=emp"
   ]
  },
  {
   "cell_type": "code",
   "execution_count": 58,
   "id": "77241810",
   "metadata": {},
   "outputs": [
    {
     "data": {
      "text/plain": [
       "{'id': 103,\n",
       " 'name': 'manvi',\n",
       " 'job': 'trainer',\n",
       " 'hobby': ['writing', 'reading', 'dancing', 'dancing', 'art'],\n",
       " 'address': 'preet vihaar'}"
      ]
     },
     "execution_count": 58,
     "metadata": {},
     "output_type": "execute_result"
    }
   ],
   "source": [
    "emp1"
   ]
  },
  {
   "cell_type": "code",
   "execution_count": 59,
   "id": "3da34fd2",
   "metadata": {},
   "outputs": [],
   "source": [
    "emp[\"name\"]=[\"tanisha\"]"
   ]
  },
  {
   "cell_type": "code",
   "execution_count": 60,
   "id": "ca40fe71",
   "metadata": {},
   "outputs": [
    {
     "data": {
      "text/plain": [
       "{'id': 103,\n",
       " 'name': ['tanisha'],\n",
       " 'job': 'trainer',\n",
       " 'hobby': ['writing', 'reading', 'dancing', 'dancing', 'art'],\n",
       " 'address': 'preet vihaar'}"
      ]
     },
     "execution_count": 60,
     "metadata": {},
     "output_type": "execute_result"
    }
   ],
   "source": [
    "emp1"
   ]
  },
  {
   "cell_type": "code",
   "execution_count": 62,
   "id": "f29d181e",
   "metadata": {},
   "outputs": [],
   "source": [
    "emp2=emp.copy()"
   ]
  },
  {
   "cell_type": "code",
   "execution_count": 63,
   "id": "a71181fe",
   "metadata": {},
   "outputs": [
    {
     "data": {
      "text/plain": [
       "{'id': 103,\n",
       " 'name': ['tanisha'],\n",
       " 'job': 'trainer',\n",
       " 'hobby': ['writing', 'reading', 'dancing', 'dancing', 'art'],\n",
       " 'address': 'preet vihaar'}"
      ]
     },
     "execution_count": 63,
     "metadata": {},
     "output_type": "execute_result"
    }
   ],
   "source": [
    "emp2"
   ]
  },
  {
   "cell_type": "code",
   "execution_count": 66,
   "id": "894b145b",
   "metadata": {},
   "outputs": [
    {
     "data": {
      "text/plain": [
       "False"
      ]
     },
     "execution_count": 66,
     "metadata": {},
     "output_type": "execute_result"
    }
   ],
   "source": [
    "emp2 is emp"
   ]
  },
  {
   "cell_type": "code",
   "execution_count": null,
   "id": "71e3e06d",
   "metadata": {},
   "outputs": [],
   "source": [
    "# removing items"
   ]
  },
  {
   "cell_type": "code",
   "execution_count": null,
   "id": "90681df9",
   "metadata": {},
   "outputs": [],
   "source": [
    "#1.pop item"
   ]
  },
  {
   "cell_type": "code",
   "execution_count": 67,
   "id": "9eecd3a2",
   "metadata": {},
   "outputs": [
    {
     "data": {
      "text/plain": [
       "('address', 'preet vihaar')"
      ]
     },
     "execution_count": 67,
     "metadata": {},
     "output_type": "execute_result"
    }
   ],
   "source": [
    "emp.popitem()"
   ]
  },
  {
   "cell_type": "code",
   "execution_count": 68,
   "id": "74e25f60",
   "metadata": {},
   "outputs": [
    {
     "data": {
      "text/plain": [
       "{'id': 103,\n",
       " 'name': ['tanisha'],\n",
       " 'job': 'trainer',\n",
       " 'hobby': ['writing', 'reading', 'dancing', 'dancing', 'art']}"
      ]
     },
     "execution_count": 68,
     "metadata": {},
     "output_type": "execute_result"
    }
   ],
   "source": [
    "emp"
   ]
  },
  {
   "cell_type": "code",
   "execution_count": 69,
   "id": "d291c33d",
   "metadata": {},
   "outputs": [
    {
     "data": {
      "text/plain": [
       "'trainer'"
      ]
     },
     "execution_count": 69,
     "metadata": {},
     "output_type": "execute_result"
    }
   ],
   "source": [
    "emp.pop(\"job\")"
   ]
  },
  {
   "cell_type": "code",
   "execution_count": 70,
   "id": "a3af3004",
   "metadata": {},
   "outputs": [
    {
     "data": {
      "text/plain": [
       "{'id': 103,\n",
       " 'name': ['tanisha'],\n",
       " 'hobby': ['writing', 'reading', 'dancing', 'dancing', 'art']}"
      ]
     },
     "execution_count": 70,
     "metadata": {},
     "output_type": "execute_result"
    }
   ],
   "source": [
    "emp"
   ]
  },
  {
   "cell_type": "code",
   "execution_count": null,
   "id": "c0206bac",
   "metadata": {},
   "outputs": [],
   "source": [
    "# clear"
   ]
  },
  {
   "cell_type": "code",
   "execution_count": 71,
   "id": "20146dd2",
   "metadata": {},
   "outputs": [],
   "source": [
    "emp.clear()"
   ]
  },
  {
   "cell_type": "code",
   "execution_count": 72,
   "id": "7994bf99",
   "metadata": {},
   "outputs": [
    {
     "data": {
      "text/plain": [
       "{}"
      ]
     },
     "execution_count": 72,
     "metadata": {},
     "output_type": "execute_result"
    }
   ],
   "source": [
    "emp"
   ]
  },
  {
   "cell_type": "code",
   "execution_count": null,
   "id": "c0b67d34",
   "metadata": {},
   "outputs": [],
   "source": [
    "# del for delete from memory location"
   ]
  },
  {
   "cell_type": "code",
   "execution_count": 73,
   "id": "006e655b",
   "metadata": {},
   "outputs": [],
   "source": [
    "del  emp"
   ]
  },
  {
   "cell_type": "code",
   "execution_count": 74,
   "id": "dfb3395b",
   "metadata": {},
   "outputs": [
    {
     "ename": "NameError",
     "evalue": "name 'emp' is not defined",
     "output_type": "error",
     "traceback": [
      "\u001b[1;31m---------------------------------------------------------------------------\u001b[0m",
      "\u001b[1;31mNameError\u001b[0m                                 Traceback (most recent call last)",
      "Cell \u001b[1;32mIn[74], line 1\u001b[0m\n\u001b[1;32m----> 1\u001b[0m emp\n",
      "\u001b[1;31mNameError\u001b[0m: name 'emp' is not defined"
     ]
    }
   ],
   "source": [
    "emp"
   ]
  },
  {
   "cell_type": "code",
   "execution_count": 75,
   "id": "984d569d",
   "metadata": {},
   "outputs": [
    {
     "data": {
      "text/plain": [
       "{}"
      ]
     },
     "execution_count": 75,
     "metadata": {},
     "output_type": "execute_result"
    }
   ],
   "source": [
    "# len in dictionary"
   ]
  },
  {
   "cell_type": "code",
   "execution_count": 76,
   "id": "aaf4070f",
   "metadata": {},
   "outputs": [
    {
     "data": {
      "text/plain": [
       "{'id': 103,\n",
       " 'name': ['tanisha'],\n",
       " 'job': 'trainer',\n",
       " 'hobby': ['writing', 'reading', 'dancing', 'dancing', 'art'],\n",
       " 'address': 'preet vihaar'}"
      ]
     },
     "execution_count": 76,
     "metadata": {},
     "output_type": "execute_result"
    }
   ],
   "source": [
    "emp2"
   ]
  },
  {
   "cell_type": "code",
   "execution_count": 78,
   "id": "cfbf5d76",
   "metadata": {},
   "outputs": [
    {
     "data": {
      "text/plain": [
       "5"
      ]
     },
     "execution_count": 78,
     "metadata": {},
     "output_type": "execute_result"
    }
   ],
   "source": [
    "len(emp2)"
   ]
  },
  {
   "cell_type": "code",
   "execution_count": null,
   "id": "005b445f",
   "metadata": {},
   "outputs": [],
   "source": [
    "# while loop through dictionry is not possible"
   ]
  },
  {
   "cell_type": "code",
   "execution_count": 79,
   "id": "c8b1a910",
   "metadata": {},
   "outputs": [
    {
     "data": {
      "text/plain": [
       "{'id': 103,\n",
       " 'name': ['tanisha'],\n",
       " 'job': 'trainer',\n",
       " 'hobby': ['writing', 'reading', 'dancing', 'dancing', 'art'],\n",
       " 'address': 'preet vihaar'}"
      ]
     },
     "execution_count": 79,
     "metadata": {},
     "output_type": "execute_result"
    }
   ],
   "source": [
    "emp2"
   ]
  },
  {
   "cell_type": "code",
   "execution_count": 82,
   "id": "0d1ffdde",
   "metadata": {},
   "outputs": [],
   "source": [
    "key=list(emp2.keys())"
   ]
  },
  {
   "cell_type": "code",
   "execution_count": 84,
   "id": "e631b2cd",
   "metadata": {},
   "outputs": [
    {
     "data": {
      "text/plain": [
       "['id', 'name', 'job', 'hobby', 'address']"
      ]
     },
     "execution_count": 84,
     "metadata": {},
     "output_type": "execute_result"
    }
   ],
   "source": [
    "key"
   ]
  },
  {
   "cell_type": "code",
   "execution_count": 85,
   "id": "57236a7e",
   "metadata": {},
   "outputs": [
    {
     "name": "stdout",
     "output_type": "stream",
     "text": [
      "id 103\n",
      "name ['tanisha']\n",
      "job trainer\n",
      "hobby ['writing', 'reading', 'dancing', 'dancing', 'art']\n",
      "address preet vihaar\n"
     ]
    }
   ],
   "source": [
    "i=0\n",
    "while i<len(key):\n",
    "    print(key[i],emp2[key[i]])\n",
    "    i+=1"
   ]
  },
  {
   "cell_type": "code",
   "execution_count": null,
   "id": "4bae87b3",
   "metadata": {},
   "outputs": [],
   "source": [
    "# for loop through dictionary"
   ]
  },
  {
   "cell_type": "code",
   "execution_count": 86,
   "id": "b11cd130",
   "metadata": {},
   "outputs": [
    {
     "data": {
      "text/plain": [
       "{'dishes': ['maggie', 'pasta', 'pizza'], 'prices': [100, 200, 300]}"
      ]
     },
     "execution_count": 86,
     "metadata": {},
     "output_type": "execute_result"
    }
   ],
   "source": [
    "menu"
   ]
  },
  {
   "cell_type": "code",
   "execution_count": 88,
   "id": "248639ae",
   "metadata": {},
   "outputs": [
    {
     "name": "stdout",
     "output_type": "stream",
     "text": [
      "dishes ['maggie', 'pasta', 'pizza']\n",
      "prices [100, 200, 300]\n"
     ]
    }
   ],
   "source": [
    "for i in menu:\n",
    "    print(i,menu[i])"
   ]
  },
  {
   "cell_type": "code",
   "execution_count": 107,
   "id": "5d6d9c46",
   "metadata": {},
   "outputs": [
    {
     "name": "stdout",
     "output_type": "stream",
     "text": [
      "****************************** \n",
      "            MENU\n",
      " ******************************\n",
      "      DISHES       PRICES\n",
      "      maggie       100\n",
      "      pasta       200\n",
      "      pizza       300\n"
     ]
    }
   ],
   "source": [
    "print(\"*\"*30,\"\\n\",\"  \"*5,\"MENU\\n\",\"*\"*30)\n",
    "print(\" \"*5,\"DISHES\",\" \"*5,\"PRICES\")\n",
    "value=list(menu.values())\n",
    "for i in range(len(value[0])):\n",
    "    print(\" \"*5,value[0][i] ,\" \"*5,value[1][i])"
   ]
  },
  {
   "cell_type": "code",
   "execution_count": 96,
   "id": "81ec7c56",
   "metadata": {},
   "outputs": [],
   "source": [
    "value=list(menu.values())"
   ]
  },
  {
   "cell_type": "code",
   "execution_count": 98,
   "id": "3901a4b0",
   "metadata": {},
   "outputs": [
    {
     "data": {
      "text/plain": [
       "[['maggie', 'pasta', 'pizza'], [100, 200, 300]]"
      ]
     },
     "execution_count": 98,
     "metadata": {},
     "output_type": "execute_result"
    }
   ],
   "source": [
    "value"
   ]
  },
  {
   "cell_type": "raw",
   "id": "55de7c0a",
   "metadata": {},
   "source": [
    "# Questions (homework)"
   ]
  },
  {
   "cell_type": "code",
   "execution_count": null,
   "id": "7ad32c6b",
   "metadata": {},
   "outputs": [],
   "source": [
    "# Write a Python program to convert them into a dictionary in a way that item from list1 is the key and item from list2 is the value\n"
   ]
  },
  {
   "cell_type": "code",
   "execution_count": 3,
   "id": "97d98ddb",
   "metadata": {},
   "outputs": [],
   "source": [
    "keys = ['Ten', 'Twenty', 'Thirty']\n",
    "values = [10, 20,30]"
   ]
  },
  {
   "cell_type": "code",
   "execution_count": 4,
   "id": "2da10957",
   "metadata": {},
   "outputs": [
    {
     "data": {
      "text/plain": [
       "{'Ten': 10, 'Twenty': 20, 'Thirty': 30}"
      ]
     },
     "execution_count": 4,
     "metadata": {},
     "output_type": "execute_result"
    }
   ],
   "source": [
    "d ={}\n",
    "for i in range(len(keys)):\n",
    "    d[keys[i]]=values[i]\n"
   ]
  },
  {
   "cell_type": "code",
   "execution_count": null,
   "id": "6b136e98",
   "metadata": {},
   "outputs": [],
   "source": [
    " '''Merge two Python dictionaries into one\n",
    "       dict1 = {'Ten': 10, 'Twenty': 20, 'Thirty': 30}\n",
    "       dict2 = {'Thirty': 30, 'Fourty': 40, 'Fifty': 50}'''\n"
   ]
  },
  {
   "cell_type": "code",
   "execution_count": 17,
   "id": "f621fcfa",
   "metadata": {},
   "outputs": [],
   "source": [
    "dict1 = {'Ten': 10, 'Twenty': 20, 'Thirty': 30}\n",
    "dict2 = {'Thirty': 30, 'Fourty': 40, 'Fifty': 50}\n",
    "dict3=dict1.copy()"
   ]
  },
  {
   "cell_type": "code",
   "execution_count": 19,
   "id": "7dffdd90",
   "metadata": {},
   "outputs": [
    {
     "name": "stdout",
     "output_type": "stream",
     "text": [
      "{'Ten': 10, 'Twenty': 20, 'Thirty': 30, 'Fourty': 40, 'Fifty': 50}\n"
     ]
    }
   ],
   "source": [
    "for i,j in dict2.items():\n",
    "    dict3[i]=j\n",
    "print(dict3)    "
   ]
  },
  {
   "cell_type": "code",
   "execution_count": 25,
   "id": "20f34fa9",
   "metadata": {},
   "outputs": [],
   "source": [
    "#Delete a list of keys from a dictionary Given \n",
    "sample_dict = {\n",
    "    \"name\": \"Kelly\",\n",
    "    \"age\": 25,\n",
    "    \"salary\": 8000,\n",
    "    \"city\": \"New york\"\n",
    "}\n",
    "key=[\"name\",\"salary\"]"
   ]
  },
  {
   "cell_type": "code",
   "execution_count": 29,
   "id": "920133bd",
   "metadata": {},
   "outputs": [
    {
     "data": {
      "text/plain": [
       "{'name': 'Kelly', 'age': 25, 'salary': 8000, 'city': 'New york'}"
      ]
     },
     "execution_count": 29,
     "metadata": {},
     "output_type": "execute_result"
    }
   ],
   "source": [
    "sample_dict"
   ]
  },
  {
   "cell_type": "code",
   "execution_count": 30,
   "id": "50842b55",
   "metadata": {},
   "outputs": [
    {
     "data": {
      "text/plain": [
       "{'age': 25, 'city': 'New york'}"
      ]
     },
     "execution_count": 30,
     "metadata": {},
     "output_type": "execute_result"
    }
   ],
   "source": [
    "for i in key:\n",
    "    sample_dict.pop(i)\n",
    "sample_dict"
   ]
  },
  {
   "cell_type": "code",
   "execution_count": null,
   "id": "5a93bc74",
   "metadata": {},
   "outputs": [],
   "source": [
    "'''Write a Python program to check if value 200 exists in the following dictionary.\n",
    "    Given: sample_dict = {'a': 100, 'b': 200, 'c': 300}\n",
    "'''"
   ]
  },
  {
   "cell_type": "code",
   "execution_count": 32,
   "id": "187d3683",
   "metadata": {},
   "outputs": [],
   "source": [
    "sample_dict = {'a': 100, 'b': 200, 'c': 300}"
   ]
  },
  {
   "cell_type": "code",
   "execution_count": 39,
   "id": "370abe3e",
   "metadata": {},
   "outputs": [
    {
     "name": "stdout",
     "output_type": "stream",
     "text": [
      "enter the values200\n",
      "200 it is present\n"
     ]
    }
   ],
   "source": [
    "value=int(input(\"enter the values\"))\n",
    "if value in sample_dict.values():\n",
    "    print(f\"{value} it is present\")\n",
    "else:\n",
    "    print(f\"{value} it is not present\")"
   ]
  },
  {
   "cell_type": "code",
   "execution_count": null,
   "id": "db9b7c7e",
   "metadata": {},
   "outputs": [],
   "source": [
    "'''Get the key of a minimum value from the following dictionary\n",
    "sample_dict = {\n",
    "  'Physics': 82,\n",
    "  'Math': 65,\n",
    "  'history': 75\n",
    "}\n",
    "'''"
   ]
  },
  {
   "cell_type": "code",
   "execution_count": 44,
   "id": "aa5cc7c9",
   "metadata": {},
   "outputs": [],
   "source": [
    "sample_dict = {\n",
    "  'Physics': 82,\n",
    "  'Math': 65,\n",
    "  'history': 75\n",
    "}\n",
    "min=0"
   ]
  },
  {
   "cell_type": "code",
   "execution_count": 45,
   "id": "bed1d1de",
   "metadata": {},
   "outputs": [
    {
     "data": {
      "text/plain": [
       "dict_values([82, 65, 75])"
      ]
     },
     "execution_count": 45,
     "metadata": {},
     "output_type": "execute_result"
    }
   ],
   "source": [
    "\n",
    "sample_dict.values()"
   ]
  },
  {
   "cell_type": "code",
   "execution_count": 54,
   "id": "6aeb7be8",
   "metadata": {},
   "outputs": [
    {
     "name": "stdout",
     "output_type": "stream",
     "text": [
      "Math is the  subject minimum scored\n"
     ]
    }
   ],
   "source": [
    "value=list(sample_dict.values())\n",
    "min=value[0]\n",
    "for i in value:\n",
    "    if i<min:\n",
    "        min=i\n",
    "for i ,j in sample_dict.items():\n",
    "    if j==min:\n",
    "        print(f\"{i} is the  subject minimum scored\")"
   ]
  },
  {
   "cell_type": "code",
   "execution_count": null,
   "id": "35181190",
   "metadata": {},
   "outputs": [],
   "source": [
    "'''Write a program to rename a key city to a location in the following dictionary.\n",
    "Given: sample_dict = {\n",
    "  \"name\": \"Kelly\",\n",
    "  \"age\":25,\n",
    "  \"salary\": 8000,\n",
    "  \"city\": \"New york\"\n",
    "}\n",
    "'''"
   ]
  },
  {
   "cell_type": "code",
   "execution_count": 58,
   "id": "53ef5390",
   "metadata": {},
   "outputs": [],
   "source": [
    "sample_dict = {\n",
    "  \"name\": \"Kelly\",\n",
    "  \"age\":25,\n",
    "  \"salary\": 8000,\n",
    "  \"city\": \"New york\"\n",
    "}"
   ]
  },
  {
   "cell_type": "code",
   "execution_count": 59,
   "id": "e14e930e",
   "metadata": {},
   "outputs": [],
   "source": [
    "sample_dict[\"location\"]= sample_dict.pop(\"city\")"
   ]
  },
  {
   "cell_type": "code",
   "execution_count": 60,
   "id": "6ffa406e",
   "metadata": {},
   "outputs": [
    {
     "data": {
      "text/plain": [
       "{'name': 'Kelly', 'age': 25, 'salary': 8000, 'location': 'New york'}"
      ]
     },
     "execution_count": 60,
     "metadata": {},
     "output_type": "execute_result"
    }
   ],
   "source": [
    "sample_dict"
   ]
  },
  {
   "cell_type": "code",
   "execution_count": null,
   "id": "3aa6734b",
   "metadata": {},
   "outputs": [],
   "source": [
    "# from keys method in dictionary"
   ]
  },
  {
   "cell_type": "code",
   "execution_count": 61,
   "id": "7a8dbdbf",
   "metadata": {},
   "outputs": [],
   "source": [
    "key=[1,2,3,4]\n",
    "values=[100,200,300,400]\n",
    "d=dict.fromkeys(key,value)"
   ]
  },
  {
   "cell_type": "code",
   "execution_count": 62,
   "id": "57fe3d22",
   "metadata": {},
   "outputs": [
    {
     "data": {
      "text/plain": [
       "{1: [82, 65, 75], 2: [82, 65, 75], 3: [82, 65, 75], 4: [82, 65, 75]}"
      ]
     },
     "execution_count": 62,
     "metadata": {},
     "output_type": "execute_result"
    }
   ],
   "source": [
    "d"
   ]
  },
  {
   "cell_type": "code",
   "execution_count": null,
   "id": "12cc0f62",
   "metadata": {},
   "outputs": [],
   "source": [
    "# setdefault method in dictionary"
   ]
  },
  {
   "cell_type": "code",
   "execution_count": 64,
   "id": "0133b3cc",
   "metadata": {},
   "outputs": [
    {
     "data": {
      "text/plain": [
       "'unnamed'"
      ]
     },
     "execution_count": 64,
     "metadata": {},
     "output_type": "execute_result"
    }
   ],
   "source": [
    "class1={\"1-A\":\"pooja\",\"2-B\":\"tanisha\"}\n",
    "class1.setdefault(\"1-C\",\"unnamed\")"
   ]
  },
  {
   "cell_type": "code",
   "execution_count": 65,
   "id": "2e1f7bc5",
   "metadata": {},
   "outputs": [
    {
     "data": {
      "text/plain": [
       "{'1-A': 'pooja', '2-B': 'tanisha', '1-C': 'unnamed'}"
      ]
     },
     "execution_count": 65,
     "metadata": {},
     "output_type": "execute_result"
    }
   ],
   "source": [
    "class1"
   ]
  },
  {
   "cell_type": "code",
   "execution_count": null,
   "id": "24b9a1fb",
   "metadata": {},
   "outputs": [],
   "source": [
    "# nested dictionary"
   ]
  },
  {
   "cell_type": "code",
   "execution_count": 4,
   "id": "0dadb939",
   "metadata": {},
   "outputs": [],
   "source": [
    "student={1:{\"name\":\"pooja\",\"age\":23},2:{\"name\":\"hemant\",\"age\":19},3:{\"name\":\"tanisha\",\"age\":21},\n",
    "        4:{\"name\":\"manvi\",\"age\":21}}"
   ]
  },
  {
   "cell_type": "code",
   "execution_count": 5,
   "id": "23b14ebe",
   "metadata": {},
   "outputs": [
    {
     "data": {
      "text/plain": [
       "{1: {'name': 'pooja', 'age': 23},\n",
       " 2: {'name': 'hemant', 'age': 19},\n",
       " 3: {'name': 'tanisha', 'age': 21},\n",
       " 4: {'name': 'manvi', 'age': 21}}"
      ]
     },
     "execution_count": 5,
     "metadata": {},
     "output_type": "execute_result"
    }
   ],
   "source": [
    "student"
   ]
  },
  {
   "cell_type": "code",
   "execution_count": 6,
   "id": "a0dcfc1a",
   "metadata": {},
   "outputs": [
    {
     "data": {
      "text/plain": [
       "{'name': 'pooja', 'age': 23}"
      ]
     },
     "execution_count": 6,
     "metadata": {},
     "output_type": "execute_result"
    }
   ],
   "source": [
    "student[1]"
   ]
  },
  {
   "cell_type": "code",
   "execution_count": null,
   "id": "b2f31ae3",
   "metadata": {},
   "outputs": [],
   "source": [
    "# update method in dictionary"
   ]
  },
  {
   "cell_type": "code",
   "execution_count": 7,
   "id": "09f1df88",
   "metadata": {},
   "outputs": [],
   "source": [
    "key=[1,2,3,4]\n",
    "d=dict.fromkeys(key,\" \")"
   ]
  },
  {
   "cell_type": "code",
   "execution_count": 8,
   "id": "21f739b0",
   "metadata": {},
   "outputs": [],
   "source": [
    "d1={1:\"pooja\",2:\"tanisha\"}"
   ]
  },
  {
   "cell_type": "code",
   "execution_count": 9,
   "id": "500bc446",
   "metadata": {},
   "outputs": [],
   "source": [
    "d.update(d1)"
   ]
  },
  {
   "cell_type": "code",
   "execution_count": 10,
   "id": "46d8eb1c",
   "metadata": {},
   "outputs": [
    {
     "data": {
      "text/plain": [
       "{1: 'pooja', 2: 'tanisha', 3: ' ', 4: ' '}"
      ]
     },
     "execution_count": 10,
     "metadata": {},
     "output_type": "execute_result"
    }
   ],
   "source": [
    "d"
   ]
  },
  {
   "cell_type": "code",
   "execution_count": null,
   "id": "47198bd4",
   "metadata": {},
   "outputs": [],
   "source": [
    "#from keys method in dictionary"
   ]
  },
  {
   "cell_type": "code",
   "execution_count": 1,
   "id": "a2ff9f7e",
   "metadata": {},
   "outputs": [],
   "source": [
    "key=[1,2,3,4]\n",
    "d=dict.fromkeys(key,\" \")"
   ]
  },
  {
   "cell_type": "code",
   "execution_count": 2,
   "id": "41f2f50f",
   "metadata": {},
   "outputs": [
    {
     "data": {
      "text/plain": [
       "{1: ' ', 2: ' ', 3: ' ', 4: ' '}"
      ]
     },
     "execution_count": 2,
     "metadata": {},
     "output_type": "execute_result"
    }
   ],
   "source": [
    "d"
   ]
  },
  {
   "cell_type": "code",
   "execution_count": 3,
   "id": "11e26f49",
   "metadata": {},
   "outputs": [],
   "source": [
    "d[1]=\"pooja\""
   ]
  },
  {
   "cell_type": "code",
   "execution_count": 4,
   "id": "84caf2af",
   "metadata": {},
   "outputs": [
    {
     "data": {
      "text/plain": [
       "{1: 'pooja', 2: ' ', 3: ' ', 4: ' '}"
      ]
     },
     "execution_count": 4,
     "metadata": {},
     "output_type": "execute_result"
    }
   ],
   "source": [
    "d"
   ]
  },
  {
   "cell_type": "code",
   "execution_count": null,
   "id": "bba45caa",
   "metadata": {},
   "outputs": [],
   "source": [
    "# setdefalut"
   ]
  },
  {
   "cell_type": "code",
   "execution_count": null,
   "id": "a1bc7f4b",
   "metadata": {},
   "outputs": [],
   "source": [
    "# nested loop"
   ]
  },
  {
   "cell_type": "code",
   "execution_count": 2,
   "id": "5bda4a5d",
   "metadata": {},
   "outputs": [],
   "source": [
    "student={1:{\"name\":\"pooja\",\"age\":23},2:{\"name\":\"hemant\",\"age\":19},3:{\"name\":\"tanisha\",\"age\":21},\n",
    "        4:{\"name\":\"manvi\",\"age\":21}}"
   ]
  },
  {
   "cell_type": "code",
   "execution_count": 3,
   "id": "fd953d8f",
   "metadata": {},
   "outputs": [
    {
     "data": {
      "text/plain": [
       "{1: {'name': 'pooja', 'age': 23},\n",
       " 2: {'name': 'hemant', 'age': 19},\n",
       " 3: {'name': 'tanisha', 'age': 21},\n",
       " 4: {'name': 'manvi', 'age': 21}}"
      ]
     },
     "execution_count": 3,
     "metadata": {},
     "output_type": "execute_result"
    }
   ],
   "source": [
    "student\n"
   ]
  },
  {
   "cell_type": "code",
   "execution_count": 5,
   "id": "b25affc8",
   "metadata": {},
   "outputs": [
    {
     "ename": "SyntaxError",
     "evalue": "invalid syntax (2788514318.py, line 1)",
     "output_type": "error",
     "traceback": [
      "\u001b[1;36m  Cell \u001b[1;32mIn[5], line 1\u001b[1;36m\u001b[0m\n\u001b[1;33m    d=dict([(\"a\",{\"a\":\"apple\",\"a\":\"ant\"}),(\"b\":{\"baby\",\"ball\"})])\u001b[0m\n\u001b[1;37m                                              ^\u001b[0m\n\u001b[1;31mSyntaxError\u001b[0m\u001b[1;31m:\u001b[0m invalid syntax\n"
     ]
    }
   ],
   "source": [
    "d=dict([(\"a\",{\"a\":\"apple\",\"a\":\"ant\"}),(\"b\":{\"baby\",\"ball\"})])"
   ]
  },
  {
   "cell_type": "code",
   "execution_count": null,
   "id": "25f575c4",
   "metadata": {},
   "outputs": [],
   "source": [
    "# nested dictionary quetsions"
   ]
  },
  {
   "cell_type": "code",
   "execution_count": null,
   "id": "33e6d69c",
   "metadata": {},
   "outputs": [],
   "source": [
    "# Write a Python function that takes a dictionary as input and returns a new dictionary with the keys and values swapped.\n"
   ]
  },
  {
   "cell_type": "code",
   "execution_count": 31,
   "id": "5960b700",
   "metadata": {},
   "outputs": [],
   "source": [
    "d={1:\"apple\",2:\"banana\",3:\"mango\"}\n",
    "d1={}"
   ]
  },
  {
   "cell_type": "code",
   "execution_count": 32,
   "id": "4dd85088",
   "metadata": {},
   "outputs": [
    {
     "name": "stdout",
     "output_type": "stream",
     "text": [
      "{'apple': 1, 'banana': 2, 'mango': 3}\n"
     ]
    }
   ],
   "source": [
    "for keys ,values in d.items():\n",
    "    d1[values]=keys\n",
    "print(d1)\n"
   ]
  },
  {
   "cell_type": "code",
   "execution_count": null,
   "id": "91a7ae07",
   "metadata": {},
   "outputs": [],
   "source": [
    "# Create a program that takes a list of words as input and counts the frequency of each word, storing the results in a dictionary.\n"
   ]
  },
  {
   "cell_type": "code",
   "execution_count": 23,
   "id": "a807c437",
   "metadata": {},
   "outputs": [
    {
     "name": "stdout",
     "output_type": "stream",
     "text": [
      "enter the no:pooja,pooja,tanisha\n",
      "{'pooja': 2, 'tanisha': 1}\n"
     ]
    }
   ],
   "source": [
    "a={}\n",
    "d2=list(input(\"enter the no:\").split(\",\"))\n",
    "for i in d2:\n",
    "    a[i]=d2.count(i)\n",
    "print(a)\n",
    "        "
   ]
  },
  {
   "cell_type": "code",
   "execution_count": 24,
   "id": "32f9f4b1",
   "metadata": {},
   "outputs": [],
   "source": [
    "a={\"one\":1,\"two\":2,\"three\":3,}\n",
    "b={\"three\":3,\"four\":4,\"five\":5}\n",
    "c=a.copy()"
   ]
  },
  {
   "cell_type": "code",
   "execution_count": 26,
   "id": "c5c33867",
   "metadata": {},
   "outputs": [
    {
     "name": "stdout",
     "output_type": "stream",
     "text": [
      "{'one': 1, 'two': 2, 'three': 6, 'four': 8, 'five': 10}\n"
     ]
    }
   ],
   "source": [
    "for key in b:\n",
    "    if key in c:\n",
    "        c[key]=c[key]+c[key]\n",
    "    else:\n",
    "        c[key]=b[key]\n",
    "print(c)"
   ]
  },
  {
   "cell_type": "code",
   "execution_count": null,
   "id": "5282cd4a",
   "metadata": {},
   "outputs": [],
   "source": [
    "# Define a nested dictionary to store information about students, where the outer dictionary holds student names as keys, and the inner dictionaries store details such as age, grade, and favorite subject.\n"
   ]
  },
  {
   "cell_type": "code",
   "execution_count": 12,
   "id": "816f061e",
   "metadata": {},
   "outputs": [],
   "source": [
    "student={\"pooja\":{\"age\": 21,\"grade\":\"A\",\"fav subject\":\"python\"},\n",
    "        \"Tanisha\":{\"age\":20,\"grade\":\"B\",\"fav subject\":\"python\"},\n",
    "        \"maanvi\":{\"age\":22,\"grade\":\"C\",\"fav subject\":\"python\"},}"
   ]
  },
  {
   "cell_type": "code",
   "execution_count": 15,
   "id": "0293dde9",
   "metadata": {},
   "outputs": [
    {
     "data": {
      "text/plain": [
       "{'pooja': {'age': 21, 'grade': 'A', 'fav subject': 'python'},\n",
       " 'Tanisha': {'age': 20, 'grade': 'B', 'fav subject': 'python'},\n",
       " 'maanvi': {'age': 22, 'grade': 'C', 'fav subject': 'python'}}"
      ]
     },
     "execution_count": 15,
     "metadata": {},
     "output_type": "execute_result"
    }
   ],
   "source": [
    "student"
   ]
  },
  {
   "cell_type": "code",
   "execution_count": 16,
   "id": "b0008e45",
   "metadata": {},
   "outputs": [
    {
     "data": {
      "text/plain": [
       "{'age': 21, 'grade': 'A', 'fav subject': 'python'}"
      ]
     },
     "execution_count": 16,
     "metadata": {},
     "output_type": "execute_result"
    }
   ],
   "source": [
    "student[\"pooja\"]"
   ]
  },
  {
   "cell_type": "code",
   "execution_count": null,
   "id": "5b6fa461",
   "metadata": {},
   "outputs": [],
   "source": [
    "# Implement a program that takes a dictionary and a threshold value as inputs, and returns a new dictionary containing only the key-value pairs where the value is greater than the threshold."
   ]
  },
  {
   "cell_type": "code",
   "execution_count": 42,
   "id": "59acf2c8",
   "metadata": {},
   "outputs": [
    {
     "name": "stdout",
     "output_type": "stream",
     "text": [
      "enter the threshold value: 50\n",
      "{'maths': 100, 'science': 95}\n"
     ]
    }
   ],
   "source": [
    "d={\"maths\":100,\"english\":50,\"science\":95}\n",
    "threshold=int(input(\"enter the threshold value: \"))\n",
    "d1={}\n",
    "for i,j in d.items():\n",
    "    if j >threshold:\n",
    "        d1[i]=j\n",
    "print(d1)"
   ]
  },
  {
   "cell_type": "code",
   "execution_count": 41,
   "id": "66d2049e",
   "metadata": {},
   "outputs": [],
   "source": [
    "# join using for loop"
   ]
  },
  {
   "cell_type": "code",
   "execution_count": 37,
   "id": "b8e5b8c9",
   "metadata": {},
   "outputs": [
    {
     "name": "stdout",
     "output_type": "stream",
     "text": [
      "{'one': 1, 'two': 2, 'three': 3, 'four': 4, 'five': 5}\n"
     ]
    }
   ],
   "source": [
    "l1=[1,2,3,4,5,6]\n",
    "l2=[\"one\",\"two\",\"three\",\"four\",\"five\"]\n",
    "l3={}\n",
    "for i in range(len(l2)):\n",
    "    l3[l2[i]]=l1[i]\n",
    "print(l3)\n"
   ]
  },
  {
   "cell_type": "code",
   "execution_count": null,
   "id": "4f2d1296",
   "metadata": {},
   "outputs": [],
   "source": [
    "#  using zip function"
   ]
  },
  {
   "cell_type": "code",
   "execution_count": 38,
   "id": "f5a8e1e7",
   "metadata": {},
   "outputs": [],
   "source": [
    "l1=[1,2,3,4,5,6]\n",
    "l2=[\"one\",\"two\",\"three\",\"four\",\"five\"]\n",
    "l3=dict(list(zip(l1,l2)))"
   ]
  },
  {
   "cell_type": "code",
   "execution_count": 39,
   "id": "8fceceed",
   "metadata": {},
   "outputs": [
    {
     "data": {
      "text/plain": [
       "{1: 'one', 2: 'two', 3: 'three', 4: 'four', 5: 'five'}"
      ]
     },
     "execution_count": 39,
     "metadata": {},
     "output_type": "execute_result"
    }
   ],
   "source": [
    "l3"
   ]
  },
  {
   "cell_type": "code",
   "execution_count": null,
   "id": "61f6ef96",
   "metadata": {},
   "outputs": [],
   "source": []
  },
  {
   "cell_type": "code",
   "execution_count": null,
   "id": "2343c15b",
   "metadata": {},
   "outputs": [],
   "source": []
  },
  {
   "cell_type": "code",
   "execution_count": null,
   "id": "d4bbf0d5",
   "metadata": {},
   "outputs": [],
   "source": []
  },
  {
   "cell_type": "code",
   "execution_count": null,
   "id": "aff4e4c9",
   "metadata": {},
   "outputs": [],
   "source": []
  },
  {
   "cell_type": "code",
   "execution_count": null,
   "id": "5a830b41",
   "metadata": {},
   "outputs": [],
   "source": []
  },
  {
   "cell_type": "code",
   "execution_count": null,
   "id": "ac64fedb",
   "metadata": {},
   "outputs": [],
   "source": []
  },
  {
   "cell_type": "code",
   "execution_count": null,
   "id": "0607dfab",
   "metadata": {},
   "outputs": [],
   "source": []
  },
  {
   "cell_type": "code",
   "execution_count": null,
   "id": "da656353",
   "metadata": {},
   "outputs": [],
   "source": []
  },
  {
   "cell_type": "code",
   "execution_count": null,
   "id": "e3b82b34",
   "metadata": {},
   "outputs": [],
   "source": []
  },
  {
   "cell_type": "code",
   "execution_count": null,
   "id": "9da4af65",
   "metadata": {},
   "outputs": [],
   "source": []
  },
  {
   "cell_type": "code",
   "execution_count": null,
   "id": "99810c40",
   "metadata": {},
   "outputs": [],
   "source": []
  }
 ],
 "metadata": {
  "kernelspec": {
   "display_name": "Python 3 (ipykernel)",
   "language": "python",
   "name": "python3"
  },
  "language_info": {
   "codemirror_mode": {
    "name": "ipython",
    "version": 3
   },
   "file_extension": ".py",
   "mimetype": "text/x-python",
   "name": "python",
   "nbconvert_exporter": "python",
   "pygments_lexer": "ipython3",
   "version": "3.11.5"
  }
 },
 "nbformat": 4,
 "nbformat_minor": 5
}
