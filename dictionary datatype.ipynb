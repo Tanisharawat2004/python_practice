{
 "cells": [
  {
   "cell_type": "code",
   "execution_count": null,
   "id": "879b9aa9",
   "metadata": {},
   "outputs": [],
   "source": [
    "#empty dict"
   ]
  },
  {
   "cell_type": "code",
   "execution_count": 2,
   "id": "09704e35",
   "metadata": {},
   "outputs": [],
   "source": [
    "a={}"
   ]
  },
  {
   "cell_type": "code",
   "execution_count": 3,
   "id": "8e9f8efc",
   "metadata": {},
   "outputs": [
    {
     "data": {
      "text/plain": [
       "dict"
      ]
     },
     "execution_count": 3,
     "metadata": {},
     "output_type": "execute_result"
    }
   ],
   "source": [
    "type(a)"
   ]
  },
  {
   "cell_type": "code",
   "execution_count": 4,
   "id": "1f47ec4e",
   "metadata": {},
   "outputs": [],
   "source": [
    "a=dict()"
   ]
  },
  {
   "cell_type": "code",
   "execution_count": 5,
   "id": "75725fa6",
   "metadata": {},
   "outputs": [
    {
     "data": {
      "text/plain": [
       "dict"
      ]
     },
     "execution_count": 5,
     "metadata": {},
     "output_type": "execute_result"
    }
   ],
   "source": [
    "type(a)"
   ]
  },
  {
   "cell_type": "code",
   "execution_count": null,
   "id": "59081557",
   "metadata": {},
   "outputs": [],
   "source": [
    "# create and print  dictionary"
   ]
  },
  {
   "cell_type": "code",
   "execution_count": 6,
   "id": "a21e2b84",
   "metadata": {},
   "outputs": [],
   "source": [
    "marks={\"maths\":80,\"science\":90,\"english\":100,\"hindi\":70}"
   ]
  },
  {
   "cell_type": "code",
   "execution_count": 7,
   "id": "0676d83d",
   "metadata": {},
   "outputs": [
    {
     "data": {
      "text/plain": [
       "{'maths': 80, 'science': 90, 'english': 100, 'hindi': 70}"
      ]
     },
     "execution_count": 7,
     "metadata": {},
     "output_type": "execute_result"
    }
   ],
   "source": [
    "marks"
   ]
  },
  {
   "cell_type": "code",
   "execution_count": null,
   "id": "82455b97",
   "metadata": {},
   "outputs": [],
   "source": [
    " # for  accessing labels"
   ]
  },
  {
   "cell_type": "code",
   "execution_count": 9,
   "id": "9891ecac",
   "metadata": {},
   "outputs": [
    {
     "data": {
      "text/plain": [
       "80"
      ]
     },
     "execution_count": 9,
     "metadata": {},
     "output_type": "execute_result"
    }
   ],
   "source": [
    "marks[\"maths\"]"
   ]
  },
  {
   "cell_type": "code",
   "execution_count": null,
   "id": "88a1a244",
   "metadata": {},
   "outputs": [],
   "source": [
    "# create a dictionary with {}"
   ]
  },
  {
   "cell_type": "code",
   "execution_count": 26,
   "id": "c8b9659a",
   "metadata": {},
   "outputs": [],
   "source": [
    "menu={\"dishes\":[\"maggie\",\"pasta\",\"pizza\"],\"prices\":[100,200,300]}"
   ]
  },
  {
   "cell_type": "code",
   "execution_count": 27,
   "id": "a84e8659",
   "metadata": {},
   "outputs": [
    {
     "data": {
      "text/plain": [
       "{'dishes': ['maggie', 'pasta', 'pizza'], 'prices': [100, 200, 300]}"
      ]
     },
     "execution_count": 27,
     "metadata": {},
     "output_type": "execute_result"
    }
   ],
   "source": [
    "menu"
   ]
  },
  {
   "cell_type": "code",
   "execution_count": 30,
   "id": "cd040bb5",
   "metadata": {},
   "outputs": [
    {
     "data": {
      "text/plain": [
       "'pasta'"
      ]
     },
     "execution_count": 30,
     "metadata": {},
     "output_type": "execute_result"
    }
   ],
   "source": [
    "menu[\"dishes\"][1]"
   ]
  },
  {
   "cell_type": "code",
   "execution_count": 33,
   "id": "2f09671e",
   "metadata": {},
   "outputs": [
    {
     "data": {
      "text/plain": [
       "'maggie'"
      ]
     },
     "execution_count": 33,
     "metadata": {},
     "output_type": "execute_result"
    }
   ],
   "source": [
    "menu[\"dishes\"][0]"
   ]
  },
  {
   "cell_type": "code",
   "execution_count": null,
   "id": "0c9176f6",
   "metadata": {},
   "outputs": [],
   "source": [
    "# create dictionary with dict()"
   ]
  },
  {
   "cell_type": "code",
   "execution_count": 34,
   "id": "2ab1e72b",
   "metadata": {},
   "outputs": [],
   "source": [
    "student=dict([(1,\"python\"),(2,\"tanisha\"),(3,\"manvi\"),(4,\"hello\")])"
   ]
  },
  {
   "cell_type": "code",
   "execution_count": 35,
   "id": "d9d152d6",
   "metadata": {},
   "outputs": [
    {
     "data": {
      "text/plain": [
       "{1: 'python', 2: 'tanisha', 3: 'manvi', 4: 'hello'}"
      ]
     },
     "execution_count": 35,
     "metadata": {},
     "output_type": "execute_result"
    }
   ],
   "source": [
    "student"
   ]
  },
  {
   "cell_type": "code",
   "execution_count": 38,
   "id": "8459c019",
   "metadata": {},
   "outputs": [],
   "source": [
    "menu1=dict([(100,\"maggie\"),(200,\"pasta\"),(300,\"pizza\")])"
   ]
  },
  {
   "cell_type": "code",
   "execution_count": 39,
   "id": "d4c40356",
   "metadata": {},
   "outputs": [
    {
     "data": {
      "text/plain": [
       "{'dishes': ['maggie', 'pasta', 'pizza'], 'prices': [100, 200, 300]}"
      ]
     },
     "execution_count": 39,
     "metadata": {},
     "output_type": "execute_result"
    }
   ],
   "source": [
    "menu"
   ]
  },
  {
   "cell_type": "code",
   "execution_count": null,
   "id": "c973c993",
   "metadata": {},
   "outputs": [],
   "source": [
    "# create a dictionary method third using dict()\n",
    "# key not  written in \" \""
   ]
  },
  {
   "cell_type": "code",
   "execution_count": 40,
   "id": "6b5c6819",
   "metadata": {},
   "outputs": [],
   "source": [
    "computer=dict(keyboard=200,monitor=25000,mouse=1000)"
   ]
  },
  {
   "cell_type": "code",
   "execution_count": 41,
   "id": "f91bbf92",
   "metadata": {},
   "outputs": [
    {
     "data": {
      "text/plain": [
       "{'keyboard': 200, 'monitor': 25000, 'mouse': 1000}"
      ]
     },
     "execution_count": 41,
     "metadata": {},
     "output_type": "execute_result"
    }
   ],
   "source": [
    "computer"
   ]
  },
  {
   "cell_type": "code",
   "execution_count": null,
   "id": "f2bcc1bc",
   "metadata": {},
   "outputs": [],
   "source": [
    "# method 4 :adding items in empty dictionary"
   ]
  },
  {
   "cell_type": "code",
   "execution_count": 44,
   "id": "b09d30d0",
   "metadata": {},
   "outputs": [],
   "source": [
    "emp={}"
   ]
  },
  {
   "cell_type": "code",
   "execution_count": 45,
   "id": "bf583f29",
   "metadata": {},
   "outputs": [],
   "source": [
    "emp[\"id\"]=101\n",
    "emp[\"name\"]=\"manvi\"\n",
    "emp[\"job\"]=\"student\"\n",
    "emp[\"hobby\"]=[\"writing\",\"reading\"]"
   ]
  },
  {
   "cell_type": "code",
   "execution_count": 46,
   "id": "1855222f",
   "metadata": {},
   "outputs": [
    {
     "data": {
      "text/plain": [
       "{'id': 101, 'name': 'manvi', 'job': 'student', 'hobby': ['writing', 'reading']}"
      ]
     },
     "execution_count": 46,
     "metadata": {},
     "output_type": "execute_result"
    }
   ],
   "source": [
    "emp"
   ]
  },
  {
   "cell_type": "code",
   "execution_count": null,
   "id": "f9e82ace",
   "metadata": {},
   "outputs": [],
   "source": [
    "# access elements"
   ]
  },
  {
   "cell_type": "code",
   "execution_count": 47,
   "id": "2ec0876a",
   "metadata": {},
   "outputs": [
    {
     "data": {
      "text/plain": [
       "{1: 'python', 2: 'tanisha', 3: 'manvi', 4: 'hello'}"
      ]
     },
     "execution_count": 47,
     "metadata": {},
     "output_type": "execute_result"
    }
   ],
   "source": [
    "student"
   ]
  },
  {
   "cell_type": "code",
   "execution_count": 50,
   "id": "f49dbcc6",
   "metadata": {},
   "outputs": [
    {
     "name": "stdout",
     "output_type": "stream",
     "text": [
      "enter the no: 4\n",
      "name of the student: hello\n"
     ]
    }
   ],
   "source": [
    "roll_no=int(input(\"enter the no: \"))\n",
    "if roll_no in student:\n",
    "    print(f\"name of the student: {student[roll_no]}\")\n",
    "else:\n",
    "    print(f\"there is no detail of student with {roll_no}\")"
   ]
  },
  {
   "cell_type": "code",
   "execution_count": 51,
   "id": "b8660cf2",
   "metadata": {},
   "outputs": [
    {
     "data": {
      "text/plain": [
       "{'id': 101, 'name': 'manvi', 'job': 'student', 'hobby': ['writing', 'reading']}"
      ]
     },
     "execution_count": 51,
     "metadata": {},
     "output_type": "execute_result"
    }
   ],
   "source": [
    "emp"
   ]
  },
  {
   "cell_type": "code",
   "execution_count": 52,
   "id": "7cd14ed1",
   "metadata": {},
   "outputs": [
    {
     "data": {
      "text/plain": [
       "'manvi'"
      ]
     },
     "execution_count": 52,
     "metadata": {},
     "output_type": "execute_result"
    }
   ],
   "source": [
    "emp[\"name\"]"
   ]
  },
  {
   "cell_type": "code",
   "execution_count": null,
   "id": "d261bb38",
   "metadata": {},
   "outputs": [],
   "source": [
    "# some  method of dictionary"
   ]
  },
  {
   "cell_type": "code",
   "execution_count": null,
   "id": "19a98faa",
   "metadata": {},
   "outputs": [],
   "source": [
    "# get()method for accesing the element"
   ]
  },
  {
   "cell_type": "code",
   "execution_count": 53,
   "id": "c5786770",
   "metadata": {},
   "outputs": [
    {
     "data": {
      "text/plain": [
       "{'id': 101, 'name': 'manvi', 'job': 'student', 'hobby': ['writing', 'reading']}"
      ]
     },
     "execution_count": 53,
     "metadata": {},
     "output_type": "execute_result"
    }
   ],
   "source": [
    "emp"
   ]
  },
  {
   "cell_type": "code",
   "execution_count": 54,
   "id": "09d439b3",
   "metadata": {},
   "outputs": [
    {
     "data": {
      "text/plain": [
       "['writing', 'reading']"
      ]
     },
     "execution_count": 54,
     "metadata": {},
     "output_type": "execute_result"
    }
   ],
   "source": [
    "emp.get(\"hobby\")"
   ]
  },
  {
   "cell_type": "code",
   "execution_count": 55,
   "id": "4243dcab",
   "metadata": {},
   "outputs": [
    {
     "data": {
      "text/plain": [
       "{'dishes': ['maggie', 'pasta', 'pizza'], 'prices': [100, 200, 300]}"
      ]
     },
     "execution_count": 55,
     "metadata": {},
     "output_type": "execute_result"
    }
   ],
   "source": [
    "menu"
   ]
  },
  {
   "cell_type": "code",
   "execution_count": 57,
   "id": "25aabe97",
   "metadata": {},
   "outputs": [
    {
     "data": {
      "text/plain": [
       "['maggie', 'pasta', 'pizza']"
      ]
     },
     "execution_count": 57,
     "metadata": {},
     "output_type": "execute_result"
    }
   ],
   "source": [
    "menu.get(\"dishes\")"
   ]
  },
  {
   "cell_type": "code",
   "execution_count": null,
   "id": "5dee6f1a",
   "metadata": {},
   "outputs": [],
   "source": [
    "# get keys method"
   ]
  },
  {
   "cell_type": "code",
   "execution_count": 58,
   "id": "561a8f8e",
   "metadata": {},
   "outputs": [
    {
     "data": {
      "text/plain": [
       "{'id': 101, 'name': 'manvi', 'job': 'student', 'hobby': ['writing', 'reading']}"
      ]
     },
     "execution_count": 58,
     "metadata": {},
     "output_type": "execute_result"
    }
   ],
   "source": [
    "emp"
   ]
  },
  {
   "cell_type": "code",
   "execution_count": 59,
   "id": "55c3d9cb",
   "metadata": {},
   "outputs": [
    {
     "data": {
      "text/plain": [
       "dict_keys(['id', 'name', 'job', 'hobby'])"
      ]
     },
     "execution_count": 59,
     "metadata": {},
     "output_type": "execute_result"
    }
   ],
   "source": [
    "emp.keys()"
   ]
  },
  {
   "cell_type": "code",
   "execution_count": null,
   "id": "79d0b9eb",
   "metadata": {},
   "outputs": [],
   "source": [
    "# get values"
   ]
  },
  {
   "cell_type": "code",
   "execution_count": 60,
   "id": "13a08882",
   "metadata": {},
   "outputs": [
    {
     "data": {
      "text/plain": [
       "{1: 'python', 2: 'tanisha', 3: 'manvi', 4: 'hello'}"
      ]
     },
     "execution_count": 60,
     "metadata": {},
     "output_type": "execute_result"
    }
   ],
   "source": [
    "student"
   ]
  },
  {
   "cell_type": "code",
   "execution_count": 62,
   "id": "b55bfb4b",
   "metadata": {},
   "outputs": [
    {
     "data": {
      "text/plain": [
       "dict_values(['python', 'tanisha', 'manvi', 'hello'])"
      ]
     },
     "execution_count": 62,
     "metadata": {},
     "output_type": "execute_result"
    }
   ],
   "source": [
    "student .values()"
   ]
  },
  {
   "cell_type": "code",
   "execution_count": null,
   "id": "7fc9ee03",
   "metadata": {},
   "outputs": [],
   "source": [
    "# dictionary questions"
   ]
  },
  {
   "cell_type": "code",
   "execution_count": null,
   "id": "4293ff30",
   "metadata": {},
   "outputs": [],
   "source": [
    "# write a prog "
   ]
  },
  {
   "cell_type": "code",
   "execution_count": 32,
   "id": "ab248eb9",
   "metadata": {},
   "outputs": [
    {
     "name": "stdout",
     "output_type": "stream",
     "text": [
      "enter total no of section in class : 5\n",
      "enter the  section: a\n",
      "enter the stream name: cs\n",
      "enter the  section: b\n",
      "enter the stream name: ip\n",
      "enter the  section: c\n",
      "enter the stream name: math\n",
      "enter the  section: d\n",
      "enter the stream name: bio\n",
      "enter the  section: e\n",
      "enter the stream name: eco\n",
      "{'a': 'cs', 'b': 'ip', 'c': 'math', 'd': 'bio', 'e': 'eco'}\n"
     ]
    }
   ],
   "source": [
    "\n",
    "a=int(input(\"enter total no of section in class : \"))\n",
    "st ={}\n",
    "i=0\n",
    "while i<a:\n",
    "    b=input(\"enter the  section: \")\n",
    "    c=input(\"enter the stream name: \")\n",
    "    i+=1\n",
    "    st[b]=c\n",
    "print(st)"
   ]
  },
  {
   "cell_type": "code",
   "execution_count": null,
   "id": "47f68aab",
   "metadata": {},
   "outputs": [],
   "source": []
  },
  {
   "cell_type": "code",
   "execution_count": null,
   "id": "82fe5d37",
   "metadata": {},
   "outputs": [],
   "source": []
  },
  {
   "cell_type": "code",
   "execution_count": null,
   "id": "a92dacb6",
   "metadata": {},
   "outputs": [],
   "source": []
  }
 ],
 "metadata": {
  "kernelspec": {
   "display_name": "Python 3 (ipykernel)",
   "language": "python",
   "name": "python3"
  },
  "language_info": {
   "codemirror_mode": {
    "name": "ipython",
    "version": 3
   },
   "file_extension": ".py",
   "mimetype": "text/x-python",
   "name": "python",
   "nbconvert_exporter": "python",
   "pygments_lexer": "ipython3",
   "version": "3.11.5"
  }
 },
 "nbformat": 4,
 "nbformat_minor": 5
}
