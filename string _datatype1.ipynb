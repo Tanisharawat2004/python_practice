{
 "cells": [
  {
   "cell_type": "markdown",
   "id": "0029a086",
   "metadata": {},
   "source": [
    "# string in python\n",
    "a string in python consist of series or sequence of characters,letters numbers and physical characters\n",
    "string has indexed starting with 0"
   ]
  },
  {
   "cell_type": "markdown",
   "id": "17d2b302",
   "metadata": {},
   "source": [
    "# indexing"
   ]
  },
  {
   "cell_type": "markdown",
   "id": "bc54b466",
   "metadata": {},
   "source": [
    "# accessing one character based on the position"
   ]
  },
  {
   "cell_type": "code",
   "execution_count": 3,
   "id": "680d7fb8",
   "metadata": {},
   "outputs": [
    {
     "data": {
      "text/plain": [
       "str"
      ]
     },
     "execution_count": 3,
     "metadata": {},
     "output_type": "execute_result"
    }
   ],
   "source": [
    "name=\"kanika\"\n",
    "type(name)"
   ]
  },
  {
   "cell_type": "code",
   "execution_count": 6,
   "id": "c4395813",
   "metadata": {},
   "outputs": [
    {
     "data": {
      "text/plain": [
       "'a'"
      ]
     },
     "execution_count": 6,
     "metadata": {},
     "output_type": "execute_result"
    }
   ],
   "source": [
    "#accessing the last character of string(positive indexing)\n",
    "name[5]"
   ]
  },
  {
   "cell_type": "code",
   "execution_count": 12,
   "id": "fdf47842",
   "metadata": {},
   "outputs": [
    {
     "name": "stdout",
     "output_type": "stream",
     "text": [
      "enter your nametanisha rawat\n",
      "12\n"
     ]
    }
   ],
   "source": [
    "name=input(\"enter your name\")\n",
    "print(len(name)-1)"
   ]
  },
  {
   "cell_type": "markdown",
   "id": "1cbee4e4",
   "metadata": {},
   "source": [
    "# negative indexing\n",
    "accessing the last character of string"
   ]
  },
  {
   "cell_type": "code",
   "execution_count": 25,
   "id": "c4cb5552",
   "metadata": {},
   "outputs": [
    {
     "name": "stdout",
     "output_type": "stream",
     "text": [
      "enter your name\n",
      "tanisha rawat\n",
      "t\n"
     ]
    }
   ],
   "source": [
    "name=input(\"enter your name\\n\")\n",
    "print(name[-1])"
   ]
  },
  {
   "cell_type": "code",
   "execution_count": 8,
   "id": "04f0cfaf",
   "metadata": {},
   "outputs": [
    {
     "name": "stdout",
     "output_type": "stream",
     "text": [
      "tanisha\n"
     ]
    }
   ],
   "source": [
    "name=\"tanisha\"\n",
    "print(name)"
   ]
  },
  {
   "cell_type": "code",
   "execution_count": 9,
   "id": "8dca135f",
   "metadata": {},
   "outputs": [
    {
     "data": {
      "text/plain": [
       "False"
      ]
     },
     "execution_count": 9,
     "metadata": {},
     "output_type": "execute_result"
    }
   ],
   "source": [
    "\"y\"in name"
   ]
  },
  {
   "cell_type": "code",
   "execution_count": 10,
   "id": "c71b7067",
   "metadata": {},
   "outputs": [
    {
     "data": {
      "text/plain": [
       "True"
      ]
     },
     "execution_count": 10,
     "metadata": {},
     "output_type": "execute_result"
    }
   ],
   "source": [
    "\"t\"in name"
   ]
  },
  {
   "cell_type": "code",
   "execution_count": 2,
   "id": "76a52653",
   "metadata": {},
   "outputs": [
    {
     "name": "stdout",
     "output_type": "stream",
     "text": [
      "enter your name\n",
      "ankita\n",
      "a\n"
     ]
    }
   ],
   "source": [
    "a=input(\"enter your name\\n\")\n",
    "print(a[-1])"
   ]
  },
  {
   "cell_type": "code",
   "execution_count": 3,
   "id": "0b24afae",
   "metadata": {},
   "outputs": [
    {
     "name": "stdout",
     "output_type": "stream",
     "text": [
      "enter your name\n",
      "tanisha\n"
     ]
    },
    {
     "data": {
      "text/plain": [
       "7"
      ]
     },
     "execution_count": 3,
     "metadata": {},
     "output_type": "execute_result"
    }
   ],
   "source": [
    "a=input(\"enter your name\\n\")\n",
    "len(a)"
   ]
  },
  {
   "cell_type": "code",
   "execution_count": 9,
   "id": "b59472e9",
   "metadata": {},
   "outputs": [
    {
     "name": "stdout",
     "output_type": "stream",
     "text": [
      "aih\n"
     ]
    }
   ],
   "source": [
    "print(a[1:6:2])"
   ]
  },
  {
   "cell_type": "code",
   "execution_count": 11,
   "id": "dac81487",
   "metadata": {},
   "outputs": [
    {
     "data": {
      "text/plain": [
       "5"
      ]
     },
     "execution_count": 11,
     "metadata": {},
     "output_type": "execute_result"
    }
   ],
   "source": [
    "a.index(\"h\")"
   ]
  },
  {
   "cell_type": "code",
   "execution_count": 12,
   "id": "d76d9995",
   "metadata": {},
   "outputs": [
    {
     "data": {
      "text/plain": [
       "6"
      ]
     },
     "execution_count": 12,
     "metadata": {},
     "output_type": "execute_result"
    }
   ],
   "source": [
    "a.index(\"a\",2)"
   ]
  },
  {
   "cell_type": "code",
   "execution_count": 1,
   "id": "dbb9afd3",
   "metadata": {},
   "outputs": [
    {
     "name": "stdout",
     "output_type": "stream",
     "text": [
      "enter your name\n",
      "pesuke\n"
     ]
    },
    {
     "data": {
      "text/plain": [
       "5"
      ]
     },
     "execution_count": 1,
     "metadata": {},
     "output_type": "execute_result"
    }
   ],
   "source": [
    "a=input(\"enter your name\\n\")\n",
    "a.index(\"e\",2)\n"
   ]
  },
  {
   "cell_type": "markdown",
   "id": "81b49243",
   "metadata": {},
   "source": [
    "# check string \n",
    "it s used to check the character whether it is present in string or not\n",
    "To check we used in/not in to check also called membership operators"
   ]
  },
  {
   "cell_type": "code",
   "execution_count": 3,
   "id": "5b155adc",
   "metadata": {},
   "outputs": [
    {
     "name": "stdout",
     "output_type": "stream",
     "text": [
      "enter your name:  hello\n"
     ]
    },
    {
     "data": {
      "text/plain": [
       "True"
      ]
     },
     "execution_count": 3,
     "metadata": {},
     "output_type": "execute_result"
    }
   ],
   "source": [
    "a=input(\"enter your name:  \")\n",
    "\"o\"not in a"
   ]
  },
  {
   "cell_type": "code",
   "execution_count": null,
   "id": "e19817e0",
   "metadata": {},
   "outputs": [],
   "source": [
    "# b=input(\"enter the name\")\n",
    "chk=input(\"enter the string  for checking:\")\n",
    "if chk in b:\n",
    "    print(\"it is present\")\n",
    "else:\n",
    "    print(\"not present\")"
   ]
  },
  {
   "cell_type": "markdown",
   "id": "fff6e8ca",
   "metadata": {},
   "source": [
    "# slicing\n",
    "extracting multiple character from a string(sub string)\n",
    "syntax:(strt_indx:end_indx+1:step)"
   ]
  },
  {
   "cell_type": "code",
   "execution_count": 13,
   "id": "c1e308de",
   "metadata": {},
   "outputs": [
    {
     "name": "stdout",
     "output_type": "stream",
     "text": [
      "enter the string :HELLO WORLD\n",
      "11\n"
     ]
    },
    {
     "data": {
      "text/plain": [
       "'HELLO WORLD'"
      ]
     },
     "execution_count": 13,
     "metadata": {},
     "output_type": "execute_result"
    }
   ],
   "source": [
    "a=input(\"enter the string :\")\n",
    "print( len(a))\n",
    "a[0:11:]\n",
    "\n"
   ]
  },
  {
   "cell_type": "code",
   "execution_count": 16,
   "id": "5150a1d2",
   "metadata": {},
   "outputs": [
    {
     "name": "stdout",
     "output_type": "stream",
     "text": [
      "enter the string :TANISHA\n",
      "7\n"
     ]
    },
    {
     "data": {
      "text/plain": [
       "'AHSINAT'"
      ]
     },
     "execution_count": 16,
     "metadata": {},
     "output_type": "execute_result"
    }
   ],
   "source": [
    "a=input(\"enter the string :\")\n",
    "print( len(a))\n",
    "a[::-1]\n"
   ]
  },
  {
   "cell_type": "code",
   "execution_count": 20,
   "id": "7fb3a40e",
   "metadata": {},
   "outputs": [
    {
     "name": "stdout",
     "output_type": "stream",
     "text": [
      "enter the string :WELCOME TO TGC\n",
      "14\n"
     ]
    },
    {
     "data": {
      "text/plain": [
       "'COME'"
      ]
     },
     "execution_count": 20,
     "metadata": {},
     "output_type": "execute_result"
    }
   ],
   "source": [
    "a=input(\"enter the string :\")\n",
    "print( len(a))\n",
    "a[3:7]\n"
   ]
  },
  {
   "cell_type": "code",
   "execution_count": 21,
   "id": "73bb3753",
   "metadata": {},
   "outputs": [
    {
     "name": "stdout",
     "output_type": "stream",
     "text": [
      "enter the stringhello sir\n",
      "9\n"
     ]
    }
   ],
   "source": [
    "#IMPORTANT METHODS RELATED TO STRINGS\n",
    "#len()\n",
    "a=input(\"enter the string\")\n",
    "print(len(a))\n"
   ]
  },
  {
   "cell_type": "code",
   "execution_count": 22,
   "id": "ff974e89",
   "metadata": {},
   "outputs": [
    {
     "name": "stdout",
     "output_type": "stream",
     "text": [
      "enter the stringTANISHA RAWAT\n"
     ]
    },
    {
     "data": {
      "text/plain": [
       "'tanisha rawat'"
      ]
     },
     "execution_count": 22,
     "metadata": {},
     "output_type": "execute_result"
    }
   ],
   "source": [
    "#lower()\n",
    "a=input(\"enter the string\")\n",
    "a.lower()"
   ]
  },
  {
   "cell_type": "code",
   "execution_count": 26,
   "id": "4f3aa1da",
   "metadata": {},
   "outputs": [
    {
     "name": "stdout",
     "output_type": "stream",
     "text": [
      "enter the string :tanisha rawat\n"
     ]
    },
    {
     "data": {
      "text/plain": [
       "'TANISHA RAWAT'"
      ]
     },
     "execution_count": 26,
     "metadata": {},
     "output_type": "execute_result"
    }
   ],
   "source": [
    "#upper()\n",
    "a=input(\"enter the string :\")\n",
    "a.upper()"
   ]
  },
  {
   "cell_type": "code",
   "execution_count": 28,
   "id": "837dc5ce",
   "metadata": {},
   "outputs": [
    {
     "data": {
      "text/plain": [
       "10"
      ]
     },
     "execution_count": 28,
     "metadata": {},
     "output_type": "execute_result"
    }
   ],
   "source": [
    "#find()\n",
    "a.find(\"w\")"
   ]
  },
  {
   "cell_type": "code",
   "execution_count": 7,
   "id": "0bf0d81d",
   "metadata": {},
   "outputs": [],
   "source": [
    "#split()\n",
    "b=\"welcome to the hello world\"\n"
   ]
  },
  {
   "cell_type": "code",
   "execution_count": 8,
   "id": "389fed8d",
   "metadata": {},
   "outputs": [
    {
     "data": {
      "text/plain": [
       "'welcome to the hello world'"
      ]
     },
     "execution_count": 8,
     "metadata": {},
     "output_type": "execute_result"
    }
   ],
   "source": [
    "b"
   ]
  },
  {
   "cell_type": "code",
   "execution_count": 19,
   "id": "369adfa3",
   "metadata": {},
   "outputs": [
    {
     "data": {
      "text/plain": [
       "['welc', 'me t', ' the hell', ' w', 'rld']"
      ]
     },
     "execution_count": 19,
     "metadata": {},
     "output_type": "execute_result"
    }
   ],
   "source": [
    "b.split(\"o\")\n"
   ]
  },
  {
   "cell_type": "code",
   "execution_count": 24,
   "id": "3fff7912",
   "metadata": {},
   "outputs": [
    {
     "data": {
      "text/plain": [
       "'welcome to the programming world\\n. it is python\\n'"
      ]
     },
     "execution_count": 24,
     "metadata": {},
     "output_type": "execute_result"
    }
   ],
   "source": [
    "a1=\"welcome to the programming world\\n. it is python\\n\"\n",
    "a1"
   ]
  },
  {
   "cell_type": "code",
   "execution_count": 25,
   "id": "5cb2b66c",
   "metadata": {},
   "outputs": [
    {
     "data": {
      "text/plain": [
       "['welcome', 'to', 'the', 'programming', 'world\\n.', 'it', 'is', 'python\\n']"
      ]
     },
     "execution_count": 25,
     "metadata": {},
     "output_type": "execute_result"
    }
   ],
   "source": [
    "a1.split(\" \")"
   ]
  },
  {
   "cell_type": "code",
   "execution_count": 28,
   "id": "e547436b",
   "metadata": {},
   "outputs": [
    {
     "data": {
      "text/plain": [
       "['welcome to the programming world', '. it is python']"
      ]
     },
     "execution_count": 28,
     "metadata": {},
     "output_type": "execute_result"
    }
   ],
   "source": [
    "a1.splitlines()"
   ]
  },
  {
   "cell_type": "code",
   "execution_count": 29,
   "id": "78507244",
   "metadata": {},
   "outputs": [
    {
     "data": {
      "text/plain": [
       "5"
      ]
     },
     "execution_count": 29,
     "metadata": {},
     "output_type": "execute_result"
    }
   ],
   "source": [
    "a1.count(\"o\")"
   ]
  },
  {
   "cell_type": "code",
   "execution_count": 35,
   "id": "e5f50c88",
   "metadata": {},
   "outputs": [],
   "source": [
    "d=\"    hello hi   \""
   ]
  },
  {
   "cell_type": "code",
   "execution_count": 36,
   "id": "a9cfcfa5",
   "metadata": {},
   "outputs": [
    {
     "data": {
      "text/plain": [
       "'    hello hi   '"
      ]
     },
     "execution_count": 36,
     "metadata": {},
     "output_type": "execute_result"
    }
   ],
   "source": [
    "d"
   ]
  },
  {
   "cell_type": "code",
   "execution_count": 37,
   "id": "5d9c235e",
   "metadata": {},
   "outputs": [
    {
     "data": {
      "text/plain": [
       "'hello hi   '"
      ]
     },
     "execution_count": 37,
     "metadata": {},
     "output_type": "execute_result"
    }
   ],
   "source": [
    "d.lstrip()"
   ]
  },
  {
   "cell_type": "code",
   "execution_count": 38,
   "id": "12816098",
   "metadata": {},
   "outputs": [
    {
     "data": {
      "text/plain": [
       "'    hello hi'"
      ]
     },
     "execution_count": 38,
     "metadata": {},
     "output_type": "execute_result"
    }
   ],
   "source": [
    "d.rstrip()"
   ]
  },
  {
   "cell_type": "code",
   "execution_count": 39,
   "id": "730cd779",
   "metadata": {},
   "outputs": [
    {
     "data": {
      "text/plain": [
       "'hello hi'"
      ]
     },
     "execution_count": 39,
     "metadata": {},
     "output_type": "execute_result"
    }
   ],
   "source": [
    "d.strip()"
   ]
  },
  {
   "cell_type": "markdown",
   "id": "f3fbeab3",
   "metadata": {},
   "source": [
    "# encoding of text"
   ]
  },
  {
   "cell_type": "code",
   "execution_count": 6,
   "id": "4344fc2f",
   "metadata": {},
   "outputs": [],
   "source": [
    "txt =\"hello world\""
   ]
  },
  {
   "cell_type": "code",
   "execution_count": 7,
   "id": "40bd5f06",
   "metadata": {},
   "outputs": [
    {
     "name": "stdout",
     "output_type": "stream",
     "text": [
      "hello world\n"
     ]
    }
   ],
   "source": [
    "print(txt)"
   ]
  },
  {
   "cell_type": "code",
   "execution_count": 8,
   "id": "96e98ec9",
   "metadata": {},
   "outputs": [],
   "source": [
    "key= txt.maketrans(\"helowrd\",\"2789653\")"
   ]
  },
  {
   "cell_type": "code",
   "execution_count": 9,
   "id": "7ab5c43a",
   "metadata": {},
   "outputs": [
    {
     "data": {
      "text/plain": [
       "'27889 69583'"
      ]
     },
     "execution_count": 9,
     "metadata": {},
     "output_type": "execute_result"
    }
   ],
   "source": [
    "txt.translate(key)"
   ]
  },
  {
   "cell_type": "code",
   "execution_count": 10,
   "id": "8813aec2",
   "metadata": {},
   "outputs": [
    {
     "data": {
      "text/plain": [
       "b'hello world'"
      ]
     },
     "execution_count": 10,
     "metadata": {},
     "output_type": "execute_result"
    }
   ],
   "source": [
    "txt.encode(encoding=\"utf-8\")"
   ]
  },
  {
   "cell_type": "code",
   "execution_count": null,
   "id": "3094d1a5",
   "metadata": {},
   "outputs": [],
   "source": []
  },
  {
   "cell_type": "markdown",
   "id": "7ca95b5f",
   "metadata": {},
   "source": [
    "# alignment of text"
   ]
  },
  {
   "cell_type": "code",
   "execution_count": 52,
   "id": "5e5149a4",
   "metadata": {},
   "outputs": [
    {
     "data": {
      "text/plain": [
       "'hello world'"
      ]
     },
     "execution_count": 52,
     "metadata": {},
     "output_type": "execute_result"
    }
   ],
   "source": [
    "txt"
   ]
  },
  {
   "cell_type": "code",
   "execution_count": 54,
   "id": "2136affc",
   "metadata": {},
   "outputs": [
    {
     "data": {
      "text/plain": [
       "'    hello world     '"
      ]
     },
     "execution_count": 54,
     "metadata": {},
     "output_type": "execute_result"
    }
   ],
   "source": [
    "txt.center(20)"
   ]
  },
  {
   "cell_type": "code",
   "execution_count": 56,
   "id": "14f78fa5",
   "metadata": {},
   "outputs": [
    {
     "data": {
      "text/plain": [
       "'hello world    '"
      ]
     },
     "execution_count": 56,
     "metadata": {},
     "output_type": "execute_result"
    }
   ],
   "source": [
    "txt.ljust(15)"
   ]
  },
  {
   "cell_type": "code",
   "execution_count": 57,
   "id": "9e4b803d",
   "metadata": {},
   "outputs": [
    {
     "data": {
      "text/plain": [
       "'    hello world'"
      ]
     },
     "execution_count": 57,
     "metadata": {},
     "output_type": "execute_result"
    }
   ],
   "source": [
    "txt.rjust(15)"
   ]
  },
  {
   "cell_type": "code",
   "execution_count": 59,
   "id": "538d108c",
   "metadata": {},
   "outputs": [
    {
     "data": {
      "text/plain": [
       "' world'"
      ]
     },
     "execution_count": 59,
     "metadata": {},
     "output_type": "execute_result"
    }
   ],
   "source": [
    "txt.removeprefix(\"hello\")"
   ]
  },
  {
   "cell_type": "code",
   "execution_count": 61,
   "id": "65c2ff65",
   "metadata": {},
   "outputs": [
    {
     "data": {
      "text/plain": [
       "'hello '"
      ]
     },
     "execution_count": 61,
     "metadata": {},
     "output_type": "execute_result"
    }
   ],
   "source": [
    "txt.removesuffix(\"world\")"
   ]
  },
  {
   "cell_type": "markdown",
   "id": "84b315ee",
   "metadata": {},
   "source": [
    "# string validation methods\n"
   ]
  },
  {
   "cell_type": "code",
   "execution_count": 3,
   "id": "1af0a76b",
   "metadata": {},
   "outputs": [
    {
     "name": "stdout",
     "output_type": "stream",
     "text": [
      "enter the string: 12345\n"
     ]
    },
    {
     "data": {
      "text/plain": [
       "str"
      ]
     },
     "execution_count": 3,
     "metadata": {},
     "output_type": "execute_result"
    }
   ],
   "source": [
    "text=input(\"enter the string: \")\n",
    "type(text)"
   ]
  },
  {
   "cell_type": "code",
   "execution_count": 4,
   "id": "51f7c860",
   "metadata": {},
   "outputs": [
    {
     "data": {
      "text/plain": [
       "True"
      ]
     },
     "execution_count": 4,
     "metadata": {},
     "output_type": "execute_result"
    }
   ],
   "source": [
    "text.isdigit()"
   ]
  },
  {
   "cell_type": "code",
   "execution_count": 7,
   "id": "87422074",
   "metadata": {},
   "outputs": [
    {
     "data": {
      "text/plain": [
       "True"
      ]
     },
     "execution_count": 7,
     "metadata": {},
     "output_type": "execute_result"
    }
   ],
   "source": [
    "text.isnumeric()"
   ]
  },
  {
   "cell_type": "code",
   "execution_count": 9,
   "id": "566387ef",
   "metadata": {},
   "outputs": [
    {
     "data": {
      "text/plain": [
       "True"
      ]
     },
     "execution_count": 9,
     "metadata": {},
     "output_type": "execute_result"
    }
   ],
   "source": [
    "text.isdecimal()"
   ]
  },
  {
   "cell_type": "code",
   "execution_count": 15,
   "id": "1257e34d",
   "metadata": {},
   "outputs": [
    {
     "name": "stdout",
     "output_type": "stream",
     "text": [
      "enter the string: abcd\n"
     ]
    }
   ],
   "source": [
    "txt=input(\"enter the string: \")"
   ]
  },
  {
   "cell_type": "code",
   "execution_count": 16,
   "id": "c3fb5cea",
   "metadata": {},
   "outputs": [
    {
     "data": {
      "text/plain": [
       "'abcd'"
      ]
     },
     "execution_count": 16,
     "metadata": {},
     "output_type": "execute_result"
    }
   ],
   "source": [
    "txt"
   ]
  },
  {
   "cell_type": "code",
   "execution_count": 17,
   "id": "0ab88350",
   "metadata": {},
   "outputs": [
    {
     "data": {
      "text/plain": [
       "True"
      ]
     },
     "execution_count": 17,
     "metadata": {},
     "output_type": "execute_result"
    }
   ],
   "source": [
    "txt.isalpha()"
   ]
  },
  {
   "cell_type": "code",
   "execution_count": 18,
   "id": "4ec776d9",
   "metadata": {},
   "outputs": [
    {
     "name": "stdout",
     "output_type": "stream",
     "text": [
      "enter the string: abc123\n"
     ]
    }
   ],
   "source": [
    "txt=input(\"enter the string: \")"
   ]
  },
  {
   "cell_type": "code",
   "execution_count": 20,
   "id": "ebf84252",
   "metadata": {},
   "outputs": [
    {
     "data": {
      "text/plain": [
       "True"
      ]
     },
     "execution_count": 20,
     "metadata": {},
     "output_type": "execute_result"
    }
   ],
   "source": [
    "txt.isalnum()"
   ]
  },
  {
   "cell_type": "code",
   "execution_count": 21,
   "id": "6c2396a3",
   "metadata": {},
   "outputs": [
    {
     "name": "stdout",
     "output_type": "stream",
     "text": [
      "enter the string: PYTHON\n"
     ]
    }
   ],
   "source": [
    "t1=input(\"enter the string: \")"
   ]
  },
  {
   "cell_type": "code",
   "execution_count": 22,
   "id": "2a1f9cee",
   "metadata": {},
   "outputs": [
    {
     "data": {
      "text/plain": [
       "True"
      ]
     },
     "execution_count": 22,
     "metadata": {},
     "output_type": "execute_result"
    }
   ],
   "source": [
    "t1.isupper()"
   ]
  },
  {
   "cell_type": "code",
   "execution_count": 24,
   "id": "28a40343",
   "metadata": {},
   "outputs": [
    {
     "data": {
      "text/plain": [
       "False"
      ]
     },
     "execution_count": 24,
     "metadata": {},
     "output_type": "execute_result"
    }
   ],
   "source": [
    "t1.islower()"
   ]
  },
  {
   "cell_type": "code",
   "execution_count": 27,
   "id": "bd661474",
   "metadata": {},
   "outputs": [
    {
     "data": {
      "text/plain": [
       "True"
      ]
     },
     "execution_count": 27,
     "metadata": {},
     "output_type": "execute_result"
    }
   ],
   "source": [
    "t1.startswith(\"P\")"
   ]
  },
  {
   "cell_type": "code",
   "execution_count": 28,
   "id": "26365d62",
   "metadata": {},
   "outputs": [
    {
     "data": {
      "text/plain": [
       "True"
      ]
     },
     "execution_count": 28,
     "metadata": {},
     "output_type": "execute_result"
    }
   ],
   "source": [
    "t1.endswith(\"N\")"
   ]
  },
  {
   "cell_type": "code",
   "execution_count": 30,
   "id": "729422b2",
   "metadata": {},
   "outputs": [],
   "source": [
    "F=\"  \""
   ]
  },
  {
   "cell_type": "code",
   "execution_count": 31,
   "id": "e066beec",
   "metadata": {},
   "outputs": [
    {
     "data": {
      "text/plain": [
       "True"
      ]
     },
     "execution_count": 31,
     "metadata": {},
     "output_type": "execute_result"
    }
   ],
   "source": [
    "F.isspace()"
   ]
  },
  {
   "cell_type": "code",
   "execution_count": 32,
   "id": "6a8bb81e",
   "metadata": {},
   "outputs": [],
   "source": [
    "f =\" hqjsos kswo\""
   ]
  },
  {
   "cell_type": "code",
   "execution_count": 33,
   "id": "6a002f66",
   "metadata": {},
   "outputs": [
    {
     "data": {
      "text/plain": [
       "False"
      ]
     },
     "execution_count": 33,
     "metadata": {},
     "output_type": "execute_result"
    }
   ],
   "source": [
    "f.isspace()"
   ]
  },
  {
   "cell_type": "markdown",
   "id": "5e009cfe",
   "metadata": {},
   "source": [
    "# escape characters"
   ]
  },
  {
   "cell_type": "code",
   "execution_count": 2,
   "id": "ca54710a",
   "metadata": {},
   "outputs": [
    {
     "name": "stdout",
     "output_type": "stream",
     "text": [
      "hello \"world\"\n"
     ]
    }
   ],
   "source": [
    "print(\"hello \\\"world\\\"\")"
   ]
  },
  {
   "cell_type": "code",
   "execution_count": 7,
   "id": "1c8677ba",
   "metadata": {},
   "outputs": [
    {
     "name": "stdout",
     "output_type": "stream",
     "text": [
      "hello\n",
      " \"world\"\n"
     ]
    }
   ],
   "source": [
    "print(\"hello\\n \\\"world\\\"\")"
   ]
  },
  {
   "cell_type": "code",
   "execution_count": 8,
   "id": "f50490ba",
   "metadata": {},
   "outputs": [
    {
     "name": "stdout",
     "output_type": "stream",
     "text": [
      "hello\t world\n"
     ]
    }
   ],
   "source": [
    "print(\"hello\\t world\")"
   ]
  },
  {
   "cell_type": "code",
   "execution_count": 9,
   "id": "b6074476",
   "metadata": {},
   "outputs": [
    {
     "name": "stdout",
     "output_type": "stream",
     "text": [
      "hello \bworld\n"
     ]
    }
   ],
   "source": [
    "print(\"hello \\bworld\")"
   ]
  },
  {
   "cell_type": "code",
   "execution_count": 11,
   "id": "9c87e919",
   "metadata": {},
   "outputs": [
    {
     "name": "stdout",
     "output_type": "stream",
     "text": [
      "hello \\ world\n"
     ]
    }
   ],
   "source": [
    "print(\"hello \\\\ world\")"
   ]
  },
  {
   "cell_type": "markdown",
   "id": "3ce80bd4",
   "metadata": {},
   "source": [
    "# string formatting"
   ]
  },
  {
   "cell_type": "code",
   "execution_count": 14,
   "id": "8660f627",
   "metadata": {},
   "outputs": [
    {
     "name": "stdout",
     "output_type": "stream",
     "text": [
      "enter the no: 10\n",
      "enter the no: 20\n",
      "the product of the no 10 and 20 = 200\n"
     ]
    }
   ],
   "source": [
    "a= int(input(\"enter the no: \"))\n",
    "b= int(input(\"enter the no: \"))\n",
    "c=a*b\n",
    "print(\"the product of the no {} and {} = {}\".format(a,b,c))"
   ]
  },
  {
   "cell_type": "code",
   "execution_count": 15,
   "id": "613cc1b7",
   "metadata": {},
   "outputs": [
    {
     "name": "stdout",
     "output_type": "stream",
     "text": [
      "enter the no: 10\n",
      "enter the no: 10\n",
      "the product of the no 10 and 10 = 100\n"
     ]
    }
   ],
   "source": [
    "a= int(input(\"enter the no: \"))\n",
    "b= int(input(\"enter the no: \"))\n",
    "c=a*b\n",
    "print(\"the product of the no {0} and {1} = {2}\".format(a,b,c))"
   ]
  },
  {
   "cell_type": "code",
   "execution_count": 16,
   "id": "3e99b620",
   "metadata": {},
   "outputs": [
    {
     "name": "stdout",
     "output_type": "stream",
     "text": [
      "enter the no: 10\n",
      "enter the no: 10\n",
      "the product of the no 10 and 10 = 100\n"
     ]
    }
   ],
   "source": [
    "a= int(input(\"enter the no: \"))\n",
    "b= int(input(\"enter the no: \"))\n",
    "c=a*b\n",
    "print(\"the product of the no {2} and {1} = {0}\".format(c,b,a))"
   ]
  },
  {
   "cell_type": "code",
   "execution_count": 17,
   "id": "c24b0b78",
   "metadata": {},
   "outputs": [
    {
     "name": "stdout",
     "output_type": "stream",
     "text": [
      "name:tanisha\n",
      " age:20\n"
     ]
    }
   ],
   "source": [
    "print(\"name:{}\\n age:{}\".format(\"tanisha\",20))"
   ]
  },
  {
   "cell_type": "code",
   "execution_count": 18,
   "id": "91187727",
   "metadata": {},
   "outputs": [
    {
     "name": "stdout",
     "output_type": "stream",
     "text": [
      "name:tanisha\n",
      " age:20\n"
     ]
    }
   ],
   "source": [
    "print(\"name:{name}\\n age:{age}\".format( name=\"tanisha\", age=20))"
   ]
  },
  {
   "cell_type": "code",
   "execution_count": 6,
   "id": "71d68b8c",
   "metadata": {},
   "outputs": [
    {
     "name": "stdout",
     "output_type": "stream",
     "text": [
      "my name is tanisha and age is 26 and weight is 52.5 kg\n"
     ]
    }
   ],
   "source": [
    "_name=\"tanisha\"\n",
    "weight=52.5\n",
    "print(\"my name is {} and age is {age} and weight is {} kg\".format(_name,weight,age=26))"
   ]
  },
  {
   "cell_type": "code",
   "execution_count": 9,
   "id": "55b94b3f",
   "metadata": {},
   "outputs": [
    {
     "name": "stdout",
     "output_type": "stream",
     "text": [
      "my name is tanisha and age is 26 and weight is 52.5 kg\n"
     ]
    }
   ],
   "source": [
    "_name=\"tanisha\"\n",
    "weight=52.5\n",
    "print(\"my name is {0} and age is {2} and weight is {1} kg\".format(_name,weight,26))"
   ]
  },
  {
   "cell_type": "code",
   "execution_count": 10,
   "id": "fc442781",
   "metadata": {},
   "outputs": [
    {
     "name": "stdout",
     "output_type": "stream",
     "text": [
      "my name is tanisha and age is 26 and weight is 52.5 kg\n"
     ]
    }
   ],
   "source": [
    "name=\"tanisha\"\n",
    "weight=52.5\n",
    "print(\"my name is {_name} and age is {age} and weight is {weight} kg\".format(_name=\"tanisha\",weight=52.5,age=26))"
   ]
  },
  {
   "cell_type": "code",
   "execution_count": 12,
   "id": "0721f9e8",
   "metadata": {},
   "outputs": [
    {
     "name": "stdout",
     "output_type": "stream",
     "text": [
      "my name is tanisha and weight is 52.500000 kg\n"
     ]
    }
   ],
   "source": [
    "name=\"tanisha\"\n",
    "weight=52.5\n",
    "print(\"my name is {} and weight is {:f} kg\".format(_name,weight))"
   ]
  },
  {
   "cell_type": "code",
   "execution_count": 13,
   "id": "5449fdbf",
   "metadata": {},
   "outputs": [
    {
     "name": "stdout",
     "output_type": "stream",
     "text": [
      "my name is tanisha and weight is 52 kg\n"
     ]
    }
   ],
   "source": [
    "name=\"tanisha\"\n",
    "weight=52.5\n",
    "print(\"my name is {} and weight is {:.0f} kg\".format(_name,weight))"
   ]
  },
  {
   "cell_type": "code",
   "execution_count": 14,
   "id": "9f3e204c",
   "metadata": {},
   "outputs": [
    {
     "name": "stdout",
     "output_type": "stream",
     "text": [
      "my name is tanisha and weight is 52.500 kg\n"
     ]
    }
   ],
   "source": [
    "name=\"tanisha\"\n",
    "weight=52.5\n",
    "print(\"my name is {} and weight is {:.3f} kg\".format(_name,weight))"
   ]
  },
  {
   "cell_type": "code",
   "execution_count": 20,
   "id": "03133532",
   "metadata": {},
   "outputs": [
    {
     "name": "stdout",
     "output_type": "stream",
     "text": [
      "enter the marks: 97.6\n",
      "you scored 97.600000% \n"
     ]
    }
   ],
   "source": [
    "marks=float(input(\"enter the marks: \"))\n",
    "print(\"you scored {:%} \".format(marks/100))"
   ]
  },
  {
   "cell_type": "code",
   "execution_count": 21,
   "id": "b1df2cf5",
   "metadata": {},
   "outputs": [
    {
     "name": "stdout",
     "output_type": "stream",
     "text": [
      "enter the marks: 84.4\n",
      "you scored 84.40% \n"
     ]
    }
   ],
   "source": [
    "marks=float(input(\"enter the marks: \"))\n",
    "print(\"you scored {:.2%} \".format(marks/100))"
   ]
  },
  {
   "cell_type": "code",
   "execution_count": 22,
   "id": "90b564cf",
   "metadata": {},
   "outputs": [
    {
     "name": "stdout",
     "output_type": "stream",
     "text": [
      "the universe is 145,000,000,000 years old\n"
     ]
    }
   ],
   "source": [
    "print (\"the universe is {:,} years old\".format(145000000000))"
   ]
  },
  {
   "cell_type": "markdown",
   "id": "45544d32",
   "metadata": {},
   "source": [
    "# f string"
   ]
  },
  {
   "cell_type": "code",
   "execution_count": 25,
   "id": "b638b4ad",
   "metadata": {},
   "outputs": [
    {
     "name": "stdout",
     "output_type": "stream",
     "text": [
      " sum of 20 and 20 is 40\n"
     ]
    }
   ],
   "source": [
    "a=20\n",
    "b=20\n",
    "c=a+b\n",
    "print(f\" sum of {a} and {b} is {c}\")"
   ]
  },
  {
   "cell_type": "code",
   "execution_count": 26,
   "id": "edb44f0d",
   "metadata": {},
   "outputs": [
    {
     "name": "stdout",
     "output_type": "stream",
     "text": [
      " sum of 20 and 20 is 40.000000\n"
     ]
    }
   ],
   "source": [
    "a=20\n",
    "b=20\n",
    "c=a+b\n",
    "print(f\" sum of {a} and {b} is {c:f}\")"
   ]
  },
  {
   "cell_type": "code",
   "execution_count": null,
   "id": "88aabd91",
   "metadata": {},
   "outputs": [],
   "source": []
  },
  {
   "cell_type": "code",
   "execution_count": null,
   "id": "386919eb",
   "metadata": {},
   "outputs": [],
   "source": []
  },
  {
   "cell_type": "code",
   "execution_count": null,
   "id": "a26eaf27",
   "metadata": {},
   "outputs": [],
   "source": []
  },
  {
   "cell_type": "code",
   "execution_count": null,
   "id": "668b8811",
   "metadata": {},
   "outputs": [],
   "source": []
  }
 ],
 "metadata": {
  "kernelspec": {
   "display_name": "Python 3 (ipykernel)",
   "language": "python",
   "name": "python3"
  },
  "language_info": {
   "codemirror_mode": {
    "name": "ipython",
    "version": 3
   },
   "file_extension": ".py",
   "mimetype": "text/x-python",
   "name": "python",
   "nbconvert_exporter": "python",
   "pygments_lexer": "ipython3",
   "version": "3.11.5"
  }
 },
 "nbformat": 4,
 "nbformat_minor": 5
}
