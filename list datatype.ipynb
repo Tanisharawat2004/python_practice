{
 "cells": [
  {
   "cell_type": "markdown",
   "id": "4b306f5f",
   "metadata": {},
   "source": [
    "# list"
   ]
  },
  {
   "cell_type": "code",
   "execution_count": 1,
   "id": "58700820",
   "metadata": {},
   "outputs": [
    {
     "data": {
      "text/plain": [
       "list"
      ]
     },
     "execution_count": 1,
     "metadata": {},
     "output_type": "execute_result"
    }
   ],
   "source": [
    "l=list()\n",
    "type(l)"
   ]
  },
  {
   "cell_type": "code",
   "execution_count": 2,
   "id": "687ce0dd",
   "metadata": {},
   "outputs": [
    {
     "name": "stdout",
     "output_type": "stream",
     "text": [
      "[]\n"
     ]
    }
   ],
   "source": [
    " empty_list=[]\n",
    "print(empty_list)"
   ]
  },
  {
   "cell_type": "code",
   "execution_count": null,
   "id": "fef84ac4",
   "metadata": {},
   "outputs": [],
   "source": [
    "#it is heterogeneous"
   ]
  },
  {
   "cell_type": "code",
   "execution_count": 9,
   "id": "e241f258",
   "metadata": {},
   "outputs": [
    {
     "name": "stdout",
     "output_type": "stream",
     "text": [
      "[1, 2.34, 3, 10, 'tanisha', 10, True, [2, 3]]\n"
     ]
    }
   ],
   "source": [
    "list=[1,2.34,3,10,\"tanisha\",10,True,[2,3]]\n",
    "print(list)"
   ]
  },
  {
   "cell_type": "code",
   "execution_count": 10,
   "id": "60c39b61",
   "metadata": {},
   "outputs": [
    {
     "data": {
      "text/plain": [
       "1"
      ]
     },
     "execution_count": 10,
     "metadata": {},
     "output_type": "execute_result"
    }
   ],
   "source": [
    "list[0]"
   ]
  },
  {
   "cell_type": "code",
   "execution_count": 11,
   "id": "078aa30d",
   "metadata": {},
   "outputs": [
    {
     "data": {
      "text/plain": [
       "[2, 3]"
      ]
     },
     "execution_count": 11,
     "metadata": {},
     "output_type": "execute_result"
    }
   ],
   "source": [
    "list[-1]"
   ]
  },
  {
   "cell_type": "code",
   "execution_count": 12,
   "id": "8383d468",
   "metadata": {},
   "outputs": [
    {
     "data": {
      "text/plain": [
       "10"
      ]
     },
     "execution_count": 12,
     "metadata": {},
     "output_type": "execute_result"
    }
   ],
   "source": [
    "list[-3]"
   ]
  },
  {
   "cell_type": "code",
   "execution_count": 13,
   "id": "1f6b5ce2",
   "metadata": {},
   "outputs": [
    {
     "data": {
      "text/plain": [
       "2"
      ]
     },
     "execution_count": 13,
     "metadata": {},
     "output_type": "execute_result"
    }
   ],
   "source": [
    "list[-1][0]"
   ]
  },
  {
   "cell_type": "code",
   "execution_count": 16,
   "id": "0fd66e6f",
   "metadata": {},
   "outputs": [
    {
     "name": "stdout",
     "output_type": "stream",
     "text": [
      "enter the items:10, 20,30,40,50,100,200\n"
     ]
    },
    {
     "ename": "TypeError",
     "evalue": "'list' object is not callable",
     "output_type": "error",
     "traceback": [
      "\u001b[1;31m---------------------------------------------------------------------------\u001b[0m",
      "\u001b[1;31mTypeError\u001b[0m                                 Traceback (most recent call last)",
      "Cell \u001b[1;32mIn[16], line 1\u001b[0m\n\u001b[1;32m----> 1\u001b[0m l\u001b[38;5;241m=\u001b[39m\u001b[38;5;28mlist\u001b[39m(\u001b[38;5;28mmap\u001b[39m(\u001b[38;5;28mint\u001b[39m,\u001b[38;5;28minput\u001b[39m(\u001b[38;5;124m\"\u001b[39m\u001b[38;5;124menter the items:\u001b[39m\u001b[38;5;124m\"\u001b[39m)\u001b[38;5;241m.\u001b[39msplit(\u001b[38;5;124m\"\u001b[39m\u001b[38;5;124m,\u001b[39m\u001b[38;5;124m\"\u001b[39m)))\n",
      "\u001b[1;31mTypeError\u001b[0m: 'list' object is not callable"
     ]
    }
   ],
   "source": [
    "l=(map(int,input(\"enter the items:\").split(\",\")))"
   ]
  },
  {
   "cell_type": "markdown",
   "id": "67987d7c",
   "metadata": {},
   "source": [
    "# list is mutable"
   ]
  },
  {
   "cell_type": "code",
   "execution_count": 5,
   "id": "4da08091",
   "metadata": {},
   "outputs": [
    {
     "data": {
      "text/plain": [
       "[12, 3, 'tanisha']"
      ]
     },
     "execution_count": 5,
     "metadata": {},
     "output_type": "execute_result"
    }
   ],
   "source": [
    "a=[12,3,\"tanisha\"]\n",
    "a"
   ]
  },
  {
   "cell_type": "code",
   "execution_count": 7,
   "id": "6b2b8e39",
   "metadata": {},
   "outputs": [
    {
     "data": {
      "text/plain": [
       "[12, 3, 'pooja']"
      ]
     },
     "execution_count": 7,
     "metadata": {},
     "output_type": "execute_result"
    }
   ],
   "source": [
    "a[-1]=\"pooja\"\n",
    "a"
   ]
  },
  {
   "cell_type": "code",
   "execution_count": null,
   "id": "616a3ff2",
   "metadata": {},
   "outputs": [],
   "source": [
    "#append method"
   ]
  },
  {
   "cell_type": "code",
   "execution_count": 9,
   "id": "c4ee8995",
   "metadata": {},
   "outputs": [
    {
     "data": {
      "text/plain": [
       "[12, 3, 'pooja', 'manvi', 'manvi']"
      ]
     },
     "execution_count": 9,
     "metadata": {},
     "output_type": "execute_result"
    }
   ],
   "source": [
    "a.append(\"manvi\")\n",
    "a"
   ]
  },
  {
   "cell_type": "code",
   "execution_count": 11,
   "id": "3bc677dc",
   "metadata": {},
   "outputs": [],
   "source": [
    "a.append(20)"
   ]
  },
  {
   "cell_type": "code",
   "execution_count": 12,
   "id": "22203cca",
   "metadata": {},
   "outputs": [
    {
     "data": {
      "text/plain": [
       "[12, 3, 'pooja', 'manvi', 'manvi', 20]"
      ]
     },
     "execution_count": 12,
     "metadata": {},
     "output_type": "execute_result"
    }
   ],
   "source": [
    "a"
   ]
  },
  {
   "cell_type": "code",
   "execution_count": 13,
   "id": "6bba23dd",
   "metadata": {},
   "outputs": [],
   "source": [
    "a.append([20,30])"
   ]
  },
  {
   "cell_type": "code",
   "execution_count": 14,
   "id": "3e8bd814",
   "metadata": {},
   "outputs": [
    {
     "data": {
      "text/plain": [
       "[12, 3, 'pooja', 'manvi', 'manvi', 20, [20, 30]]"
      ]
     },
     "execution_count": 14,
     "metadata": {},
     "output_type": "execute_result"
    }
   ],
   "source": [
    "a"
   ]
  },
  {
   "cell_type": "markdown",
   "id": "decf7f3b",
   "metadata": {},
   "source": [
    "# extend method: parameters should be iterators(list,tuple,string,set)"
   ]
  },
  {
   "cell_type": "code",
   "execution_count": 15,
   "id": "1709df44",
   "metadata": {},
   "outputs": [],
   "source": [
    "a.extend(\"hello\")"
   ]
  },
  {
   "cell_type": "code",
   "execution_count": 16,
   "id": "3f88b553",
   "metadata": {},
   "outputs": [
    {
     "data": {
      "text/plain": [
       "[12, 3, 'pooja', 'manvi', 'manvi', 20, [20, 30], 'h', 'e', 'l', 'l', 'o']"
      ]
     },
     "execution_count": 16,
     "metadata": {},
     "output_type": "execute_result"
    }
   ],
   "source": [
    "a"
   ]
  },
  {
   "cell_type": "code",
   "execution_count": 18,
   "id": "aee0564d",
   "metadata": {},
   "outputs": [],
   "source": [
    "a.extend([20,30,\"hello world\",30.5])"
   ]
  },
  {
   "cell_type": "code",
   "execution_count": 19,
   "id": "102562fb",
   "metadata": {},
   "outputs": [
    {
     "data": {
      "text/plain": [
       "[12,\n",
       " 3,\n",
       " 'pooja',\n",
       " 'manvi',\n",
       " 'manvi',\n",
       " 20,\n",
       " [20, 30],\n",
       " 'h',\n",
       " 'e',\n",
       " 'l',\n",
       " 'l',\n",
       " 'o',\n",
       " 20,\n",
       " 30,\n",
       " 'hello world',\n",
       " 30.5]"
      ]
     },
     "execution_count": 19,
     "metadata": {},
     "output_type": "execute_result"
    }
   ],
   "source": [
    "a"
   ]
  },
  {
   "cell_type": "markdown",
   "id": "4ac50c25",
   "metadata": {},
   "source": [
    "# insert method"
   ]
  },
  {
   "cell_type": "code",
   "execution_count": 28,
   "id": "c7f968bd",
   "metadata": {},
   "outputs": [],
   "source": [
    "b=[10,20,\"tanisha,\",30.5]"
   ]
  },
  {
   "cell_type": "code",
   "execution_count": 29,
   "id": "da6f5b29",
   "metadata": {},
   "outputs": [
    {
     "data": {
      "text/plain": [
       "[10, 20, 'tanisha,', 30.5]"
      ]
     },
     "execution_count": 29,
     "metadata": {},
     "output_type": "execute_result"
    }
   ],
   "source": [
    "b"
   ]
  },
  {
   "cell_type": "code",
   "execution_count": 30,
   "id": "41cfd381",
   "metadata": {},
   "outputs": [],
   "source": [
    "b.insert(-2,\"manvi\")\n"
   ]
  },
  {
   "cell_type": "code",
   "execution_count": 31,
   "id": "0f224370",
   "metadata": {},
   "outputs": [
    {
     "data": {
      "text/plain": [
       "[10, 20, 'manvi', 'tanisha,', 30.5]"
      ]
     },
     "execution_count": 31,
     "metadata": {},
     "output_type": "execute_result"
    }
   ],
   "source": [
    "b"
   ]
  },
  {
   "cell_type": "code",
   "execution_count": 33,
   "id": "06fc25bf",
   "metadata": {},
   "outputs": [],
   "source": [
    "b.insert(-1,\"twinkle\")"
   ]
  },
  {
   "cell_type": "code",
   "execution_count": 34,
   "id": "bfc43c88",
   "metadata": {},
   "outputs": [
    {
     "data": {
      "text/plain": [
       "[10, 20, 'manvi', 'tanisha,', 'twinkle', 30.5]"
      ]
     },
     "execution_count": 34,
     "metadata": {},
     "output_type": "execute_result"
    }
   ],
   "source": [
    "b"
   ]
  },
  {
   "cell_type": "code",
   "execution_count": null,
   "id": "7424f7ec",
   "metadata": {},
   "outputs": [],
   "source": [
    "#count()"
   ]
  },
  {
   "cell_type": "code",
   "execution_count": 35,
   "id": "781e19c7",
   "metadata": {},
   "outputs": [
    {
     "data": {
      "text/plain": [
       "[12,\n",
       " 3,\n",
       " 'pooja',\n",
       " 'manvi',\n",
       " 'manvi',\n",
       " 20,\n",
       " [20, 30],\n",
       " 'h',\n",
       " 'e',\n",
       " 'l',\n",
       " 'l',\n",
       " 'o',\n",
       " 20,\n",
       " 30,\n",
       " 'hello world',\n",
       " 30.5]"
      ]
     },
     "execution_count": 35,
     "metadata": {},
     "output_type": "execute_result"
    }
   ],
   "source": [
    "a"
   ]
  },
  {
   "cell_type": "code",
   "execution_count": 36,
   "id": "490fcb33",
   "metadata": {},
   "outputs": [
    {
     "data": {
      "text/plain": [
       "2"
      ]
     },
     "execution_count": 36,
     "metadata": {},
     "output_type": "execute_result"
    }
   ],
   "source": [
    "a.count(\"l\")"
   ]
  },
  {
   "cell_type": "code",
   "execution_count": null,
   "id": "f798848b",
   "metadata": {},
   "outputs": [],
   "source": [
    "#reverse() method"
   ]
  },
  {
   "cell_type": "code",
   "execution_count": 39,
   "id": "f3618183",
   "metadata": {},
   "outputs": [],
   "source": [
    "a.reverse()"
   ]
  },
  {
   "cell_type": "code",
   "execution_count": 40,
   "id": "3d29c249",
   "metadata": {},
   "outputs": [
    {
     "data": {
      "text/plain": [
       "[30.5,\n",
       " 'hello world',\n",
       " 30,\n",
       " 20,\n",
       " 'o',\n",
       " 'l',\n",
       " 'l',\n",
       " 'e',\n",
       " 'h',\n",
       " [20, 30],\n",
       " 20,\n",
       " 'manvi',\n",
       " 'manvi',\n",
       " 'pooja',\n",
       " 3,\n",
       " 12]"
      ]
     },
     "execution_count": 40,
     "metadata": {},
     "output_type": "execute_result"
    }
   ],
   "source": [
    "a"
   ]
  },
  {
   "cell_type": "code",
   "execution_count": null,
   "id": "e6ef66e7",
   "metadata": {},
   "outputs": [],
   "source": [
    "#sort() method"
   ]
  },
  {
   "cell_type": "code",
   "execution_count": 50,
   "id": "bd93ec86",
   "metadata": {},
   "outputs": [
    {
     "name": "stdout",
     "output_type": "stream",
     "text": [
      "enter the no: 20,30,50\n"
     ]
    }
   ],
   "source": [
    "c=list(input(\"enter the no: \").split(\",\"))"
   ]
  },
  {
   "cell_type": "code",
   "execution_count": 51,
   "id": "a205c3be",
   "metadata": {},
   "outputs": [],
   "source": [
    "c.sort()"
   ]
  },
  {
   "cell_type": "code",
   "execution_count": 52,
   "id": "65080668",
   "metadata": {},
   "outputs": [
    {
     "data": {
      "text/plain": [
       "['20', '30', '50']"
      ]
     },
     "execution_count": 52,
     "metadata": {},
     "output_type": "execute_result"
    }
   ],
   "source": [
    "c"
   ]
  },
  {
   "cell_type": "code",
   "execution_count": 54,
   "id": "d6765503",
   "metadata": {},
   "outputs": [],
   "source": [
    "c.sort(reverse=True)"
   ]
  },
  {
   "cell_type": "code",
   "execution_count": 55,
   "id": "5f53c6de",
   "metadata": {},
   "outputs": [
    {
     "data": {
      "text/plain": [
       "['50', '30', '20']"
      ]
     },
     "execution_count": 55,
     "metadata": {},
     "output_type": "execute_result"
    }
   ],
   "source": [
    "c"
   ]
  },
  {
   "cell_type": "code",
   "execution_count": null,
   "id": "d3f4371e",
   "metadata": {},
   "outputs": [],
   "source": [
    "#copy()"
   ]
  },
  {
   "cell_type": "code",
   "execution_count": 56,
   "id": "f3c3882c",
   "metadata": {},
   "outputs": [
    {
     "data": {
      "text/plain": [
       "[30.5,\n",
       " 'hello world',\n",
       " 30,\n",
       " 20,\n",
       " 'o',\n",
       " 'l',\n",
       " 'l',\n",
       " 'e',\n",
       " 'h',\n",
       " [20, 30],\n",
       " 20,\n",
       " 'manvi',\n",
       " 'manvi',\n",
       " 'pooja',\n",
       " 3,\n",
       " 12]"
      ]
     },
     "execution_count": 56,
     "metadata": {},
     "output_type": "execute_result"
    }
   ],
   "source": [
    "a"
   ]
  },
  {
   "cell_type": "code",
   "execution_count": 61,
   "id": "563e8f0e",
   "metadata": {},
   "outputs": [],
   "source": [
    "a_copy=a.copy()"
   ]
  },
  {
   "cell_type": "code",
   "execution_count": 62,
   "id": "9d521f36",
   "metadata": {},
   "outputs": [
    {
     "data": {
      "text/plain": [
       "[30.5,\n",
       " 'hello world',\n",
       " 30,\n",
       " 20,\n",
       " 'o',\n",
       " 'l',\n",
       " 'l',\n",
       " 'e',\n",
       " 'h',\n",
       " [20, 30],\n",
       " 20,\n",
       " 'manvi',\n",
       " 'manvi',\n",
       " 'pooja',\n",
       " 3,\n",
       " 12]"
      ]
     },
     "execution_count": 62,
     "metadata": {},
     "output_type": "execute_result"
    }
   ],
   "source": [
    "a"
   ]
  },
  {
   "cell_type": "markdown",
   "id": "a4830e00",
   "metadata": {},
   "source": [
    "# delete() method"
   ]
  },
  {
   "cell_type": "code",
   "execution_count": 63,
   "id": "6511ed65",
   "metadata": {},
   "outputs": [
    {
     "data": {
      "text/plain": [
       "[30.5,\n",
       " 'hello world',\n",
       " 30,\n",
       " 20,\n",
       " 'o',\n",
       " 'l',\n",
       " 'l',\n",
       " 'e',\n",
       " 'h',\n",
       " [20, 30],\n",
       " 20,\n",
       " 'manvi',\n",
       " 'manvi',\n",
       " 'pooja',\n",
       " 3,\n",
       " 12]"
      ]
     },
     "execution_count": 63,
     "metadata": {},
     "output_type": "execute_result"
    }
   ],
   "source": [
    "a"
   ]
  },
  {
   "cell_type": "code",
   "execution_count": 66,
   "id": "90259391",
   "metadata": {},
   "outputs": [
    {
     "data": {
      "text/plain": [
       "12"
      ]
     },
     "execution_count": 66,
     "metadata": {},
     "output_type": "execute_result"
    }
   ],
   "source": [
    "a.pop(-1)"
   ]
  },
  {
   "cell_type": "code",
   "execution_count": 67,
   "id": "8a708fc6",
   "metadata": {},
   "outputs": [
    {
     "data": {
      "text/plain": [
       "[30.5,\n",
       " 'hello world',\n",
       " 30,\n",
       " 20,\n",
       " 'o',\n",
       " 'l',\n",
       " 'l',\n",
       " 'e',\n",
       " 'h',\n",
       " [20, 30],\n",
       " 20,\n",
       " 'manvi',\n",
       " 'manvi',\n",
       " 'pooja',\n",
       " 3]"
      ]
     },
     "execution_count": 67,
     "metadata": {},
     "output_type": "execute_result"
    }
   ],
   "source": [
    "a"
   ]
  },
  {
   "cell_type": "code",
   "execution_count": 68,
   "id": "24935c45",
   "metadata": {},
   "outputs": [
    {
     "data": {
      "text/plain": [
       "30.5"
      ]
     },
     "execution_count": 68,
     "metadata": {},
     "output_type": "execute_result"
    }
   ],
   "source": [
    "a.pop(0)"
   ]
  },
  {
   "cell_type": "code",
   "execution_count": 69,
   "id": "097a8bb5",
   "metadata": {},
   "outputs": [
    {
     "data": {
      "text/plain": [
       "['hello world',\n",
       " 30,\n",
       " 20,\n",
       " 'o',\n",
       " 'l',\n",
       " 'l',\n",
       " 'e',\n",
       " 'h',\n",
       " [20, 30],\n",
       " 20,\n",
       " 'manvi',\n",
       " 'manvi',\n",
       " 'pooja',\n",
       " 3]"
      ]
     },
     "execution_count": 69,
     "metadata": {},
     "output_type": "execute_result"
    }
   ],
   "source": [
    "a"
   ]
  },
  {
   "cell_type": "code",
   "execution_count": null,
   "id": "24736dd7",
   "metadata": {},
   "outputs": [],
   "source": [
    "#remove()"
   ]
  },
  {
   "cell_type": "code",
   "execution_count": 70,
   "id": "5f473c8e",
   "metadata": {},
   "outputs": [],
   "source": [
    "a.remove(\"manvi\")"
   ]
  },
  {
   "cell_type": "code",
   "execution_count": 71,
   "id": "bd860234",
   "metadata": {},
   "outputs": [
    {
     "data": {
      "text/plain": [
       "['hello world',\n",
       " 30,\n",
       " 20,\n",
       " 'o',\n",
       " 'l',\n",
       " 'l',\n",
       " 'e',\n",
       " 'h',\n",
       " [20, 30],\n",
       " 20,\n",
       " 'manvi',\n",
       " 'pooja',\n",
       " 3]"
      ]
     },
     "execution_count": 71,
     "metadata": {},
     "output_type": "execute_result"
    }
   ],
   "source": [
    "a"
   ]
  },
  {
   "cell_type": "code",
   "execution_count": 72,
   "id": "1af23259",
   "metadata": {},
   "outputs": [
    {
     "ename": "ValueError",
     "evalue": "list.remove(x): x not in list",
     "output_type": "error",
     "traceback": [
      "\u001b[1;31m---------------------------------------------------------------------------\u001b[0m",
      "\u001b[1;31mValueError\u001b[0m                                Traceback (most recent call last)",
      "Cell \u001b[1;32mIn[72], line 1\u001b[0m\n\u001b[1;32m----> 1\u001b[0m a\u001b[38;5;241m.\u001b[39mremove(\u001b[38;5;241m68\u001b[39m)\n",
      "\u001b[1;31mValueError\u001b[0m: list.remove(x): x not in list"
     ]
    }
   ],
   "source": [
    "a.remove(68)"
   ]
  },
  {
   "cell_type": "code",
   "execution_count": 73,
   "id": "957c649f",
   "metadata": {},
   "outputs": [
    {
     "data": {
      "text/plain": [
       "['50', '30', '20']"
      ]
     },
     "execution_count": 73,
     "metadata": {},
     "output_type": "execute_result"
    }
   ],
   "source": [
    "c"
   ]
  },
  {
   "cell_type": "code",
   "execution_count": 74,
   "id": "20c6c4eb",
   "metadata": {},
   "outputs": [],
   "source": [
    "c.clear()"
   ]
  },
  {
   "cell_type": "code",
   "execution_count": 75,
   "id": "042e3bac",
   "metadata": {},
   "outputs": [
    {
     "data": {
      "text/plain": [
       "[]"
      ]
     },
     "execution_count": 75,
     "metadata": {},
     "output_type": "execute_result"
    }
   ],
   "source": [
    "c"
   ]
  },
  {
   "cell_type": "markdown",
   "id": "5d2f0324",
   "metadata": {},
   "source": [
    "# operation on list"
   ]
  },
  {
   "cell_type": "code",
   "execution_count": 81,
   "id": "8630cf66",
   "metadata": {},
   "outputs": [],
   "source": [
    "c=[\"hello\",\"hi\"]\n",
    "c2=[1,2]"
   ]
  },
  {
   "cell_type": "code",
   "execution_count": 82,
   "id": "5a416cd8",
   "metadata": {},
   "outputs": [
    {
     "data": {
      "text/plain": [
       "['hello', 'hi', 1, 2]"
      ]
     },
     "execution_count": 82,
     "metadata": {},
     "output_type": "execute_result"
    }
   ],
   "source": [
    "c+c2"
   ]
  },
  {
   "cell_type": "code",
   "execution_count": 89,
   "id": "d4061f21",
   "metadata": {},
   "outputs": [],
   "source": [
    "s=\"hello world\""
   ]
  },
  {
   "cell_type": "code",
   "execution_count": 90,
   "id": "53e5a39d",
   "metadata": {},
   "outputs": [],
   "source": [
    "l=s.split(\" \")"
   ]
  },
  {
   "cell_type": "code",
   "execution_count": 91,
   "id": "6d846596",
   "metadata": {},
   "outputs": [
    {
     "data": {
      "text/plain": [
       "['hello', 'world']"
      ]
     },
     "execution_count": 91,
     "metadata": {},
     "output_type": "execute_result"
    }
   ],
   "source": [
    "l"
   ]
  },
  {
   "cell_type": "code",
   "execution_count": 92,
   "id": "0b3866f3",
   "metadata": {},
   "outputs": [
    {
     "data": {
      "text/plain": [
       "'hello,world'"
      ]
     },
     "execution_count": 92,
     "metadata": {},
     "output_type": "execute_result"
    }
   ],
   "source": [
    "\",\".join(l)"
   ]
  },
  {
   "cell_type": "markdown",
   "id": "b8ae94df",
   "metadata": {},
   "source": [
    "# multidimensional list"
   ]
  },
  {
   "cell_type": "code",
   "execution_count": 94,
   "id": "63d87932",
   "metadata": {},
   "outputs": [],
   "source": [
    "d=[[10,20,30],[\"hello\",\"tanisha\",\"hi\"],[30.5,True]]"
   ]
  },
  {
   "cell_type": "code",
   "execution_count": 95,
   "id": "4dff0ef4",
   "metadata": {},
   "outputs": [
    {
     "data": {
      "text/plain": [
       "['hello', 'tanisha', 'hi']"
      ]
     },
     "execution_count": 95,
     "metadata": {},
     "output_type": "execute_result"
    }
   ],
   "source": [
    "d[1]"
   ]
  },
  {
   "cell_type": "code",
   "execution_count": 96,
   "id": "02e650fa",
   "metadata": {},
   "outputs": [
    {
     "data": {
      "text/plain": [
       "'hello'"
      ]
     },
     "execution_count": 96,
     "metadata": {},
     "output_type": "execute_result"
    }
   ],
   "source": [
    "d[1][0]"
   ]
  },
  {
   "cell_type": "code",
   "execution_count": 100,
   "id": "dbb6bf8f",
   "metadata": {},
   "outputs": [],
   "source": [
    "d=[[10,20,30],[\"hello\",\"tanisha\",\"hi\",[5,2]],[30.5,True]]\n"
   ]
  },
  {
   "cell_type": "code",
   "execution_count": 101,
   "id": "4cf739cf",
   "metadata": {},
   "outputs": [
    {
     "data": {
      "text/plain": [
       "[[10, 20, 30], ['hello', 'tanisha', 'hi', [5, 2]], [30.5, True]]"
      ]
     },
     "execution_count": 101,
     "metadata": {},
     "output_type": "execute_result"
    }
   ],
   "source": [
    "d"
   ]
  },
  {
   "cell_type": "code",
   "execution_count": 102,
   "id": "9a7fc094",
   "metadata": {},
   "outputs": [
    {
     "data": {
      "text/plain": [
       "['hello', 'tanisha', 'hi', [5, 2]]"
      ]
     },
     "execution_count": 102,
     "metadata": {},
     "output_type": "execute_result"
    }
   ],
   "source": [
    "d[1]"
   ]
  },
  {
   "cell_type": "code",
   "execution_count": 103,
   "id": "1f8af6cf",
   "metadata": {},
   "outputs": [
    {
     "data": {
      "text/plain": [
       "['hello', 'tanisha', 'hi', [5, 2]]"
      ]
     },
     "execution_count": 103,
     "metadata": {},
     "output_type": "execute_result"
    }
   ],
   "source": [
    "d[1]"
   ]
  },
  {
   "cell_type": "code",
   "execution_count": 104,
   "id": "b0fde228",
   "metadata": {},
   "outputs": [
    {
     "data": {
      "text/plain": [
       "[5, 2]"
      ]
     },
     "execution_count": 104,
     "metadata": {},
     "output_type": "execute_result"
    }
   ],
   "source": [
    "d[1][-1]"
   ]
  },
  {
   "cell_type": "code",
   "execution_count": 105,
   "id": "68c1086d",
   "metadata": {},
   "outputs": [
    {
     "data": {
      "text/plain": [
       "2"
      ]
     },
     "execution_count": 105,
     "metadata": {},
     "output_type": "execute_result"
    }
   ],
   "source": [
    "d[1][-1][-1]"
   ]
  },
  {
   "cell_type": "code",
   "execution_count": 2,
   "id": "80688920",
   "metadata": {},
   "outputs": [],
   "source": [
    "d=[[10,20,30],[\"hello\",\"tanisha\",\"hi\"],[30.5,True]]"
   ]
  },
  {
   "cell_type": "code",
   "execution_count": 3,
   "id": "48ece6b5",
   "metadata": {},
   "outputs": [],
   "source": [
    "d.insert(0,\"kanika\")"
   ]
  },
  {
   "cell_type": "code",
   "execution_count": 4,
   "id": "7f448f0b",
   "metadata": {},
   "outputs": [
    {
     "data": {
      "text/plain": [
       "['kanika', [10, 20, 30], ['hello', 'tanisha', 'hi'], [30.5, True]]"
      ]
     },
     "execution_count": 4,
     "metadata": {},
     "output_type": "execute_result"
    }
   ],
   "source": [
    "d"
   ]
  },
  {
   "cell_type": "code",
   "execution_count": null,
   "id": "e8911d83",
   "metadata": {},
   "outputs": [],
   "source": []
  },
  {
   "cell_type": "code",
   "execution_count": null,
   "id": "b34c78f4",
   "metadata": {},
   "outputs": [],
   "source": []
  }
 ],
 "metadata": {
  "kernelspec": {
   "display_name": "Python 3 (ipykernel)",
   "language": "python",
   "name": "python3"
  },
  "language_info": {
   "codemirror_mode": {
    "name": "ipython",
    "version": 3
   },
   "file_extension": ".py",
   "mimetype": "text/x-python",
   "name": "python",
   "nbconvert_exporter": "python",
   "pygments_lexer": "ipython3",
   "version": "3.11.5"
  }
 },
 "nbformat": 4,
 "nbformat_minor": 5
}
