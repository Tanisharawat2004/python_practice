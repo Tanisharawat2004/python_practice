{
 "cells": [
  {
   "cell_type": "code",
   "execution_count": 5,
   "id": "c825a0e0",
   "metadata": {},
   "outputs": [],
   "source": [
    "a,b,c=map(len,[\"hello\",\"tanisha\",\"world\"])"
   ]
  },
  {
   "cell_type": "code",
   "execution_count": 7,
   "id": "3384a362",
   "metadata": {},
   "outputs": [
    {
     "name": "stdout",
     "output_type": "stream",
     "text": [
      "5 7 5\n"
     ]
    }
   ],
   "source": [
    "print(a,b,c)"
   ]
  },
  {
   "cell_type": "code",
   "execution_count": 10,
   "id": "28a75e23",
   "metadata": {},
   "outputs": [
    {
     "name": "stdout",
     "output_type": "stream",
     "text": [
      "enter the no: 100,20,200\n"
     ]
    }
   ],
   "source": [
    "a,b,c=map(int,input(\"enter the no: \").split(\",\"))"
   ]
  },
  {
   "cell_type": "markdown",
   "id": "98111cf5",
   "metadata": {},
   "source": [
    "# airthmetic opeators"
   ]
  },
  {
   "cell_type": "code",
   "execution_count": 1,
   "id": "f0e17168",
   "metadata": {},
   "outputs": [
    {
     "name": "stdout",
     "output_type": "stream",
     "text": [
      "enter the no: 10,20,30\n"
     ]
    }
   ],
   "source": [
    "a,b,c=map(int,input(\"enter the no: \").split(\",\"))"
   ]
  },
  {
   "cell_type": "code",
   "execution_count": 2,
   "id": "ecc2845d",
   "metadata": {},
   "outputs": [
    {
     "name": "stdout",
     "output_type": "stream",
     "text": [
      "10+20=30\n"
     ]
    }
   ],
   "source": [
    "print(f\"{a}+{b}={a+b}\")"
   ]
  },
  {
   "cell_type": "code",
   "execution_count": 4,
   "id": "ec668bee",
   "metadata": {},
   "outputs": [
    {
     "name": "stdout",
     "output_type": "stream",
     "text": [
      "10-20=-10\n"
     ]
    }
   ],
   "source": [
    "print(f\"{a}-{b}={a-b}\")"
   ]
  },
  {
   "cell_type": "code",
   "execution_count": 5,
   "id": "e7f9576b",
   "metadata": {},
   "outputs": [
    {
     "name": "stdout",
     "output_type": "stream",
     "text": [
      "10*20=30\n"
     ]
    }
   ],
   "source": [
    "print(f\"{a}*{b}={a+b}\")"
   ]
  },
  {
   "cell_type": "code",
   "execution_count": 6,
   "id": "9b882089",
   "metadata": {},
   "outputs": [
    {
     "name": "stdout",
     "output_type": "stream",
     "text": [
      "enter the no: 20,10\n"
     ]
    }
   ],
   "source": [
    "a,b=map(int,input(\"enter the no: \").split(\",\"))\n"
   ]
  },
  {
   "cell_type": "code",
   "execution_count": 7,
   "id": "b293a2df",
   "metadata": {},
   "outputs": [
    {
     "name": "stdout",
     "output_type": "stream",
     "text": [
      "20/10=2.0\n"
     ]
    }
   ],
   "source": [
    "print(f\"{a}/{b}={a/b}\")"
   ]
  },
  {
   "cell_type": "code",
   "execution_count": 8,
   "id": "5dcf7594",
   "metadata": {},
   "outputs": [
    {
     "name": "stdout",
     "output_type": "stream",
     "text": [
      "20/10=0\n"
     ]
    }
   ],
   "source": [
    "print(f\"{a}/{b}={a%b}\")"
   ]
  },
  {
   "cell_type": "code",
   "execution_count": 9,
   "id": "7d668175",
   "metadata": {},
   "outputs": [
    {
     "name": "stdout",
     "output_type": "stream",
     "text": [
      "20//10=2\n"
     ]
    }
   ],
   "source": [
    "print(f\"{a}//{b}={a//b}\")"
   ]
  },
  {
   "cell_type": "code",
   "execution_count": 10,
   "id": "0af073de",
   "metadata": {},
   "outputs": [
    {
     "name": "stdout",
     "output_type": "stream",
     "text": [
      "20 =400\n"
     ]
    }
   ],
   "source": [
    "print(f\"{a} ={a**2}\")"
   ]
  },
  {
   "cell_type": "code",
   "execution_count": 11,
   "id": "e378b9f0",
   "metadata": {},
   "outputs": [
    {
     "data": {
      "text/plain": [
       "'hellohello'"
      ]
     },
     "execution_count": 11,
     "metadata": {},
     "output_type": "execute_result"
    }
   ],
   "source": [
    "\"hello\"*2"
   ]
  },
  {
   "cell_type": "code",
   "execution_count": 12,
   "id": "92bce833",
   "metadata": {},
   "outputs": [
    {
     "data": {
      "text/plain": [
       "'helloworld'"
      ]
     },
     "execution_count": 12,
     "metadata": {},
     "output_type": "execute_result"
    }
   ],
   "source": [
    "\"hello\"+ \"world\""
   ]
  },
  {
   "cell_type": "markdown",
   "id": "be298b92",
   "metadata": {},
   "source": [
    "# assignment operator\n"
   ]
  },
  {
   "cell_type": "code",
   "execution_count": 16,
   "id": "096dfc86",
   "metadata": {},
   "outputs": [],
   "source": [
    "a=3\n",
    "b=3"
   ]
  },
  {
   "cell_type": "code",
   "execution_count": 17,
   "id": "be5fbca5",
   "metadata": {},
   "outputs": [
    {
     "data": {
      "text/plain": [
       "3"
      ]
     },
     "execution_count": 17,
     "metadata": {},
     "output_type": "execute_result"
    }
   ],
   "source": [
    "a"
   ]
  },
  {
   "cell_type": "code",
   "execution_count": 18,
   "id": "c63bfd9b",
   "metadata": {},
   "outputs": [
    {
     "data": {
      "text/plain": [
       "3"
      ]
     },
     "execution_count": 18,
     "metadata": {},
     "output_type": "execute_result"
    }
   ],
   "source": [
    "b"
   ]
  },
  {
   "cell_type": "code",
   "execution_count": 21,
   "id": "94fb51ca",
   "metadata": {},
   "outputs": [
    {
     "data": {
      "text/plain": [
       "True"
      ]
     },
     "execution_count": 21,
     "metadata": {},
     "output_type": "execute_result"
    }
   ],
   "source": [
    "a==b"
   ]
  },
  {
   "cell_type": "code",
   "execution_count": 27,
   "id": "7d3d7be1",
   "metadata": {},
   "outputs": [],
   "source": [
    "a+=2"
   ]
  },
  {
   "cell_type": "code",
   "execution_count": 28,
   "id": "3effbe4c",
   "metadata": {},
   "outputs": [
    {
     "data": {
      "text/plain": [
       "9"
      ]
     },
     "execution_count": 28,
     "metadata": {},
     "output_type": "execute_result"
    }
   ],
   "source": [
    "a"
   ]
  },
  {
   "cell_type": "code",
   "execution_count": 29,
   "id": "0bdb47e3",
   "metadata": {},
   "outputs": [],
   "source": [
    "a-=3"
   ]
  },
  {
   "cell_type": "code",
   "execution_count": 30,
   "id": "a835a231",
   "metadata": {},
   "outputs": [
    {
     "data": {
      "text/plain": [
       "6"
      ]
     },
     "execution_count": 30,
     "metadata": {},
     "output_type": "execute_result"
    }
   ],
   "source": [
    "a"
   ]
  },
  {
   "cell_type": "code",
   "execution_count": 31,
   "id": "9fb61e1f",
   "metadata": {},
   "outputs": [],
   "source": [
    "a*=2"
   ]
  },
  {
   "cell_type": "code",
   "execution_count": 32,
   "id": "0c2d5546",
   "metadata": {},
   "outputs": [
    {
     "data": {
      "text/plain": [
       "12"
      ]
     },
     "execution_count": 32,
     "metadata": {},
     "output_type": "execute_result"
    }
   ],
   "source": [
    "a"
   ]
  },
  {
   "cell_type": "code",
   "execution_count": 33,
   "id": "04a9ad67",
   "metadata": {},
   "outputs": [],
   "source": [
    "a/=2"
   ]
  },
  {
   "cell_type": "code",
   "execution_count": 34,
   "id": "6c666bf2",
   "metadata": {},
   "outputs": [
    {
     "data": {
      "text/plain": [
       "6.0"
      ]
     },
     "execution_count": 34,
     "metadata": {},
     "output_type": "execute_result"
    }
   ],
   "source": [
    "a"
   ]
  },
  {
   "cell_type": "code",
   "execution_count": 35,
   "id": "5fa6480d",
   "metadata": {},
   "outputs": [],
   "source": [
    "a%=3"
   ]
  },
  {
   "cell_type": "code",
   "execution_count": 36,
   "id": "bf7a6fff",
   "metadata": {},
   "outputs": [
    {
     "data": {
      "text/plain": [
       "0.0"
      ]
     },
     "execution_count": 36,
     "metadata": {},
     "output_type": "execute_result"
    }
   ],
   "source": [
    "a"
   ]
  },
  {
   "cell_type": "code",
   "execution_count": 37,
   "id": "268621bf",
   "metadata": {},
   "outputs": [],
   "source": [
    "a**=2"
   ]
  },
  {
   "cell_type": "code",
   "execution_count": 38,
   "id": "edcaa89c",
   "metadata": {},
   "outputs": [
    {
     "data": {
      "text/plain": [
       "0.0"
      ]
     },
     "execution_count": 38,
     "metadata": {},
     "output_type": "execute_result"
    }
   ],
   "source": [
    "a"
   ]
  },
  {
   "cell_type": "markdown",
   "id": "feef54ec",
   "metadata": {},
   "source": [
    "# comparison operators"
   ]
  },
  {
   "cell_type": "code",
   "execution_count": 40,
   "id": "75f834cb",
   "metadata": {},
   "outputs": [],
   "source": [
    "a=10\n",
    "b=5"
   ]
  },
  {
   "cell_type": "code",
   "execution_count": 41,
   "id": "822a84bd",
   "metadata": {},
   "outputs": [
    {
     "data": {
      "text/plain": [
       "10"
      ]
     },
     "execution_count": 41,
     "metadata": {},
     "output_type": "execute_result"
    }
   ],
   "source": [
    "a"
   ]
  },
  {
   "cell_type": "code",
   "execution_count": 42,
   "id": "f58f8b70",
   "metadata": {},
   "outputs": [
    {
     "data": {
      "text/plain": [
       "5"
      ]
     },
     "execution_count": 42,
     "metadata": {},
     "output_type": "execute_result"
    }
   ],
   "source": [
    "b"
   ]
  },
  {
   "cell_type": "code",
   "execution_count": 43,
   "id": "ed772eae",
   "metadata": {},
   "outputs": [
    {
     "data": {
      "text/plain": [
       "False"
      ]
     },
     "execution_count": 43,
     "metadata": {},
     "output_type": "execute_result"
    }
   ],
   "source": [
    "a==b"
   ]
  },
  {
   "cell_type": "code",
   "execution_count": 44,
   "id": "de640a0b",
   "metadata": {},
   "outputs": [
    {
     "data": {
      "text/plain": [
       "True"
      ]
     },
     "execution_count": 44,
     "metadata": {},
     "output_type": "execute_result"
    }
   ],
   "source": [
    "a!=b"
   ]
  },
  {
   "cell_type": "code",
   "execution_count": 46,
   "id": "32214e0b",
   "metadata": {},
   "outputs": [
    {
     "data": {
      "text/plain": [
       "True"
      ]
     },
     "execution_count": 46,
     "metadata": {},
     "output_type": "execute_result"
    }
   ],
   "source": [
    "not a==b"
   ]
  },
  {
   "cell_type": "code",
   "execution_count": 47,
   "id": "4f070385",
   "metadata": {},
   "outputs": [
    {
     "data": {
      "text/plain": [
       "True"
      ]
     },
     "execution_count": 47,
     "metadata": {},
     "output_type": "execute_result"
    }
   ],
   "source": [
    "a>b"
   ]
  },
  {
   "cell_type": "code",
   "execution_count": null,
   "id": "aafe8e3f",
   "metadata": {},
   "outputs": [],
   "source": [
    " a<b"
   ]
  },
  {
   "cell_type": "code",
   "execution_count": 49,
   "id": "8a6d1164",
   "metadata": {},
   "outputs": [
    {
     "data": {
      "text/plain": [
       "False"
      ]
     },
     "execution_count": 49,
     "metadata": {},
     "output_type": "execute_result"
    }
   ],
   "source": [
    "a<=b"
   ]
  },
  {
   "cell_type": "code",
   "execution_count": 50,
   "id": "28315d3e",
   "metadata": {},
   "outputs": [
    {
     "data": {
      "text/plain": [
       "True"
      ]
     },
     "execution_count": 50,
     "metadata": {},
     "output_type": "execute_result"
    }
   ],
   "source": [
    "a>=b"
   ]
  },
  {
   "cell_type": "markdown",
   "id": "9fdd5339",
   "metadata": {},
   "source": [
    "# logical operators(and,or,not)"
   ]
  },
  {
   "cell_type": "code",
   "execution_count": 58,
   "id": "dbc3361f",
   "metadata": {},
   "outputs": [
    {
     "name": "stdout",
     "output_type": "stream",
     "text": [
      "enter the username:  admin\n",
      "enter the password:  123\n",
      "valid username and password\n",
      " login successfully\n"
     ]
    }
   ],
   "source": [
    "x=input(\"enter the username:  \")\n",
    "y=int(input(\"enter the password:  \"))\n",
    "if x==\"admin\"and y==123:\n",
    "    print(\"valid username and password\\n login successfully\")\n",
    "else:\n",
    "    print(\"incorrect username and password\\n try again!\")"
   ]
  },
  {
   "cell_type": "code",
   "execution_count": 60,
   "id": "8d7a226f",
   "metadata": {},
   "outputs": [
    {
     "name": "stdout",
     "output_type": "stream",
     "text": [
      "enter the username:  hello\n",
      "enter the password:  345\n",
      "incorrect username and password\n",
      " try again!\n"
     ]
    }
   ],
   "source": [
    "x=input(\"enter the username:  \")\n",
    "y=int(input(\"enter the password:  \"))\n",
    "if x==\"admin\"and y==123:\n",
    "    print(\"valid username and password\\n login successfully\")\n",
    "else:\n",
    "    print(\"incorrect username and password\\n try again!\")"
   ]
  },
  {
   "cell_type": "code",
   "execution_count": 1,
   "id": "1bc0729e",
   "metadata": {},
   "outputs": [
    {
     "name": "stdout",
     "output_type": "stream",
     "text": [
      "enter the wordtanisha\n",
      "invalid name\n"
     ]
    }
   ],
   "source": [
    "x=input(\"enter the word: \")\n",
    "if x.startswith(\"T\") or x.startswith(\"p\"):\n",
    "    print(\"valid name\")\n",
    "else:\n",
    "    print(\"invalid name\")"
   ]
  },
  {
   "cell_type": "markdown",
   "id": "1a62d7b5",
   "metadata": {},
   "source": [
    "# identity operators(is , is not)"
   ]
  },
  {
   "cell_type": "code",
   "execution_count": 3,
   "id": "4a9b527b",
   "metadata": {},
   "outputs": [],
   "source": [
    "x=[1,2,4]\n",
    "y=[1,2,4]"
   ]
  },
  {
   "cell_type": "code",
   "execution_count": 4,
   "id": "2cf6e8ca",
   "metadata": {},
   "outputs": [
    {
     "data": {
      "text/plain": [
       "False"
      ]
     },
     "execution_count": 4,
     "metadata": {},
     "output_type": "execute_result"
    }
   ],
   "source": [
    "x is y"
   ]
  },
  {
   "cell_type": "code",
   "execution_count": 5,
   "id": "296a6201",
   "metadata": {},
   "outputs": [
    {
     "data": {
      "text/plain": [
       "True"
      ]
     },
     "execution_count": 5,
     "metadata": {},
     "output_type": "execute_result"
    }
   ],
   "source": [
    "x==y"
   ]
  },
  {
   "cell_type": "code",
   "execution_count": 6,
   "id": "bca4eda0",
   "metadata": {},
   "outputs": [],
   "source": [
    "z=x"
   ]
  },
  {
   "cell_type": "code",
   "execution_count": 7,
   "id": "cd42c3d2",
   "metadata": {},
   "outputs": [
    {
     "data": {
      "text/plain": [
       "True"
      ]
     },
     "execution_count": 7,
     "metadata": {},
     "output_type": "execute_result"
    }
   ],
   "source": [
    "x is z"
   ]
  },
  {
   "cell_type": "code",
   "execution_count": 8,
   "id": "41fb6785",
   "metadata": {},
   "outputs": [
    {
     "data": {
      "text/plain": [
       "[1, 2, 4]"
      ]
     },
     "execution_count": 8,
     "metadata": {},
     "output_type": "execute_result"
    }
   ],
   "source": [
    "x"
   ]
  },
  {
   "cell_type": "code",
   "execution_count": 10,
   "id": "01b3a004",
   "metadata": {},
   "outputs": [
    {
     "data": {
      "text/plain": [
       "[1, 2, 4]"
      ]
     },
     "execution_count": 10,
     "metadata": {},
     "output_type": "execute_result"
    }
   ],
   "source": [
    "z"
   ]
  },
  {
   "cell_type": "markdown",
   "id": "3e89b6aa",
   "metadata": {},
   "source": [
    "# membership operators( in , not in)"
   ]
  },
  {
   "cell_type": "code",
   "execution_count": 16,
   "id": "9b608e48",
   "metadata": {},
   "outputs": [
    {
     "name": "stdout",
     "output_type": "stream",
     "text": [
      "enter the string:  tanisha rawat\n",
      "tanisha rawat\n",
      "enter a word:  rawat\n",
      "yes\n"
     ]
    }
   ],
   "source": [
    "a=input(\"enter the string:  \")\n",
    "print(a)\n",
    "check=input(\"enter a word:  \")\n",
    "if check in a:\n",
    "    print(\"yes\")\n",
    "else:\n",
    "    print(\"no!\")"
   ]
  },
  {
   "cell_type": "code",
   "execution_count": null,
   "id": "e9616a18",
   "metadata": {},
   "outputs": [],
   "source": []
  },
  {
   "cell_type": "code",
   "execution_count": null,
   "id": "923db133",
   "metadata": {},
   "outputs": [],
   "source": []
  },
  {
   "cell_type": "code",
   "execution_count": null,
   "id": "fb200068",
   "metadata": {},
   "outputs": [],
   "source": []
  },
  {
   "cell_type": "code",
   "execution_count": null,
   "id": "dbb4c2d7",
   "metadata": {},
   "outputs": [],
   "source": []
  },
  {
   "cell_type": "code",
   "execution_count": null,
   "id": "df3fcadf",
   "metadata": {},
   "outputs": [],
   "source": []
  },
  {
   "cell_type": "code",
   "execution_count": null,
   "id": "e35f1ff1",
   "metadata": {},
   "outputs": [],
   "source": []
  },
  {
   "cell_type": "code",
   "execution_count": null,
   "id": "edf1cd1e",
   "metadata": {},
   "outputs": [],
   "source": []
  },
  {
   "cell_type": "code",
   "execution_count": null,
   "id": "68c39b24",
   "metadata": {},
   "outputs": [],
   "source": []
  },
  {
   "cell_type": "code",
   "execution_count": null,
   "id": "73937425",
   "metadata": {},
   "outputs": [],
   "source": []
  },
  {
   "cell_type": "code",
   "execution_count": null,
   "id": "b6fe0abb",
   "metadata": {},
   "outputs": [],
   "source": []
  },
  {
   "cell_type": "code",
   "execution_count": null,
   "id": "8561965c",
   "metadata": {},
   "outputs": [],
   "source": []
  },
  {
   "cell_type": "code",
   "execution_count": null,
   "id": "b3ce8e74",
   "metadata": {},
   "outputs": [],
   "source": []
  }
 ],
 "metadata": {
  "kernelspec": {
   "display_name": "Python 3 (ipykernel)",
   "language": "python",
   "name": "python3"
  },
  "language_info": {
   "codemirror_mode": {
    "name": "ipython",
    "version": 3
   },
   "file_extension": ".py",
   "mimetype": "text/x-python",
   "name": "python",
   "nbconvert_exporter": "python",
   "pygments_lexer": "ipython3",
   "version": "3.11.5"
  }
 },
 "nbformat": 4,
 "nbformat_minor": 5
}
