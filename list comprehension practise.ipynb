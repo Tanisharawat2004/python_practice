{
 "cells": [
  {
   "cell_type": "code",
   "execution_count": 17,
   "id": "81620dc7",
   "metadata": {},
   "outputs": [
    {
     "name": "stdout",
     "output_type": "stream",
     "text": [
      "[60, 40, 80]\n"
     ]
    }
   ],
   "source": [
    "n=[80,40,60]\n",
    "n.reverse()\n",
    "print(n)"
   ]
  },
  {
   "cell_type": "code",
   "execution_count": null,
   "id": "38dc6168",
   "metadata": {},
   "outputs": [],
   "source": [
    "#reverse a list in python uisng list comprehension"
   ]
  },
  {
   "cell_type": "code",
   "execution_count": 24,
   "id": "5c705197",
   "metadata": {},
   "outputs": [
    {
     "name": "stdout",
     "output_type": "stream",
     "text": [
      "enter the no: 40,50,60\n",
      "[60, 50, 40]\n"
     ]
    },
    {
     "data": {
      "text/plain": [
       "[None, None]"
      ]
     },
     "execution_count": 24,
     "metadata": {},
     "output_type": "execute_result"
    }
   ],
   "source": [
    "n=list(map(int,input(\"enter the no: \").split(\",\")))\n",
    "[n.reverse(), print(n)]"
   ]
  },
  {
   "cell_type": "code",
   "execution_count": null,
   "id": "5616d9bc",
   "metadata": {},
   "outputs": [],
   "source": [
    "#concatnate two list index wise"
   ]
  },
  {
   "cell_type": "code",
   "execution_count": 70,
   "id": "572831bf",
   "metadata": {},
   "outputs": [],
   "source": [
    "lst1=[\"m\",\"na\",\"i\",\"ke\"]\n",
    "lst2=[\"y\",\"me\",\"s\",\"lly\"]\n",
    "lst3= []"
   ]
  },
  {
   "cell_type": "code",
   "execution_count": 71,
   "id": "68df257e",
   "metadata": {},
   "outputs": [
    {
     "name": "stdout",
     "output_type": "stream",
     "text": [
      "['my', 'name', 'is', 'kelly']\n"
     ]
    }
   ],
   "source": [
    "for i in range(len(lst1)):\n",
    "    lst3.append(lst1[i]+lst2[i])\n",
    "print(lst3)"
   ]
  },
  {
   "cell_type": "code",
   "execution_count": 88,
   "id": "674a5b45",
   "metadata": {},
   "outputs": [
    {
     "name": "stdout",
     "output_type": "stream",
     "text": [
      "['my', 'name', 'is', 'kelly']\n"
     ]
    }
   ],
   "source": [
    "lst3=[lst1[i]+lst2[i]for i in range(len(lst1))]\n",
    "print(lst3)"
   ]
  },
  {
   "cell_type": "code",
   "execution_count": 4,
   "id": "43aee9a4",
   "metadata": {},
   "outputs": [
    {
     "name": "stdout",
     "output_type": "stream",
     "text": [
      "enter the no: 1,2,3\n",
      "[1, 4, 9]\n"
     ]
    }
   ],
   "source": [
    "a=list(map(int,input(\"enter the no: \").split(\",\")))\n",
    "b=[]\n",
    "for i in a:\n",
    "    b.append(i**2)\n",
    "print(b)"
   ]
  },
  {
   "cell_type": "code",
   "execution_count": 5,
   "id": "2ba1fd0a",
   "metadata": {},
   "outputs": [
    {
     "data": {
      "text/plain": [
       "[1, 4, 9]"
      ]
     },
     "execution_count": 5,
     "metadata": {},
     "output_type": "execute_result"
    }
   ],
   "source": [
    "[i**2 for i in a]"
   ]
  },
  {
   "cell_type": "code",
   "execution_count": 101,
   "id": "b80a9bfa",
   "metadata": {},
   "outputs": [
    {
     "data": {
      "text/plain": [
       "[100]"
      ]
     },
     "execution_count": 101,
     "metadata": {},
     "output_type": "execute_result"
    }
   ],
   "source": [
    "a=10\n",
    "[a**2]"
   ]
  },
  {
   "cell_type": "code",
   "execution_count": null,
   "id": "fdf2b4df",
   "metadata": {},
   "outputs": [],
   "source": [
    "#concate to list"
   ]
  },
  {
   "cell_type": "code",
   "execution_count": 2,
   "id": "1b1fb2c8",
   "metadata": {},
   "outputs": [],
   "source": [
    "a=[\"hello\",\"take\"]\n",
    "b=[\"dear\",\"sir\"]\n",
    "c=[]"
   ]
  },
  {
   "cell_type": "code",
   "execution_count": 4,
   "id": "b7af615e",
   "metadata": {},
   "outputs": [
    {
     "name": "stdout",
     "output_type": "stream",
     "text": [
      "['hellodear', 'hellosir', 'takedear', 'takesir']\n"
     ]
    }
   ],
   "source": [
    "for i in a:\n",
    "    for j in b:\n",
    "        c.append(i+j)\n",
    "print(c)"
   ]
  },
  {
   "cell_type": "code",
   "execution_count": 5,
   "id": "207d9f9f",
   "metadata": {},
   "outputs": [
    {
     "data": {
      "text/plain": [
       "['hellodear', 'hellosir', 'takedear', 'takesir']"
      ]
     },
     "execution_count": 5,
     "metadata": {},
     "output_type": "execute_result"
    }
   ],
   "source": [
    "[i+j for i in a for j in b]"
   ]
  },
  {
   "cell_type": "code",
   "execution_count": null,
   "id": "546c1cfa",
   "metadata": {},
   "outputs": [],
   "source": [
    "#iterate both lists simultaneously "
   ]
  },
  {
   "cell_type": "code",
   "execution_count": 120,
   "id": "15a6c460",
   "metadata": {},
   "outputs": [],
   "source": [
    "list1 = [10, 20, 30, 40]\n",
    "list2 = [100, 200, 300, 400]\n"
   ]
  },
  {
   "cell_type": "code",
   "execution_count": 172,
   "id": "a9ee8dbb",
   "metadata": {},
   "outputs": [
    {
     "name": "stdout",
     "output_type": "stream",
     "text": [
      "10 400\n",
      "20 300\n",
      "30 200\n",
      "40 100\n"
     ]
    }
   ],
   "source": [
    "for i in range(len(list1)):\n",
    "    print(list1[i], list2[-i-1])\n",
    "    "
   ]
  },
  {
   "cell_type": "code",
   "execution_count": 178,
   "id": "23177386",
   "metadata": {},
   "outputs": [
    {
     "data": {
      "text/plain": [
       "[(10, 400), (20, 300), (30, 200), (40, 100)]"
      ]
     },
     "execution_count": 178,
     "metadata": {},
     "output_type": "execute_result"
    }
   ],
   "source": [
    "[(list1[i], list2[-i-1]) for i in range(len(list1))]"
   ]
  },
  {
   "cell_type": "code",
   "execution_count": null,
   "id": "ed54823a",
   "metadata": {},
   "outputs": [],
   "source": [
    "# Remove empty strings from the list of strings:list1=[\"Mike\",\"\",\"Emma\",\"Kelly\",\"\",\"Brad\"]"
   ]
  },
  {
   "cell_type": "code",
   "execution_count": 20,
   "id": "60f29fc8",
   "metadata": {},
   "outputs": [
    {
     "name": "stdout",
     "output_type": "stream",
     "text": [
      "['Mike', 'Emma', 'Kelly', 'Brad']\n"
     ]
    }
   ],
   "source": [
    "list1=[\"Mike\",\"\",\"Emma\",\"Kelly\",\"\",\"Brad\"]\n",
    "for i in list1:\n",
    "    if i==\"\":\n",
    "        list1.remove(\"\")\n",
    "print(list1)\n"
   ]
  },
  {
   "cell_type": "code",
   "execution_count": null,
   "id": "b5b2078a",
   "metadata": {},
   "outputs": [],
   "source": [
    "# using list comprehension"
   ]
  },
  {
   "cell_type": "code",
   "execution_count": null,
   "id": "6cd6b786",
   "metadata": {},
   "outputs": [],
   "source": [
    "[]"
   ]
  },
  {
   "cell_type": "code",
   "execution_count": 18,
   "id": "9b132510",
   "metadata": {},
   "outputs": [],
   "source": [
    " # Write a program to add item 7000 after 6000 in the following Python \n"
   ]
  },
  {
   "cell_type": "code",
   "execution_count": 18,
   "id": "86e56153",
   "metadata": {},
   "outputs": [],
   "source": [
    "a=[10,20,[300,400,[5000,6000],500],30,40]"
   ]
  },
  {
   "cell_type": "code",
   "execution_count": 19,
   "id": "0c51efd9",
   "metadata": {},
   "outputs": [],
   "source": [
    "a[2].insert(-1,7000)"
   ]
  },
  {
   "cell_type": "code",
   "execution_count": 20,
   "id": "85799423",
   "metadata": {},
   "outputs": [
    {
     "data": {
      "text/plain": [
       "[10, 20, [300, 400, [5000, 6000], 7000, 500], 30, 40]"
      ]
     },
     "execution_count": 20,
     "metadata": {},
     "output_type": "execute_result"
    }
   ],
   "source": [
    "a"
   ]
  },
  {
   "cell_type": "code",
   "execution_count": 21,
   "id": "b430435e",
   "metadata": {},
   "outputs": [],
   "source": [
    "# using list comprehension"
   ]
  },
  {
   "cell_type": "code",
   "execution_count": 23,
   "id": "47500930",
   "metadata": {},
   "outputs": [
    {
     "ename": "SyntaxError",
     "evalue": "invalid syntax. Perhaps you forgot a comma? (2218495111.py, line 1)",
     "output_type": "error",
     "traceback": [
      "\u001b[1;36m  Cell \u001b[1;32mIn[23], line 1\u001b[1;36m\u001b[0m\n\u001b[1;33m    [a[2].insert(-1,7000) a]\u001b[0m\n\u001b[1;37m     ^\u001b[0m\n\u001b[1;31mSyntaxError\u001b[0m\u001b[1;31m:\u001b[0m invalid syntax. Perhaps you forgot a comma?\n"
     ]
    }
   ],
   "source": [
    " [a[2].insert(-1,7000) ]"
   ]
  },
  {
   "cell_type": "code",
   "execution_count": null,
   "id": "9b7a4e2a",
   "metadata": {},
   "outputs": [],
   "source": [
    "'''You have given a nested list.Write a program to extend it by adding the sub list\n",
    "[\"h\",\"i\",\"j\"]in such a way that it will look like the following list.Given List:\n",
    "list1=[\"a\",\"b\",[\"c\",[\"d\",\"e\",[\"f\",\"g\"],\"k\"],\"l\"],\"m\",\"n\"]\n",
    "#sub list to add\n",
    "sub_list=[\"h\",\"i\",\"j\"]\n",
    "Expected Output:\n",
    "['a','b',['c',['d','e',['f','g','h','i','j'],'k'],'l'],'m','n']'''"
   ]
  },
  {
   "cell_type": "code",
   "execution_count": 126,
   "id": "153a9d26",
   "metadata": {},
   "outputs": [],
   "source": [
    "list1=[\"a\",\"b\",[\"c\",[\"d\",\"e\",[\"f\",\"g\"],\"k\"],\"l\"],\"m\",\"n\"]\n",
    "sub_list=[\"h\",\"i\",\"j\"]"
   ]
  },
  {
   "cell_type": "code",
   "execution_count": 127,
   "id": "c7f1a42f",
   "metadata": {},
   "outputs": [
    {
     "data": {
      "text/plain": [
       "['c', ['d', 'e', ['f', 'g'], 'k'], 'l']"
      ]
     },
     "execution_count": 127,
     "metadata": {},
     "output_type": "execute_result"
    }
   ],
   "source": [
    "list1[2]"
   ]
  },
  {
   "cell_type": "code",
   "execution_count": 128,
   "id": "ed351f02",
   "metadata": {},
   "outputs": [
    {
     "data": {
      "text/plain": [
       "['f', 'g']"
      ]
     },
     "execution_count": 128,
     "metadata": {},
     "output_type": "execute_result"
    }
   ],
   "source": [
    "list1[2][1][2]"
   ]
  },
  {
   "cell_type": "code",
   "execution_count": 129,
   "id": "a253422e",
   "metadata": {},
   "outputs": [
    {
     "data": {
      "text/plain": [
       "['a', 'b', ['c', ['d', 'e', ['f', 'g'], 'k'], 'l'], 'm', 'n']"
      ]
     },
     "execution_count": 129,
     "metadata": {},
     "output_type": "execute_result"
    }
   ],
   "source": [
    "list1"
   ]
  },
  {
   "cell_type": "code",
   "execution_count": 130,
   "id": "c4211871",
   "metadata": {},
   "outputs": [],
   "source": [
    "list1[2][1][2].extend(sub_list)"
   ]
  },
  {
   "cell_type": "code",
   "execution_count": 131,
   "id": "f1f2185e",
   "metadata": {},
   "outputs": [
    {
     "data": {
      "text/plain": [
       "['a', 'b', ['c', ['d', 'e', ['f', 'g', 'h', 'i', 'j'], 'k'], 'l'], 'm', 'n']"
      ]
     },
     "execution_count": 131,
     "metadata": {},
     "output_type": "execute_result"
    }
   ],
   "source": [
    "list1"
   ]
  },
  {
   "cell_type": "code",
   "execution_count": 132,
   "id": "aad9202c",
   "metadata": {},
   "outputs": [],
   "source": [
    "# using list comprehension"
   ]
  },
  {
   "cell_type": "code",
   "execution_count": null,
   "id": "41339a4a",
   "metadata": {},
   "outputs": [
    {
     "ename": "SyntaxError",
     "evalue": "invalid syntax. Perhaps you forgot a comma? (2935920810.py, line 1)",
     "output_type": "error",
     "traceback": [
      "\u001b[1;36m  Cell \u001b[1;32mIn[147], line 1\u001b[1;36m\u001b[0m\n\u001b[1;33m    a=[i  list1[2][1][2].extend(sub_list)]\u001b[0m\n\u001b[1;37m       ^\u001b[0m\n\u001b[1;31mSyntaxError\u001b[0m\u001b[1;31m:\u001b[0m invalid syntax. Perhaps you forgot a comma?\n"
     ]
    }
   ],
   "source": [
    "a=[ i  list1[2][1][2].extend(sub_list)]\n",
    "print(a)"
   ]
  },
  {
   "cell_type": "code",
   "execution_count": 39,
   "id": "1a7a7cd0",
   "metadata": {},
   "outputs": [
    {
     "data": {
      "text/plain": [
       "'You have given a Python list.Write a program to find value 20 in the list, and if\\nit is present,replace it with 200.Only update the first occurrence of an item.\\nGiven:list1=[5,10,15,20,25,50,20]'"
      ]
     },
     "execution_count": 39,
     "metadata": {},
     "output_type": "execute_result"
    }
   ],
   "source": [
    "'''You have given a Python list.Write a program to find value 20 in the list, and if\n",
    "it is present,replace it with 200.Only update the first occurrence of an item.\n",
    "Given:list1=[5,10,15,20,25,50,20]'''"
   ]
  },
  {
   "cell_type": "code",
   "execution_count": 118,
   "id": "98ffaf08",
   "metadata": {},
   "outputs": [
    {
     "name": "stdout",
     "output_type": "stream",
     "text": [
      "present in the list\n",
      "[5, 10, 15, 20, 25, 50, 200]\n"
     ]
    }
   ],
   "source": [
    "list1=[5,10,15,20,25,50,20]\n",
    "if 20 in list1:\n",
    "    print(\"present in the list\")\n",
    "    list1[-1]=200\n",
    "print(list1)"
   ]
  },
  {
   "cell_type": "code",
   "execution_count": 119,
   "id": "6958e904",
   "metadata": {},
   "outputs": [
    {
     "data": {
      "text/plain": [
       "'Given a Python list,write a program to remove all occurrences of item 20.\\nGiven: list1=[5,20,15,20,25,50,20]\\n'"
      ]
     },
     "execution_count": 119,
     "metadata": {},
     "output_type": "execute_result"
    }
   ],
   "source": [
    "'''Given a Python list,write a program to remove all occurrences of item 20.\n",
    "Given: list1=[5,20,15,20,25,50,20]\n",
    "'''"
   ]
  },
  {
   "cell_type": "code",
   "execution_count": 120,
   "id": "918b6d62",
   "metadata": {},
   "outputs": [
    {
     "name": "stdout",
     "output_type": "stream",
     "text": [
      "5\n",
      "15\n",
      "25\n",
      "50\n"
     ]
    }
   ],
   "source": [
    "list1=[5,20,15,20,25,50,20]\n",
    "for i in list1:\n",
    "    if i!=20:\n",
    "        print(i)\n"
   ]
  },
  {
   "cell_type": "code",
   "execution_count": 121,
   "id": "1800399f",
   "metadata": {},
   "outputs": [],
   "source": [
    "#using list comprehension"
   ]
  },
  {
   "cell_type": "code",
   "execution_count": 122,
   "id": "7f120e04",
   "metadata": {},
   "outputs": [
    {
     "data": {
      "text/plain": [
       "[5, 15, 25, 50]"
      ]
     },
     "execution_count": 122,
     "metadata": {},
     "output_type": "execute_result"
    }
   ],
   "source": [
    "[i for i in list1 if i!=20]"
   ]
  },
  {
   "cell_type": "code",
   "execution_count": 123,
   "id": "817baf6c",
   "metadata": {},
   "outputs": [],
   "source": [
    "# Rotate the characters in a string by a given number(e.g.,\"hello\" rotated by 2 bcomes\"lohel\")."
   ]
  },
  {
   "cell_type": "code",
   "execution_count": 3,
   "id": "e45179b1",
   "metadata": {},
   "outputs": [
    {
     "name": "stdout",
     "output_type": "stream",
     "text": [
      "Left Rotation: llohe\n"
     ]
    }
   ],
   "source": [
    "a = \"hello\"\n",
    "left= a[2:] + a[:2]\n",
    "print(\"Left Rotation:\", left)"
   ]
  }
 ],
 "metadata": {
  "kernelspec": {
   "display_name": "Python 3 (ipykernel)",
   "language": "python",
   "name": "python3"
  },
  "language_info": {
   "codemirror_mode": {
    "name": "ipython",
    "version": 3
   },
   "file_extension": ".py",
   "mimetype": "text/x-python",
   "name": "python",
   "nbconvert_exporter": "python",
   "pygments_lexer": "ipython3",
   "version": "3.11.5"
  }
 },
 "nbformat": 4,
 "nbformat_minor": 5
}
