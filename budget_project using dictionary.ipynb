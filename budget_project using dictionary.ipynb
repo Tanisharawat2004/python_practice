{
 "cells": [
  {
   "cell_type": "code",
   "execution_count": 1,
   "id": "63da755d",
   "metadata": {},
   "outputs": [
    {
     "name": "stdout",
     "output_type": "stream",
     "text": [
      "enter your salary: 10000\n",
      "enter the category you want: food\n",
      " enter the alloted amount: 1000\n",
      "enter yes/no do you want to continue or not:yes\n",
      "enter the category you want: housing\n",
      " enter the alloted amount: 5000\n",
      "enter yes/no do you want to continue or not:no\n",
      "Expense:{'food': {}, 'housing': {}}\n",
      "Budget:{'food': 1000, 'housing': 5000}\n"
     ]
    }
   ],
   "source": [
    "expense={}\n",
    "budget={}\n",
    "total_sal=int(input(\"enter your salary: \"))\n",
    "while True:\n",
    "    cat=input(\"enter the category you want: \") .lower()\n",
    "    amnt=int(input(\" enter the alloted amount: \"))\n",
    "    if total_sal>amnt:\n",
    "        total_sal-=amnt\n",
    "        if cat in expense:\n",
    "            budget[cat]=budget[cat]+amnt\n",
    "        else:\n",
    "            expense[cat]={}\n",
    "            budget[cat]=amnt\n",
    "    else:\n",
    "        print(f\"alloted amount for cat is more than your salary!\")\n",
    "    ch=input(\"enter yes/no do you want to continue or not:\").lower()\n",
    "    if ch==\"no\": break\n",
    "print(f\"Expense:{expense}\\nBudget:{budget}\")"
   ]
  },
  {
   "cell_type": "code",
   "execution_count": 119,
   "id": "44fc3fe6",
   "metadata": {},
   "outputs": [],
   "source": [
    "\n",
    "def cat(chk):\n",
    "    \n",
    "    if chk in expense:\n",
    "        #print (\"present\")\n",
    "        return True\n",
    "    else:\n",
    "        return False"
   ]
  },
  {
   "cell_type": "code",
   "execution_count": 120,
   "id": "a2508316",
   "metadata": {},
   "outputs": [],
   "source": [
    "#expense detail"
   ]
  },
  {
   "cell_type": "code",
   "execution_count": 125,
   "id": "34f5799b",
   "metadata": {},
   "outputs": [],
   "source": [
    "def expense_detail():\n",
    "    category=input(\"enter the category you want: \").lower()\n",
    "    if cat(category):\n",
    "        while True:\n",
    "            detail=input(\"enter the expense detail: \").lower()\n",
    "            d_amt=int(input(\"enter the spent amount:\"))\n",
    "            if budget[category]>=d_amt:\n",
    "                if detail in expense[category]: \n",
    "                    expense[category][detail]=expense[category][detail]+d_amt\n",
    "                    budget[category]-=d_amt\n",
    "                else:   \n",
    "                    expense[category][detail]=d_amt\n",
    "                    budget[category]-=d_amt\n",
    "            else:\n",
    "                print(f\"{d_amt} is more than remaining amount\")\n",
    "            op = input(f\"Do you want to add more details in {category}\").lower()\n",
    "            \n",
    "            if op == 'no':\n",
    "                break\n",
    "        cat_op = input(f\"Do you want to add more details in another category\").lower() \n",
    "        if cat_op == 'yes':\n",
    "            expense_detail()\n",
    "        else:\n",
    "            print(\"Expense entries are done\")\n",
    "            print(f\"Expense:{expense}\\nBudget:{budget}\")\n",
    "            \n",
    "    else:\n",
    "        print(f\"{category} is not present\")   \n",
    "        expense_detail()"
   ]
  },
  {
   "cell_type": "code",
   "execution_count": 126,
   "id": "d4c53f35",
   "metadata": {},
   "outputs": [
    {
     "name": "stdout",
     "output_type": "stream",
     "text": [
      "enter the category you want: clothing\n",
      "enter the expense detail: dress\n",
      "enter the spent amount:500\n",
      "Do you want to add more details in clothingyes\n",
      "enter the expense detail: shirt\n",
      "enter the spent amount:6000\n",
      "Do you want to add more details in clothingno\n",
      "Do you want to add more details in another categoryno\n",
      "Expense entries are done\n",
      "Expense:{'food': {'veg': 200, 'fruit': 300}, 'clothing': {'dress': 500, 'shirt': 6000}, 'hosuing': {}}\n",
      "Budget:{'food': 4500, 'clothing': 1500, 'hosuing': 10000}\n"
     ]
    }
   ],
   "source": [
    "expense_detail()"
   ]
  },
  {
   "cell_type": "code",
   "execution_count": null,
   "id": "3dd664c9",
   "metadata": {},
   "outputs": [],
   "source": []
  },
  {
   "cell_type": "code",
   "execution_count": null,
   "id": "841bee9f",
   "metadata": {},
   "outputs": [],
   "source": []
  },
  {
   "cell_type": "code",
   "execution_count": null,
   "id": "412de043",
   "metadata": {},
   "outputs": [],
   "source": []
  },
  {
   "cell_type": "code",
   "execution_count": null,
   "id": "64206ae4",
   "metadata": {},
   "outputs": [],
   "source": []
  },
  {
   "cell_type": "code",
   "execution_count": null,
   "id": "87b8eda1",
   "metadata": {},
   "outputs": [],
   "source": []
  }
 ],
 "metadata": {
  "kernelspec": {
   "display_name": "Python 3 (ipykernel)",
   "language": "python",
   "name": "python3"
  },
  "language_info": {
   "codemirror_mode": {
    "name": "ipython",
    "version": 3
   },
   "file_extension": ".py",
   "mimetype": "text/x-python",
   "name": "python",
   "nbconvert_exporter": "python",
   "pygments_lexer": "ipython3",
   "version": "3.11.5"
  }
 },
 "nbformat": 4,
 "nbformat_minor": 5
}
