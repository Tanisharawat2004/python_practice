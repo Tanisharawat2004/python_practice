{
 "cells": [
  {
   "cell_type": "markdown",
   "id": "c1565b3a",
   "metadata": {},
   "source": [
    "# Write a Python program to find the length of the longest name in the tuple using a for loop."
   ]
  },
  {
   "cell_type": "code",
   "execution_count": 11,
   "id": "234d49b4",
   "metadata": {},
   "outputs": [
    {
     "name": "stdout",
     "output_type": "stream",
     "text": [
      "Length of longest name: 7\n"
     ]
    }
   ],
   "source": [
    "tup = ('pooja','tanisha','poorvi','hemant','anshika')\n",
    "\n",
    "print(f\"Length of longest name: {max(list(map(len,tup)))}\")"
   ]
  },
  {
   "cell_type": "code",
   "execution_count": 24,
   "id": "cea271cb",
   "metadata": {},
   "outputs": [
    {
     "name": "stdout",
     "output_type": "stream",
     "text": [
      "tanisha\n",
      "anshika\n"
     ]
    }
   ],
   "source": [
    "tup = ('pooja','tanisha','poorvi','hemant','anshika')\n",
    "a=[]\n",
    "lst=list(map(len,tup))\n",
    "for i in range(len(lst)):\n",
    "    if lst[i]==max(lst):\n",
    "        a.append(i)\n",
    "for i in a:\n",
    "    print(tup[i])"
   ]
  },
  {
   "cell_type": "markdown",
   "id": "969a643f",
   "metadata": {},
   "source": [
    "# Sort a list of integers without using any built-in sort functions."
   ]
  },
  {
   "cell_type": "code",
   "execution_count": 23,
   "id": "8714fda4",
   "metadata": {},
   "outputs": [
    {
     "name": "stdout",
     "output_type": "stream",
     "text": [
      "[2, 3, 4, 5, 10, 20]\n"
     ]
    }
   ],
   "source": [
    "#bubble sort\n",
    "lst=[2,10,3,20,4,5]\n",
    "\n",
    "for i in range(len(lst)):\n",
    "    for j in range(len(lst)-i-1):\n",
    "        if lst[j]>lst[j+1]:\n",
    "            lst[j],lst[j+1]=lst[j+1],lst[j]\n",
    "print(lst)"
   ]
  },
  {
   "cell_type": "code",
   "execution_count": 19,
   "id": "ef4cc3ae",
   "metadata": {},
   "outputs": [],
   "source": [
    "a=10\n",
    "b=20"
   ]
  },
  {
   "cell_type": "code",
   "execution_count": 20,
   "id": "3e3cc75c",
   "metadata": {},
   "outputs": [
    {
     "data": {
      "text/plain": [
       "(10, 20)"
      ]
     },
     "execution_count": 20,
     "metadata": {},
     "output_type": "execute_result"
    }
   ],
   "source": [
    "a,b"
   ]
  },
  {
   "cell_type": "code",
   "execution_count": 21,
   "id": "e39ada02",
   "metadata": {},
   "outputs": [],
   "source": [
    "a,b=b,a"
   ]
  },
  {
   "cell_type": "code",
   "execution_count": 22,
   "id": "4f8af4ab",
   "metadata": {},
   "outputs": [
    {
     "data": {
      "text/plain": [
       "(20, 10)"
      ]
     },
     "execution_count": 22,
     "metadata": {},
     "output_type": "execute_result"
    }
   ],
   "source": [
    "a,b"
   ]
  },
  {
   "cell_type": "raw",
   "id": "b658a5e2",
   "metadata": {},
   "source": [
    "9. Iterate both lists simultaneously\n",
    "Given:\n",
    "list1 = [10, 20, 30, 40]\n",
    "list2 = [100, 200, 300, 400]\n",
    "Expected output: \n",
    "10 400\n",
    "20 300\n",
    "30 200\n",
    "40 100"
   ]
  },
  {
   "cell_type": "code",
   "execution_count": 27,
   "id": "b84c75ef",
   "metadata": {},
   "outputs": [
    {
     "name": "stdout",
     "output_type": "stream",
     "text": [
      "10 400\n",
      "20 300\n",
      "30 200\n",
      "40 100\n"
     ]
    }
   ],
   "source": [
    "list1 = [10, 20, 30, 40]\n",
    "list2 = [100, 200, 300, 400]\n",
    "\n",
    "for i,j in list(zip(list1,list2[::-1])):\n",
    "    print(f\"{i} {j}\")"
   ]
  },
  {
   "cell_type": "code",
   "execution_count": 28,
   "id": "1847482d",
   "metadata": {},
   "outputs": [
    {
     "name": "stdout",
     "output_type": "stream",
     "text": [
      "10 400\n",
      "20 300\n",
      "30 200\n",
      "40 100\n"
     ]
    }
   ],
   "source": [
    "for i in range(len(list1)):\n",
    "    print(f\"{list1[i]} {list2[-(i+1)]}\")\n",
    "    "
   ]
  },
  {
   "cell_type": "code",
   "execution_count": null,
   "id": "e4a6a04b",
   "metadata": {},
   "outputs": [],
   "source": []
  }
 ],
 "metadata": {
  "kernelspec": {
   "display_name": "Python 3 (ipykernel)",
   "language": "python",
   "name": "python3"
  },
  "language_info": {
   "codemirror_mode": {
    "name": "ipython",
    "version": 3
   },
   "file_extension": ".py",
   "mimetype": "text/x-python",
   "name": "python",
   "nbconvert_exporter": "python",
   "pygments_lexer": "ipython3",
   "version": "3.11.5"
  }
 },
 "nbformat": 4,
 "nbformat_minor": 5
}
