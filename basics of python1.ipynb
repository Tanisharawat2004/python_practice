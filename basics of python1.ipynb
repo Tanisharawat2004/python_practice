{
 "cells": [
  {
   "cell_type": "markdown",
   "id": "c32eda44",
   "metadata": {},
   "source": [
    "# basics of python"
   ]
  },
  {
   "cell_type": "code",
   "execution_count": 2,
   "id": "3125de3a",
   "metadata": {},
   "outputs": [],
   "source": [
    "'''using of print function\n",
    "print function is used to print outpt\n",
    "syntax:print()'''"
   ]
  },
  {
   "cell_type": "code",
   "execution_count": 3,
   "id": "1caa01eb",
   "metadata": {},
   "outputs": [
    {
     "name": "stdout",
     "output_type": "stream",
     "text": [
      "10\n",
      "5\n",
      "this is jupiter notebook\n"
     ]
    }
   ],
   "source": [
    "a=10\n",
    "print(a)\n",
    "b=2+3\n",
    "print(b)\n",
    "print(\"this is jupiter notebook\")"
   ]
  },
  {
   "cell_type": "markdown",
   "id": "faf14129",
   "metadata": {},
   "source": [
    "# datatypes in python"
   ]
  },
  {
   "cell_type": "code",
   "execution_count": 8,
   "id": "fd3b967b",
   "metadata": {},
   "outputs": [
    {
     "name": "stdout",
     "output_type": "stream",
     "text": [
      "<class 'int'>\n"
     ]
    }
   ],
   "source": [
    "# 1.integer datatype\n",
    "'''where a is variable having value 10\n",
    "to print datatype\n",
    "syntax: print(type(variable))'''\n",
    "a=10\n",
    "print(type(a))"
   ]
  },
  {
   "cell_type": "code",
   "execution_count": null,
   "id": "7fbc8c75",
   "metadata": {},
   "outputs": [],
   "source": [
    "#2.string datatype ( it is a character or string type)"
   ]
  },
  {
   "cell_type": "code",
   "execution_count": 4,
   "id": "60103f2a",
   "metadata": {},
   "outputs": [
    {
     "name": "stdout",
     "output_type": "stream",
     "text": [
      "tanisha\n",
      "<class 'str'>\n"
     ]
    }
   ],
   "source": [
    "z=\"tanisha\"\n",
    "print(z)\n",
    "print (type(z))"
   ]
  },
  {
   "cell_type": "code",
   "execution_count": null,
   "id": "6a7a6d94",
   "metadata": {},
   "outputs": [],
   "source": [
    "# 3.boolean datatype (whether it is True or False)"
   ]
  },
  {
   "cell_type": "code",
   "execution_count": 9,
   "id": "d6995480",
   "metadata": {},
   "outputs": [
    {
     "name": "stdout",
     "output_type": "stream",
     "text": [
      "<class 'bool'>\n",
      "<class 'bool'>\n"
     ]
    }
   ],
   "source": [
    "a=False\n",
    "print(type(a))\n",
    "b=True\n",
    "print(type(b))"
   ]
  },
  {
   "cell_type": "code",
   "execution_count": 1,
   "id": "9586b2f2",
   "metadata": {},
   "outputs": [
    {
     "name": "stdout",
     "output_type": "stream",
     "text": [
      "<class 'float'>\n"
     ]
    }
   ],
   "source": [
    "# 4.float datatype(it is in decimal form)\n",
    "a=307.67\n",
    "print(type(a))"
   ]
  },
  {
   "cell_type": "code",
   "execution_count": 13,
   "id": "8766e6ac",
   "metadata": {
    "scrolled": true
   },
   "outputs": [
    {
     "name": "stdout",
     "output_type": "stream",
     "text": [
      "<class 'complex'>\n"
     ]
    },
    {
     "data": {
      "text/plain": [
       "complex"
      ]
     },
     "execution_count": 13,
     "metadata": {},
     "output_type": "execute_result"
    }
   ],
   "source": [
    "#5.complex datatype(it has two parts real and imaginary)\n",
    "q=2+3j\n",
    "print(type(q))\n",
    "type(q)"
   ]
  },
  {
   "cell_type": "markdown",
   "id": "fc6ad10a",
   "metadata": {},
   "source": [
    "# variable names"
   ]
  },
  {
   "cell_type": "code",
   "execution_count": null,
   "id": "9c7a469e",
   "metadata": {},
   "outputs": [],
   "source": []
  },
  {
   "cell_type": "code",
   "execution_count": 9,
   "id": "5326d6b5",
   "metadata": {},
   "outputs": [
    {
     "name": "stdout",
     "output_type": "stream",
     "text": [
      "10\n"
     ]
    }
   ],
   "source": [
    "student_age=10\n",
    "print(student_age)"
   ]
  },
  {
   "cell_type": "code",
   "execution_count": null,
   "id": "0987e24d",
   "metadata": {},
   "outputs": [],
   "source": [
    "\"\\n is for breaking line\""
   ]
  },
  {
   "cell_type": "code",
   "execution_count": 8,
   "id": "261d4739",
   "metadata": {},
   "outputs": [
    {
     "name": "stdout",
     "output_type": "stream",
     "text": [
      "a= 11 \n",
      "b= 12 \n",
      "c= 6\n"
     ]
    }
   ],
   "source": [
    "a=11\n",
    "b=12\n",
    "c=6\n",
    "print(\"a=\",a,\"\\nb=\",b,\"\\nc=\",c)"
   ]
  },
  {
   "cell_type": "code",
   "execution_count": 20,
   "id": "79e6e1b9",
   "metadata": {},
   "outputs": [
    {
     "name": "stdout",
     "output_type": "stream",
     "text": [
      "10 10 10\n"
     ]
    }
   ],
   "source": [
    "a=b=c=10\n",
    "print(a,b,c)\n"
   ]
  },
  {
   "cell_type": "markdown",
   "id": "f40e8ccd",
   "metadata": {},
   "source": [
    "# commenting"
   ]
  },
  {
   "cell_type": "code",
   "execution_count": null,
   "id": "e0bb5074",
   "metadata": {},
   "outputs": [],
   "source": [
    "#we use \"#\"for commenting single line."
   ]
  },
  {
   "cell_type": "code",
   "execution_count": null,
   "id": "56dda7c9",
   "metadata": {},
   "outputs": [],
   "source": [
    "#this is a comment"
   ]
  },
  {
   "cell_type": "code",
   "execution_count": null,
   "id": "d1526e81",
   "metadata": {},
   "outputs": [],
   "source": [
    "\"\"\"we use \"\"\"\"\"\" to commenting multiple lines \"\"\"\n",
    "\"\"\" this is comment\n",
    "my name is tanisha\n",
    "i am 20 years old\"\"\"\n"
   ]
  },
  {
   "cell_type": "markdown",
   "id": "dc3deabf",
   "metadata": {},
   "source": [
    "# python booleans\n",
    "it represents values either True or False"
   ]
  },
  {
   "cell_type": "code",
   "execution_count": 2,
   "id": "960f1a1d",
   "metadata": {},
   "outputs": [
    {
     "data": {
      "text/plain": [
       "False"
      ]
     },
     "execution_count": 2,
     "metadata": {},
     "output_type": "execute_result"
    }
   ],
   "source": [
    "10>20"
   ]
  },
  {
   "cell_type": "code",
   "execution_count": 3,
   "id": "0959368b",
   "metadata": {},
   "outputs": [
    {
     "data": {
      "text/plain": [
       "True"
      ]
     },
     "execution_count": 3,
     "metadata": {},
     "output_type": "execute_result"
    }
   ],
   "source": [
    "20==20"
   ]
  },
  {
   "cell_type": "code",
   "execution_count": 4,
   "id": "38e06f94",
   "metadata": {},
   "outputs": [
    {
     "data": {
      "text/plain": [
       "False"
      ]
     },
     "execution_count": 4,
     "metadata": {},
     "output_type": "execute_result"
    }
   ],
   "source": [
    "x==0 "
   ]
  },
  {
   "cell_type": "code",
   "execution_count": 5,
   "id": "e6af4916",
   "metadata": {},
   "outputs": [
    {
     "data": {
      "text/plain": [
       "True"
      ]
     },
     "execution_count": 5,
     "metadata": {},
     "output_type": "execute_result"
    }
   ],
   "source": [
    "x==1"
   ]
  },
  {
   "cell_type": "code",
   "execution_count": 65,
   "id": "dbda85e6",
   "metadata": {},
   "outputs": [
    {
     "data": {
      "text/plain": [
       "True"
      ]
     },
     "execution_count": 65,
     "metadata": {},
     "output_type": "execute_result"
    }
   ],
   "source": [
    "#boolean value is true if  it has some values and 1\n",
    "bool(\"abcd\")\n",
    "bool (123)\n",
    "bool(1)"
   ]
  },
  {
   "cell_type": "code",
   "execution_count": 69,
   "id": "74148270",
   "metadata": {},
   "outputs": [
    {
     "data": {
      "text/plain": [
       "False"
      ]
     },
     "execution_count": 69,
     "metadata": {},
     "output_type": "execute_result"
    }
   ],
   "source": [
    "#boolean values is false if it is 0 , no values or empty sets and none\n",
    "bool()\n",
    "bool(0)\n",
    "bool([])"
   ]
  },
  {
   "cell_type": "code",
   "execution_count": null,
   "id": "0f408878",
   "metadata": {},
   "outputs": [],
   "source": []
  },
  {
   "cell_type": "markdown",
   "id": "51f2acc7",
   "metadata": {},
   "source": [
    "# typecasting\n",
    "convert one datatype to another"
   ]
  },
  {
   "cell_type": "code",
   "execution_count": 6,
   "id": "5a3d015c",
   "metadata": {},
   "outputs": [
    {
     "name": "stdout",
     "output_type": "stream",
     "text": [
      "enter the no445\n"
     ]
    }
   ],
   "source": [
    "x=45\n",
    "x=input(\"enter the no\")"
   ]
  },
  {
   "cell_type": "code",
   "execution_count": 5,
   "id": "4e2b9921",
   "metadata": {},
   "outputs": [
    {
     "name": "stdout",
     "output_type": "stream",
     "text": [
      "enter the no12\n"
     ]
    }
   ],
   "source": [
    "x= int(input(\"enter the no\"))"
   ]
  },
  {
   "cell_type": "code",
   "execution_count": 6,
   "id": "60e12d95",
   "metadata": {},
   "outputs": [
    {
     "data": {
      "text/plain": [
       "int"
      ]
     },
     "execution_count": 6,
     "metadata": {},
     "output_type": "execute_result"
    }
   ],
   "source": [
    "type(x)"
   ]
  },
  {
   "cell_type": "code",
   "execution_count": null,
   "id": "c72fcee9",
   "metadata": {},
   "outputs": [],
   "source": [
    "#typecasting into string"
   ]
  },
  {
   "cell_type": "code",
   "execution_count": 12,
   "id": "21a96ff9",
   "metadata": {},
   "outputs": [
    {
     "name": "stdout",
     "output_type": "stream",
     "text": [
      "enter the no2\n",
      "<class 'int'>\n",
      "enter the no5\n",
      "<class 'str'>\n"
     ]
    }
   ],
   "source": [
    "#int to string\n",
    "x=int(input(\"enter the no\"))\n",
    "print(type(x))\n",
    "x=str(input(\"enter the no\"))\n",
    "print(type(x))"
   ]
  },
  {
   "cell_type": "code",
   "execution_count": 15,
   "id": "a0b28545",
   "metadata": {},
   "outputs": [
    {
     "name": "stdout",
     "output_type": "stream",
     "text": [
      "enter the no20.67\n",
      "<class 'float'>\n",
      "enter the no30.67\n",
      "<class 'str'>\n"
     ]
    }
   ],
   "source": [
    "#float to string\n",
    "x=float(input(\"enter the no\"))\n",
    "print(type(x))\n",
    "x=str(input(\"enter the no\"))\n",
    "print(type(x))"
   ]
  },
  {
   "cell_type": "code",
   "execution_count": 21,
   "id": "ed479092",
   "metadata": {},
   "outputs": [
    {
     "name": "stdout",
     "output_type": "stream",
     "text": [
      "enter the no2+3j\n",
      "<class 'complex'>\n",
      "enter the no2+3j\n",
      "<class 'str'>\n"
     ]
    }
   ],
   "source": [
    "#complex to string\n",
    "x= complex(input(\"enter the no\"))\n",
    "print(type(x))\n",
    "x=str(input(\"enter the no\"))\n",
    "print(type(x))"
   ]
  },
  {
   "cell_type": "code",
   "execution_count": 37,
   "id": "3200a580",
   "metadata": {},
   "outputs": [
    {
     "name": "stdout",
     "output_type": "stream",
     "text": [
      "2.0\n"
     ]
    }
   ],
   "source": [
    "#int to float\n",
    "a=2\n",
    "type(a)\n",
    "\n",
    "a=float(a)\n",
    "type(a)\n",
    "print(a)"
   ]
  },
  {
   "cell_type": "code",
   "execution_count": 40,
   "id": "9c32232a",
   "metadata": {},
   "outputs": [
    {
     "name": "stdout",
     "output_type": "stream",
     "text": [
      "<class 'int'>\n",
      "20\n"
     ]
    }
   ],
   "source": [
    "#float to int\n",
    "a=20.0\n",
    "type(a)\n",
    "a=int(a)\n",
    "print(type(a))\n",
    "print(a)"
   ]
  },
  {
   "cell_type": "code",
   "execution_count": 44,
   "id": "be1a961a",
   "metadata": {},
   "outputs": [
    {
     "name": "stdout",
     "output_type": "stream",
     "text": [
      "(2+0j)\n"
     ]
    },
    {
     "data": {
      "text/plain": [
       "complex"
      ]
     },
     "execution_count": 44,
     "metadata": {},
     "output_type": "execute_result"
    }
   ],
   "source": [
    "#float to complex\n",
    "b=2\n",
    "type(b)\n",
    "\n",
    "b=complex(b)\n",
    "print(b)\n",
    "type(b)"
   ]
  },
  {
   "cell_type": "code",
   "execution_count": 47,
   "id": "5cbc7606",
   "metadata": {},
   "outputs": [
    {
     "ename": "TypeError",
     "evalue": "int() argument must be a string, a bytes-like object or a real number, not 'complex'",
     "output_type": "error",
     "traceback": [
      "\u001b[1;31m---------------------------------------------------------------------------\u001b[0m",
      "\u001b[1;31mTypeError\u001b[0m                                 Traceback (most recent call last)",
      "Cell \u001b[1;32mIn[47], line 4\u001b[0m\n\u001b[0;32m      2\u001b[0m a\u001b[38;5;241m=\u001b[39m\u001b[38;5;241m10\u001b[39m\u001b[38;5;241m+\u001b[39m\u001b[38;5;241m3\u001b[39mJ\n\u001b[0;32m      3\u001b[0m \u001b[38;5;28mtype\u001b[39m(a)\n\u001b[1;32m----> 4\u001b[0m a\u001b[38;5;241m=\u001b[39m\u001b[38;5;28mint\u001b[39m(a)\n\u001b[0;32m      5\u001b[0m \u001b[38;5;28mtype\u001b[39m(a)\n",
      "\u001b[1;31mTypeError\u001b[0m: int() argument must be a string, a bytes-like object or a real number, not 'complex'"
     ]
    }
   ],
   "source": [
    "#complex to int/float(complex cannot convert into int/float )\n",
    "a=10+3J\n",
    "type(a)\n",
    "a=int(a)\n",
    "type(a)"
   ]
  },
  {
   "cell_type": "code",
   "execution_count": 48,
   "id": "d8a38272",
   "metadata": {},
   "outputs": [
    {
     "ename": "TypeError",
     "evalue": "float() argument must be a string or a real number, not 'complex'",
     "output_type": "error",
     "traceback": [
      "\u001b[1;31m---------------------------------------------------------------------------\u001b[0m",
      "\u001b[1;31mTypeError\u001b[0m                                 Traceback (most recent call last)",
      "Cell \u001b[1;32mIn[48], line 3\u001b[0m\n\u001b[0;32m      1\u001b[0m a\u001b[38;5;241m=\u001b[39m\u001b[38;5;241m10\u001b[39m\u001b[38;5;241m+\u001b[39m\u001b[38;5;241m3\u001b[39mJ\n\u001b[0;32m      2\u001b[0m \u001b[38;5;28mtype\u001b[39m(a)\n\u001b[1;32m----> 3\u001b[0m a\u001b[38;5;241m=\u001b[39m\u001b[38;5;28mfloat\u001b[39m(a)\n\u001b[0;32m      4\u001b[0m \u001b[38;5;28mtype\u001b[39m(a)\n",
      "\u001b[1;31mTypeError\u001b[0m: float() argument must be a string or a real number, not 'complex'"
     ]
    }
   ],
   "source": [
    "a=10+3J\n",
    "type(a)\n",
    "a=float(a)\n",
    "type(a)"
   ]
  },
  {
   "cell_type": "code",
   "execution_count": 54,
   "id": "c1dd31c4",
   "metadata": {},
   "outputs": [
    {
     "name": "stdout",
     "output_type": "stream",
     "text": [
      "<class 'complex'>\n",
      "(20+3j)\n"
     ]
    }
   ],
   "source": [
    "#complex to string is possible if it has numeric values\n",
    "c=20+1J\n",
    "print(type(c))\n",
    "c=complex(\"20+3J\")\n",
    "print(c)"
   ]
  },
  {
   "cell_type": "code",
   "execution_count": 55,
   "id": "061021d4",
   "metadata": {},
   "outputs": [
    {
     "ename": "ValueError",
     "evalue": "complex() arg is a malformed string",
     "output_type": "error",
     "traceback": [
      "\u001b[1;31m---------------------------------------------------------------------------\u001b[0m",
      "\u001b[1;31mValueError\u001b[0m                                Traceback (most recent call last)",
      "Cell \u001b[1;32mIn[55], line 1\u001b[0m\n\u001b[1;32m----> 1\u001b[0m c\u001b[38;5;241m=\u001b[39m\u001b[38;5;28mcomplex\u001b[39m(\u001b[38;5;124m\"\u001b[39m\u001b[38;5;124mtanisha\u001b[39m\u001b[38;5;124m\"\u001b[39m)\n\u001b[0;32m      2\u001b[0m \u001b[38;5;28mprint\u001b[39m(c)\n",
      "\u001b[1;31mValueError\u001b[0m: complex() arg is a malformed string"
     ]
    }
   ],
   "source": [
    "c=complex(\"tanisha\")\n",
    "print(c)"
   ]
  },
  {
   "cell_type": "code",
   "execution_count": null,
   "id": "8f10134b",
   "metadata": {},
   "outputs": [],
   "source": []
  },
  {
   "cell_type": "code",
   "execution_count": null,
   "id": "01766b1e",
   "metadata": {},
   "outputs": [],
   "source": []
  },
  {
   "cell_type": "code",
   "execution_count": null,
   "id": "f34bf2a8",
   "metadata": {},
   "outputs": [],
   "source": []
  }
 ],
 "metadata": {
  "kernelspec": {
   "display_name": "Python 3 (ipykernel)",
   "language": "python",
   "name": "python3"
  },
  "language_info": {
   "codemirror_mode": {
    "name": "ipython",
    "version": 3
   },
   "file_extension": ".py",
   "mimetype": "text/x-python",
   "name": "python",
   "nbconvert_exporter": "python",
   "pygments_lexer": "ipython3",
   "version": "3.11.5"
  }
 },
 "nbformat": 4,
 "nbformat_minor": 5
}
