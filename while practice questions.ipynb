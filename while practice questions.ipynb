{
 "cells": [
  {
   "cell_type": "code",
   "execution_count": null,
   "id": "965f1034",
   "metadata": {},
   "outputs": [],
   "source": [
    "#sum of numbers"
   ]
  },
  {
   "cell_type": "code",
   "execution_count": 3,
   "id": "172bd161",
   "metadata": {},
   "outputs": [
    {
     "name": "stdout",
     "output_type": "stream",
     "text": [
      "enter the no3\n",
      "6\n"
     ]
    }
   ],
   "source": [
    "n=int(input(\"enter the no\"))\n",
    "sum=0\n",
    "i=0\n",
    "while i<=n:\n",
    "    sum+=i\n",
    "    i+=1\n",
    "print(sum) "
   ]
  },
  {
   "cell_type": "code",
   "execution_count": 2,
   "id": "76d2801a",
   "metadata": {},
   "outputs": [],
   "source": [
    "# product of numbers:"
   ]
  },
  {
   "cell_type": "code",
   "execution_count": 2,
   "id": "823770eb",
   "metadata": {},
   "outputs": [
    {
     "name": "stdout",
     "output_type": "stream",
     "text": [
      "enter the no10\n",
      "10\n"
     ]
    }
   ],
   "source": [
    "n=list (map(int,input(\"enter the no\").split(\",\")))\n",
    "pr=1\n",
    "i=0\n",
    "while i<len(n):\n",
    "    pr*=n[i]\n",
    "    i+=1\n",
    "print(pr) "
   ]
  },
  {
   "cell_type": "code",
   "execution_count": null,
   "id": "6d7a1b75",
   "metadata": {},
   "outputs": [],
   "source": [
    "#print vowels and consonant separate from the string"
   ]
  },
  {
   "cell_type": "code",
   "execution_count": 3,
   "id": "a2c2da31",
   "metadata": {},
   "outputs": [
    {
     "name": "stdout",
     "output_type": "stream",
     "text": [
      "enter the string:kanika\n",
      "['a', 'i', 'a'] vowel\n",
      " ['k', 'n', 'k']consonant\n"
     ]
    }
   ],
   "source": [
    "s=input(\"enter the string:\")\n",
    "v=[]\n",
    "c=[]\n",
    "i=0\n",
    "while i<len(s):\n",
    "    if s[i].lower() in [\"a\",\"e\",\"i\",\"o\",\"u\"]:\n",
    "        v.append(s[i])\n",
    "    else:\n",
    "        c.append(s[i])\n",
    "    i+=1\n",
    "print(f\"{v} vowel\\n {c}consonant\")"
   ]
  },
  {
   "cell_type": "code",
   "execution_count": null,
   "id": "6a7b396e",
   "metadata": {},
   "outputs": [],
   "source": [
    "#print number from 1 to n"
   ]
  },
  {
   "cell_type": "code",
   "execution_count": 4,
   "id": "2ea17664",
   "metadata": {},
   "outputs": [
    {
     "name": "stdout",
     "output_type": "stream",
     "text": [
      "enter the no: 10\n",
      "these are the numbers: \n",
      "1\n",
      "2\n",
      "3\n",
      "4\n",
      "5\n",
      "6\n",
      "7\n",
      "8\n",
      "9\n",
      "10\n"
     ]
    }
   ],
   "source": [
    "n=int(input(\"enter the no: \"))\n",
    "i=1\n",
    "print(\"these are the numbers: \")\n",
    "while i<=n:\n",
    "    print(i)\n",
    "    i+=1"
   ]
  },
  {
   "cell_type": "code",
   "execution_count": null,
   "id": "9ffa5c8b",
   "metadata": {},
   "outputs": [],
   "source": [
    "# print reverse counting"
   ]
  },
  {
   "cell_type": "code",
   "execution_count": 5,
   "id": "138bc630",
   "metadata": {},
   "outputs": [
    {
     "name": "stdout",
     "output_type": "stream",
     "text": [
      "enter the no: 10\n",
      "reverse no:\n",
      "10\n",
      "9\n",
      "8\n",
      "7\n",
      "6\n",
      "5\n",
      "4\n",
      "3\n",
      "2\n",
      "1\n"
     ]
    }
   ],
   "source": [
    "n=int(input(\"enter the no: \"))\n",
    "print(\"reverse no:\")\n",
    "while n>=1:\n",
    "    print(n)\n",
    "    n-=1\n",
    "    "
   ]
  },
  {
   "cell_type": "code",
   "execution_count": null,
   "id": "9b9a6aed",
   "metadata": {},
   "outputs": [],
   "source": [
    "# take 10 inputs from keyboard using loop and print average on screen"
   ]
  },
  {
   "cell_type": "code",
   "execution_count": null,
   "id": "383483be",
   "metadata": {},
   "outputs": [],
   "source": [
    "n=int(input(\"enter the no:\"))\n",
    "sum=0\n",
    "i=0\n",
    "while i<=n:\n",
    "    sum+=i\n",
    "    avg=sum/n\n",
    "    i+=1\n",
    "print(f\"sum is {sum} and  average {avg}\")\n",
    "\n"
   ]
  },
  {
   "cell_type": "code",
   "execution_count": null,
   "id": "ca090996",
   "metadata": {},
   "outputs": [],
   "source": [
    "#print the pattern using loop\n",
    "\n",
    "''''*\n",
    "    **\n",
    "    ***\n",
    "    ****''' \n",
    "\n"
   ]
  },
  {
   "cell_type": "code",
   "execution_count": 6,
   "id": "1db0bc13",
   "metadata": {},
   "outputs": [
    {
     "name": "stdout",
     "output_type": "stream",
     "text": [
      "*\n",
      "**\n",
      "***\n",
      "****\n",
      "*****\n"
     ]
    }
   ],
   "source": [
    "i=1\n",
    "while i<=5:\n",
    "    print(\"*\"*i)\n",
    "    i+=1\n"
   ]
  },
  {
   "cell_type": "code",
   "execution_count": null,
   "id": "9f066017",
   "metadata": {},
   "outputs": [],
   "source": [
    "#Print multiplication table of 24, 50 and 29 using loop\n",
    "\n"
   ]
  },
  {
   "cell_type": "code",
   "execution_count": 8,
   "id": "798b431f",
   "metadata": {},
   "outputs": [
    {
     "name": "stdout",
     "output_type": "stream",
     "text": [
      "enter the no: 24,50,29\n",
      "24x1=24  50x1=50  29x1=29 \n",
      "24x2=48  50x2=100  29x2=58 \n",
      "24x3=72  50x3=150  29x3=87 \n",
      "24x4=96  50x4=200  29x4=116 \n",
      "24x5=120  50x5=250  29x5=145 \n",
      "24x6=144  50x6=300  29x6=174 \n",
      "24x7=168  50x7=350  29x7=203 \n",
      "24x8=192  50x8=400  29x8=232 \n",
      "24x9=216  50x9=450  29x9=261 \n",
      "24x10=240  50x10=500  29x10=290 \n"
     ]
    }
   ],
   "source": [
    "a,b,c=map(int,input(\"enter the no: \").split(\",\"))\n",
    "i=1\n",
    "while i<=10:\n",
    "    print(f\"{a}x{i}={a*i}  {b}x{i}={b*i}  {c}x{i}={c*i}\",end=\"\")\n",
    "    print(\" \")\n",
    "    i+=1\n"
   ]
  },
  {
   "cell_type": "code",
   "execution_count": null,
   "id": "e7c26c10",
   "metadata": {},
   "outputs": [],
   "source": [
    "#print factorial"
   ]
  },
  {
   "cell_type": "code",
   "execution_count": 9,
   "id": "bc8028ba",
   "metadata": {},
   "outputs": [
    {
     "name": "stdout",
     "output_type": "stream",
     "text": [
      "enter the no:5\n",
      "5! = 5= 120\n"
     ]
    }
   ],
   "source": [
    "n=int(input(\"enter the no:\"))\n",
    "fact=1\n",
    "i=1\n",
    "while i<=n:\n",
    "    if n==0 and n==1:\n",
    "        print(1)\n",
    "    else:\n",
    "        fact*=i\n",
    "        i+=1\n",
    "print(f\"{n}! = {n}= {fact}\")\n"
   ]
  },
  {
   "cell_type": "code",
   "execution_count": null,
   "id": "dd19deed",
   "metadata": {},
   "outputs": [],
   "source": [
    "# Take integer inputs from user until he/she presses q ( Ask to press q to quit after every integer input ). Print average and product of all numbers."
   ]
  },
  {
   "cell_type": "code",
   "execution_count": 1,
   "id": "a019599d",
   "metadata": {},
   "outputs": [
    {
     "name": "stdout",
     "output_type": "stream",
     "text": [
      "enter the no: 2\n",
      "you want to quit:yes\n",
      "average of 2 is 1.5 and  product 2\n"
     ]
    }
   ],
   "source": [
    "while True:\n",
    "    n=int(input(\"enter the no: \"))\n",
    "    q=input(\"you want to quit:\")\n",
    "    if q ==\"yes\":\n",
    "        break\n",
    "    else:\n",
    "        continue\n",
    "i=1\n",
    "avg=0\n",
    "sum=0\n",
    "p=1\n",
    "while i<=n:\n",
    "    sum+=i\n",
    "    p*=i\n",
    "    avg=sum/n\n",
    "    i+=1\n",
    "print(f\"average of {n} is {avg} and  product {p}\")\n",
    "    "
   ]
  },
  {
   "cell_type": "code",
   "execution_count": 8,
   "id": "7f86d07e",
   "metadata": {},
   "outputs": [
    {
     "name": "stdout",
     "output_type": "stream",
     "text": [
      "     5   \n",
      "    5 10   \n",
      "   5 10 15   \n",
      "  5 10 15 20   \n",
      " 5 10 15 20 25   \n"
     ]
    }
   ],
   "source": [
    "k=4\n",
    "for i in range(1,6):\n",
    "    print(\" \"*k,end=\" \")\n",
    "    for j in range(1,i+1):\n",
    "        print(j*5,end=\" \")\n",
    "    print(\"  \")\n",
    "    k-=1"
   ]
  },
  {
   "cell_type": "code",
   "execution_count": null,
   "id": "90c8178c",
   "metadata": {},
   "outputs": [],
   "source": []
  },
  {
   "cell_type": "code",
   "execution_count": null,
   "id": "15451959",
   "metadata": {},
   "outputs": [],
   "source": []
  },
  {
   "cell_type": "code",
   "execution_count": null,
   "id": "6fb4170e",
   "metadata": {},
   "outputs": [],
   "source": []
  },
  {
   "cell_type": "code",
   "execution_count": null,
   "id": "83214986",
   "metadata": {},
   "outputs": [],
   "source": []
  }
 ],
 "metadata": {
  "kernelspec": {
   "display_name": "Python 3 (ipykernel)",
   "language": "python",
   "name": "python3"
  },
  "language_info": {
   "codemirror_mode": {
    "name": "ipython",
    "version": 3
   },
   "file_extension": ".py",
   "mimetype": "text/x-python",
   "name": "python",
   "nbconvert_exporter": "python",
   "pygments_lexer": "ipython3",
   "version": "3.11.5"
  }
 },
 "nbformat": 4,
 "nbformat_minor": 5
}
