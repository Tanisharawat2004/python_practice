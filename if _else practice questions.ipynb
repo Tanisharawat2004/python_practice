{
 "cells": [
  {
   "cell_type": "code",
   "execution_count": null,
   "id": "a6347dea",
   "metadata": {},
   "outputs": [],
   "source": [
    "# grade the childrens according to marks"
   ]
  },
  {
   "cell_type": "code",
   "execution_count": 22,
   "id": "4536fd94",
   "metadata": {},
   "outputs": [
    {
     "name": "stdout",
     "output_type": "stream",
     "text": [
      "enter the marks of student: 50\n",
      "D\n"
     ]
    }
   ],
   "source": [
    "marks_student=int(input(\"enter the marks of student: \"))\n",
    "if marks_student>90:print(f\"A+\")\n",
    "elif marks_student>=81 and marks_student<=90:print(f\"A\")\n",
    "elif marks_student>=71 and marks_student<=80:print(f\"B+\")\n",
    "elif marks_student>=61 and marks_student<=70:print(f\"B\")\n",
    "elif marks_student>=51 and marks_student<=60:print(f\"C\")\n",
    "elif marks_student>=40 and marks_student<=50:print(f\"D\")\n",
    "else:print(f\"FAIL\")\n",
    "                  "
   ]
  },
  {
   "cell_type": "code",
   "execution_count": null,
   "id": "28603a9d",
   "metadata": {},
   "outputs": [],
   "source": [
    "# Write a program that takes three numbers as input and prints the largest among them."
   ]
  },
  {
   "cell_type": "code",
   "execution_count": 53,
   "id": "fbe05326",
   "metadata": {},
   "outputs": [
    {
     "name": "stdout",
     "output_type": "stream",
     "text": [
      "enter the no :30,40,50\n",
      "50 is greatest \n"
     ]
    }
   ],
   "source": [
    "a,b,c = map(int,input(\"enter the no :\").split(\",\"))\n",
    "if a>b and a>c:print(f\"{a} is greatest \")\n",
    "elif b>a and b>c:print(f\"{b} is greatest \")\n",
    "else:print(f\"{c} is greatest \")"
   ]
  },
  {
   "cell_type": "code",
   "execution_count": null,
   "id": "dc8393ff",
   "metadata": {},
   "outputs": [],
   "source": [
    "# Write a program that takes three numbers and print them in ascending."
   ]
  },
  {
   "cell_type": "code",
   "execution_count": 1,
   "id": "316c460a",
   "metadata": {},
   "outputs": [
    {
     "name": "stdout",
     "output_type": "stream",
     "text": [
      "enter the no: 100\n",
      "enter the no: 200\n",
      "enter the no: 1\n",
      "1 100 200\n"
     ]
    }
   ],
   "source": [
    "n1=int(input(\"enter the no: \"))\n",
    "n2=int(input(\"enter the no: \"))\n",
    "n3=int(input(\"enter the no: \"))\n",
    "if n1<n2 and n1<n3 and n2<n3:print(n1,n2,n3)\n",
    "elif n2<n1 and n2<n3 and n1<n3:print(n2,n1,n3)\n",
    "else:\n",
    "    if n3<n1 and n3<n2 and n1<n2:\n",
    "        print(n3,n1,n2)\n",
    "    else:\n",
    "        print(n3,n2,n1)\n",
    "       "
   ]
  },
  {
   "cell_type": "code",
   "execution_count": null,
   "id": "43b1e8e1",
   "metadata": {},
   "outputs": [],
   "source": []
  },
  {
   "cell_type": "code",
   "execution_count": null,
   "id": "3d185f4c",
   "metadata": {},
   "outputs": [],
   "source": [
    "#  Write a program in python to find out whether a year entered through keyboard is leap year or not. \n"
   ]
  },
  {
   "cell_type": "code",
   "execution_count": 23,
   "id": "1c7abb6d",
   "metadata": {},
   "outputs": [
    {
     "name": "stdout",
     "output_type": "stream",
     "text": [
      "enter the year:2028\n",
      "2028 it is leap year\n"
     ]
    }
   ],
   "source": [
    "year_1=int(input(\"enter the year:\"))\n",
    "if year_1%4==0:print(f\"{year_1} it is leap year\")\n",
    "else:\n",
    "    print(f\"{year_1} is not a leap year \")    "
   ]
  },
  {
   "cell_type": "code",
   "execution_count": null,
   "id": "eebc1474",
   "metadata": {},
   "outputs": [],
   "source": [
    "#  Write a program that takes a character as input and determines whether it is a vowel or a consonant."
   ]
  },
  {
   "cell_type": "code",
   "execution_count": 43,
   "id": "11bd0a73",
   "metadata": {},
   "outputs": [
    {
     "name": "stdout",
     "output_type": "stream",
     "text": [
      "enter the character: i\n",
      "i is vowel\n"
     ]
    }
   ],
   "source": [
    "character_1=input(\"enter the character: \")\n",
    "if character_1. lower() in [\"a\",\"e\",\"i\",\"o\",\"u\"] :print(f\"{character_1} is vowel\")\n",
    "else:print(f\"{character_1} is consonant\")\n",
    "        "
   ]
  },
  {
   "cell_type": "code",
   "execution_count": null,
   "id": "cfebe755",
   "metadata": {},
   "outputs": [],
   "source": [
    "# 5. Create a simple calculator program that performs addition, subtraction, multiplication, or division based on user input."
   ]
  },
  {
   "cell_type": "code",
   "execution_count": 10,
   "id": "b856dde3",
   "metadata": {},
   "outputs": [
    {
     "name": "stdout",
     "output_type": "stream",
     "text": [
      "enter the first no: 4\n",
      "enter the second no: 4\n",
      "enter your choice between 1 to 6: 1\n",
      "4+ 4 sum is 8\n"
     ]
    }
   ],
   "source": [
    "a=int(input(\"enter the first no: \" ))\n",
    "b=int(input(\"enter the second no: \"))\n",
    "ch=int(input(\"enter your choice between 1 to 6: \"))\n",
    "if ch==1:print(f\"{a}+ {b} sum is {a+b}\")\n",
    "elif ch==2:print(f\"{a}- {b} subtract is {a-b}\")\n",
    "elif ch==3:print(f\"{a}* {b} product is {a*b}\")\n",
    "elif ch==4:print(f\"{a}/ {b} division is {a/b}\")\n",
    "elif ch==5:print(f\"{a}// {b} quotient is {a//b}\")\n",
    "elif ch==6:print(f\"{a}% {b}  modulus is {a%b}\")\n",
    "else:print(f\"invalid choice enter again\")\n",
    "\n",
    "    "
   ]
  },
  {
   "cell_type": "code",
   "execution_count": null,
   "id": "be881503",
   "metadata": {},
   "outputs": [],
   "source": [
    "#  Write a program that converts temperatures between Celsius and Fahrenheit. Ask the user for the temperature and the unit, and then perform the conversion."
   ]
  },
  {
   "cell_type": "code",
   "execution_count": null,
   "id": "1f631cd5",
   "metadata": {},
   "outputs": [],
   "source": [
    "input_1=float(input(\"enter the temperature: \"))\n",
    "unit_1=input(\"enter the unit of temperature(c/f) : \")\n",
    "if "
   ]
  },
  {
   "cell_type": "code",
   "execution_count": 7,
   "id": "cc79ce9f",
   "metadata": {},
   "outputs": [
    {
     "name": "stdout",
     "output_type": "stream",
     "text": [
      "enter the no between 1 to 7:5\n",
      "thursday\n"
     ]
    }
   ],
   "source": [
    "number=int(input(\"enter the no between 1 to 7:\"))\n",
    "if number==1: print(\"sunday\")\n",
    "elif number==2: print(\"monday\")\n",
    "elif number==3: print(\"tuesday\")\n",
    "elif number==4: print(\"wednesday\")\n",
    "elif number==5: print(\"thursday\")\n",
    "elif number==6: print(\"friday\")\n",
    "elif number==7: print(\"saturday\")\n",
    "else:print(\"invalid no\")"
   ]
  },
  {
   "cell_type": "code",
   "execution_count": 6,
   "id": "038e1a18",
   "metadata": {},
   "outputs": [
    {
     "name": "stdout",
     "output_type": "stream",
     "text": [
      "enter the no between 1 to 12:5\n",
      "may\n",
      " number of days is 31\n"
     ]
    }
   ],
   "source": [
    "number=int(input(\"enter the no between 1 to 12:\"))\n",
    "if number==1:print(\"january\\n number of days is 31\")\n",
    "elif number==2:print(\"february\\n number of days is 28\")\n",
    "elif number==3:print(\"march\\n number of days is 31\")\n",
    "elif number==4:print(\"april\\n number of days is 30\")\n",
    "elif number==5:print(\"may\\n number of days is 31\")\n",
    "elif number==6:print(\"june\\n number of days is 30\")\n",
    "elif number==7:print(\"july\\n number of days is 31\")\n",
    "elif number==8:print(\"august\\n number of days is 31\")\n",
    "elif number==9:print(\"september\\n number of days is 30\")\n",
    "elif number==10:print(\"october\\n number of days is 31\")\n",
    "elif number==11:print(\"november\\n number of days is 30\")\n",
    "elif number==12:print(\"december\\n number of days is 31\")\n",
    "else:\n",
    "    print(\"invalid choice\")"
   ]
  },
  {
   "cell_type": "code",
   "execution_count": 5,
   "id": "3da4a795",
   "metadata": {},
   "outputs": [
    {
     "name": "stdout",
     "output_type": "stream",
     "text": [
      "enter the city :jaipur\n",
      "monument is \"Jal mahal\"\n"
     ]
    }
   ],
   "source": [
    "city_1=input(\"enter the city :\")\n",
    "if city_1.lower()==\"delhi\":print(\"monument is \\\"Redfort\\\"\")\n",
    "elif city_1.lower()==\"agra\":print(\"monument is \\\"Taj mahal\\\"\")\n",
    "elif city_1.lower()==\"jaipur\":print(\"monument is \\\"Jal mahal\\\"\")\n",
    "else: print(\"invalid choice\")\n"
   ]
  },
  {
   "cell_type": "code",
   "execution_count": null,
   "id": "e9fe28d4",
   "metadata": {},
   "outputs": [],
   "source": [
    "# takes user input for cost price and tax to be paid"
   ]
  },
  {
   "cell_type": "code",
   "execution_count": 13,
   "id": "60bedf54",
   "metadata": {},
   "outputs": [
    {
     "name": "stdout",
     "output_type": "stream",
     "text": [
      "enter the cost price: 20000\n",
      "tax 1000.0\n"
     ]
    }
   ],
   "source": [
    "c=int(input(\"enter the cost price: \"))\n",
    "tax=0\n",
    "if c>100000:tax=c*15/100\n",
    "elif c>50000 and c<=100000:tax=c*10/100\n",
    "else:tax=c*5/100\n",
    "print(\"tax\",tax)"
   ]
  },
  {
   "cell_type": "code",
   "execution_count": null,
   "id": "7dd9cd73",
   "metadata": {},
   "outputs": [],
   "source": [
    "#  Write a program that converts temperatures between Celsius and Fahrenheit. Ask the user for the temperature and the unit, and then perform the conversion."
   ]
  },
  {
   "cell_type": "code",
   "execution_count": 32,
   "id": "4775ad88",
   "metadata": {},
   "outputs": [
    {
     "name": "stdout",
     "output_type": "stream",
     "text": [
      "enter the no: 50\n",
      "enter the unit(c/f): c\n",
      "the temperature is farhenite: 122.0\n"
     ]
    }
   ],
   "source": [
    "temperature=float(input(\"enter the no: \"))\n",
    "unit=input(\"enter the unit(c/f): \")\n",
    "if unit.lower()==\"c\":\n",
    "    t1=(temperature*9/5)+32\n",
    "    print(\"the temperature is farhenite:\",t1)\n",
    "elif unit.lower()==\"f\":\n",
    "    t1=(temperature-32)*5/9\n",
    "    print(\"the temperature is celcius:\",t1)\n",
    "else:\n",
    "    print(f\"invalid unit enter again\")\n",
    "    \n"
   ]
  },
  {
   "cell_type": "code",
   "execution_count": null,
   "id": "7f67de93",
   "metadata": {},
   "outputs": [],
   "source": [
    "# accept the temperature in degree celcius of water and check whether it is boiling or not"
   ]
  },
  {
   "cell_type": "code",
   "execution_count": 33,
   "id": "b8daec76",
   "metadata": {},
   "outputs": [
    {
     "name": "stdout",
     "output_type": "stream",
     "text": [
      "enter the temperature in degree celcius: 100\n",
      "water is boiling\n"
     ]
    }
   ],
   "source": [
    "temp=float(input(\"enter the temperature in degree celcius: \"))\n",
    "if temp>=100:print(f\"water is boiling\")\n",
    "else:print(f\"water is not boiling\")\n",
    "    \n"
   ]
  },
  {
   "cell_type": "code",
   "execution_count": null,
   "id": "9a4bf8da",
   "metadata": {},
   "outputs": [],
   "source": [
    "'''accepts the following from the user and calculate percentage of class attend\n",
    ". total no of working days\n",
    ". total no of days of absent. '''"
   ]
  },
  {
   "cell_type": "code",
   "execution_count": 17,
   "id": "d01e0bb6",
   "metadata": {},
   "outputs": [
    {
     "name": "stdout",
     "output_type": "stream",
     "text": [
      "Total no of working days: 89\n",
      "Total no of absent days: 10\n",
      "attendence is: 88.76404494382022\n",
      "eligible for exams\n"
     ]
    }
   ],
   "source": [
    "w_days=int(input(\"Total no of working days: \"))\n",
    "a_days=int(input(\"Total no of absent days: \"))\n",
    "per=(w_days-a_days)/w_days*100\n",
    "print(f\"attendence is:\",per)\n",
    "if per<75:\n",
    "    print(f\"not eligible for exams\")\n",
    "else:\n",
    "    print(f\"eligible for exams\")"
   ]
  },
  {
   "cell_type": "code",
   "execution_count": null,
   "id": "9df7012e",
   "metadata": {},
   "outputs": [],
   "source": [
    "''' a company decided to give bonus to employees according to the  following criteria\n",
    "time period of service    bonus\n",
    "more than 10 years         10%\n",
    ">=6 and <=10                8%\n",
    "less than 6 years            5%\n",
    "'''"
   ]
  },
  {
   "cell_type": "code",
   "execution_count": 1,
   "id": "0892a27e",
   "metadata": {},
   "outputs": [
    {
     "name": "stdout",
     "output_type": "stream",
     "text": [
      "enter your salary: 25000\n",
      "enter your years of service: 12\n",
      "bonus:  2500.0\n"
     ]
    }
   ],
   "source": [
    "salary=int(input(\"enter your salary: \"))\n",
    "service=int(input(\"enter your years of service: \"))\n",
    "if service>10:\n",
    "    b=10/100*salary\n",
    "elif service>=6 and service<=10:\n",
    "    b=8/100*salary\n",
    "else:\n",
    "    service<6\n",
    "    b=5/100*salary\n",
    "print(\"bonus: \",b)\n"
   ]
  },
  {
   "cell_type": "code",
   "execution_count": null,
   "id": "a1af916a",
   "metadata": {},
   "outputs": [],
   "source": [
    "''' accepts the marked price form the user and calculate the net amount to pay a/c to the following criteria\n",
    " marked price           discount\n",
    " >10000                   20%   \n",
    " > 7000 and <=10000        15%\n",
    " <=7000                     10%'''"
   ]
  },
  {
   "cell_type": "code",
   "execution_count": 43,
   "id": "606bd902",
   "metadata": {},
   "outputs": [
    {
     "name": "stdout",
     "output_type": "stream",
     "text": [
      "enter the marked price: 8000\n",
      "discount 0.1875\n",
      "net amount:  7999.875\n"
     ]
    }
   ],
   "source": [
    "m_price=int(input(\"enter the marked price: \")) \n",
    "n_amnt=m_price-discount\n",
    "if m_price>10000:\n",
    "    discount=(20/m_price)*100 \n",
    "    print(\"discount\",discount)\n",
    "elif n_amnt>7000 and n_amnt<=10000:\n",
    "    discount=(15/m_price)*100 \n",
    "    print(\"discount\",discount)\n",
    "else:\n",
    "    n_amnt<=7000 \n",
    "    discount=(10/m_price)*100 \n",
    "    print(\"discount\",discount)\n",
    "print(\"net amount: \",n_amnt)"
   ]
  },
  {
   "cell_type": "code",
   "execution_count": 44,
   "id": "3c7822cb",
   "metadata": {},
   "outputs": [
    {
     "name": "stdout",
     "output_type": "stream",
     "text": [
      "Enter the marked price: 8000\n",
      "Net amount to pay:  6800.0\n"
     ]
    }
   ],
   "source": [
    "marked_price = float(input(\"Enter the marked price: \"))\n",
    "\n",
    "if marked_price > 10000:\n",
    "    discount = 0.2 * marked_price\n",
    "elif marked_price > 7000:\n",
    "    discount = 0.15 * marked_price\n",
    "else:\n",
    "    discount = 0.1 * marked_price\n",
    "\n",
    "net_amount = marked_price - discount\n",
    "print(\"Net amount to pay: \",net_amount)"
   ]
  },
  {
   "cell_type": "code",
   "execution_count": null,
   "id": "ce216b8f",
   "metadata": {},
   "outputs": [],
   "source": [
    "#accepts three sides of triangle and check whether it is an equilateral ,isoleces or scalene triangle"
   ]
  },
  {
   "cell_type": "code",
   "execution_count": 58,
   "id": "fe37a2ff",
   "metadata": {},
   "outputs": [
    {
     "name": "stdout",
     "output_type": "stream",
     "text": [
      "enter three sides of triangle: 10,20,30\n",
      "it is an scalene triangle\n"
     ]
    }
   ],
   "source": [
    "a,b,c=map(int,input(\"enter three sides of triangle: \").split(\",\"))\n",
    "if a==b==c:\n",
    "    print(\"it is an equilateral triangle\")\n",
    "elif (a==b and b!=c) or( b==c and c!=a)or(c==a and a!=b):\n",
    "    print(\"it is an isoleces triangle\")\n",
    "else:\n",
    "    a!=b and  b!=c and  c!=a\n",
    "    print(\"it is an scalene triangle\")"
   ]
  },
  {
   "cell_type": "code",
   "execution_count": null,
   "id": "3ea9c698",
   "metadata": {},
   "outputs": [],
   "source": [
    "'''accepts the age, sex(M,F),no of days and displays the wages accordingly\n",
    "age           sex             wageday\n",
    ">=18 and<30    m/f             700/750\n",
    ">=30 and<=40    m/f             800/850'''"
   ]
  },
  {
   "cell_type": "code",
   "execution_count": 74,
   "id": "5a2f9ff6",
   "metadata": {},
   "outputs": [
    {
     "name": "stdout",
     "output_type": "stream",
     "text": [
      "enter your age: 39\n",
      "enter the sex(m/f): M\n",
      "your wage is 800:\n"
     ]
    }
   ],
   "source": [
    "age=int(input(\"enter your age: \"))\n",
    "sex=input(\"enter the sex(m/f): \")\n",
    "if age>=18 and age<30:\n",
    "    if sex.lower()==\"m\":print( \"your wage is 700:\")\n",
    "    else:print( \"your wage is 750:\")\n",
    "elif age>=30 and age<=40:\n",
    "        if sex.lower()==\"m\":print( \"your wage is 800:\")\n",
    "        else:print( \"your wage is 850:\")\n",
    "else:\n",
    "    print(\"invalid age\")\n"
   ]
  },
  {
   "cell_type": "code",
   "execution_count": null,
   "id": "2f74dfd2",
   "metadata": {},
   "outputs": [],
   "source": [
    "# accepts the electirc unit from user and calculate bill a/c to rates"
   ]
  },
  {
   "cell_type": "code",
   "execution_count": 81,
   "id": "00fd29d8",
   "metadata": {},
   "outputs": [
    {
     "name": "stdout",
     "output_type": "stream",
     "text": [
      "enter the no of unit: 120\n",
      "amount 40\n"
     ]
    }
   ],
   "source": [
    "unit=int(input(\"enter the no of unit: \"))\n",
    "if unit<=100:\n",
    "    print(\"free\")\n",
    "elif unit>100 and unit<=300:\n",
    "    amnt=(unit-100)*2\n",
    "else:\n",
    "    amnt= 400+(unit-300)*5\n",
    "print(\"amount\",amnt)"
   ]
  },
  {
   "cell_type": "code",
   "execution_count": null,
   "id": "9e1a4e34",
   "metadata": {},
   "outputs": [],
   "source": [
    "'''accepts the no of days from the user and calculate the charge for library according to the following\n",
    "till  five days     Rs 2 days\n",
    "six to ten days     Rs 3 days\n",
    "11 to 15 days     Rs 4 days\n",
    "after 15 days     Rs 5 days'''"
   ]
  },
  {
   "cell_type": "code",
   "execution_count": 4,
   "id": "692d1964",
   "metadata": {},
   "outputs": [
    {
     "name": "stdout",
     "output_type": "stream",
     "text": [
      "enter the number of days: 10\n",
      "no of days and amount will be:  10\n",
      "amount:  30\n"
     ]
    }
   ],
   "source": [
    "n_days=int(input(\"enter the number of days: \"))\n",
    "if n_days<=5:\n",
    "    amnt=n_days*2\n",
    "elif n_days<=10:\n",
    "    amnt=n_days*3\n",
    "elif n_days<=15:\n",
    "    amnt=n_days*4\n",
    "else:\n",
    "    amnt=n_days*5\n",
    "print(\"no of days and amount will be: \",n_days)\n",
    "print(\"amount: \",amnt)\n",
    "    \n",
    "    "
   ]
  },
  {
   "cell_type": "markdown",
   "id": "b5ebf5ae",
   "metadata": {},
   "source": [
    "# while loop"
   ]
  },
  {
   "cell_type": "code",
   "execution_count": null,
   "id": "c80e0607",
   "metadata": {},
   "outputs": [],
   "source": [
    "#sum of numbers"
   ]
  },
  {
   "cell_type": "code",
   "execution_count": 2,
   "id": "587eafe5",
   "metadata": {},
   "outputs": [
    {
     "name": "stdout",
     "output_type": "stream",
     "text": [
      "enter the no10\n",
      "55\n"
     ]
    }
   ],
   "source": [
    "n=int(input(\"enter the no\"))\n",
    "sum=0\n",
    "i=0\n",
    "while i<=n:\n",
    "    sum+=i\n",
    "    i+=1\n",
    "print(sum) "
   ]
  },
  {
   "cell_type": "code",
   "execution_count": null,
   "id": "a09645f4",
   "metadata": {},
   "outputs": [],
   "source": [
    "# product of numbers:"
   ]
  },
  {
   "cell_type": "code",
   "execution_count": 7,
   "id": "251f019f",
   "metadata": {},
   "outputs": [
    {
     "name": "stdout",
     "output_type": "stream",
     "text": [
      "enter the no1,2,3\n",
      "6\n"
     ]
    }
   ],
   "source": [
    "n=list (map(int,input(\"enter the no\").split(\",\")))\n",
    "pr=1\n",
    "i=0\n",
    "while i<len(n):\n",
    "    pr*=n[i]\n",
    "    i+=1\n",
    "print(pr) "
   ]
  },
  {
   "cell_type": "code",
   "execution_count": null,
   "id": "4855e542",
   "metadata": {},
   "outputs": [],
   "source": [
    "#print vowels and consonant separate from the string"
   ]
  },
  {
   "cell_type": "code",
   "execution_count": 11,
   "id": "1a975dcf",
   "metadata": {},
   "outputs": [
    {
     "name": "stdout",
     "output_type": "stream",
     "text": [
      "enter the string:tanisha\n",
      "['a', 'i', 'a'] vowel\n",
      " ['t', 'n', 's', 'h']consonant\n"
     ]
    }
   ],
   "source": [
    "s=input(\"enter the string:\")\n",
    "v=[]\n",
    "c=[]\n",
    "i=0\n",
    "while i<len(s):\n",
    "    if s[i].lower() in [\"a\",\"e\",\"i\",\"o\",\"u\"]:\n",
    "        v.append(s[i])\n",
    "    else:\n",
    "        c.append(s[i])\n",
    "    i+=1\n",
    "print(f\"{v} vowel\\n {c}consonant\")\n",
    "    "
   ]
  },
  {
   "cell_type": "code",
   "execution_count": null,
   "id": "237c83c2",
   "metadata": {},
   "outputs": [],
   "source": [
    "#print number from 1 to n"
   ]
  },
  {
   "cell_type": "code",
   "execution_count": 6,
   "id": "1cdeff25",
   "metadata": {},
   "outputs": [
    {
     "name": "stdout",
     "output_type": "stream",
     "text": [
      "enter the no: 20\n",
      "these are the numbers: \n",
      "1\n",
      "2\n",
      "3\n",
      "4\n",
      "5\n",
      "6\n",
      "7\n",
      "8\n",
      "9\n",
      "10\n",
      "11\n",
      "12\n",
      "13\n",
      "14\n",
      "15\n",
      "16\n",
      "17\n",
      "18\n",
      "19\n",
      "20\n"
     ]
    }
   ],
   "source": [
    "n=int(input(\"enter the no: \"))\n",
    "i=1\n",
    "print(\"these are the numbers: \")\n",
    "while i<=n:\n",
    "    print(i)\n",
    "    i+=1"
   ]
  },
  {
   "cell_type": "code",
   "execution_count": null,
   "id": "93012d20",
   "metadata": {},
   "outputs": [],
   "source": [
    "# print reverse counting"
   ]
  },
  {
   "cell_type": "code",
   "execution_count": 7,
   "id": "92e2c880",
   "metadata": {},
   "outputs": [
    {
     "name": "stdout",
     "output_type": "stream",
     "text": [
      "enter the no: 10\n",
      "10\n",
      "9\n",
      "8\n",
      "7\n",
      "6\n",
      "5\n",
      "4\n",
      "3\n",
      "2\n",
      "1\n"
     ]
    }
   ],
   "source": [
    "n=int(input(\"enter the no: \"))\n",
    "print(\"reverse no:\")\n",
    "while n>=1:\n",
    "    print(n)\n",
    "    n-=1\n",
    "    "
   ]
  },
  {
   "cell_type": "code",
   "execution_count": null,
   "id": "2f87bfd4",
   "metadata": {},
   "outputs": [],
   "source": [
    "# print the string throgh while loop"
   ]
  },
  {
   "cell_type": "code",
   "execution_count": 1,
   "id": "a9f5dbbe",
   "metadata": {},
   "outputs": [
    {
     "name": "stdout",
     "output_type": "stream",
     "text": [
      "enter the string you want: tanisha\n",
      "t\n",
      "a\n",
      "n\n",
      "i\n",
      "s\n",
      "h\n",
      "a\n"
     ]
    }
   ],
   "source": [
    "n=input(\"enter the string you want: \")\n",
    "i=0\n",
    "while i<len(n):\n",
    "    print(n[i])\n",
    "    i+=1"
   ]
  },
  {
   "cell_type": "code",
   "execution_count": null,
   "id": "28940fe1",
   "metadata": {},
   "outputs": [],
   "source": [
    "#revrse string"
   ]
  },
  {
   "cell_type": "code",
   "execution_count": 2,
   "id": "94fcf0c9",
   "metadata": {},
   "outputs": [
    {
     "name": "stdout",
     "output_type": "stream",
     "text": [
      "enter the string you want: tanisha\n",
      "a\n",
      "h\n",
      "s\n",
      "i\n",
      "n\n",
      "a\n",
      "t\n"
     ]
    }
   ],
   "source": [
    "n=input(\"enter the string you want: \")\n",
    "i=0\n",
    "n=n[::-1]\n",
    "while i<len(n):\n",
    "    print(n[i])\n",
    "    i+=1\n"
   ]
  },
  {
   "cell_type": "code",
   "execution_count": null,
   "id": "010470e0",
   "metadata": {},
   "outputs": [],
   "source": [
    "# print string in upper case"
   ]
  },
  {
   "cell_type": "code",
   "execution_count": 3,
   "id": "b16bc40f",
   "metadata": {},
   "outputs": [
    {
     "name": "stdout",
     "output_type": "stream",
     "text": [
      "enter the string  you want: tanisha\n",
      "T\n",
      "A\n",
      "N\n",
      "I\n",
      "S\n",
      "H\n",
      "A\n"
     ]
    }
   ],
   "source": [
    "s=input(\"enter the string  you want: \")\n",
    "i=0\n",
    "while i<len(s):\n",
    "    print(s[i].upper())\n",
    "    i+=1"
   ]
  },
  {
   "cell_type": "code",
   "execution_count": null,
   "id": "6dd67dee",
   "metadata": {},
   "outputs": [],
   "source": [
    "#pirnt uppercase in even indexing"
   ]
  },
  {
   "cell_type": "code",
   "execution_count": 4,
   "id": "9ca93db7",
   "metadata": {},
   "outputs": [
    {
     "name": "stdout",
     "output_type": "stream",
     "text": [
      "enter the string  you want: tanisha\n",
      "T\n",
      "a\n",
      "N\n",
      "i\n",
      "S\n",
      "h\n",
      "A\n"
     ]
    }
   ],
   "source": [
    "s=input(\"enter the string  you want: \")\n",
    "i=0\n",
    "while i<len(s):\n",
    "    if i%2==0:\n",
    "        print(s[i].upper())\n",
    "    else:\n",
    "        print(s[i].lower())\n",
    "    i+=1\n",
    "\n",
    "\n"
   ]
  },
  {
   "cell_type": "code",
   "execution_count": null,
   "id": "d9244735",
   "metadata": {},
   "outputs": [],
   "source": [
    "#sum of items in list"
   ]
  },
  {
   "cell_type": "code",
   "execution_count": 5,
   "id": "769aa4ca",
   "metadata": {},
   "outputs": [
    {
     "name": "stdout",
     "output_type": "stream",
     "text": [
      "enter the no: 10,20,30\n",
      "sum is 60\n"
     ]
    }
   ],
   "source": [
    "n=list(map(int,input(\"enter the no: \").split(\",\")))\n",
    "sum=0\n",
    "i=0\n",
    "while i<len(n):\n",
    "    sum+=n[i]\n",
    "    i+=1\n",
    "print(f\"sum is {sum}\")"
   ]
  },
  {
   "cell_type": "code",
   "execution_count": null,
   "id": "6a62e808",
   "metadata": {},
   "outputs": [],
   "source": [
    "#product of items in list"
   ]
  },
  {
   "cell_type": "code",
   "execution_count": 6,
   "id": "29299d9a",
   "metadata": {},
   "outputs": [
    {
     "name": "stdout",
     "output_type": "stream",
     "text": [
      "enter the no: 2,3,4\n",
      "the product of [2, 3, 4] is  24\n"
     ]
    }
   ],
   "source": [
    "n=list(map(int,input(\"enter the no: \").split(\",\")))\n",
    "p=1\n",
    "i=0\n",
    "while i<len(n):\n",
    "    p*=n[i]\n",
    "    i+=1\n",
    "print(f\"the product of {n} is  {p}\")\n"
   ]
  },
  {
   "cell_type": "code",
   "execution_count": null,
   "id": "24cba6ab",
   "metadata": {},
   "outputs": [],
   "source": [
    "#print items in new line"
   ]
  },
  {
   "cell_type": "code",
   "execution_count": 7,
   "id": "c47ea94c",
   "metadata": {},
   "outputs": [
    {
     "name": "stdout",
     "output_type": "stream",
     "text": [
      "enter the string:hello,world,python\n",
      "1 hello\n",
      "2 world\n",
      "3 python\n"
     ]
    }
   ],
   "source": [
    "s=list(input(\"enter the string:\").split(\",\"))\n",
    "i=0\n",
    "while i<len(s):\n",
    "    print(i+1 ,s[i])\n",
    "    i+=1"
   ]
  },
  {
   "cell_type": "code",
   "execution_count": null,
   "id": "be32e646",
   "metadata": {},
   "outputs": [],
   "source": [
    "s=list(map(int,input(\"enter the  no: \").split(\",\")))\n",
    "e=[]\n",
    "o=[]\n",
    "i=0\n",
    "while i<len(s):\n",
    "    if s[i]%2==0:\n",
    "        e.append(s[i])\n",
    "    else:\n",
    "        o.append(s[i])\n",
    "        i+=1\n",
    "print(f\"even {e} odd {o}\")\n"
   ]
  },
  {
   "cell_type": "code",
   "execution_count": null,
   "id": "cc59862b",
   "metadata": {},
   "outputs": [],
   "source": [
    "i=1\n",
    "while i<=3:\n",
    "    age=input(\"enter the no: \")\n",
    "    if age.isdigit():\n",
    "        age=int(age)\n",
    "        print(f\"age of person is {age}\")\n",
    "        break\n",
    "    else:\n",
    "        if i==3:\n",
    "            print(\"all chances are finished\")\n",
    "        else:\n",
    "            print(\"enter valid age please!\")\n",
    "    i+=1"
   ]
  },
  {
   "cell_type": "code",
   "execution_count": null,
   "id": "bfc918ee",
   "metadata": {},
   "outputs": [],
   "source": []
  },
  {
   "cell_type": "code",
   "execution_count": null,
   "id": "e78c44b4",
   "metadata": {},
   "outputs": [],
   "source": []
  },
  {
   "cell_type": "code",
   "execution_count": null,
   "id": "7e50363f",
   "metadata": {},
   "outputs": [],
   "source": []
  },
  {
   "cell_type": "code",
   "execution_count": null,
   "id": "1eea9a4d",
   "metadata": {},
   "outputs": [],
   "source": []
  }
 ],
 "metadata": {
  "kernelspec": {
   "display_name": "Python 3 (ipykernel)",
   "language": "python",
   "name": "python3"
  },
  "language_info": {
   "codemirror_mode": {
    "name": "ipython",
    "version": 3
   },
   "file_extension": ".py",
   "mimetype": "text/x-python",
   "name": "python",
   "nbconvert_exporter": "python",
   "pygments_lexer": "ipython3",
   "version": "3.11.5"
  }
 },
 "nbformat": 4,
 "nbformat_minor": 5
}
