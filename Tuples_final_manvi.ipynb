{
 "cells": [
  {
   "cell_type": "markdown",
   "id": "0b0477e4",
   "metadata": {},
   "source": [
    "# Tuples\n",
    "- similar to lists ( but read-only )\n",
    "- ordered, collections of items\n",
    "- indexable\n",
    "- immutable\n",
    "- allow duplicate values\n",
    "- Tuples are written with round brackets.\n",
    "- allow Heterogenous elements"
   ]
  },
  {
   "cell_type": "code",
   "execution_count": 1,
   "id": "87a323ee",
   "metadata": {},
   "outputs": [],
   "source": [
    "l = [1,2,3]"
   ]
  },
  {
   "cell_type": "code",
   "execution_count": 2,
   "id": "670e9bc0",
   "metadata": {},
   "outputs": [
    {
     "data": {
      "text/plain": [
       "list"
      ]
     },
     "execution_count": 2,
     "metadata": {},
     "output_type": "execute_result"
    }
   ],
   "source": [
    "type(l)"
   ]
  },
  {
   "cell_type": "code",
   "execution_count": 3,
   "id": "e6311194",
   "metadata": {},
   "outputs": [],
   "source": [
    "l = (1,2,3)"
   ]
  },
  {
   "cell_type": "code",
   "execution_count": 4,
   "id": "63183620",
   "metadata": {},
   "outputs": [
    {
     "data": {
      "text/plain": [
       "tuple"
      ]
     },
     "execution_count": 4,
     "metadata": {},
     "output_type": "execute_result"
    }
   ],
   "source": [
    "type(l)"
   ]
  },
  {
   "cell_type": "code",
   "execution_count": 5,
   "id": "bc76948b",
   "metadata": {},
   "outputs": [],
   "source": [
    "# creating empty tuple"
   ]
  },
  {
   "cell_type": "code",
   "execution_count": 6,
   "id": "f4074526",
   "metadata": {},
   "outputs": [],
   "source": [
    "t = ()"
   ]
  },
  {
   "cell_type": "code",
   "execution_count": 7,
   "id": "aa512752",
   "metadata": {},
   "outputs": [
    {
     "data": {
      "text/plain": [
       "()"
      ]
     },
     "execution_count": 7,
     "metadata": {},
     "output_type": "execute_result"
    }
   ],
   "source": [
    "t"
   ]
  },
  {
   "cell_type": "code",
   "execution_count": 8,
   "id": "b9a76550",
   "metadata": {},
   "outputs": [
    {
     "data": {
      "text/plain": [
       "tuple"
      ]
     },
     "execution_count": 8,
     "metadata": {},
     "output_type": "execute_result"
    }
   ],
   "source": [
    "type(t)"
   ]
  },
  {
   "cell_type": "code",
   "execution_count": 10,
   "id": "6a5780a6",
   "metadata": {},
   "outputs": [],
   "source": [
    "z = tuple()"
   ]
  },
  {
   "cell_type": "code",
   "execution_count": 11,
   "id": "1f31f534",
   "metadata": {},
   "outputs": [
    {
     "data": {
      "text/plain": [
       "tuple"
      ]
     },
     "execution_count": 11,
     "metadata": {},
     "output_type": "execute_result"
    }
   ],
   "source": [
    "type(z)"
   ]
  },
  {
   "cell_type": "code",
   "execution_count": 12,
   "id": "6f2d0b88",
   "metadata": {},
   "outputs": [
    {
     "data": {
      "text/plain": [
       "()"
      ]
     },
     "execution_count": 12,
     "metadata": {},
     "output_type": "execute_result"
    }
   ],
   "source": [
    "z"
   ]
  },
  {
   "cell_type": "code",
   "execution_count": 13,
   "id": "129b06f2",
   "metadata": {},
   "outputs": [],
   "source": [
    "# for one element : only parenthesis is not enough\n",
    "# for one element : comma is mandatory to declare variable as tuple datatype"
   ]
  },
  {
   "cell_type": "code",
   "execution_count": 18,
   "id": "9d1a5341",
   "metadata": {},
   "outputs": [],
   "source": [
    "tup = (3)"
   ]
  },
  {
   "cell_type": "code",
   "execution_count": 19,
   "id": "1f5d6cb4",
   "metadata": {},
   "outputs": [
    {
     "data": {
      "text/plain": [
       "int"
      ]
     },
     "execution_count": 19,
     "metadata": {},
     "output_type": "execute_result"
    }
   ],
   "source": [
    "type(tup)"
   ]
  },
  {
   "cell_type": "code",
   "execution_count": 20,
   "id": "0c734f50",
   "metadata": {},
   "outputs": [],
   "source": [
    "tup = (3,)"
   ]
  },
  {
   "cell_type": "code",
   "execution_count": 21,
   "id": "c835999e",
   "metadata": {},
   "outputs": [
    {
     "data": {
      "text/plain": [
       "tuple"
      ]
     },
     "execution_count": 21,
     "metadata": {},
     "output_type": "execute_result"
    }
   ],
   "source": [
    "type(tup)"
   ]
  },
  {
   "cell_type": "code",
   "execution_count": 24,
   "id": "c6f351ec",
   "metadata": {},
   "outputs": [],
   "source": [
    "t = ('pooja',)"
   ]
  },
  {
   "cell_type": "code",
   "execution_count": 25,
   "id": "94a36742",
   "metadata": {},
   "outputs": [
    {
     "data": {
      "text/plain": [
       "tuple"
      ]
     },
     "execution_count": 25,
     "metadata": {},
     "output_type": "execute_result"
    }
   ],
   "source": [
    "type(t)"
   ]
  },
  {
   "cell_type": "markdown",
   "id": "70997855",
   "metadata": {},
   "source": [
    "# A tuple can contain different data types:"
   ]
  },
  {
   "cell_type": "code",
   "execution_count": 27,
   "id": "b45a73e5",
   "metadata": {},
   "outputs": [],
   "source": [
    "t = (2,3.4,False,[2,3,4],(2,3))"
   ]
  },
  {
   "cell_type": "code",
   "execution_count": 28,
   "id": "7bfa161d",
   "metadata": {},
   "outputs": [
    {
     "data": {
      "text/plain": [
       "(2, 3.4, False, [2, 3, 4], (2, 3))"
      ]
     },
     "execution_count": 28,
     "metadata": {},
     "output_type": "execute_result"
    }
   ],
   "source": [
    "t"
   ]
  },
  {
   "cell_type": "markdown",
   "id": "758380c6",
   "metadata": {},
   "source": [
    "# Access elements in tuples|"
   ]
  },
  {
   "cell_type": "code",
   "execution_count": 29,
   "id": "bad770c6",
   "metadata": {},
   "outputs": [
    {
     "data": {
      "text/plain": [
       "(2, 3.4, False, [2, 3, 4], (2, 3))"
      ]
     },
     "execution_count": 29,
     "metadata": {},
     "output_type": "execute_result"
    }
   ],
   "source": [
    "t"
   ]
  },
  {
   "cell_type": "code",
   "execution_count": 30,
   "id": "140c4dec",
   "metadata": {},
   "outputs": [
    {
     "data": {
      "text/plain": [
       "False"
      ]
     },
     "execution_count": 30,
     "metadata": {},
     "output_type": "execute_result"
    }
   ],
   "source": [
    "t[2]"
   ]
  },
  {
   "cell_type": "code",
   "execution_count": 32,
   "id": "d9cc0e9e",
   "metadata": {},
   "outputs": [
    {
     "data": {
      "text/plain": [
       "3"
      ]
     },
     "execution_count": 32,
     "metadata": {},
     "output_type": "execute_result"
    }
   ],
   "source": [
    "t[-2][1]"
   ]
  },
  {
   "cell_type": "code",
   "execution_count": 33,
   "id": "d7db5423",
   "metadata": {},
   "outputs": [
    {
     "data": {
      "text/plain": [
       "(2, 3.4, False, [2, 3, 4], (2, 3))"
      ]
     },
     "execution_count": 33,
     "metadata": {},
     "output_type": "execute_result"
    }
   ],
   "source": [
    "t"
   ]
  },
  {
   "cell_type": "code",
   "execution_count": 34,
   "id": "b7fee890",
   "metadata": {},
   "outputs": [
    {
     "data": {
      "text/plain": [
       "(3.4, False, [2, 3, 4])"
      ]
     },
     "execution_count": 34,
     "metadata": {},
     "output_type": "execute_result"
    }
   ],
   "source": [
    "t[1:4]"
   ]
  },
  {
   "cell_type": "code",
   "execution_count": 35,
   "id": "77729d64",
   "metadata": {},
   "outputs": [
    {
     "data": {
      "text/plain": [
       "(False, [2, 3, 4], (2, 3))"
      ]
     },
     "execution_count": 35,
     "metadata": {},
     "output_type": "execute_result"
    }
   ],
   "source": [
    "t[2:]"
   ]
  },
  {
   "cell_type": "code",
   "execution_count": 36,
   "id": "a8dea631",
   "metadata": {},
   "outputs": [
    {
     "data": {
      "text/plain": [
       "(2, 3.4, False, [2, 3, 4])"
      ]
     },
     "execution_count": 36,
     "metadata": {},
     "output_type": "execute_result"
    }
   ],
   "source": [
    "t[:4]"
   ]
  },
  {
   "cell_type": "code",
   "execution_count": 37,
   "id": "95365b6a",
   "metadata": {},
   "outputs": [
    {
     "data": {
      "text/plain": [
       "(2, 3.4, False, [2, 3, 4], (2, 3))"
      ]
     },
     "execution_count": 37,
     "metadata": {},
     "output_type": "execute_result"
    }
   ],
   "source": [
    "t"
   ]
  },
  {
   "cell_type": "code",
   "execution_count": 38,
   "id": "a2815dd5",
   "metadata": {},
   "outputs": [
    {
     "data": {
      "text/plain": [
       "(2, False, (2, 3))"
      ]
     },
     "execution_count": 38,
     "metadata": {},
     "output_type": "execute_result"
    }
   ],
   "source": [
    "t[::2]"
   ]
  },
  {
   "cell_type": "code",
   "execution_count": 39,
   "id": "89c451c3",
   "metadata": {},
   "outputs": [
    {
     "data": {
      "text/plain": [
       "(3.4, [2, 3, 4])"
      ]
     },
     "execution_count": 39,
     "metadata": {},
     "output_type": "execute_result"
    }
   ],
   "source": [
    "t[1::2]"
   ]
  },
  {
   "cell_type": "code",
   "execution_count": 41,
   "id": "35bda833",
   "metadata": {},
   "outputs": [
    {
     "data": {
      "text/plain": [
       "((2, 3), [2, 3, 4], False, 3.4, 2)"
      ]
     },
     "execution_count": 41,
     "metadata": {},
     "output_type": "execute_result"
    }
   ],
   "source": [
    "t[::-1]"
   ]
  },
  {
   "cell_type": "code",
   "execution_count": 42,
   "id": "1b596025",
   "metadata": {},
   "outputs": [
    {
     "data": {
      "text/plain": [
       "(2, 3.4, False, [2, 3, 4], (2, 3))"
      ]
     },
     "execution_count": 42,
     "metadata": {},
     "output_type": "execute_result"
    }
   ],
   "source": [
    "t"
   ]
  },
  {
   "cell_type": "code",
   "execution_count": 43,
   "id": "7504a274",
   "metadata": {},
   "outputs": [
    {
     "data": {
      "text/plain": [
       "([2, 3, 4], False, 3.4)"
      ]
     },
     "execution_count": 43,
     "metadata": {},
     "output_type": "execute_result"
    }
   ],
   "source": [
    "t[-2:-5:-1]"
   ]
  },
  {
   "cell_type": "markdown",
   "id": "f3d29a95",
   "metadata": {},
   "source": [
    "# Changing a Tuple not possible"
   ]
  },
  {
   "cell_type": "code",
   "execution_count": 44,
   "id": "8d8e131e",
   "metadata": {},
   "outputs": [
    {
     "data": {
      "text/plain": [
       "(2, 3.4, False, [2, 3, 4], (2, 3))"
      ]
     },
     "execution_count": 44,
     "metadata": {},
     "output_type": "execute_result"
    }
   ],
   "source": [
    "t"
   ]
  },
  {
   "cell_type": "code",
   "execution_count": 46,
   "id": "267a53a3",
   "metadata": {},
   "outputs": [
    {
     "ename": "TypeError",
     "evalue": "'tuple' object does not support item assignment",
     "output_type": "error",
     "traceback": [
      "\u001b[1;31m---------------------------------------------------------------------------\u001b[0m",
      "\u001b[1;31mTypeError\u001b[0m                                 Traceback (most recent call last)",
      "Cell \u001b[1;32mIn[46], line 1\u001b[0m\n\u001b[1;32m----> 1\u001b[0m t[\u001b[38;5;241m1\u001b[39m]\u001b[38;5;241m=\u001b[39m\u001b[38;5;241m10\u001b[39m\n",
      "\u001b[1;31mTypeError\u001b[0m: 'tuple' object does not support item assignment"
     ]
    }
   ],
   "source": [
    "t[1]=10  #not allowed to update the existing element"
   ]
  },
  {
   "cell_type": "markdown",
   "id": "8a23e59f",
   "metadata": {},
   "source": [
    "# Solution:\n",
    "    tuple can be converted into a list, do the changes in the list, and convert it back into a tuple."
   ]
  },
  {
   "cell_type": "code",
   "execution_count": 48,
   "id": "960da6f9",
   "metadata": {},
   "outputs": [],
   "source": [
    "t=list(t)"
   ]
  },
  {
   "cell_type": "code",
   "execution_count": 50,
   "id": "b665aca9",
   "metadata": {},
   "outputs": [],
   "source": [
    "t[1]=10"
   ]
  },
  {
   "cell_type": "code",
   "execution_count": 51,
   "id": "b3714807",
   "metadata": {},
   "outputs": [
    {
     "data": {
      "text/plain": [
       "[2, 10, False, [2, 3, 4], (2, 3)]"
      ]
     },
     "execution_count": 51,
     "metadata": {},
     "output_type": "execute_result"
    }
   ],
   "source": [
    "t"
   ]
  },
  {
   "cell_type": "code",
   "execution_count": 52,
   "id": "34459856",
   "metadata": {},
   "outputs": [],
   "source": [
    "t= tuple(t)"
   ]
  },
  {
   "cell_type": "markdown",
   "id": "670577b3",
   "metadata": {},
   "source": [
    "# Join Two Tuples (Concatination)"
   ]
  },
  {
   "cell_type": "code",
   "execution_count": 53,
   "id": "fae8fc26",
   "metadata": {},
   "outputs": [],
   "source": [
    "t1=(1,2,3,4)\n",
    "t2 =('pooja','tanisha','hemant','manvi')"
   ]
  },
  {
   "cell_type": "code",
   "execution_count": 63,
   "id": "ce8dd334",
   "metadata": {},
   "outputs": [],
   "source": [
    "t3=t1+t2"
   ]
  },
  {
   "cell_type": "code",
   "execution_count": 55,
   "id": "24a81b2a",
   "metadata": {},
   "outputs": [
    {
     "data": {
      "text/plain": [
       "('pooja', 'tanisha', 'hemant', 'manvi', 1, 2, 3, 4)"
      ]
     },
     "execution_count": 55,
     "metadata": {},
     "output_type": "execute_result"
    }
   ],
   "source": [
    "t2+t1"
   ]
  },
  {
   "cell_type": "markdown",
   "id": "9ec2a0ae",
   "metadata": {},
   "source": [
    "# Tuple Methods\n",
    "- Python has two built-in methods that you can use on tuples.\n",
    "\n",
    "- count() Returns the number of times a specified value occurs in a tuple  \n",
    "- index() Searches the tuple for a specified value and returns the position of where it was found"
   ]
  },
  {
   "cell_type": "code",
   "execution_count": 58,
   "id": "fc8d8145",
   "metadata": {},
   "outputs": [],
   "source": [
    "t = (2, 10, False, [2, 3, 4], (2, 3),2)"
   ]
  },
  {
   "cell_type": "code",
   "execution_count": 59,
   "id": "99261a98",
   "metadata": {},
   "outputs": [
    {
     "data": {
      "text/plain": [
       "1"
      ]
     },
     "execution_count": 59,
     "metadata": {},
     "output_type": "execute_result"
    }
   ],
   "source": [
    "t.index(10)"
   ]
  },
  {
   "cell_type": "code",
   "execution_count": 61,
   "id": "2e13014a",
   "metadata": {},
   "outputs": [
    {
     "ename": "ValueError",
     "evalue": "tuple.index(x): x not in tuple",
     "output_type": "error",
     "traceback": [
      "\u001b[1;31m---------------------------------------------------------------------------\u001b[0m",
      "\u001b[1;31mValueError\u001b[0m                                Traceback (most recent call last)",
      "Cell \u001b[1;32mIn[61], line 1\u001b[0m\n\u001b[1;32m----> 1\u001b[0m t\u001b[38;5;241m.\u001b[39mindex(\u001b[38;5;124m'\u001b[39m\u001b[38;5;124mx\u001b[39m\u001b[38;5;124m'\u001b[39m)\n",
      "\u001b[1;31mValueError\u001b[0m: tuple.index(x): x not in tuple"
     ]
    }
   ],
   "source": [
    "t.index('x')"
   ]
  },
  {
   "cell_type": "code",
   "execution_count": 62,
   "id": "eb6f94be",
   "metadata": {},
   "outputs": [
    {
     "data": {
      "text/plain": [
       "0"
      ]
     },
     "execution_count": 62,
     "metadata": {},
     "output_type": "execute_result"
    }
   ],
   "source": [
    "t.count('x')"
   ]
  },
  {
   "cell_type": "code",
   "execution_count": 64,
   "id": "f75be9b1",
   "metadata": {},
   "outputs": [
    {
     "data": {
      "text/plain": [
       "(1, 2, 3, 4, 'pooja', 'tanisha', 'hemant', 'manvi')"
      ]
     },
     "execution_count": 64,
     "metadata": {},
     "output_type": "execute_result"
    }
   ],
   "source": [
    "t3"
   ]
  },
  {
   "cell_type": "code",
   "execution_count": 65,
   "id": "72d50f3b",
   "metadata": {},
   "outputs": [
    {
     "data": {
      "text/plain": [
       "5"
      ]
     },
     "execution_count": 65,
     "metadata": {},
     "output_type": "execute_result"
    }
   ],
   "source": [
    "t3.index('tanisha')"
   ]
  },
  {
   "cell_type": "code",
   "execution_count": 67,
   "id": "030b2b48",
   "metadata": {},
   "outputs": [
    {
     "data": {
      "text/plain": [
       "2"
      ]
     },
     "execution_count": 67,
     "metadata": {},
     "output_type": "execute_result"
    }
   ],
   "source": [
    "t3[5].count('a')"
   ]
  },
  {
   "cell_type": "markdown",
   "id": "5f264355",
   "metadata": {},
   "source": [
    "# Tuple Membership: in /not in"
   ]
  },
  {
   "cell_type": "code",
   "execution_count": 68,
   "id": "4b56b8c4",
   "metadata": {},
   "outputs": [
    {
     "data": {
      "text/plain": [
       "(1, 2, 3, 4, 'pooja', 'tanisha', 'hemant', 'manvi')"
      ]
     },
     "execution_count": 68,
     "metadata": {},
     "output_type": "execute_result"
    }
   ],
   "source": [
    "t3"
   ]
  },
  {
   "cell_type": "code",
   "execution_count": 69,
   "id": "f12880ba",
   "metadata": {},
   "outputs": [
    {
     "data": {
      "text/plain": [
       "True"
      ]
     },
     "execution_count": 69,
     "metadata": {},
     "output_type": "execute_result"
    }
   ],
   "source": [
    "'pooja' in t3"
   ]
  },
  {
   "cell_type": "code",
   "execution_count": 70,
   "id": "09680259",
   "metadata": {},
   "outputs": [
    {
     "data": {
      "text/plain": [
       "False"
      ]
     },
     "execution_count": 70,
     "metadata": {},
     "output_type": "execute_result"
    }
   ],
   "source": [
    "'twinkle' in t3"
   ]
  },
  {
   "cell_type": "code",
   "execution_count": 71,
   "id": "1c579b57",
   "metadata": {},
   "outputs": [
    {
     "data": {
      "text/plain": [
       "True"
      ]
     },
     "execution_count": 71,
     "metadata": {},
     "output_type": "execute_result"
    }
   ],
   "source": [
    "'twinkle' not in t3"
   ]
  },
  {
   "cell_type": "markdown",
   "id": "c2bf5df6",
   "metadata": {},
   "source": [
    "# Unpacking a Tuple"
   ]
  },
  {
   "cell_type": "code",
   "execution_count": 72,
   "id": "0489ff6e",
   "metadata": {},
   "outputs": [
    {
     "data": {
      "text/plain": [
       "(2, 10, False, [2, 3, 4], (2, 3), 2)"
      ]
     },
     "execution_count": 72,
     "metadata": {},
     "output_type": "execute_result"
    }
   ],
   "source": [
    "t"
   ]
  },
  {
   "cell_type": "code",
   "execution_count": 73,
   "id": "9ba6758b",
   "metadata": {},
   "outputs": [
    {
     "data": {
      "text/plain": [
       "6"
      ]
     },
     "execution_count": 73,
     "metadata": {},
     "output_type": "execute_result"
    }
   ],
   "source": [
    "len(t)"
   ]
  },
  {
   "cell_type": "code",
   "execution_count": 74,
   "id": "bba36f9d",
   "metadata": {},
   "outputs": [],
   "source": [
    "a,b,c,d,e,f=t"
   ]
  },
  {
   "cell_type": "code",
   "execution_count": 75,
   "id": "afb182b8",
   "metadata": {},
   "outputs": [
    {
     "name": "stdout",
     "output_type": "stream",
     "text": [
      "a=2\n",
      "b=10\n",
      "c=False\n",
      "d=[2, 3, 4]\n",
      "e=(2, 3)\n",
      "f=2\n"
     ]
    }
   ],
   "source": [
    "print(f\"a={a}\\nb={b}\\nc={c}\\nd={d}\\ne={e}\\nf={f}\")"
   ]
  },
  {
   "cell_type": "code",
   "execution_count": 77,
   "id": "78bca7ea",
   "metadata": {},
   "outputs": [
    {
     "data": {
      "text/plain": [
       "(2, 10, False, [2, 3, 4], (2, 3), 2)"
      ]
     },
     "execution_count": 77,
     "metadata": {},
     "output_type": "execute_result"
    }
   ],
   "source": [
    "t"
   ]
  },
  {
   "cell_type": "code",
   "execution_count": 76,
   "id": "f2bc1d33",
   "metadata": {},
   "outputs": [
    {
     "ename": "ValueError",
     "evalue": "too many values to unpack (expected 3)",
     "output_type": "error",
     "traceback": [
      "\u001b[1;31m---------------------------------------------------------------------------\u001b[0m",
      "\u001b[1;31mValueError\u001b[0m                                Traceback (most recent call last)",
      "Cell \u001b[1;32mIn[76], line 1\u001b[0m\n\u001b[1;32m----> 1\u001b[0m a,b,c\u001b[38;5;241m=\u001b[39mt\n",
      "\u001b[1;31mValueError\u001b[0m: too many values to unpack (expected 3)"
     ]
    }
   ],
   "source": [
    "a,b,c=t"
   ]
  },
  {
   "cell_type": "code",
   "execution_count": null,
   "id": "404aef90",
   "metadata": {},
   "outputs": [],
   "source": []
  },
  {
   "cell_type": "code",
   "execution_count": null,
   "id": "49587547",
   "metadata": {},
   "outputs": [],
   "source": []
  },
  {
   "cell_type": "markdown",
   "id": "80ff3801",
   "metadata": {},
   "source": [
    "# Using Asterisk*\n",
    "If the number of variables is less than the number of values, you can add an * to the variable name and the values will be assigned to the variable as a list:"
   ]
  },
  {
   "cell_type": "code",
   "execution_count": 80,
   "id": "4bdfe72d",
   "metadata": {},
   "outputs": [
    {
     "data": {
      "text/plain": [
       "(2, 10, False, [2, 3, 4], (2, 3), 2)"
      ]
     },
     "execution_count": 80,
     "metadata": {},
     "output_type": "execute_result"
    }
   ],
   "source": [
    "t"
   ]
  },
  {
   "cell_type": "code",
   "execution_count": 78,
   "id": "64c9ac77",
   "metadata": {},
   "outputs": [],
   "source": [
    "a,b,*c=t"
   ]
  },
  {
   "cell_type": "code",
   "execution_count": 79,
   "id": "b5c425ea",
   "metadata": {},
   "outputs": [
    {
     "name": "stdout",
     "output_type": "stream",
     "text": [
      "a=2\n",
      "b=10\n",
      "c=[False, [2, 3, 4], (2, 3), 2]\n"
     ]
    }
   ],
   "source": [
    "print(f\"a={a}\\nb={b}\\nc={c}\")"
   ]
  },
  {
   "cell_type": "code",
   "execution_count": 81,
   "id": "a31860c2",
   "metadata": {},
   "outputs": [],
   "source": [
    "a,*b,c=t"
   ]
  },
  {
   "cell_type": "code",
   "execution_count": 82,
   "id": "633899ed",
   "metadata": {},
   "outputs": [
    {
     "name": "stdout",
     "output_type": "stream",
     "text": [
      "a=2\n",
      "b=[10, False, [2, 3, 4], (2, 3)]\n",
      "c=2\n"
     ]
    }
   ],
   "source": [
    "print(f\"a={a}\\nb={b}\\nc={c}\")"
   ]
  },
  {
   "cell_type": "code",
   "execution_count": 83,
   "id": "69999f84",
   "metadata": {},
   "outputs": [
    {
     "data": {
      "text/plain": [
       "(2, 10, False, [2, 3, 4], (2, 3), 2)"
      ]
     },
     "execution_count": 83,
     "metadata": {},
     "output_type": "execute_result"
    }
   ],
   "source": [
    "t"
   ]
  },
  {
   "cell_type": "code",
   "execution_count": 84,
   "id": "cc0f985e",
   "metadata": {},
   "outputs": [],
   "source": [
    "*a,b,c=t"
   ]
  },
  {
   "cell_type": "code",
   "execution_count": 85,
   "id": "65f6aebc",
   "metadata": {},
   "outputs": [
    {
     "name": "stdout",
     "output_type": "stream",
     "text": [
      "a=[2, 10, False, [2, 3, 4]]\n",
      "b=(2, 3)\n",
      "c=2\n"
     ]
    }
   ],
   "source": [
    "print(f\"a={a}\\nb={b}\\nc={c}\")"
   ]
  },
  {
   "cell_type": "markdown",
   "id": "74b91a1f",
   "metadata": {},
   "source": [
    "# while loop through tuple"
   ]
  },
  {
   "cell_type": "code",
   "execution_count": 96,
   "id": "5c7491ed",
   "metadata": {},
   "outputs": [
    {
     "name": "stdout",
     "output_type": "stream",
     "text": [
      "Enter the items1,2,3,4\n",
      "1\n",
      "2\n",
      "3\n",
      "4\n"
     ]
    }
   ],
   "source": [
    "t = tuple(map(int,input(\"Enter the items\").split(\",\")))\n",
    "\n",
    "i=0\n",
    "while i<len(t):\n",
    "    print(t[i])\n",
    "    i+=1"
   ]
  },
  {
   "cell_type": "code",
   "execution_count": 87,
   "id": "b627fac6",
   "metadata": {},
   "outputs": [
    {
     "name": "stdout",
     "output_type": "stream",
     "text": [
      "Enter the name of language: hindi,english,sanskrit,french,gujrati\n",
      "hindi is 5 letters long\n",
      "english is 7 letters long\n",
      "sanskrit is 8 letters long\n",
      "french is 6 letters long\n",
      "gujrati is 7 letters long\n"
     ]
    }
   ],
   "source": [
    "tup = tuple(input(\"Enter the name of language: \").split(\",\"))\n",
    "\n",
    "i=0\n",
    "while i<len(tup):\n",
    "    print(f\"{tup[i]} is {len(tup[i])} letters long\")\n",
    "    i+=1"
   ]
  },
  {
   "cell_type": "code",
   "execution_count": 95,
   "id": "ef4c2297",
   "metadata": {},
   "outputs": [
    {
     "name": "stdout",
     "output_type": "stream",
     "text": [
      "Enter the name of language: pooja,tanisha\n",
      "tanisha\n",
      "pooja\n"
     ]
    }
   ],
   "source": [
    "#Write a program that reverses the given tuple using a while loop.\n",
    "tup = tuple(input(\"Enter the name of language: \").split(\",\"))\n",
    "\n",
    "i=-1\n",
    "\n",
    "while i>=-len(tup):\n",
    "    print(tup[i])\n",
    "    i-=1"
   ]
  },
  {
   "cell_type": "code",
   "execution_count": 98,
   "id": "a9bbaa8d",
   "metadata": {},
   "outputs": [
    {
     "name": "stdout",
     "output_type": "stream",
     "text": [
      "Enter the item to be searched10\n",
      "10 is at index 0\n"
     ]
    }
   ],
   "source": [
    "#Write a program that searches for a specific element in a tuple using a while loop \n",
    "#and prints its index if found.\n",
    "_tuple = (10, 20, 30, 40, 50)\n",
    "find = int(input(\"Enter the item to be searched\"))\n",
    "i=0\n",
    "if find in _tuple:\n",
    "    while i<len(_tuple):\n",
    "        if _tuple[i]==find:\n",
    "            print(f\"{find} is at index {i}\")\n",
    "        i+=1\n",
    "else:\n",
    "    print(f\"{find} is not present\")"
   ]
  },
  {
   "cell_type": "code",
   "execution_count": 1,
   "id": "fd2e4e54",
   "metadata": {},
   "outputs": [
    {
     "name": "stdout",
     "output_type": "stream",
     "text": [
      "Enter the items: 5,6,7,8\n",
      "Sum of items = 26\n"
     ]
    }
   ],
   "source": [
    "#Calculate the sum of all numbers in a tuple without using the built-in sum() function.\n",
    "t= tuple(map(int,input(\"Enter the items: \").split(\",\")))\n",
    "\n",
    "i=0\n",
    "_sum=0\n",
    "while i<len(t):\n",
    "    _sum+=t[i]\n",
    "    i+=1\n",
    "print(f\"Sum of items = {_sum}\")"
   ]
  },
  {
   "cell_type": "code",
   "execution_count": 2,
   "id": "728c7d21",
   "metadata": {},
   "outputs": [
    {
     "name": "stdout",
     "output_type": "stream",
     "text": [
      "Enter the items: 5,6,7,8\n",
      "Sum of items = 26\n"
     ]
    }
   ],
   "source": [
    "t= tuple(map(int,input(\"Enter the items: \").split(\",\")))\n",
    "\n",
    "_sum=0\n",
    "for i in t:\n",
    "    _sum+=i\n",
    "\n",
    "print(f\"Sum of items = {_sum}\")"
   ]
  },
  {
   "cell_type": "code",
   "execution_count": 105,
   "id": "6fd9c9ac",
   "metadata": {},
   "outputs": [
    {
     "name": "stdout",
     "output_type": "stream",
     "text": [
      "25 is maximum value in (5, 10, 15, 20, 25)\n"
     ]
    }
   ],
   "source": [
    "#Determine the maximum value in a tuple without using the built-in max() function.\n",
    "tup = (5, 10, 15, 20, 25)\n",
    "_max=tup[0]\n",
    "i=0\n",
    "while i<len(tup):\n",
    "    if tup[i]>_max:\n",
    "        _max=tup[i]\n",
    "    i+=1\n",
    "print(f\"{_max} is maximum value in {tup}\")"
   ]
  },
  {
   "cell_type": "code",
   "execution_count": 4,
   "id": "cc72485d",
   "metadata": {},
   "outputs": [
    {
     "name": "stdout",
     "output_type": "stream",
     "text": [
      "5 is minimum value in (5, 10, 15, 20, 25)\n"
     ]
    }
   ],
   "source": [
    "#Determine the minimum value in a tuple without using the built-in min() function.\n",
    "tup = (5, 10, 15, 20, 25)\n",
    "_min=tup[0]\n",
    "i=0\n",
    "while i<len(tup):\n",
    "    if tup[i]<_min:\n",
    "        _min=tup[i]\n",
    "    i+=1\n",
    "print(f\"{_min} is minimum value in {tup}\")"
   ]
  },
  {
   "cell_type": "code",
   "execution_count": 5,
   "id": "04db7f8c",
   "metadata": {},
   "outputs": [
    {
     "name": "stdout",
     "output_type": "stream",
     "text": [
      "2 is minimum value in (5, 10, 15, 2, 20, 25)\n"
     ]
    }
   ],
   "source": [
    "tup = (5, 10, 15, 2,20, 25)\n",
    "_min=tup[0]\n",
    "for i in tup:\n",
    "    if i <_min:\n",
    "        _min=i\n",
    "        \n",
    "print(f\"{_min} is minimum value in {tup}\")"
   ]
  },
  {
   "cell_type": "code",
   "execution_count": 9,
   "id": "e13f496b",
   "metadata": {},
   "outputs": [
    {
     "name": "stdout",
     "output_type": "stream",
     "text": [
      "(1, 2, 3, 4, 5, 6)\n"
     ]
    }
   ],
   "source": [
    "#Flatten a nested tuple into a single tuple using a while loop.\n",
    "nested_tuple = ((1, 2), (3, 4), (5, 6))\n",
    "\n",
    "tup=()\n",
    "\n",
    "for t in nested_tuple:\n",
    "    tup+=t\n",
    "print(tup)"
   ]
  },
  {
   "cell_type": "code",
   "execution_count": 7,
   "id": "38b6b9b5",
   "metadata": {},
   "outputs": [],
   "source": [
    "t=()\n",
    "t1=(1,2)\n",
    "t=t+t1"
   ]
  },
  {
   "cell_type": "code",
   "execution_count": 8,
   "id": "48099982",
   "metadata": {},
   "outputs": [
    {
     "data": {
      "text/plain": [
       "(1, 2, 3, 4)"
      ]
     },
     "execution_count": 8,
     "metadata": {},
     "output_type": "execute_result"
    }
   ],
   "source": [
    "t1=(3,4)\n",
    "t+t1"
   ]
  },
  {
   "cell_type": "code",
   "execution_count": 107,
   "id": "48a59861",
   "metadata": {},
   "outputs": [
    {
     "data": {
      "text/plain": [
       "'P y t h o n'"
      ]
     },
     "execution_count": 107,
     "metadata": {},
     "output_type": "execute_result"
    }
   ],
   "source": [
    "#Convert a tuple of characters into a string using a while loop.\n",
    "char_tuple = ('P', 'y', 't', 'h', 'o', 'n')\n",
    "\"\".join(char_tuple)"
   ]
  },
  {
   "cell_type": "markdown",
   "id": "97112d1a",
   "metadata": {},
   "source": [
    "# tuple comprehension\n",
    "While Python doesn’t have a direct tuple comprehension, you can practice creating tuples using generator expressions within the tuple() function."
   ]
  },
  {
   "cell_type": "code",
   "execution_count": 10,
   "id": "5a418333",
   "metadata": {},
   "outputs": [
    {
     "data": {
      "text/plain": [
       "(1, 2, 3, 4, 5, 6)"
      ]
     },
     "execution_count": 10,
     "metadata": {},
     "output_type": "execute_result"
    }
   ],
   "source": [
    "tup"
   ]
  },
  {
   "cell_type": "code",
   "execution_count": 14,
   "id": "e8f2e587",
   "metadata": {},
   "outputs": [
    {
     "data": {
      "text/plain": [
       "(1, 2, 3, 4, 5, 6)"
      ]
     },
     "execution_count": 14,
     "metadata": {},
     "output_type": "execute_result"
    }
   ],
   "source": [
    "tuple(i for i in tup)"
   ]
  },
  {
   "cell_type": "code",
   "execution_count": 16,
   "id": "5bb4613b",
   "metadata": {},
   "outputs": [
    {
     "data": {
      "text/plain": [
       "(4, 16, 36)"
      ]
     },
     "execution_count": 16,
     "metadata": {},
     "output_type": "execute_result"
    }
   ],
   "source": [
    "#tuple having square of even numbers from given tuple\n",
    "tuple(i**2 for i in tup if i%2==0)"
   ]
  },
  {
   "cell_type": "code",
   "execution_count": 17,
   "id": "9d5c858e",
   "metadata": {},
   "outputs": [
    {
     "data": {
      "text/plain": [
       "(('o', 1), ('e', 2), ('o', 3), ('e', 4), ('o', 5), ('e', 6))"
      ]
     },
     "execution_count": 17,
     "metadata": {},
     "output_type": "execute_result"
    }
   ],
   "source": [
    "tuple(('e',i) if i%2==0 else ('o',i) for i in tup)"
   ]
  },
  {
   "cell_type": "code",
   "execution_count": 19,
   "id": "169e5178",
   "metadata": {},
   "outputs": [
    {
     "data": {
      "text/plain": [
       "(10, 12, 14, 15, 18, 21, 20, 24, 28)"
      ]
     },
     "execution_count": 19,
     "metadata": {},
     "output_type": "execute_result"
    }
   ],
   "source": [
    "t1=(2,3,4)\n",
    "t2=(5,6,7)\n",
    "# t=(10,12,14,15,18,21,20,24,28)\n",
    "t=()\n",
    "for i in t1:\n",
    "    for j in t2:\n",
    "        t+=(i*j,)\n",
    "t\n"
   ]
  },
  {
   "cell_type": "code",
   "execution_count": 21,
   "id": "daf3b574",
   "metadata": {},
   "outputs": [
    {
     "data": {
      "text/plain": [
       "(10, 12, 14, 15, 18, 21, 20, 24, 28)"
      ]
     },
     "execution_count": 21,
     "metadata": {},
     "output_type": "execute_result"
    }
   ],
   "source": [
    "t1=(2,3,4)\n",
    "t2=(5,6,7)\n",
    "tuple(i*j for i in t1 for j in t2)\n"
   ]
  },
  {
   "cell_type": "raw",
   "id": "0e59033f",
   "metadata": {},
   "source": [
    " Write a one-liner that generates a tuple of the squares of numbers from 1 to 10."
   ]
  },
  {
   "cell_type": "code",
   "execution_count": 22,
   "id": "5583ab89",
   "metadata": {},
   "outputs": [
    {
     "data": {
      "text/plain": [
       "(1, 4, 9, 16, 25, 36, 49, 64, 81, 100)"
      ]
     },
     "execution_count": 22,
     "metadata": {},
     "output_type": "execute_result"
    }
   ],
   "source": [
    "tuple(i**2 for i in range(1,11))"
   ]
  },
  {
   "cell_type": "code",
   "execution_count": null,
   "id": "e7a60f17",
   "metadata": {},
   "outputs": [],
   "source": [
    " Use a generator expression to create a tuple containing even numbers from 2 to 20."
   ]
  },
  {
   "cell_type": "code",
   "execution_count": 26,
   "id": "854d3c00",
   "metadata": {},
   "outputs": [
    {
     "data": {
      "text/plain": [
       "(4, 16, 36, 64, 100, 144, 196, 256, 324, 400)"
      ]
     },
     "execution_count": 26,
     "metadata": {},
     "output_type": "execute_result"
    }
   ],
   "source": [
    "tuple(i**2 for i in range(2,21,2))"
   ]
  },
  {
   "cell_type": "code",
   "execution_count": 25,
   "id": "7f70eb80",
   "metadata": {},
   "outputs": [
    {
     "data": {
      "text/plain": [
       "(4, 16, 36, 64, 100, 144, 196, 256, 324, 400)"
      ]
     },
     "execution_count": 25,
     "metadata": {},
     "output_type": "execute_result"
    }
   ],
   "source": [
    "tuple(i**2 for i in range(1,21) if i%2==0)"
   ]
  },
  {
   "cell_type": "raw",
   "id": "59d465e0",
   "metadata": {},
   "source": [
    "Generate a tuple of all numbers from 1 to 30 that are divisible by 3."
   ]
  },
  {
   "cell_type": "code",
   "execution_count": 27,
   "id": "02502354",
   "metadata": {},
   "outputs": [
    {
     "data": {
      "text/plain": [
       "(3, 6, 9, 12, 15, 18, 21, 24, 27, 30)"
      ]
     },
     "execution_count": 27,
     "metadata": {},
     "output_type": "execute_result"
    }
   ],
   "source": [
    "tuple(i for i in range(1,31) if i%3==0)"
   ]
  },
  {
   "cell_type": "code",
   "execution_count": 28,
   "id": "9803b0f9",
   "metadata": {},
   "outputs": [
    {
     "data": {
      "text/plain": [
       "(3, 6, 9, 12, 15, 18, 21, 24, 27, 30)"
      ]
     },
     "execution_count": 28,
     "metadata": {},
     "output_type": "execute_result"
    }
   ],
   "source": [
    "tuple(i for i in range(3,31,3))"
   ]
  },
  {
   "cell_type": "raw",
   "id": "3efbdeac",
   "metadata": {},
   "source": [
    " Given a list of numbers, write a one-liner that creates a tuple of only the positive numbers."
   ]
  },
  {
   "cell_type": "code",
   "execution_count": 29,
   "id": "db9be660",
   "metadata": {},
   "outputs": [
    {
     "data": {
      "text/plain": [
       "(3, 5)"
      ]
     },
     "execution_count": 29,
     "metadata": {},
     "output_type": "execute_result"
    }
   ],
   "source": [
    "l=[-2,3,-4,5,-6]\n",
    "\n",
    "tuple(i for i in l if i>0)"
   ]
  },
  {
   "cell_type": "raw",
   "id": "8beca39c",
   "metadata": {},
   "source": [
    "Write a program that takes comma-separated numbers from user input and turns them into a tuple of integers."
   ]
  },
  {
   "cell_type": "code",
   "execution_count": 30,
   "id": "fda7c3f4",
   "metadata": {},
   "outputs": [
    {
     "name": "stdout",
     "output_type": "stream",
     "text": [
      "Enter the items: 2,4,6,3,7\n"
     ]
    }
   ],
   "source": [
    "tup=tuple(map(int,input(\"Enter the items: \").split(\",\")))"
   ]
  },
  {
   "cell_type": "raw",
   "id": "7a7be1db",
   "metadata": {},
   "source": [
    "Create a tuple of tuples, each containing a number (from 1 to 5) and its corresponding index in the tuple.\n",
    "((0,1),(1,2),(2,3),(3,4),(4,5))"
   ]
  },
  {
   "cell_type": "code",
   "execution_count": 33,
   "id": "8cfca125",
   "metadata": {},
   "outputs": [],
   "source": [
    "l=[1,2,3,4,5]"
   ]
  },
  {
   "cell_type": "code",
   "execution_count": 34,
   "id": "13e174b5",
   "metadata": {},
   "outputs": [
    {
     "name": "stdout",
     "output_type": "stream",
     "text": [
      "0 1\n",
      "1 2\n",
      "2 3\n",
      "3 4\n",
      "4 5\n"
     ]
    }
   ],
   "source": [
    "for i,j in enumerate(l):\n",
    "    print(i,j)"
   ]
  },
  {
   "cell_type": "code",
   "execution_count": 36,
   "id": "fa5a6f9b",
   "metadata": {},
   "outputs": [
    {
     "data": {
      "text/plain": [
       "((0, 1), (1, 2), (2, 3), (3, 4), (4, 5))"
      ]
     },
     "execution_count": 36,
     "metadata": {},
     "output_type": "execute_result"
    }
   ],
   "source": [
    "tuple((i,j) for i,j in enumerate([1,2,3,4,5]))"
   ]
  },
  {
   "cell_type": "code",
   "execution_count": 39,
   "id": "422ddb4e",
   "metadata": {},
   "outputs": [
    {
     "name": "stdout",
     "output_type": "stream",
     "text": [
      "Enter the n: 10\n"
     ]
    },
    {
     "data": {
      "text/plain": [
       "((0, 1), (1, 2), (2, 3), (3, 4), (4, 5), (5, 6), (6, 7), (7, 8), (8, 9))"
      ]
     },
     "execution_count": 39,
     "metadata": {},
     "output_type": "execute_result"
    }
   ],
   "source": [
    "n=int(input(\"Enter the n: \"))\n",
    "tuple((i,j) for i,j in enumerate(range(1,n)))"
   ]
  },
  {
   "cell_type": "raw",
   "id": "77c19a6a",
   "metadata": {},
   "source": [
    "Given a sentence, write a one-liner that creates a tuple containing the length of each word."
   ]
  },
  {
   "cell_type": "code",
   "execution_count": 41,
   "id": "79379251",
   "metadata": {},
   "outputs": [
    {
     "name": "stdout",
     "output_type": "stream",
     "text": [
      "Enter the sentence: My name is tanisha\n"
     ]
    },
    {
     "data": {
      "text/plain": [
       "(2, 4, 2, 7)"
      ]
     },
     "execution_count": 41,
     "metadata": {},
     "output_type": "execute_result"
    }
   ],
   "source": [
    "sentence= input(\"Enter the sentence: \")\n",
    "\n",
    "tuple(len(x) for x in sentence.split(\" \"))"
   ]
  },
  {
   "cell_type": "code",
   "execution_count": null,
   "id": "c7aadcef",
   "metadata": {},
   "outputs": [],
   "source": []
  }
 ],
 "metadata": {
  "kernelspec": {
   "display_name": "Python 3 (ipykernel)",
   "language": "python",
   "name": "python3"
  },
  "language_info": {
   "codemirror_mode": {
    "name": "ipython",
    "version": 3
   },
   "file_extension": ".py",
   "mimetype": "text/x-python",
   "name": "python",
   "nbconvert_exporter": "python",
   "pygments_lexer": "ipython3",
   "version": "3.11.5"
  }
 },
 "nbformat": 4,
 "nbformat_minor": 5
}
