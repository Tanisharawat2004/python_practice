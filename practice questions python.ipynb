{
 "cells": [
  {
   "cell_type": "code",
   "execution_count": null,
   "id": "ff6e104a",
   "metadata": {},
   "outputs": [],
   "source": [
    "# write a python program to take user input string and print its length using a inbuilt method"
   ]
  },
  {
   "cell_type": "code",
   "execution_count": 2,
   "id": "66fb35c2",
   "metadata": {},
   "outputs": [
    {
     "name": "stdout",
     "output_type": "stream",
     "text": [
      "enter a string: tanisha rawat\n",
      "13\n"
     ]
    }
   ],
   "source": [
    "x=input(\"enter a string: \")\n",
    "print(len(x))"
   ]
  },
  {
   "cell_type": "code",
   "execution_count": null,
   "id": "b3f431d4",
   "metadata": {},
   "outputs": [],
   "source": [
    "#combine two strings provided by user and print the result using string method"
   ]
  },
  {
   "cell_type": "code",
   "execution_count": 1,
   "id": "3324640c",
   "metadata": {},
   "outputs": [
    {
     "name": "stdout",
     "output_type": "stream",
     "text": [
      "enter first name: hello\n",
      "enter last name:  world\n",
      "hello world\n"
     ]
    }
   ],
   "source": [
    "x=input(\"enter first name: \")\n",
    "y=input(\"enter last name:  \")\n",
    "print(x+\" \"+y)"
   ]
  },
  {
   "cell_type": "code",
   "execution_count": null,
   "id": "45298e5a",
   "metadata": {},
   "outputs": [],
   "source": [
    "#create a program that accepts the string input and print it uppercase  and lowercase using string methods"
   ]
  },
  {
   "cell_type": "code",
   "execution_count": 19,
   "id": "ea1b85d0",
   "metadata": {},
   "outputs": [
    {
     "name": "stdout",
     "output_type": "stream",
     "text": [
      "enter the string: hi\n",
      "HI\n",
      "hi\n"
     ]
    }
   ],
   "source": [
    "x=input(\"enter the string: \")\n",
    "print(x.upper())\n",
    "print(x.lower())\n"
   ]
  },
  {
   "cell_type": "code",
   "execution_count": null,
   "id": "8536dd0a",
   "metadata": {},
   "outputs": [],
   "source": [
    "#Develop a program that replace a specified word in a given sentence with another word.Display the modified sentence.\n"
   ]
  },
  {
   "cell_type": "code",
   "execution_count": 2,
   "id": "56d81391",
   "metadata": {},
   "outputs": [
    {
     "data": {
      "text/plain": [
       "'hello welcome to python programming world'"
      ]
     },
     "execution_count": 2,
     "metadata": {},
     "output_type": "execute_result"
    }
   ],
   "source": [
    "x=\"hello welcome to programming world\"\n",
    "x.replace(\"programming world\" , \"python programming world\")"
   ]
  },
  {
   "cell_type": "code",
   "execution_count": null,
   "id": "a2fbc44d",
   "metadata": {},
   "outputs": [],
   "source": [
    "#Take a sentence as input and  splitit in to a list of words.Print the list using a string method.\n",
    "\n"
   ]
  },
  {
   "cell_type": "code",
   "execution_count": 52,
   "id": "a762cee5",
   "metadata": {},
   "outputs": [
    {
     "name": "stdout",
     "output_type": "stream",
     "text": [
      "enter a string: hello and welcome to the programming world\n",
      "['hello', 'and', 'welcome', 'to', 'the', 'programming', 'world']\n"
     ]
    }
   ],
   "source": [
    "x=input(\"enter a string: \")\n",
    "print(x.split(\" \"))\n"
   ]
  },
  {
   "cell_type": "code",
   "execution_count": null,
   "id": "5db48003",
   "metadata": {},
   "outputs": [],
   "source": [
    "#Create a script that checks if a particular word exists in a given sentence.Use a string method for this operation.\n"
   ]
  },
  {
   "cell_type": "code",
   "execution_count": 16,
   "id": "0552145c",
   "metadata": {},
   "outputs": [
    {
     "name": "stdout",
     "output_type": "stream",
     "text": [
      "enter the sentence:  hello and welcome to programming world\n",
      "enter a word you have to check:  programming world\n",
      "it is present in the sentence\n"
     ]
    }
   ],
   "source": [
    "_name=input(\"enter the sentence:  \")\n",
    "word=input(\"enter a word you have to check:  \")\n",
    "if word in _name:\n",
    "    print(\"it is present in the sentence\")\n",
    "else:\n",
    "    print(\"not present in the sentence!\")\n",
    "    "
   ]
  },
  {
   "cell_type": "code",
   "execution_count": null,
   "id": "e286beb1",
   "metadata": {},
   "outputs": [],
   "source": [
    "#Design a program that takes a string input and counts the number of occurrences of a specific character in it using a string method.\n"
   ]
  },
  {
   "cell_type": "code",
   "execution_count": 20,
   "id": "f817891b",
   "metadata": {},
   "outputs": [
    {
     "name": "stdout",
     "output_type": "stream",
     "text": [
      "enter the sentence:  this is python.welcome to the programming world to learn python\n",
      "enter the character: a\n",
      "2\n"
     ]
    }
   ],
   "source": [
    "sentence=input(\"enter the sentence: \")\n",
    "char=input(\"enter the character: \")\n",
    "print(sentence.count(char))\n"
   ]
  },
  {
   "cell_type": "code",
   "execution_count": null,
   "id": "9373a6ef",
   "metadata": {},
   "outputs": [],
   "source": [
    "#Develop a Python program that takes user inputs for name and age and uses a string method to format a sentence displaying the information"
   ]
  },
  {
   "cell_type": "code",
   "execution_count": 22,
   "id": "5698e29f",
   "metadata": {},
   "outputs": [
    {
     "name": "stdout",
     "output_type": "stream",
     "text": [
      "enter your name: tanisha rawat \n",
      "enter your age: 20\n",
      "my  name   is  tanisha rawat   and  my age is 20\n"
     ]
    }
   ],
   "source": [
    "name=input(\"enter your name: \")\n",
    "age=int(input(\"enter your age: \"))\n",
    "print(\"my  name   is  {}  and  my age is {}\".format(name,age))"
   ]
  },
  {
   "cell_type": "code",
   "execution_count": null,
   "id": "69b23d63",
   "metadata": {},
   "outputs": [],
   "source": [
    "#Write a Python program to input a string with leading and trailing whitespaces.Use a method to remove these whitespaces and print the cleaned string."
   ]
  },
  {
   "cell_type": "code",
   "execution_count": null,
   "id": "d7361d9c",
   "metadata": {},
   "outputs": [],
   "source": [
    "x=input(\"enter the sentence\")\n",
    "x."
   ]
  },
  {
   "cell_type": "code",
   "execution_count": null,
   "id": "107e7fda",
   "metadata": {},
   "outputs": [],
   "source": [
    "#indexing and slicing"
   ]
  },
  {
   "cell_type": "code",
   "execution_count": null,
   "id": "9c760fa4",
   "metadata": {},
   "outputs": [],
   "source": [
    "#given the string \"hello\",select and print the substring \"ell\""
   ]
  },
  {
   "cell_type": "code",
   "execution_count": 27,
   "id": "9e09bb42",
   "metadata": {},
   "outputs": [
    {
     "name": "stdout",
     "output_type": "stream",
     "text": [
      "ell\n"
     ]
    }
   ],
   "source": [
    "_string=\"hello\"\n",
    "print(_string[1:4])"
   ]
  },
  {
   "cell_type": "code",
   "execution_count": null,
   "id": "e726955a",
   "metadata": {},
   "outputs": [],
   "source": [
    "#given the string\"python and print the first three characters"
   ]
  },
  {
   "cell_type": "code",
   "execution_count": 29,
   "id": "0ee19c40",
   "metadata": {},
   "outputs": [
    {
     "name": "stdout",
     "output_type": "stream",
     "text": [
      "pyt\n"
     ]
    }
   ],
   "source": [
    "a=\"python\"\n",
    "print(a[0:3])"
   ]
  },
  {
   "cell_type": "code",
   "execution_count": null,
   "id": "51b47b90",
   "metadata": {},
   "outputs": [],
   "source": [
    "# given the string \"programming\" select and print the last four characters"
   ]
  },
  {
   "cell_type": "code",
   "execution_count": 68,
   "id": "8b469e79",
   "metadata": {},
   "outputs": [
    {
     "name": "stdout",
     "output_type": "stream",
     "text": [
      "ming\n"
     ]
    }
   ],
   "source": [
    "b=\"programming\"\n",
    "print(b[7:])"
   ]
  },
  {
   "cell_type": "code",
   "execution_count": 71,
   "id": "ce3256ad",
   "metadata": {},
   "outputs": [
    {
     "data": {
      "text/plain": [
       "6"
      ]
     },
     "execution_count": 71,
     "metadata": {},
     "output_type": "execute_result"
    }
   ],
   "source": [
    "b.index(\"m\")"
   ]
  },
  {
   "cell_type": "code",
   "execution_count": 75,
   "id": "d4b37811",
   "metadata": {},
   "outputs": [
    {
     "data": {
      "text/plain": [
       "7"
      ]
     },
     "execution_count": 75,
     "metadata": {},
     "output_type": "execute_result"
    }
   ],
   "source": [
    "b.index(\"m\",7)"
   ]
  },
  {
   "cell_type": "code",
   "execution_count": null,
   "id": "fba8e7c4",
   "metadata": {},
   "outputs": [],
   "source": [
    "#given the string \"banana\" select and print avery second character"
   ]
  },
  {
   "cell_type": "code",
   "execution_count": 81,
   "id": "9ea31ed4",
   "metadata": {},
   "outputs": [
    {
     "name": "stdout",
     "output_type": "stream",
     "text": [
      "bnn\n"
     ]
    }
   ],
   "source": [
    "c=\"banana\"\n",
    "print(c[0::2])"
   ]
  },
  {
   "cell_type": "code",
   "execution_count": null,
   "id": "5bc84613",
   "metadata": {},
   "outputs": [],
   "source": [
    "# Given the string \"abcdefgh\" , select and print the characters from index 2 to 5.\n"
   ]
  },
  {
   "cell_type": "code",
   "execution_count": 84,
   "id": "e66f66cb",
   "metadata": {},
   "outputs": [
    {
     "name": "stdout",
     "output_type": "stream",
     "text": [
      "cdef\n"
     ]
    }
   ],
   "source": [
    "d=\"abcdefgh\"\n",
    "print(d[2:6])"
   ]
  },
  {
   "cell_type": "code",
   "execution_count": null,
   "id": "24e2c33b",
   "metadata": {},
   "outputs": [],
   "source": [
    "# Given the string \"goodbye\", select and print the characters from index 1to4 in reverse order"
   ]
  },
  {
   "cell_type": "code",
   "execution_count": 7,
   "id": "affee8c2",
   "metadata": {},
   "outputs": [
    {
     "name": "stdout",
     "output_type": "stream",
     "text": [
      "bdoo\n"
     ]
    }
   ],
   "source": [
    "d1=\"goodbye\"\n",
    "print(d1[4:0:-1])"
   ]
  },
  {
   "cell_type": "code",
   "execution_count": null,
   "id": "de52f397",
   "metadata": {},
   "outputs": [],
   "source": [
    "# Given the string \"helloworld\", select and print the characters from index 6 to the end of the string.\n"
   ]
  },
  {
   "cell_type": "code",
   "execution_count": 8,
   "id": "2f01098f",
   "metadata": {},
   "outputs": [
    {
     "name": "stdout",
     "output_type": "stream",
     "text": [
      "world\n"
     ]
    }
   ],
   "source": [
    "d2=\"hello world\"\n",
    "print(d2[6:])"
   ]
  },
  {
   "cell_type": "code",
   "execution_count": null,
   "id": "4b984960",
   "metadata": {},
   "outputs": [],
   "source": [
    "#  Given the string \"abcdefg\" , select and print the characters from index 1 to 6,skipping every second character."
   ]
  },
  {
   "cell_type": "code",
   "execution_count": 9,
   "id": "1165b465",
   "metadata": {},
   "outputs": [
    {
     "name": "stdout",
     "output_type": "stream",
     "text": [
      "bdf\n"
     ]
    }
   ],
   "source": [
    "d3=\"abcdefg\"\n",
    "print(d3[1:7:2])"
   ]
  },
  {
   "cell_type": "code",
   "execution_count": null,
   "id": "5c5fe3d9",
   "metadata": {},
   "outputs": [],
   "source": [
    "# Given the string \"hello\", select and print the characters from index 1 to 4 in reverse order.\n"
   ]
  },
  {
   "cell_type": "code",
   "execution_count": 11,
   "id": "6e9dc9b4",
   "metadata": {},
   "outputs": [
    {
     "name": "stdout",
     "output_type": "stream",
     "text": [
      "olle\n"
     ]
    }
   ],
   "source": [
    "d4=\"hello\"\n",
    "print(d4[4:0:-1])"
   ]
  },
  {
   "cell_type": "code",
   "execution_count": null,
   "id": "9adaa7de",
   "metadata": {},
   "outputs": [],
   "source": [
    "# Given the string\"python programming\",select and print the characters from index 7 to 16."
   ]
  },
  {
   "cell_type": "code",
   "execution_count": 1,
   "id": "63e2932f",
   "metadata": {},
   "outputs": [
    {
     "name": "stdout",
     "output_type": "stream",
     "text": [
      "programmin\n"
     ]
    }
   ],
   "source": [
    "a1=\"python programming\"\n",
    "print(a1[7:17])"
   ]
  },
  {
   "cell_type": "code",
   "execution_count": null,
   "id": "0a20f67b",
   "metadata": {},
   "outputs": [],
   "source": [
    "# Given the string \"Welcome to the world of programming\",write an index slice to get the sub string \"ecmotew\""
   ]
  },
  {
   "cell_type": "code",
   "execution_count": 81,
   "id": "5eb9198b",
   "metadata": {},
   "outputs": [
    {
     "name": "stdout",
     "output_type": "stream",
     "text": [
      "21\n"
     ]
    }
   ],
   "source": [
    "a2=\"welcome to the world of programming\"\n",
    "print(len(\" welcome to the world\"))\n"
   ]
  },
  {
   "cell_type": "code",
   "execution_count": 71,
   "id": "44148757",
   "metadata": {},
   "outputs": [
    {
     "name": "stdout",
     "output_type": "stream",
     "text": [
      "welcome to the world\n"
     ]
    }
   ],
   "source": [
    "print(a2[0:20:1])"
   ]
  },
  {
   "cell_type": "code",
   "execution_count": null,
   "id": "f3ef7e1f",
   "metadata": {},
   "outputs": [],
   "source": [
    "# Given the string \"Hello , Python !\", write an index slice to get the sub string \"oyoe\""
   ]
  },
  {
   "cell_type": "code",
   "execution_count": 87,
   "id": "56b3014a",
   "metadata": {},
   "outputs": [
    {
     "name": "stdout",
     "output_type": "stream",
     "text": [
      "13\n"
     ]
    }
   ],
   "source": [
    "a3=\"hello,python!\"\n",
    "print(len(a3))"
   ]
  },
  {
   "cell_type": "code",
   "execution_count": 49,
   "id": "a9647a0b",
   "metadata": {},
   "outputs": [
    {
     "name": "stdout",
     "output_type": "stream",
     "text": [
      "oyoe\n"
     ]
    }
   ],
   "source": [
    "print(a3[-3:-14:-3])"
   ]
  },
  {
   "cell_type": "code",
   "execution_count": null,
   "id": "e042b1af",
   "metadata": {},
   "outputs": [],
   "source": [
    "# Given the string \"Computer Science\" , write an index slice to get the substring \"Science\".\n"
   ]
  },
  {
   "cell_type": "code",
   "execution_count": 83,
   "id": "a806f960",
   "metadata": {},
   "outputs": [
    {
     "name": "stdout",
     "output_type": "stream",
     "text": [
      "16\n",
      "7\n",
      "science\n"
     ]
    }
   ],
   "source": [
    "a4=\"computer science\"\n",
    "print(len(\"computer science\"))\n",
    "print(len(\"science\"))\n",
    "print(a4[9:16:])"
   ]
  },
  {
   "cell_type": "code",
   "execution_count": null,
   "id": "b85a473e",
   "metadata": {},
   "outputs": [],
   "source": [
    "# Given the string \"abcd\", write an index slice to get the sub string \"dcb\".\n"
   ]
  },
  {
   "cell_type": "code",
   "execution_count": 85,
   "id": "a0a709ed",
   "metadata": {},
   "outputs": [
    {
     "name": "stdout",
     "output_type": "stream",
     "text": [
      "4\n"
     ]
    }
   ],
   "source": [
    "a5=\"abcd\"\n",
    "print(len(\"abcd\"))"
   ]
  },
  {
   "cell_type": "code",
   "execution_count": 79,
   "id": "50bef430",
   "metadata": {},
   "outputs": [
    {
     "name": "stdout",
     "output_type": "stream",
     "text": [
      "dcb\n"
     ]
    }
   ],
   "source": [
    "print(a5[:-4:-1])"
   ]
  },
  {
   "cell_type": "code",
   "execution_count": null,
   "id": "4be9ad5b",
   "metadata": {},
   "outputs": [],
   "source": [
    "# Given the string \"abcdefa \",print the string reverse using slicing"
   ]
  },
  {
   "cell_type": "code",
   "execution_count": 104,
   "id": "f7945c11",
   "metadata": {},
   "outputs": [
    {
     "name": "stdout",
     "output_type": "stream",
     "text": [
      "7\n",
      "afedcba\n"
     ]
    }
   ],
   "source": [
    "a6=\"abcdefa\"\n",
    "print(len(a6))\n",
    "print(a6[::-1])"
   ]
  },
  {
   "cell_type": "code",
   "execution_count": 101,
   "id": "05560bd2",
   "metadata": {},
   "outputs": [
    {
     "name": "stdout",
     "output_type": "stream",
     "text": [
      "afedcba\n"
     ]
    }
   ],
   "source": [
    "print(a6[::-1])"
   ]
  },
  {
   "cell_type": "markdown",
   "id": "98016f32",
   "metadata": {},
   "source": [
    "# list questions"
   ]
  },
  {
   "cell_type": "code",
   "execution_count": null,
   "id": "dcc0c13f",
   "metadata": {},
   "outputs": [],
   "source": [
    "# 1.Given a list,write a Python program to swap first and last element of the list."
   ]
  },
  {
   "cell_type": "code",
   "execution_count": 105,
   "id": "7e9f697c",
   "metadata": {},
   "outputs": [
    {
     "name": "stdout",
     "output_type": "stream",
     "text": [
      "enter the fruits: mango,apple,banana,litchi,kiwi,strawberry\n"
     ]
    }
   ],
   "source": [
    "fruit=list(input(\"enter the fruits: \"))"
   ]
  },
  {
   "cell_type": "code",
   "execution_count": 109,
   "id": "a417abe1",
   "metadata": {},
   "outputs": [
    {
     "name": "stdout",
     "output_type": "stream",
     "text": [
      "['mango', 'apple', 'banana', 'litchi', 'kiwi', 'strawberry']\n"
     ]
    }
   ],
   "source": [
    "fruit=[\"mango\",\"apple\",\"banana\",\"litchi\",\"kiwi\",\"strawberry\"]\n",
    "print(fruit)"
   ]
  },
  {
   "cell_type": "code",
   "execution_count": null,
   "id": "74ccef91",
   "metadata": {},
   "outputs": [],
   "source": [
    "#swaping first and last element"
   ]
  },
  {
   "cell_type": "code",
   "execution_count": 1,
   "id": "baefd4ef",
   "metadata": {},
   "outputs": [
    {
     "name": "stdout",
     "output_type": "stream",
     "text": [
      "['mango', 'apple', 'banana', 'litchi', 'strawberry', 'kiwi']\n",
      "mango\n",
      "kiwi\n",
      "['kiwi', 'apple', 'banana', 'litchi', 'strawberry', 'mango']\n"
     ]
    }
   ],
   "source": [
    "fruit=[\"mango\",\"apple\", \"banana\", \"litchi\",\"strawberry\",\"kiwi\"]\n",
    "print(fruit)\n",
    "print(fruit[0])\n",
    "print(fruit[-1])\n",
    "temp=fruit[0]\n",
    "fruit[0]=fruit[-1]\n",
    "fruit[-1]= temp\n",
    "print(fruit)\n"
   ]
  },
  {
   "cell_type": "code",
   "execution_count": null,
   "id": "cbe0f266",
   "metadata": {},
   "outputs": [],
   "source": [
    "#append method"
   ]
  },
  {
   "cell_type": "code",
   "execution_count": 2,
   "id": "9d9432dc",
   "metadata": {},
   "outputs": [
    {
     "name": "stdout",
     "output_type": "stream",
     "text": [
      "[]\n",
      "['happy', 1, 2, 3]\n"
     ]
    }
   ],
   "source": [
    "my_list=[]\n",
    "print(my_list)\n",
    "my_list.append(\"happy\")\n",
    "my_list.append(1)\n",
    "my_list.append(2)\n",
    "my_list.append(3)\n",
    "print(my_list)\n"
   ]
  },
  {
   "cell_type": "code",
   "execution_count": 8,
   "id": "26eee274",
   "metadata": {},
   "outputs": [
    {
     "name": "stdout",
     "output_type": "stream",
     "text": [
      "[4, 2, 7, 1, 9]\n"
     ]
    }
   ],
   "source": [
    "list1=[4,2,7,1,9]\n",
    "print(list1)\n",
    "list1.sort( reverse=True)\n",
    "\n",
    "\n"
   ]
  },
  {
   "cell_type": "code",
   "execution_count": 12,
   "id": "2a09934e",
   "metadata": {},
   "outputs": [
    {
     "name": "stdout",
     "output_type": "stream",
     "text": [
      "[9, 7, 4, 2, 1]\n"
     ]
    }
   ],
   "source": [
    "list1.sort( reverse=True)\n",
    "print(list1)"
   ]
  },
  {
   "cell_type": "code",
   "execution_count": null,
   "id": "ce6f08aa",
   "metadata": {},
   "outputs": [],
   "source": [
    "'''Create a list named fruits with elements 'apple','banana','orange','grape',and'kiwi'. Use list slicing\n",
    "to create a new list containing the first three fruits.Print the new list.'''"
   ]
  },
  {
   "cell_type": "code",
   "execution_count": 29,
   "id": "9d2b46be",
   "metadata": {},
   "outputs": [
    {
     "name": "stdout",
     "output_type": "stream",
     "text": [
      "['apple', 'banana', 'orange']\n"
     ]
    }
   ],
   "source": [
    "fruit_1=['apple','banana','orange','grape','kiwi']\n",
    "new_fruit_1=fruit_1[0:3]\n",
    "print(new_fruit_1)        \n",
    "\n"
   ]
  },
  {
   "cell_type": "code",
   "execution_count": null,
   "id": "9b216df3",
   "metadata": {},
   "outputs": [],
   "source": [
    "# Create a list named colors with elements'red','green','blue',and'yellow'.Replace'green'with'purple'in the list.Print the modified list.\n"
   ]
  },
  {
   "cell_type": "code",
   "execution_count": 30,
   "id": "a46435b3",
   "metadata": {},
   "outputs": [
    {
     "name": "stdout",
     "output_type": "stream",
     "text": [
      "['red', 'green', 'blue', 'yellow']\n"
     ]
    }
   ],
   "source": [
    "colour=['red','green','blue','yellow']\n",
    "print(colour)"
   ]
  },
  {
   "cell_type": "code",
   "execution_count": 47,
   "id": "8db5421f",
   "metadata": {},
   "outputs": [],
   "source": [
    "colour[1]=\"purple\""
   ]
  },
  {
   "cell_type": "code",
   "execution_count": 48,
   "id": "96e1708f",
   "metadata": {},
   "outputs": [
    {
     "name": "stdout",
     "output_type": "stream",
     "text": [
      "['red', 'purple', 'blue', 'yellow']\n"
     ]
    }
   ],
   "source": [
    "print(colour)"
   ]
  },
  {
   "cell_type": "code",
   "execution_count": null,
   "id": "df9358da",
   "metadata": {},
   "outputs": [],
   "source": [
    "'''create two lists ,list1 and list2,with any elements of your choice.Concatenate the two lists to create a\n",
    "new list name combined_list. Print the combined_list.'''"
   ]
  },
  {
   "cell_type": "code",
   "execution_count": 10,
   "id": "41bc74da",
   "metadata": {},
   "outputs": [
    {
     "name": "stdout",
     "output_type": "stream",
     "text": [
      "['purple', 'pink', 'brown', 'grey', 'red', 'green', 'blue', 'yellow']\n"
     ]
    }
   ],
   "source": [
    "list1=[\"purple\",\"pink\", \"brown\",\"grey\"]\n",
    "list2=['red','green','blue','yellow']\n",
    "combined_list = (list1 + list2)\n",
    "print(combined_list)"
   ]
  },
  {
   "cell_type": "code",
   "execution_count": 9,
   "id": "794fd5e3",
   "metadata": {},
   "outputs": [
    {
     "name": "stdout",
     "output_type": "stream",
     "text": [
      "[2, 3, 4, 5, 6, 7]\n"
     ]
    }
   ],
   "source": [
    "list_1=[2,3,4]\n",
    "list_2=[5,6,7]\n",
    "list_3=(list1 + list2)\n",
    "print(list_3)"
   ]
  },
  {
   "cell_type": "code",
   "execution_count": null,
   "id": "77186f01",
   "metadata": {},
   "outputs": [],
   "source": [
    "# Given the list numbers =[10,20,30,40,50] , remove the element '30' .Print the modified list.\n"
   ]
  },
  {
   "cell_type": "code",
   "execution_count": 11,
   "id": "bb42e22c",
   "metadata": {},
   "outputs": [
    {
     "name": "stdout",
     "output_type": "stream",
     "text": [
      "[10, 20, 40, 50]\n"
     ]
    }
   ],
   "source": [
    "list_4=[10,20,30,40,50]\n",
    "list_4.remove(30)\n",
    "print(list_4)"
   ]
  },
  {
   "cell_type": "code",
   "execution_count": null,
   "id": "236f6684",
   "metadata": {},
   "outputs": [],
   "source": [
    " # Given the list letters =['a','b','c','d','e'],reverse the order of its elements.Print the reversed list"
   ]
  },
  {
   "cell_type": "code",
   "execution_count": 15,
   "id": "2905b94a",
   "metadata": {},
   "outputs": [
    {
     "name": "stdout",
     "output_type": "stream",
     "text": [
      "['e', 'd', 'c', 'b', 'a']\n"
     ]
    }
   ],
   "source": [
    "list_letters=['a','b','c','d','e']\n",
    "list_letters.reverse()\n",
    "print(list_letters)"
   ]
  },
  {
   "cell_type": "code",
   "execution_count": null,
   "id": "2165a0a1",
   "metadata": {},
   "outputs": [],
   "source": [
    "# Create a list named numbers with repeated occurrences of the number7.Check how many times the number 7 appears in the list.Print the count"
   ]
  },
  {
   "cell_type": "code",
   "execution_count": 17,
   "id": "253e21d0",
   "metadata": {},
   "outputs": [
    {
     "name": "stdout",
     "output_type": "stream",
     "text": [
      "3\n"
     ]
    }
   ],
   "source": [
    "list_5=[2,6,7,8,2,7,7,5,0]\n",
    "print(list_5.count(7))\n"
   ]
  },
  {
   "cell_type": "code",
   "execution_count": 7,
   "id": "03ed95f9",
   "metadata": {},
   "outputs": [],
   "source": [
    "l1=[2,3,4]\n",
    "l2=[\"A\",\"B\",\"c\"]\n",
    "l3=[l1+l2]"
   ]
  },
  {
   "cell_type": "code",
   "execution_count": 8,
   "id": "4b51edfc",
   "metadata": {},
   "outputs": [
    {
     "name": "stdout",
     "output_type": "stream",
     "text": [
      "[[2, 3, 4, 'A', 'B', 'c']]\n"
     ]
    }
   ],
   "source": [
    " print(l3)"
   ]
  },
  {
   "cell_type": "code",
   "execution_count": null,
   "id": "662139d2",
   "metadata": {},
   "outputs": [],
   "source": []
  },
  {
   "cell_type": "code",
   "execution_count": null,
   "id": "69afefb0",
   "metadata": {},
   "outputs": [],
   "source": []
  }
 ],
 "metadata": {
  "kernelspec": {
   "display_name": "Python 3 (ipykernel)",
   "language": "python",
   "name": "python3"
  },
  "language_info": {
   "codemirror_mode": {
    "name": "ipython",
    "version": 3
   },
   "file_extension": ".py",
   "mimetype": "text/x-python",
   "name": "python",
   "nbconvert_exporter": "python",
   "pygments_lexer": "ipython3",
   "version": "3.11.5"
  }
 },
 "nbformat": 4,
 "nbformat_minor": 5
}
