{
 "cells": [
  {
   "cell_type": "markdown",
   "id": "83a2a0ae",
   "metadata": {},
   "source": [
    "# Control flow:\n",
    "    - if else statement\n",
    "    - loop: while and for"
   ]
  },
  {
   "cell_type": "markdown",
   "id": "4a1bcde6",
   "metadata": {},
   "source": [
    "# Python If ... Else"
   ]
  },
  {
   "cell_type": "markdown",
   "id": "7813c460",
   "metadata": {},
   "source": [
    "<img src=\"if_else_flowchart.jpg\" width=300>"
   ]
  },
  {
   "cell_type": "markdown",
   "id": "494788e3",
   "metadata": {},
   "source": [
    "Python Conditions and If statements\n",
    "Python supports the usual logical conditions from mathematics:\n",
    "\n",
    "- Equals: a == b\n",
    "\n",
    "- Not Equals: a != b\n",
    "\n",
    "- Less than: a < b\n",
    "\n",
    "- Less than or equal to: a <= b\n",
    "\n",
    "- Greater than: a > b\n",
    "\n",
    "- Greater than or equal to: a >= b"
   ]
  },
  {
   "cell_type": "markdown",
   "id": "79ea0faa",
   "metadata": {},
   "source": [
    "# Indentation\n",
    "- Python relies on indentation (whitespace at the beginning of a line) to define scope in the code.\n",
    "- Other programming languages often use curly-brackets for this purpose."
   ]
  },
  {
   "cell_type": "raw",
   "id": "75c96715",
   "metadata": {},
   "source": [
    "#syntax\n",
    "if test_condition:\n",
    "    statement1\n",
    "    statement2\n",
    "else:\n",
    "    statement3\n",
    "    statement4"
   ]
  },
  {
   "cell_type": "code",
   "execution_count": 4,
   "id": "d221c080",
   "metadata": {},
   "outputs": [],
   "source": [
    "if 10>20:\n",
    "    print(\"hello\")\n",
    "    \n",
    "    print('ok')"
   ]
  },
  {
   "cell_type": "code",
   "execution_count": 7,
   "id": "7f40f90a",
   "metadata": {},
   "outputs": [
    {
     "name": "stdout",
     "output_type": "stream",
     "text": [
      "Enter the number: 24\n",
      "24 is a Even number\n"
     ]
    }
   ],
   "source": [
    "#if no is even then print even number\n",
    "\n",
    "n= int(input(\"Enter the number: \"))\n",
    "\n",
    "if n%2==0:\n",
    "    print(f\"{n} is a Even number\")"
   ]
  },
  {
   "cell_type": "code",
   "execution_count": 9,
   "id": "4ae39780",
   "metadata": {},
   "outputs": [
    {
     "name": "stdout",
     "output_type": "stream",
     "text": [
      "Enter the number: 26\n",
      "26 is a even number\n"
     ]
    }
   ],
   "source": [
    "# check for even or odd for a given number\n",
    "\n",
    "n= int(input(\"Enter the number: \"))\n",
    "\n",
    "if n%2==0:\n",
    "    print(f\"{n} is a even number\")\n",
    "else:\n",
    "    print(f\"{n} is an odd number\")\n",
    "    "
   ]
  },
  {
   "cell_type": "code",
   "execution_count": 12,
   "id": "d98aa7ea",
   "metadata": {},
   "outputs": [
    {
     "name": "stdout",
     "output_type": "stream",
     "text": [
      "Enter the number: 0\n",
      "0 is a -ve number\n"
     ]
    }
   ],
   "source": [
    "#check given number is a positive or negative number\n",
    "n= int(input(\"Enter the number: \"))\n",
    "\n",
    "if n>0:\n",
    "    print(f\"{n} is a +ve number\")\n",
    "else:\n",
    "    print(f\"{n} is a -ve number\")"
   ]
  },
  {
   "cell_type": "markdown",
   "id": "76bb8bdf",
   "metadata": {},
   "source": [
    "# Elif\n",
    "The elif keyword is Python's way of saying \"if the previous conditions were not true, then try this condition\"."
   ]
  },
  {
   "cell_type": "code",
   "execution_count": 14,
   "id": "386c7de8",
   "metadata": {},
   "outputs": [
    {
     "name": "stdout",
     "output_type": "stream",
     "text": [
      "Enter the number: 0\n",
      "0 is neither +ve nor -ve\n"
     ]
    }
   ],
   "source": [
    "# Similar to other programming language\n",
    "n= int(input(\"Enter the number: \"))\n",
    "\n",
    "if n>0:\n",
    "    print(f\"{n} is a +ve number\")\n",
    "else:\n",
    "    if n<0:\n",
    "         print(f\"{n} is a -ve number\")\n",
    "    else:\n",
    "        print(f\"{n} is neither +ve nor -ve\")"
   ]
  },
  {
   "cell_type": "code",
   "execution_count": 17,
   "id": "8575b0c6",
   "metadata": {},
   "outputs": [
    {
     "name": "stdout",
     "output_type": "stream",
     "text": [
      "Enter the number: 0\n",
      "0 is neither +ve nor -ve\n"
     ]
    }
   ],
   "source": [
    "n= int(input(\"Enter the number: \"))\n",
    "\n",
    "if n>0:\n",
    "    print(f\"{n} is a +ve number\")\n",
    "elif n<0:\n",
    "    print(f\"{n} is a -ve number\")\n",
    "else:\n",
    "    print(f\"{n} is neither +ve nor -ve\")"
   ]
  },
  {
   "cell_type": "markdown",
   "id": "d8e5669a",
   "metadata": {},
   "source": [
    "# Else\n",
    "The else keyword catches anything which isn't caught by the preceding conditions"
   ]
  },
  {
   "cell_type": "code",
   "execution_count": 20,
   "id": "d31f5108",
   "metadata": {},
   "outputs": [
    {
     "name": "stdout",
     "output_type": "stream",
     "text": [
      "Enter the number10,10\n",
      "10 is equal to 10\n"
     ]
    }
   ],
   "source": [
    "a,b = map(int, input(\"Enter the number\").split(\",\"))\n",
    "\n",
    "if a>b:\n",
    "    print(f\"{a} is greater than {b}\")\n",
    "elif a<b: \n",
    "    print(f\"{b} is greater than {a}\")\n",
    "else:\n",
    "     print(f\"{a} is equal to {b}\")"
   ]
  },
  {
   "cell_type": "code",
   "execution_count": 62,
   "id": "5f61c953",
   "metadata": {},
   "outputs": [
    {
     "name": "stdout",
     "output_type": "stream",
     "text": [
      "Enter the fruit name: apple,banana\n"
     ]
    }
   ],
   "source": [
    "fruit=input(\"Enter the fruit name: \").split(\",\")"
   ]
  },
  {
   "cell_type": "code",
   "execution_count": 63,
   "id": "070f780b",
   "metadata": {},
   "outputs": [
    {
     "data": {
      "text/plain": [
       "['apple', 'banana']"
      ]
     },
     "execution_count": 63,
     "metadata": {},
     "output_type": "execute_result"
    }
   ],
   "source": [
    "fruit"
   ]
  },
  {
   "cell_type": "code",
   "execution_count": 31,
   "id": "b028df5f",
   "metadata": {},
   "outputs": [
    {
     "name": "stdout",
     "output_type": "stream",
     "text": [
      "Enter the fruit: APple\n",
      "APple is available\n"
     ]
    }
   ],
   "source": [
    "f=input(\"Enter the fruit: \")\n",
    "\n",
    "if f.lower() in fruit:\n",
    "    print(f\"{f} is available\")\n",
    "else:\n",
    "    print(f\"{f} is not available\")"
   ]
  },
  {
   "cell_type": "markdown",
   "id": "0e90ed95",
   "metadata": {},
   "source": [
    "# And\n",
    "The and keyword is a logical operator, and is used to combine conditional statements:"
   ]
  },
  {
   "cell_type": "code",
   "execution_count": null,
   "id": "a0601757",
   "metadata": {},
   "outputs": [],
   "source": [
    "if condition1 and condition2:\n",
    "    statement1"
   ]
  },
  {
   "cell_type": "markdown",
   "id": "2d174b2e",
   "metadata": {},
   "source": [
    "# OR\n",
    "The or keyword is a logical operator, and is used to combine conditional statements:atleast 1 condition should be true"
   ]
  },
  {
   "cell_type": "markdown",
   "id": "bb637748",
   "metadata": {},
   "source": [
    "# Practice questions"
   ]
  },
  {
   "cell_type": "markdown",
   "id": "e7c198b2",
   "metadata": {},
   "source": [
    "# grade the student according to marks\n",
    "- above 90 (A+)\n",
    "- 81 to 90 (A)\n",
    "- 71 to 80 (B+)\n",
    "- 61 to 70 (B)\n",
    "- 51 to 60  (C)\n",
    "- 41 to 50 (D)\n",
    "- less than 40 (Fail)"
   ]
  },
  {
   "cell_type": "raw",
   "id": "27a02346",
   "metadata": {},
   "source": [
    "1. Write a program that takes three numbers as input and prints the largest among them.\n",
    "2. Write a program that takes three numbers and print them in ascending\n",
    "3. Write a program in python to find out whether a year entered through keyboard is leap year or not. \n",
    "4. Write a program that takes a character as input and determines whether it is a vowel or a consonant.\n",
    "5. Create a simple calculator program that performs addition, subtraction, multiplication, or division based on user input.\n",
    "6. Write a program that converts temperatures between Celsius and Fahrenheit. Ask the user for the temperature and the unit, and then perform the conversion."
   ]
  },
  {
   "cell_type": "code",
   "execution_count": 38,
   "id": "eb640cc1",
   "metadata": {},
   "outputs": [
    {
     "name": "stdout",
     "output_type": "stream",
     "text": [
      "Enter the number: 84\n",
      "Within the range\n"
     ]
    }
   ],
   "source": [
    "# check number in range 81 to 90\n",
    "\n",
    "x= int(input(\"Enter the number: \"))\n",
    "\n",
    "if x>80 and x<=90:\n",
    "    print(\"Within the range\")\n",
    "else:\n",
    "    print(\"Out of the range\")"
   ]
  },
  {
   "cell_type": "markdown",
   "id": "b707dc3f",
   "metadata": {},
   "source": [
    "# Short Hand\n",
    "- if\n",
    "- if else\n",
    "- if elif else"
   ]
  },
  {
   "cell_type": "code",
   "execution_count": null,
   "id": "0c73a1c1",
   "metadata": {},
   "outputs": [],
   "source": [
    "#if no is even then print even number\n",
    "\n",
    "n= int(input(\"Enter the number: \"))\n",
    "\n",
    "if n%2==0:\n",
    "    print(f\"{n} is a Even number\")"
   ]
  },
  {
   "cell_type": "code",
   "execution_count": 40,
   "id": "023a7932",
   "metadata": {},
   "outputs": [
    {
     "name": "stdout",
     "output_type": "stream",
     "text": [
      "Enter the number: 56\n",
      "56 is a Even number\n"
     ]
    }
   ],
   "source": [
    "n= int(input(\"Enter the number: \"))\n",
    "\n",
    "if n%2==0:print(f\"{n} is a Even number\")"
   ]
  },
  {
   "cell_type": "code",
   "execution_count": 41,
   "id": "36f99fa7",
   "metadata": {},
   "outputs": [
    {
     "name": "stdout",
     "output_type": "stream",
     "text": [
      "Enter the number: 35\n",
      "Divisible by 5\n"
     ]
    }
   ],
   "source": [
    "n= int(input(\"Enter the number: \"))\n",
    "\n",
    "if n%5==0:\n",
    "    print(\"Divisible by 5\")\n",
    "else:\n",
    "    print(\"Not divisible by 5\")"
   ]
  },
  {
   "cell_type": "code",
   "execution_count": 46,
   "id": "a8aae4ba",
   "metadata": {},
   "outputs": [
    {
     "name": "stdout",
     "output_type": "stream",
     "text": [
      "Enter the number: 50\n",
      "Divisible by 5 55\n"
     ]
    }
   ],
   "source": [
    "n= int(input(\"Enter the number: \"))\n",
    "\n",
    "print(\"Divisible by 5\") if n%5==0 else print(\"Not divisible by 5\")"
   ]
  },
  {
   "cell_type": "code",
   "execution_count": 47,
   "id": "6b771d72",
   "metadata": {},
   "outputs": [
    {
     "name": "stdout",
     "output_type": "stream",
     "text": [
      "Enter the number: 5\n",
      "5 is a +ve number\n"
     ]
    }
   ],
   "source": [
    "n= int(input(\"Enter the number: \"))\n",
    "\n",
    "if n>0:\n",
    "    print(f\"{n} is a +ve number\")\n",
    "else:\n",
    "    if n<0:\n",
    "         print(f\"{n} is a -ve number\")\n",
    "    else:\n",
    "        print(f\"{n} is neither +ve nor -ve\")"
   ]
  },
  {
   "cell_type": "code",
   "execution_count": 48,
   "id": "282d9e89",
   "metadata": {},
   "outputs": [
    {
     "name": "stdout",
     "output_type": "stream",
     "text": [
      "Enter the number: 6\n",
      "6 is a +ve number\n"
     ]
    }
   ],
   "source": [
    "n= int(input(\"Enter the number: \"))\n",
    "\n",
    "if n>0:\n",
    "    print(f\"{n} is a +ve number\")\n",
    "elif n<0:\n",
    "    print(f\"{n} is a -ve number\")\n",
    "else:\n",
    "    print(f\"{n} is neither +ve nor -ve\")"
   ]
  },
  {
   "cell_type": "code",
   "execution_count": 51,
   "id": "49162db2",
   "metadata": {},
   "outputs": [
    {
     "name": "stdout",
     "output_type": "stream",
     "text": [
      "Enter the number: 0\n",
      "0 is neither +ve nor -ve\n"
     ]
    }
   ],
   "source": [
    "n= int(input(\"Enter the number: \"))\n",
    "\n",
    "print(f\"{n} is a +ve number\") if n>0 else print(f\"{n} is a -ve number\") if n<0 else print(f\"{n} is neither +ve nor -ve\")"
   ]
  },
  {
   "cell_type": "markdown",
   "id": "cd94ea0f",
   "metadata": {},
   "source": [
    "https://csiplearninghub.com/python-if-else-conditional-statement-practice/"
   ]
  },
  {
   "cell_type": "raw",
   "id": "e27d393d",
   "metadata": {},
   "source": [
    "Q- find the sum of digit number of entered number(upto 3 digits only )"
   ]
  },
  {
   "cell_type": "code",
   "execution_count": 57,
   "id": "0c1caeb8",
   "metadata": {},
   "outputs": [
    {
     "name": "stdout",
     "output_type": "stream",
     "text": [
      "Enter the number upto 3 digits: 67\n",
      "Sum of digits of 67 is 13\n"
     ]
    }
   ],
   "source": [
    "n= int(input(\"Enter the number upto 3 digits: \"))\n",
    "\n",
    "_sum=0\n",
    "\n",
    "if n<=9:\n",
    "    _sum=n\n",
    "    print(f\"Sum of digits of {n} is {_sum}\")\n",
    "elif n>=10 and n<=99:\n",
    "    _sum= n%10 + n//10\n",
    "    print(f\"Sum of digits of {n} is {_sum}\")\n",
    "elif n>=100 and n<=999:\n",
    "    _sum= n%10 + (n//10)%10 + (n//10)//10\n",
    "    print(f\"Sum of digits of {n} is {_sum}\")\n",
    "else:\n",
    "    print(\"Enter the number upto 3 digits only\")\n",
    "    \n",
    "\n",
    "    "
   ]
  },
  {
   "cell_type": "markdown",
   "id": "4f8d8b2a",
   "metadata": {},
   "source": [
    "# Nested If\n",
    "You can have if statements inside if statements, this is called nested if statements."
   ]
  },
  {
   "cell_type": "code",
   "execution_count": 61,
   "id": "4c21cfc0",
   "metadata": {},
   "outputs": [
    {
     "name": "stdout",
     "output_type": "stream",
     "text": [
      "Enter the age17\n",
      "Enter the gender(f/m)m\n",
      "valid male candidate\n"
     ]
    }
   ],
   "source": [
    "age= int(input(\"Enter the age\"))\n",
    "gender= input(\"Enter the gender(f/m)\").upper()\n",
    "\n",
    "if gender=='F':\n",
    "    if age>=18 and age<=60:\n",
    "        print(\"valid female candidate\")\n",
    "    else:\n",
    "        print(\"Not valid female candidate\")\n",
    "elif gender =='M':\n",
    "    if age>=16 and age<=60:\n",
    "        print(\"valid male candidate\")\n",
    "    else:\n",
    "        print(\"Not valid male candidate\")\n",
    "else:\n",
    "    print(\"Enter the valid option\")"
   ]
  },
  {
   "cell_type": "code",
   "execution_count": null,
   "id": "023ce0e7",
   "metadata": {},
   "outputs": [],
   "source": []
  }
 ],
 "metadata": {
  "kernelspec": {
   "display_name": "Python 3 (ipykernel)",
   "language": "python",
   "name": "python3"
  },
  "language_info": {
   "codemirror_mode": {
    "name": "ipython",
    "version": 3
   },
   "file_extension": ".py",
   "mimetype": "text/x-python",
   "name": "python",
   "nbconvert_exporter": "python",
   "pygments_lexer": "ipython3",
   "version": "3.11.5"
  }
 },
 "nbformat": 4,
 "nbformat_minor": 5
}
