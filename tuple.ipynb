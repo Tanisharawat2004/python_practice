{
 "cells": [
  {
   "cell_type": "code",
   "execution_count": null,
   "id": "d02b3cb8",
   "metadata": {},
   "outputs": [],
   "source": [
    "# tuple"
   ]
  },
  {
   "cell_type": "code",
   "execution_count": 3,
   "id": "019a5852",
   "metadata": {},
   "outputs": [],
   "source": [
    "z=()"
   ]
  },
  {
   "cell_type": "code",
   "execution_count": 4,
   "id": "f8958ee9",
   "metadata": {},
   "outputs": [
    {
     "name": "stdout",
     "output_type": "stream",
     "text": [
      "<class 'tuple'>\n"
     ]
    }
   ],
   "source": [
    "print(type(z))"
   ]
  },
  {
   "cell_type": "code",
   "execution_count": 9,
   "id": "0e7695e1",
   "metadata": {},
   "outputs": [
    {
     "data": {
      "text/plain": [
       "str"
      ]
     },
     "execution_count": 9,
     "metadata": {},
     "output_type": "execute_result"
    }
   ],
   "source": [
    "tup=(\"yes\")\n",
    "type(tup)"
   ]
  },
  {
   "cell_type": "code",
   "execution_count": 6,
   "id": "7fca85d6",
   "metadata": {},
   "outputs": [],
   "source": [
    "tup=(\"yes\",)"
   ]
  },
  {
   "cell_type": "code",
   "execution_count": 8,
   "id": "d470dcb6",
   "metadata": {},
   "outputs": [
    {
     "data": {
      "text/plain": [
       "tuple"
      ]
     },
     "execution_count": 8,
     "metadata": {},
     "output_type": "execute_result"
    }
   ],
   "source": [
    "type(tup)"
   ]
  },
  {
   "cell_type": "code",
   "execution_count": null,
   "id": "ab08b538",
   "metadata": {},
   "outputs": [],
   "source": [
    "#tuples is heterogenous"
   ]
  },
  {
   "cell_type": "code",
   "execution_count": 10,
   "id": "aab81613",
   "metadata": {},
   "outputs": [],
   "source": [
    "t=(1.45,True,7,\"tanisha\",(4,6,5))"
   ]
  },
  {
   "cell_type": "code",
   "execution_count": 18,
   "id": "ef66dd5c",
   "metadata": {},
   "outputs": [
    {
     "data": {
      "text/plain": [
       "(True, 'tanisha')"
      ]
     },
     "execution_count": 18,
     "metadata": {},
     "output_type": "execute_result"
    }
   ],
   "source": [
    "t[1::2]"
   ]
  },
  {
   "cell_type": "code",
   "execution_count": 11,
   "id": "0dcae7ac",
   "metadata": {},
   "outputs": [
    {
     "data": {
      "text/plain": [
       "(1.45, True, 7, 'tanisha', (4, 6, 5))"
      ]
     },
     "execution_count": 11,
     "metadata": {},
     "output_type": "execute_result"
    }
   ],
   "source": [
    "t"
   ]
  },
  {
   "cell_type": "code",
   "execution_count": null,
   "id": "39147cd8",
   "metadata": {},
   "outputs": [],
   "source": [
    "#access of elements in tuples"
   ]
  },
  {
   "cell_type": "code",
   "execution_count": 12,
   "id": "51891f0c",
   "metadata": {},
   "outputs": [
    {
     "data": {
      "text/plain": [
       "True"
      ]
     },
     "execution_count": 12,
     "metadata": {},
     "output_type": "execute_result"
    }
   ],
   "source": [
    "t[1]"
   ]
  },
  {
   "cell_type": "code",
   "execution_count": 14,
   "id": "d3130b58",
   "metadata": {},
   "outputs": [
    {
     "data": {
      "text/plain": [
       "4"
      ]
     },
     "execution_count": 14,
     "metadata": {},
     "output_type": "execute_result"
    }
   ],
   "source": [
    "t[-1][0]"
   ]
  },
  {
   "cell_type": "code",
   "execution_count": 15,
   "id": "78f58ddc",
   "metadata": {},
   "outputs": [
    {
     "data": {
      "text/plain": [
       "(True, 7, 'tanisha')"
      ]
     },
     "execution_count": 15,
     "metadata": {},
     "output_type": "execute_result"
    }
   ],
   "source": [
    "t[1:4]"
   ]
  },
  {
   "cell_type": "code",
   "execution_count": 16,
   "id": "53c1846e",
   "metadata": {},
   "outputs": [
    {
     "data": {
      "text/plain": [
       "(7, 'tanisha', (4, 6, 5))"
      ]
     },
     "execution_count": 16,
     "metadata": {},
     "output_type": "execute_result"
    }
   ],
   "source": [
    "t[2:]"
   ]
  },
  {
   "cell_type": "code",
   "execution_count": 20,
   "id": "522aecc3",
   "metadata": {},
   "outputs": [
    {
     "data": {
      "text/plain": [
       "((4, 6, 5), 'tanisha', 7, True, 1.45)"
      ]
     },
     "execution_count": 20,
     "metadata": {},
     "output_type": "execute_result"
    }
   ],
   "source": [
    "t[::-1]"
   ]
  },
  {
   "cell_type": "code",
   "execution_count": null,
   "id": "cf074563",
   "metadata": {},
   "outputs": [],
   "source": [
    "#tuple is immutable"
   ]
  },
  {
   "cell_type": "code",
   "execution_count": 21,
   "id": "b19bd899",
   "metadata": {},
   "outputs": [
    {
     "data": {
      "text/plain": [
       "(1.45, True, 7, 'tanisha', (4, 6, 5))"
      ]
     },
     "execution_count": 21,
     "metadata": {},
     "output_type": "execute_result"
    }
   ],
   "source": [
    "t"
   ]
  },
  {
   "cell_type": "code",
   "execution_count": 24,
   "id": "a83a8495",
   "metadata": {},
   "outputs": [
    {
     "ename": "TypeError",
     "evalue": "'tuple' object does not support item assignment",
     "output_type": "error",
     "traceback": [
      "\u001b[1;31m---------------------------------------------------------------------------\u001b[0m",
      "\u001b[1;31mTypeError\u001b[0m                                 Traceback (most recent call last)",
      "Cell \u001b[1;32mIn[24], line 1\u001b[0m\n\u001b[1;32m----> 1\u001b[0m t[\u001b[38;5;241m1\u001b[39m]\u001b[38;5;241m=\u001b[39m\u001b[38;5;241m10\u001b[39m\n",
      "\u001b[1;31mTypeError\u001b[0m: 'tuple' object does not support item assignment"
     ]
    }
   ],
   "source": [
    "t[1]=10"
   ]
  },
  {
   "cell_type": "code",
   "execution_count": null,
   "id": "c26369c3",
   "metadata": {},
   "outputs": [],
   "source": [
    "#solution is to typecast tuple into list and then return convert in tuple after operation."
   ]
  },
  {
   "cell_type": "code",
   "execution_count": 26,
   "id": "b8496006",
   "metadata": {},
   "outputs": [
    {
     "name": "stdout",
     "output_type": "stream",
     "text": [
      "[1.45, True, 7, 'tanisha', (4, 6, 5)]\n"
     ]
    }
   ],
   "source": [
    "t=list(t)\n",
    "print(t)"
   ]
  },
  {
   "cell_type": "code",
   "execution_count": 27,
   "id": "1f447505",
   "metadata": {},
   "outputs": [],
   "source": [
    "t[1]=10"
   ]
  },
  {
   "cell_type": "code",
   "execution_count": 28,
   "id": "ca1d8787",
   "metadata": {},
   "outputs": [],
   "source": [
    "t=tuple(t)"
   ]
  },
  {
   "cell_type": "code",
   "execution_count": 29,
   "id": "6bfcd76d",
   "metadata": {},
   "outputs": [
    {
     "name": "stdout",
     "output_type": "stream",
     "text": [
      "(1.45, 10, 7, 'tanisha', (4, 6, 5))\n"
     ]
    }
   ],
   "source": [
    "print(t)"
   ]
  },
  {
   "cell_type": "code",
   "execution_count": null,
   "id": "86b43c90",
   "metadata": {},
   "outputs": [],
   "source": [
    "#concatination in tuples"
   ]
  },
  {
   "cell_type": "code",
   "execution_count": 31,
   "id": "2af1df62",
   "metadata": {},
   "outputs": [],
   "source": [
    "t1=(1,2,3,4)\n",
    "t2=(\"hello\",\"world\",\"yes\")"
   ]
  },
  {
   "cell_type": "code",
   "execution_count": 32,
   "id": "bc7d5f94",
   "metadata": {},
   "outputs": [
    {
     "data": {
      "text/plain": [
       "(1, 2, 3, 4, 'hello', 'world', 'yes')"
      ]
     },
     "execution_count": 32,
     "metadata": {},
     "output_type": "execute_result"
    }
   ],
   "source": [
    "t1+t2"
   ]
  },
  {
   "cell_type": "code",
   "execution_count": null,
   "id": "d3ae1a0c",
   "metadata": {},
   "outputs": [],
   "source": [
    "# tuple methods"
   ]
  },
  {
   "cell_type": "code",
   "execution_count": 33,
   "id": "750066a0",
   "metadata": {},
   "outputs": [
    {
     "data": {
      "text/plain": [
       "(1.45, 10, 7, 'tanisha', (4, 6, 5))"
      ]
     },
     "execution_count": 33,
     "metadata": {},
     "output_type": "execute_result"
    }
   ],
   "source": [
    "t"
   ]
  },
  {
   "cell_type": "code",
   "execution_count": 34,
   "id": "dc8f0179",
   "metadata": {},
   "outputs": [
    {
     "data": {
      "text/plain": [
       "1"
      ]
     },
     "execution_count": 34,
     "metadata": {},
     "output_type": "execute_result"
    }
   ],
   "source": [
    "t.index(10)"
   ]
  },
  {
   "cell_type": "code",
   "execution_count": 40,
   "id": "365c622f",
   "metadata": {},
   "outputs": [
    {
     "data": {
      "text/plain": [
       "1"
      ]
     },
     "execution_count": 40,
     "metadata": {},
     "output_type": "execute_result"
    }
   ],
   "source": [
    "t.count(10)"
   ]
  },
  {
   "cell_type": "code",
   "execution_count": 41,
   "id": "c72d7fa0",
   "metadata": {},
   "outputs": [
    {
     "data": {
      "text/plain": [
       "3"
      ]
     },
     "execution_count": 41,
     "metadata": {},
     "output_type": "execute_result"
    }
   ],
   "source": [
    "t.index(\"tanisha\")"
   ]
  },
  {
   "cell_type": "code",
   "execution_count": 42,
   "id": "df5f93ae",
   "metadata": {},
   "outputs": [
    {
     "data": {
      "text/plain": [
       "2"
      ]
     },
     "execution_count": 42,
     "metadata": {},
     "output_type": "execute_result"
    }
   ],
   "source": [
    "t[3].count(\"a\")"
   ]
  },
  {
   "cell_type": "code",
   "execution_count": null,
   "id": "de6cfe76",
   "metadata": {},
   "outputs": [],
   "source": [
    "# membership operation in tuples"
   ]
  },
  {
   "cell_type": "code",
   "execution_count": 43,
   "id": "1ab4c39c",
   "metadata": {},
   "outputs": [
    {
     "data": {
      "text/plain": [
       "True"
      ]
     },
     "execution_count": 43,
     "metadata": {},
     "output_type": "execute_result"
    }
   ],
   "source": [
    "\"tanisha\" in t"
   ]
  },
  {
   "cell_type": "code",
   "execution_count": 44,
   "id": "08b64b20",
   "metadata": {},
   "outputs": [
    {
     "data": {
      "text/plain": [
       "False"
      ]
     },
     "execution_count": 44,
     "metadata": {},
     "output_type": "execute_result"
    }
   ],
   "source": [
    "\"hello\"in t"
   ]
  },
  {
   "cell_type": "code",
   "execution_count": 45,
   "id": "a342ad8d",
   "metadata": {},
   "outputs": [
    {
     "data": {
      "text/plain": [
       "False"
      ]
     },
     "execution_count": 45,
     "metadata": {},
     "output_type": "execute_result"
    }
   ],
   "source": [
    "\"tanisha\" not in t"
   ]
  },
  {
   "cell_type": "code",
   "execution_count": null,
   "id": "f7a76db0",
   "metadata": {},
   "outputs": [],
   "source": [
    "#unpacking a tuple"
   ]
  },
  {
   "cell_type": "code",
   "execution_count": 46,
   "id": "5b24fc99",
   "metadata": {},
   "outputs": [
    {
     "data": {
      "text/plain": [
       "(1.45, 10, 7, 'tanisha', (4, 6, 5))"
      ]
     },
     "execution_count": 46,
     "metadata": {},
     "output_type": "execute_result"
    }
   ],
   "source": [
    "t"
   ]
  },
  {
   "cell_type": "code",
   "execution_count": 47,
   "id": "46364655",
   "metadata": {},
   "outputs": [
    {
     "data": {
      "text/plain": [
       "5"
      ]
     },
     "execution_count": 47,
     "metadata": {},
     "output_type": "execute_result"
    }
   ],
   "source": [
    "len(t)"
   ]
  },
  {
   "cell_type": "code",
   "execution_count": 48,
   "id": "46d94d80",
   "metadata": {},
   "outputs": [],
   "source": [
    "a,b,c,d,e=t"
   ]
  },
  {
   "cell_type": "code",
   "execution_count": 50,
   "id": "073b6af5",
   "metadata": {},
   "outputs": [
    {
     "name": "stdout",
     "output_type": "stream",
     "text": [
      "1.45\n",
      "10\n"
     ]
    }
   ],
   "source": [
    "print(a)\n",
    "print(b)\n"
   ]
  },
  {
   "cell_type": "code",
   "execution_count": 51,
   "id": "e188feb6",
   "metadata": {},
   "outputs": [
    {
     "ename": "ValueError",
     "evalue": "too many values to unpack (expected 3)",
     "output_type": "error",
     "traceback": [
      "\u001b[1;31m---------------------------------------------------------------------------\u001b[0m",
      "\u001b[1;31mValueError\u001b[0m                                Traceback (most recent call last)",
      "Cell \u001b[1;32mIn[51], line 1\u001b[0m\n\u001b[1;32m----> 1\u001b[0m a,b,c\u001b[38;5;241m=\u001b[39mt\n",
      "\u001b[1;31mValueError\u001b[0m: too many values to unpack (expected 3)"
     ]
    }
   ],
   "source": [
    "a,b,c=t"
   ]
  },
  {
   "cell_type": "code",
   "execution_count": null,
   "id": "90c364fd",
   "metadata": {},
   "outputs": [],
   "source": [
    "#using astreick *\n"
   ]
  },
  {
   "cell_type": "code",
   "execution_count": 52,
   "id": "d8074953",
   "metadata": {},
   "outputs": [],
   "source": [
    "a,b,*c=t"
   ]
  },
  {
   "cell_type": "code",
   "execution_count": 54,
   "id": "6059dc07",
   "metadata": {},
   "outputs": [
    {
     "data": {
      "text/plain": [
       "(1.45, 10, 7, 'tanisha', (4, 6, 5))"
      ]
     },
     "execution_count": 54,
     "metadata": {},
     "output_type": "execute_result"
    }
   ],
   "source": [
    "t"
   ]
  },
  {
   "cell_type": "code",
   "execution_count": 55,
   "id": "2509d69d",
   "metadata": {},
   "outputs": [
    {
     "name": "stdout",
     "output_type": "stream",
     "text": [
      "[7, 'tanisha', (4, 6, 5)]\n"
     ]
    }
   ],
   "source": [
    "print(c)"
   ]
  },
  {
   "cell_type": "code",
   "execution_count": 56,
   "id": "d5217b5d",
   "metadata": {},
   "outputs": [],
   "source": [
    "a,*b,c=t"
   ]
  },
  {
   "cell_type": "code",
   "execution_count": 57,
   "id": "94ba8397",
   "metadata": {},
   "outputs": [
    {
     "name": "stdout",
     "output_type": "stream",
     "text": [
      "[10, 7, 'tanisha']\n"
     ]
    }
   ],
   "source": [
    "print(b)"
   ]
  },
  {
   "cell_type": "code",
   "execution_count": 58,
   "id": "24297847",
   "metadata": {},
   "outputs": [
    {
     "name": "stdout",
     "output_type": "stream",
     "text": [
      "(4, 6, 5)\n"
     ]
    }
   ],
   "source": [
    "print(c)"
   ]
  },
  {
   "cell_type": "code",
   "execution_count": 59,
   "id": "b4addce2",
   "metadata": {},
   "outputs": [
    {
     "data": {
      "text/plain": [
       "(1.45, 10, 7, 'tanisha', (4, 6, 5))"
      ]
     },
     "execution_count": 59,
     "metadata": {},
     "output_type": "execute_result"
    }
   ],
   "source": [
    "t"
   ]
  },
  {
   "cell_type": "code",
   "execution_count": 60,
   "id": "11425455",
   "metadata": {},
   "outputs": [],
   "source": [
    "*a,b,c=t"
   ]
  },
  {
   "cell_type": "code",
   "execution_count": 62,
   "id": "0d318bf5",
   "metadata": {},
   "outputs": [
    {
     "name": "stdout",
     "output_type": "stream",
     "text": [
      "[1.45, 10, 7]\n"
     ]
    }
   ],
   "source": [
    "print(a)"
   ]
  },
  {
   "cell_type": "code",
   "execution_count": null,
   "id": "af6f70dd",
   "metadata": {},
   "outputs": [],
   "source": [
    "# while loop throgh tuple"
   ]
  },
  {
   "cell_type": "code",
   "execution_count": 19,
   "id": "4316de0d",
   "metadata": {},
   "outputs": [
    {
     "name": "stdout",
     "output_type": "stream",
     "text": [
      "enter the string:qwert\n",
      "5\n"
     ]
    }
   ],
   "source": [
    "t= tuple(input(\"enter the string:\").split(\",\"))\n",
    "i=0\n",
    "while i<len(t):\n",
    "    print(len(t[i]))\n",
    "    i+=1"
   ]
  },
  {
   "cell_type": "code",
   "execution_count": null,
   "id": "2d32690f",
   "metadata": {},
   "outputs": [],
   "source": [
    "t=[10,20,30,40]\n",
    "_search=int(input(\"enter the item you want to search:\"))\n",
    "i=0\n",
    "if _search in t:\n",
    "    while i<len(t):\n",
    "        if t[i] ==_search:\n",
    "            print(f\"{_search} is at index {i}\")\n",
    "        i+=1\n",
    "else:\n",
    "    print(f\"{_search} is not present\")"
   ]
  },
  {
   "cell_type": "code",
   "execution_count": null,
   "id": "fc240732",
   "metadata": {},
   "outputs": [],
   "source": [
    "# homework "
   ]
  },
  {
   "cell_type": "code",
   "execution_count": null,
   "id": "ba080d76",
   "metadata": {},
   "outputs": [],
   "source": [
    "#calculate sum of all no in tuples"
   ]
  },
  {
   "cell_type": "code",
   "execution_count": 1,
   "id": "8e871a64",
   "metadata": {},
   "outputs": [
    {
     "name": "stdout",
     "output_type": "stream",
     "text": [
      "enter the no1,2,3\n",
      "6\n"
     ]
    }
   ],
   "source": [
    "n=tuple(map(int,input(\"enter the no\").split(\",\")))\n",
    "sum=0\n",
    "for items in n:\n",
    "    sum+=items\n",
    "print(sum)\n"
   ]
  },
  {
   "cell_type": "code",
   "execution_count": 1,
   "id": "679e592a",
   "metadata": {},
   "outputs": [
    {
     "name": "stdout",
     "output_type": "stream",
     "text": [
      "enter the no1,2,3\n",
      "6\n"
     ]
    }
   ],
   "source": [
    "#caculate sum of all no\n",
    "n=tuple(map(int,input(\"enter the no\").split(\",\")))\n",
    "i=0\n",
    "sum=0\n",
    "while i<len(n):\n",
    "    sum+=n[i]\n",
    "    i+=1\n",
    "print(sum)"
   ]
  },
  {
   "cell_type": "code",
   "execution_count": null,
   "id": "1e2b157d",
   "metadata": {},
   "outputs": [],
   "source": [
    "#Determine the minimum value in a tuple without using the built-in min() function."
   ]
  },
  {
   "cell_type": "code",
   "execution_count": 2,
   "id": "912369cb",
   "metadata": {},
   "outputs": [
    {
     "name": "stdout",
     "output_type": "stream",
     "text": [
      "enter the no10,20,30\n",
      "10 is minimum value in (10, 20, 30)\n"
     ]
    }
   ],
   "source": [
    "t=tuple(map(int,input(\"enter the no\").split(\",\")))\n",
    "_min=t[0]\n",
    "i=0\n",
    "while i<len(t):\n",
    "    if t[i]<_min:\n",
    "        _min=tup[i]\n",
    "    i+=1\n",
    "print(f\"{_min} is minimum value in {t}\")\n",
    "\n"
   ]
  },
  {
   "cell_type": "code",
   "execution_count": null,
   "id": "89fc3dc9",
   "metadata": {},
   "outputs": [],
   "source": [
    "t=tuple(map(int,input(\"enter the no\").split(\",\")))\n",
    "min=t[]"
   ]
  },
  {
   "cell_type": "code",
   "execution_count": null,
   "id": "02c3612e",
   "metadata": {},
   "outputs": [],
   "source": [
    "#Flatten a nested tuple into a single tuple using a while loop."
   ]
  },
  {
   "cell_type": "code",
   "execution_count": 3,
   "id": "c856b343",
   "metadata": {},
   "outputs": [],
   "source": [
    "nested_tuple = ((1, 2), (3, 4), (5, 6))\n"
   ]
  },
  {
   "cell_type": "code",
   "execution_count": 4,
   "id": "89358ab7",
   "metadata": {},
   "outputs": [
    {
     "name": "stdout",
     "output_type": "stream",
     "text": [
      "(1, 2, 3, 4, 5, 6)\n"
     ]
    }
   ],
   "source": [
    "tup=()\n",
    "for t in nested_tuple:\n",
    "    tup+=t\n",
    "print(tup)"
   ]
  },
  {
   "cell_type": "code",
   "execution_count": null,
   "id": "3be39a48",
   "metadata": {},
   "outputs": [],
   "source": [
    "t = ((1, 2), (3, 4), (5, 6))"
   ]
  },
  {
   "cell_type": "code",
   "execution_count": 5,
   "id": "9ce8a223",
   "metadata": {},
   "outputs": [
    {
     "name": "stdout",
     "output_type": "stream",
     "text": [
      "(1, 2, 3, 4, 5, 6)\n"
     ]
    }
   ],
   "source": [
    "\n",
    "t= ((1, 2), (3, 4), (5, 6))\n",
    "\n",
    "tup=()\n",
    "i=0\n",
    "while i<len(t):\n",
    "    tup+=t[i]\n",
    "    i+=1\n",
    "print(tup)\n"
   ]
  },
  {
   "cell_type": "code",
   "execution_count": null,
   "id": "73235716",
   "metadata": {},
   "outputs": [],
   "source": [
    "# tuple comprehension"
   ]
  },
  {
   "cell_type": "code",
   "execution_count": 8,
   "id": "b231e111",
   "metadata": {},
   "outputs": [
    {
     "data": {
      "text/plain": [
       "(1, 2, 3, 4, 5, 6)"
      ]
     },
     "execution_count": 8,
     "metadata": {},
     "output_type": "execute_result"
    }
   ],
   "source": [
    "tup"
   ]
  },
  {
   "cell_type": "code",
   "execution_count": 10,
   "id": "474a97dd",
   "metadata": {},
   "outputs": [
    {
     "data": {
      "text/plain": [
       "(1, 2, 3, 4, 5, 6)"
      ]
     },
     "execution_count": 10,
     "metadata": {},
     "output_type": "execute_result"
    }
   ],
   "source": [
    "tuple(i for i in tup)"
   ]
  },
  {
   "cell_type": "code",
   "execution_count": 11,
   "id": "696f5094",
   "metadata": {},
   "outputs": [
    {
     "data": {
      "text/plain": [
       "(1, 4, 9, 16, 25, 36)"
      ]
     },
     "execution_count": 11,
     "metadata": {},
     "output_type": "execute_result"
    }
   ],
   "source": [
    "tuple(i**2 for i in tup)"
   ]
  },
  {
   "cell_type": "code",
   "execution_count": 16,
   "id": "a73bf9b2",
   "metadata": {},
   "outputs": [
    {
     "data": {
      "text/plain": [
       "(4, 16, 36)"
      ]
     },
     "execution_count": 16,
     "metadata": {},
     "output_type": "execute_result"
    }
   ],
   "source": [
    "tuple(i**2 for i in tup if i%2==0)"
   ]
  },
  {
   "cell_type": "code",
   "execution_count": 18,
   "id": "7f4d8f22",
   "metadata": {},
   "outputs": [
    {
     "data": {
      "text/plain": [
       "(('o', 1), ('e', 2), ('o', 3), ('e', 4), ('o', 5), ('e', 6))"
      ]
     },
     "execution_count": 18,
     "metadata": {},
     "output_type": "execute_result"
    }
   ],
   "source": [
    "tuple((\"e\",i) if i%2==0 else (\"o\",i)for i in tup)"
   ]
  },
  {
   "cell_type": "code",
   "execution_count": 22,
   "id": "30396644",
   "metadata": {},
   "outputs": [
    {
     "name": "stdout",
     "output_type": "stream",
     "text": [
      "(10, 12, 14, 15, 18, 21, 20, 24, 28)\n"
     ]
    }
   ],
   "source": [
    "t1=(2,3,4)\n",
    "t2=(5,6,7)\n",
    "t=()\n",
    "for i in t1:\n",
    "    for j in t2:\n",
    "        t+=(i*j,)\n",
    "print(t)\n",
    "    "
   ]
  },
  {
   "cell_type": "code",
   "execution_count": 26,
   "id": "9503ccd1",
   "metadata": {},
   "outputs": [
    {
     "data": {
      "text/plain": [
       "(10, 12, 14, 15, 18, 21, 20, 24, 28)"
      ]
     },
     "execution_count": 26,
     "metadata": {},
     "output_type": "execute_result"
    }
   ],
   "source": [
    "tuple(i*j for i in t1 for j in t2)"
   ]
  },
  {
   "cell_type": "code",
   "execution_count": null,
   "id": "aa22ba06",
   "metadata": {},
   "outputs": [],
   "source": [
    "# write a one linear that generates a tuple of the squares of no 1 to 10"
   ]
  },
  {
   "cell_type": "code",
   "execution_count": 28,
   "id": "52485bcc",
   "metadata": {},
   "outputs": [
    {
     "data": {
      "text/plain": [
       "(1, 4, 9, 16, 25, 36, 49, 64, 81, 100)"
      ]
     },
     "execution_count": 28,
     "metadata": {},
     "output_type": "execute_result"
    }
   ],
   "source": [
    "tuple(i**2 for i in range(1,11))"
   ]
  },
  {
   "cell_type": "code",
   "execution_count": null,
   "id": "d6092945",
   "metadata": {},
   "outputs": [],
   "source": [
    " #write a one linear that generates a tuple of the squares of  even no 1 to 10"
   ]
  },
  {
   "cell_type": "code",
   "execution_count": 29,
   "id": "5c8504bf",
   "metadata": {},
   "outputs": [
    {
     "data": {
      "text/plain": [
       "(4, 16, 36, 64, 100)"
      ]
     },
     "execution_count": 29,
     "metadata": {},
     "output_type": "execute_result"
    }
   ],
   "source": [
    "tuple(i**2 for i in range(2,11,2))"
   ]
  },
  {
   "cell_type": "code",
   "execution_count": null,
   "id": "d50b9b04",
   "metadata": {},
   "outputs": [],
   "source": [
    "# write a one linear that generates a tuple of the squares of even no no 1 to 10"
   ]
  },
  {
   "cell_type": "code",
   "execution_count": 31,
   "id": "9fc03956",
   "metadata": {},
   "outputs": [
    {
     "data": {
      "text/plain": [
       "(4, 16, 36, 64, 100)"
      ]
     },
     "execution_count": 31,
     "metadata": {},
     "output_type": "execute_result"
    }
   ],
   "source": [
    "tuple(i**2 for i in range(1,11) if i%2==0)"
   ]
  },
  {
   "cell_type": "code",
   "execution_count": 33,
   "id": "eb822780",
   "metadata": {},
   "outputs": [
    {
     "data": {
      "text/plain": [
       "(3, 6, 9, 12, 15, 18, 21, 24, 27, 30)"
      ]
     },
     "execution_count": 33,
     "metadata": {},
     "output_type": "execute_result"
    }
   ],
   "source": [
    "tuple(i for i in range(1,31) if i%3==0)"
   ]
  },
  {
   "cell_type": "code",
   "execution_count": 36,
   "id": "2f7d8f36",
   "metadata": {},
   "outputs": [
    {
     "data": {
      "text/plain": [
       "(3, 5)"
      ]
     },
     "execution_count": 36,
     "metadata": {},
     "output_type": "execute_result"
    }
   ],
   "source": [
    "l=[-2,3,-4,5,-6]\n",
    "tuple( i for i in l if i>0)"
   ]
  },
  {
   "cell_type": "code",
   "execution_count": null,
   "id": "923d877f",
   "metadata": {},
   "outputs": [],
   "source": [
    "tup=tuple(map(int,input(\"enter the no\").split(\",\")))"
   ]
  },
  {
   "cell_type": "code",
   "execution_count": 38,
   "id": "dd3bab61",
   "metadata": {},
   "outputs": [
    {
     "data": {
      "text/plain": [
       "((0, 1), (1, 2), (2, 3), (3, 4), (4, 5))"
      ]
     },
     "execution_count": 38,
     "metadata": {},
     "output_type": "execute_result"
    }
   ],
   "source": [
    "((0,1),(1,2),(2,3),(3,4),(4,5))\n",
    "tuple((i,j)for i,j in enumerate([1,2,3,4,5]))"
   ]
  },
  {
   "cell_type": "code",
   "execution_count": 40,
   "id": "bdf0df83",
   "metadata": {},
   "outputs": [
    {
     "data": {
      "text/plain": [
       "((0, 1), (1, 2), (2, 3), (3, 4), (4, 5))"
      ]
     },
     "execution_count": 40,
     "metadata": {},
     "output_type": "execute_result"
    }
   ],
   "source": [
    "tuple((i,j)for i,j in enumerate(range(1,6)))"
   ]
  },
  {
   "cell_type": "code",
   "execution_count": 41,
   "id": "e33d0303",
   "metadata": {},
   "outputs": [
    {
     "name": "stdout",
     "output_type": "stream",
     "text": [
      "enter the no: 5\n"
     ]
    },
    {
     "data": {
      "text/plain": [
       "((0, 1), (1, 2), (2, 3), (3, 4))"
      ]
     },
     "execution_count": 41,
     "metadata": {},
     "output_type": "execute_result"
    }
   ],
   "source": [
    "n=int(input(\"enter the no: \"))\n",
    "tuple((i,j)for i,j in enumerate(range(1,n)))"
   ]
  },
  {
   "cell_type": "code",
   "execution_count": 46,
   "id": "79e69db7",
   "metadata": {},
   "outputs": [
    {
     "name": "stdout",
     "output_type": "stream",
     "text": [
      "enter the string: my name is hello\n"
     ]
    },
    {
     "data": {
      "text/plain": [
       "(2, 4, 2, 5)"
      ]
     },
     "execution_count": 46,
     "metadata": {},
     "output_type": "execute_result"
    }
   ],
   "source": [
    "n=input(\"enter the string: \")\n",
    "l=n.split(\" \")\n",
    "tuple(len(i) for i in l)"
   ]
  },
  {
   "cell_type": "markdown",
   "id": "d5092707",
   "metadata": {},
   "source": [
    " # tuples  practice questions"
   ]
  },
  {
   "cell_type": "code",
   "execution_count": null,
   "id": "6706cfbb",
   "metadata": {},
   "outputs": [],
   "source": [
    "'''Assignment questions on set and tuple:\n",
    "1. #Write a program that reverses the given tuple using a while/for loop.\n",
    "2. Write a program that searches for a specific element in a tuple using a while/for loop and prints its index if found.\n",
    "3. Calculate the sum of all numbers in a tuple without using the built-in sum() function.\n",
    "4. Determine the maximum value in a tuple without using the built-in max() function.\n",
    "5. Flatten a nested tuple into a single tuple using a while loop.\n",
    "6. Convert a tuple of characters into a string using a while loop'''."
   ]
  },
  {
   "cell_type": "code",
   "execution_count": 25,
   "id": "c05c809e",
   "metadata": {},
   "outputs": [
    {
     "name": "stdout",
     "output_type": "stream",
     "text": [
      "enter the no: 100,200,300\n",
      "300\n",
      "200\n",
      "100\n"
     ]
    }
   ],
   "source": [
    "t=tuple(map(int,input(\"enter the no: \").split(\",\")))\n",
    "for i in t[::-1]:\n",
    "    print(i)\n",
    "    "
   ]
  },
  {
   "cell_type": "code",
   "execution_count": null,
   "id": "0cb44a81",
   "metadata": {},
   "outputs": [],
   "source": [
    "# using tuple comprehension"
   ]
  },
  {
   "cell_type": "code",
   "execution_count": 26,
   "id": "c88d1194",
   "metadata": {},
   "outputs": [
    {
     "data": {
      "text/plain": [
       "(300, 200, 100)"
      ]
     },
     "execution_count": 26,
     "metadata": {},
     "output_type": "execute_result"
    }
   ],
   "source": [
    "tuple(i for i in t[::-1]  )"
   ]
  },
  {
   "cell_type": "code",
   "execution_count": 9,
   "id": "86fe9823",
   "metadata": {},
   "outputs": [
    {
     "name": "stdout",
     "output_type": "stream",
     "text": [
      "enter the no: 100,200,300\n",
      "300\n",
      "200\n",
      "100\n"
     ]
    }
   ],
   "source": [
    "t=tuple(map(int,input(\"enter the no: \").split(\",\")))\n",
    "i=0\n",
    "t=t[::-1]\n",
    "while i<len(t):\n",
    "    print(t[i])\n",
    "    i+=1"
   ]
  },
  {
   "cell_type": "code",
   "execution_count": null,
   "id": "d420bc45",
   "metadata": {},
   "outputs": [],
   "source": [
    "# Write a program that searches for a specific element in a tuple using a while/for loop and prints its index if found.\n"
   ]
  },
  {
   "cell_type": "code",
   "execution_count": 5,
   "id": "bfe1743e",
   "metadata": {},
   "outputs": [
    {
     "name": "stdout",
     "output_type": "stream",
     "text": [
      "enter the item you want to search:30\n",
      "30 is at index2\n"
     ]
    }
   ],
   "source": [
    "t=[10,20,30,40]\n",
    "search1=int(input(\"enter the item you want to search:\"))\n",
    "i=0\n",
    "if search1 in t:\n",
    "    while i<len(t):\n",
    "        if t[i] ==search1:\n",
    "            print(f\"{search1} is at index {i}\")\n",
    "        i+=1\n",
    "else:\n",
    "    print(f\"{search1} is not present\")"
   ]
  },
  {
   "cell_type": "code",
   "execution_count": null,
   "id": "ce1b1138",
   "metadata": {},
   "outputs": [],
   "source": [
    "# with using tuple comprehnsion"
   ]
  },
  {
   "cell_type": "code",
   "execution_count": 17,
   "id": "e4392756",
   "metadata": {},
   "outputs": [
    {
     "name": "stdout",
     "output_type": "stream",
     "text": [
      "enter the item you want to search:40\n",
      "40 is at index 3\n"
     ]
    }
   ],
   "source": [
    "t=[10,20,30,40]\n",
    "search1=int(input(\"enter the item you want to search:\"))\n",
    "if search1 in t:\n",
    "    for i in range(len(t)):\n",
    "        if t[i]==search1:\n",
    "            print(f\"{search1} is at index {i}\")\n",
    "else:\n",
    "    print(f\"{search1} is not present\")\n"
   ]
  },
  {
   "cell_type": "code",
   "execution_count": 23,
   "id": "b7db04dd",
   "metadata": {},
   "outputs": [
    {
     "data": {
      "text/plain": [
       "((40, 3),)"
      ]
     },
     "execution_count": 23,
     "metadata": {},
     "output_type": "execute_result"
    }
   ],
   "source": [
    "tuple((search1 ,i) for i in range(len(t)) if t[i]==search1)"
   ]
  },
  {
   "cell_type": "code",
   "execution_count": 30,
   "id": "749404c4",
   "metadata": {},
   "outputs": [
    {
     "name": "stdout",
     "output_type": "stream",
     "text": [
      "enter the no: 1,2,3,4\n",
      "enter the item you want to search:4\n",
      "4 is at index 3\n"
     ]
    }
   ],
   "source": [
    "t=tuple(map(int,input(\"enter the no: \").split(\",\")))\n",
    "search1=int(input(\"enter the item you want to search:\"))\n",
    "if search1 in t:\n",
    "    for i in range(len(t)):\n",
    "        if t[i]==search1:\n",
    "            print(f\"{search1} is at index {i}\")\n",
    "else:\n",
    "    print(f\"{search1} is not present\")\n"
   ]
  },
  {
   "cell_type": "code",
   "execution_count": 54,
   "id": "1638ea23",
   "metadata": {},
   "outputs": [
    {
     "name": "stdout",
     "output_type": "stream",
     "text": [
      "enter the no: 1,2,3,4\n",
      "enter the item you want to search:4\n"
     ]
    },
    {
     "data": {
      "text/plain": [
       "((4, 3),)"
      ]
     },
     "execution_count": 54,
     "metadata": {},
     "output_type": "execute_result"
    }
   ],
   "source": [
    "t=tuple(map(int,input(\"enter the no: \").split(\",\")))\n",
    "search1=int(input(\"enter the item you want to search:\"))\n",
    "tuple((search1 ,i) for i in range(len(t)) if t[i]==search1)"
   ]
  },
  {
   "cell_type": "code",
   "execution_count": 25,
   "id": "88e21af7",
   "metadata": {},
   "outputs": [
    {
     "name": "stdout",
     "output_type": "stream",
     "text": [
      "enter the no: 1,2,3,4,5,6\n",
      "enter the item you want to search:7\n",
      "7 is not present\n"
     ]
    }
   ],
   "source": [
    "t=tuple(map(int,input(\"enter the no: \").split(\",\")))\n",
    "search1=int(input(\"enter the item you want to search:\"))\n",
    "i=0\n",
    "if search1 in t:\n",
    "    while i<len(t):\n",
    "        if t[i] ==search1:\n",
    "            print(f\"{search1} is at index{i}\")\n",
    "        i+=1\n",
    "else:\n",
    "    print(f\"{search1} is not present\")"
   ]
  },
  {
   "cell_type": "code",
   "execution_count": null,
   "id": "17e500c8",
   "metadata": {},
   "outputs": [],
   "source": [
    "#calculate sum of all tuples"
   ]
  },
  {
   "cell_type": "code",
   "execution_count": 39,
   "id": "4b74fcf8",
   "metadata": {},
   "outputs": [
    {
     "name": "stdout",
     "output_type": "stream",
     "text": [
      "enter the no1,2,3\n",
      "6\n"
     ]
    }
   ],
   "source": [
    "n=tuple(map(int,input(\"enter the no\").split(\",\")))\n",
    "sum=0\n",
    "for items in n:\n",
    "    sum+=items\n",
    "print(sum)\n"
   ]
  },
  {
   "cell_type": "code",
   "execution_count": 40,
   "id": "f105eef7",
   "metadata": {},
   "outputs": [],
   "source": [
    "# using tuple comprehension"
   ]
  },
  {
   "cell_type": "code",
   "execution_count": 52,
   "id": "c83a9710",
   "metadata": {},
   "outputs": [
    {
     "name": "stdout",
     "output_type": "stream",
     "text": [
      "enter the no1,2,3\n"
     ]
    },
    {
     "data": {
      "text/plain": [
       "(6, 6, 6)"
      ]
     },
     "execution_count": 52,
     "metadata": {},
     "output_type": "execute_result"
    }
   ],
   "source": [
    "n=tuple(map(int,input(\"enter the no\").split(\",\")))\n",
    "tuple(sum for items in n )"
   ]
  },
  {
   "cell_type": "code",
   "execution_count": null,
   "id": "3342fe34",
   "metadata": {},
   "outputs": [],
   "source": [
    " #Determine the maximum value in a tuple without using the built-in max() function."
   ]
  },
  {
   "cell_type": "code",
   "execution_count": 41,
   "id": "de93db21",
   "metadata": {},
   "outputs": [
    {
     "name": "stdout",
     "output_type": "stream",
     "text": [
      "enter the no1,2,3\n",
      "3 is maximum value in (1, 2, 3)\n"
     ]
    }
   ],
   "source": [
    "t=tuple(map(int,input(\"enter the no\").split(\",\")))\n",
    "_max=t[0]\n",
    "i=0\n",
    "while i<len(t):\n",
    "    if t[i]>_max:\n",
    "        _max=t[i]\n",
    "    i+=1\n",
    "print(f\"{_max} is maximum value in {t}\")\n"
   ]
  },
  {
   "cell_type": "code",
   "execution_count": null,
   "id": "7f173349",
   "metadata": {},
   "outputs": [],
   "source": [
    "#flatten a nested tuple using while loop"
   ]
  },
  {
   "cell_type": "code",
   "execution_count": null,
   "id": "8872ee3d",
   "metadata": {},
   "outputs": [],
   "source": [
    "nested_tuple=((3,4),(8,9),(10,11),(12,13))"
   ]
  },
  {
   "cell_type": "code",
   "execution_count": null,
   "id": "49ef2ed9",
   "metadata": {},
   "outputs": [],
   "source": [
    "n_t=((3,4),(8,9),(10,11),(12,13))\n",
    "tup=[]\n",
    "i=0\n",
    "while i<len(n_t):\n",
    "    if (n_t[i],tuple):\n",
    "        tup.extend(n_t[i])\n",
    "    i+=1\n",
    "print(tup)"
   ]
  },
  {
   "cell_type": "code",
   "execution_count": 15,
   "id": "bde2c761",
   "metadata": {},
   "outputs": [
    {
     "name": "stdout",
     "output_type": "stream",
     "text": [
      "hello\n"
     ]
    }
   ],
   "source": [
    "s=(\"h\",\"e\",\"l\",\"l\",\"o\")\n",
    "i=0\n",
    "t=\"\"\n",
    "while i<len(s):\n",
    "    t+=s[i]\n",
    "    i+=1\n",
    "print(t)"
   ]
  },
  {
   "cell_type": "code",
   "execution_count": 13,
   "id": "3cca41c9",
   "metadata": {},
   "outputs": [
    {
     "data": {
      "text/plain": [
       "'hello'"
      ]
     },
     "execution_count": 13,
     "metadata": {},
     "output_type": "execute_result"
    }
   ],
   "source": [
    "\"\".join(s)"
   ]
  },
  {
   "cell_type": "code",
   "execution_count": null,
   "id": "407878a1",
   "metadata": {},
   "outputs": [],
   "source": []
  },
  {
   "cell_type": "code",
   "execution_count": null,
   "id": "da60b9ca",
   "metadata": {},
   "outputs": [],
   "source": []
  },
  {
   "cell_type": "code",
   "execution_count": null,
   "id": "7b987c35",
   "metadata": {},
   "outputs": [],
   "source": []
  },
  {
   "cell_type": "code",
   "execution_count": null,
   "id": "fd887879",
   "metadata": {},
   "outputs": [],
   "source": []
  },
  {
   "cell_type": "code",
   "execution_count": null,
   "id": "fcaaf34f",
   "metadata": {},
   "outputs": [],
   "source": []
  }
 ],
 "metadata": {
  "kernelspec": {
   "display_name": "Python 3 (ipykernel)",
   "language": "python",
   "name": "python3"
  },
  "language_info": {
   "codemirror_mode": {
    "name": "ipython",
    "version": 3
   },
   "file_extension": ".py",
   "mimetype": "text/x-python",
   "name": "python",
   "nbconvert_exporter": "python",
   "pygments_lexer": "ipython3",
   "version": "3.11.5"
  }
 },
 "nbformat": 4,
 "nbformat_minor": 5
}
